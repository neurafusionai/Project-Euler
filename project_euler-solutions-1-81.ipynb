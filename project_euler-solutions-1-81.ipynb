{
  "nbformat": 4,
  "nbformat_minor": 0,
  "metadata": {
    "colab": {
      "provenance": [],
      "gpuType": "V28"
    },
    "kernelspec": {
      "name": "python3",
      "display_name": "Python 3"
    },
    "language_info": {
      "name": "python"
    },
    "accelerator": "TPU"
  },
  "cells": [
    {
      "cell_type": "markdown",
      "source": [
        "# Problem 1  - Multiples of 3 or 5"
      ],
      "metadata": {
        "id": "Spaeofzo36Ok"
      }
    },
    {
      "cell_type": "markdown",
      "source": [
        "https://projecteuler.net/ - solutions:\n",
        "https://github.com/lucky-bai/projecteuler-solutions/blob/master/Solutions.md"
      ],
      "metadata": {
        "id": "37x9FYyMWBMX"
      }
    },
    {
      "cell_type": "code",
      "source": [
        "def compute():\n",
        "    # Sum all numbers from 0 to 999 that are divisible by 3 or 5\n",
        "    ans = sum(x for x in range(1000) if any(x % divisor == 0 for divisor in [3, 5]))\n",
        "    return str(ans)\n",
        "\n",
        "if __name__ == \"__main__\":\n",
        "    print(compute())\n"
      ],
      "metadata": {
        "id": "B-U9YewP48c9",
        "colab": {
          "base_uri": "https://localhost:8080/"
        },
        "outputId": "faa42c0e-99e7-4da0-bfaa-61d275047ad3"
      },
      "execution_count": null,
      "outputs": [
        {
          "output_type": "stream",
          "name": "stdout",
          "text": [
            "233168\n"
          ]
        }
      ]
    },
    {
      "cell_type": "code",
      "source": [
        "def sum_of_multiples(limit, multiples):\n",
        "    total_sum = 0\n",
        "    for number in range(limit):\n",
        "        if any(number % multiple == 0 for multiple in multiples):\n",
        "            total_sum += number\n",
        "    return total_sum\n",
        "\n",
        "# Define the limit and the multiples\n",
        "limit = 1000\n",
        "multiples = [3, 5]\n",
        "\n",
        "# Calculate the sum of all multiples of 3 or 5 below 1000\n",
        "result = sum_of_multiples(limit, multiples)\n",
        "\n",
        "print(f\"The sum of all the multiples of {multiples} below {limit} is {result}.\")"
      ],
      "metadata": {
        "colab": {
          "base_uri": "https://localhost:8080/"
        },
        "id": "EQtAKLft-tKb",
        "outputId": "8bb1ae32-8217-410e-9c76-74b715470577"
      },
      "execution_count": null,
      "outputs": [
        {
          "output_type": "stream",
          "name": "stdout",
          "text": [
            "The sum of all the multiples of [3, 5] below 1000 is 233168.\n"
          ]
        }
      ]
    },
    {
      "cell_type": "markdown",
      "source": [
        "# Problem 2- Even Fibonacci Numbers"
      ],
      "metadata": {
        "id": "BKIEn0k0-8LR"
      }
    },
    {
      "cell_type": "code",
      "source": [
        "import numpy as np\n",
        "\n",
        "def matrix_mult(A, B):\n",
        "    \"\"\"Multiplies two 2x2 matrices.\"\"\"\n",
        "    return np.dot(A, B)\n",
        "\n",
        "def matrix_pow(M, n):\n",
        "    \"\"\"Exponentiates matrix M to the power of n.\"\"\"\n",
        "    result = np.identity(len(M), dtype=np.int64)\n",
        "    while n > 0:\n",
        "        if n % 2 == 1:\n",
        "            result = matrix_mult(result, M)\n",
        "        M = matrix_mult(M, M)\n",
        "        n //= 2\n",
        "    return result\n",
        "\n",
        "def fibonacci_matrix(n):\n",
        "    \"\"\"Returns the nth Fibonacci number using matrix exponentiation.\"\"\"\n",
        "    F = np.array([[1, 1], [1, 0]], dtype=np.int64)\n",
        "    if n == 0:\n",
        "        return 0\n",
        "    if n == 1:\n",
        "        return 1\n",
        "    result = matrix_pow(F, n-1)\n",
        "    return result[0, 0]\n",
        "\n",
        "def compute():\n",
        "    ans = 0\n",
        "    i = 0\n",
        "    while True:\n",
        "        fib = fibonacci_matrix(i)\n",
        "        if fib > 4000000:\n",
        "            break\n",
        "        if fib % 2 == 0:\n",
        "            ans += fib\n",
        "        i += 1\n",
        "    return str(ans)\n",
        "\n",
        "if __name__ == \"__main__\":\n",
        "    print(compute())\n"
      ],
      "metadata": {
        "colab": {
          "base_uri": "https://localhost:8080/"
        },
        "id": "NMi9BLf0-t6W",
        "outputId": "e5899920-a92f-4a22-890e-5f92d9757bfc"
      },
      "execution_count": null,
      "outputs": [
        {
          "output_type": "stream",
          "name": "stdout",
          "text": [
            "4613732\n"
          ]
        }
      ]
    },
    {
      "cell_type": "markdown",
      "source": [
        "# Problem 3 - Largest Prime Factor"
      ],
      "metadata": {
        "id": "l5LYXbOt_rYN"
      }
    },
    {
      "cell_type": "code",
      "source": [
        "import math\n",
        "import sympy\n",
        "\n",
        "def pollards_rho(n):\n",
        "    \"\"\"Pollard's Rho algorithm to find a non-trivial factor of n.\"\"\"\n",
        "    if n % 2 == 0:\n",
        "        return 2\n",
        "    x = sympy.randprime(1, n - 1)\n",
        "    y = x\n",
        "    c = sympy.randprime(1, n - 1)\n",
        "    d = 1\n",
        "    while d == 1:\n",
        "        x = (x * x + c) % n\n",
        "        y = (y * y + c) % n\n",
        "        y = (y * y + c) % n\n",
        "        d = math.gcd(abs(x - y), n)\n",
        "    return d\n",
        "\n",
        "def largest_prime_factor(n):\n",
        "    \"\"\"Returns the largest prime factor of n.\"\"\"\n",
        "    if n <= 1:\n",
        "        return None\n",
        "    if sympy.isprime(n):\n",
        "        return n\n",
        "    factor = pollards_rho(n)\n",
        "    while not sympy.isprime(factor):\n",
        "        factor = pollards_rho(factor)\n",
        "    largest_factor = max(factor, largest_prime_factor(n // factor))\n",
        "    return largest_factor\n",
        "\n",
        "def compute():\n",
        "    n = 600851475143\n",
        "    return str(largest_prime_factor(n))\n",
        "\n",
        "if __name__ == \"__main__\":\n",
        "    print(compute())"
      ],
      "metadata": {
        "colab": {
          "base_uri": "https://localhost:8080/"
        },
        "id": "hRs3UQWS_eVK",
        "outputId": "047da7ae-e1af-468f-92ed-6e02fe4e3235"
      },
      "execution_count": null,
      "outputs": [
        {
          "output_type": "stream",
          "name": "stdout",
          "text": [
            "6857\n"
          ]
        }
      ]
    },
    {
      "cell_type": "markdown",
      "source": [
        "# Problem 4 - Largest Palindrome Product"
      ],
      "metadata": {
        "id": "WieAza1uAxYL"
      }
    },
    {
      "cell_type": "code",
      "source": [
        "import multiprocessing\n",
        "from itertools import product\n",
        "\n",
        "def is_palindrome(n):\n",
        "    \"\"\"Check if a number is a palindrome.\"\"\"\n",
        "    s = str(n)\n",
        "    return s == s[::-1]\n",
        "\n",
        "def find_max_palindrome(start, end):\n",
        "    \"\"\"Find the maximum palindrome in the range [start, end).\"\"\"\n",
        "    max_palindrome = 0\n",
        "    for i, j in product(range(start, end), repeat=2):\n",
        "        product_val = i * j\n",
        "        if is_palindrome(product_val) and product_val > max_palindrome:\n",
        "            max_palindrome = product_val\n",
        "    return max_palindrome\n",
        "\n",
        "def compute():\n",
        "    num_cores = multiprocessing.cpu_count()\n",
        "    pool = multiprocessing.Pool(processes=num_cores)\n",
        "\n",
        "    ranges = [(i * (1000 // num_cores), (i + 1) * (1000 // num_cores)) for i in range(num_cores)]\n",
        "\n",
        "    max_palindromes = pool.starmap(find_max_palindrome, ranges)\n",
        "    pool.close()\n",
        "    pool.join()\n",
        "\n",
        "    return str(max(max_palindromes))\n",
        "\n",
        "if __name__ == \"__main__\":\n",
        "    print(compute())"
      ],
      "metadata": {
        "colab": {
          "base_uri": "https://localhost:8080/"
        },
        "id": "khZHbqU1ARQn",
        "outputId": "c2c51b1a-f03c-4996-f337-0567279f642c"
      },
      "execution_count": null,
      "outputs": [
        {
          "output_type": "stream",
          "name": "stdout",
          "text": [
            "906609\n"
          ]
        }
      ]
    },
    {
      "cell_type": "markdown",
      "source": [
        "# Problem 5 - Smallest Multiple"
      ],
      "metadata": {
        "id": "YR15ywGOBEXp"
      }
    },
    {
      "cell_type": "code",
      "source": [
        "import math\n",
        "from functools import reduce\n",
        "from multiprocessing import Pool, cpu_count\n",
        "\n",
        "def gcd(a, b):\n",
        "    \"\"\"Compute the greatest common divisor of a and b using Euclidean algorithm.\"\"\"\n",
        "    while b:\n",
        "        a, b = b, a % b\n",
        "    return a\n",
        "\n",
        "def lcm(a, b):\n",
        "    \"\"\"Compute the least common multiple of a and b.\"\"\"\n",
        "    return a * b // gcd(a, b)\n",
        "\n",
        "def lcm_range(start, end):\n",
        "    \"\"\"Compute the LCM of numbers in the range [start, end).\"\"\"\n",
        "    return reduce(lcm, range(start, end))\n",
        "\n",
        "def parallel_lcm_range(start, end, num_chunks):\n",
        "    \"\"\"Compute the LCM of numbers in the range [start, end) using parallel processing.\"\"\"\n",
        "    chunk_size = (end - start) // num_chunks\n",
        "    ranges = [(start + i * chunk_size, start + (i + 1) * chunk_size) for i in range(num_chunks)]\n",
        "\n",
        "    with Pool(processes=num_chunks) as pool:\n",
        "        lcm_results = pool.starmap(lcm_range, ranges)\n",
        "\n",
        "    return reduce(lcm, lcm_results)\n",
        "\n",
        "def compute():\n",
        "    num_cores = cpu_count()\n",
        "    return str(parallel_lcm_range(1, 21, num_cores))\n",
        "\n",
        "if __name__ == \"__main__\":\n",
        "    print(compute())"
      ],
      "metadata": {
        "colab": {
          "base_uri": "https://localhost:8080/"
        },
        "id": "5njCIDq4AyjC",
        "outputId": "db108fa0-9d81-497a-dc0d-9fdace314dac"
      },
      "execution_count": null,
      "outputs": [
        {
          "output_type": "stream",
          "name": "stdout",
          "text": [
            "232792560\n"
          ]
        }
      ]
    },
    {
      "cell_type": "markdown",
      "source": [
        "# Problem 6 - Sum Square Difference"
      ],
      "metadata": {
        "id": "h7W_yt0aBqU7"
      }
    },
    {
      "cell_type": "code",
      "source": [
        "import numpy as np\n",
        "\n",
        "def compute():\n",
        "    n = 100\n",
        "\n",
        "    # Calculate sum of squares using numpy\n",
        "    sum_of_squares = np.sum(np.arange(1, n+1)**2)\n",
        "\n",
        "    # Calculate square of the sum using numpy\n",
        "    sum_of_numbers = np.sum(np.arange(1, n+1))\n",
        "    square_of_sum = sum_of_numbers**2\n",
        "\n",
        "    # Calculate the difference\n",
        "    difference = square_of_sum - sum_of_squares\n",
        "\n",
        "    return str(difference)\n",
        "\n",
        "if __name__ == \"__main__\":\n",
        "    print(compute())"
      ],
      "metadata": {
        "colab": {
          "base_uri": "https://localhost:8080/"
        },
        "id": "I1zUh-irBcoI",
        "outputId": "66b68572-d7a1-4ae1-a987-439d46352a65"
      },
      "execution_count": null,
      "outputs": [
        {
          "output_type": "stream",
          "name": "stdout",
          "text": [
            "25164150\n"
          ]
        }
      ]
    },
    {
      "cell_type": "markdown",
      "source": [
        "# Problem 7- 10001st Prime"
      ],
      "metadata": {
        "id": "yF1OysZkCKrj"
      }
    },
    {
      "cell_type": "code",
      "source": [
        "import math\n",
        "\n",
        "def sieve_of_eratosthenes(limit):\n",
        "    \"\"\" Basic Sieve of Eratosthenes to find all primes up to a limit \"\"\"\n",
        "    is_prime = [True] * (limit + 1)\n",
        "    is_prime[0] = is_prime[1] = False\n",
        "    for start in range(2, int(math.sqrt(limit)) + 1):\n",
        "        if is_prime[start]:\n",
        "            for multiple in range(start * start, limit + 1, start):\n",
        "                is_prime[multiple] = False\n",
        "    return [num for num, prime in enumerate(is_prime) if prime]\n",
        "\n",
        "def segmented_sieve(n):\n",
        "    \"\"\" Function to find the nth prime using segmented sieve \"\"\"\n",
        "    limit = 125000  # Initial upper bound guess\n",
        "    primes = []\n",
        "\n",
        "    while len(primes) < n:\n",
        "        primes = sieve_of_eratosthenes(limit)\n",
        "        if len(primes) < n:\n",
        "            limit *= 2  # Increase the limit exponentially if we do not have enough primes\n",
        "\n",
        "    return primes[n-1]\n",
        "\n",
        "def compute():\n",
        "    nth_prime = 10001\n",
        "    return str(segmented_sieve(nth_prime))\n",
        "\n",
        "if __name__ == \"__main__\":\n",
        "    print(compute())"
      ],
      "metadata": {
        "colab": {
          "base_uri": "https://localhost:8080/"
        },
        "id": "hxfPMBVrCByL",
        "outputId": "b46e162b-035c-472a-d8d5-817a1cfe0067"
      },
      "execution_count": null,
      "outputs": [
        {
          "output_type": "stream",
          "name": "stdout",
          "text": [
            "104743\n"
          ]
        }
      ]
    },
    {
      "cell_type": "markdown",
      "source": [
        "# Problem 8 - Largest Product in a Series"
      ],
      "metadata": {
        "id": "N_q87lfeC6D1"
      }
    },
    {
      "cell_type": "code",
      "source": [
        "import numpy as np\n",
        "\n",
        "def compute():\n",
        "    number_str = (\n",
        "        \"73167176531330624919225119674426574742355349194934\"\n",
        "        \"96983520312774506326239578318016984801869478851843\"\n",
        "        \"85861560789112949495459501737958331952853208805511\"\n",
        "        \"12540698747158523863050715693290963295227443043557\"\n",
        "        \"66896648950445244523161731856403098711121722383113\"\n",
        "        \"62229893423380308135336276614282806444486645238749\"\n",
        "        \"30358907296290491560440772390713810515859307960866\"\n",
        "        \"70172427121883998797908792274921901699720888093776\"\n",
        "        \"65727333001053367881220235421809751254540594752243\"\n",
        "        \"52584907711670556013604839586446706324415722155397\"\n",
        "        \"53697817977846174064955149290862569321978468622482\"\n",
        "        \"83972241375657056057490261407972968652414535100474\"\n",
        "        \"82166370484403199890008895243450658541227588666881\"\n",
        "        \"16427171479924442928230863465674813919123162824586\"\n",
        "        \"17866458359124566529476545682848912883142607690042\"\n",
        "        \"24219022671055626321111109370544217506941658960408\"\n",
        "        \"07198403850962455444362981230987879927244284909188\"\n",
        "        \"84580156166097919133875499200524063689912560717606\"\n",
        "        \"05886116467109405077541002256983155200055935729725\"\n",
        "        \"71636269561882670428252483600823257530420752963450\"\n",
        "    )\n",
        "\n",
        "    num_digits = 13\n",
        "    max_product = 0\n",
        "    digits = np.array([int(char) for char in number_str])\n",
        "\n",
        "    for i in range(len(digits) - num_digits + 1):\n",
        "        product = np.prod(digits[i:i + num_digits])\n",
        "        if product > max_product:\n",
        "            max_product = product\n",
        "\n",
        "    return str(max_product)\n",
        "\n",
        "if __name__ == \"__main__\":\n",
        "    print(compute())"
      ],
      "metadata": {
        "colab": {
          "base_uri": "https://localhost:8080/"
        },
        "id": "IW301fkKCtvT",
        "outputId": "f87f8e9e-1a1e-4e6c-9b38-b4eb1da25e89"
      },
      "execution_count": null,
      "outputs": [
        {
          "output_type": "stream",
          "name": "stdout",
          "text": [
            "23514624000\n"
          ]
        }
      ]
    },
    {
      "cell_type": "markdown",
      "source": [
        "# Problem 9 - Special Pythagorean Triplet"
      ],
      "metadata": {
        "id": "HebFx08WD4Db"
      }
    },
    {
      "cell_type": "code",
      "source": [
        "import numpy as np\n",
        "\n",
        "def compute():\n",
        "    # Since a + b + c = 1000, and a^2 + b^2 = c^2, we can iterate over possible values\n",
        "    total = 1000\n",
        "    for a in range(1, total // 3):\n",
        "        for b in range(a, total // 2):\n",
        "            c = total - a - b\n",
        "            if a * a + b * b == c * c:\n",
        "                return str(a * b * c)\n",
        "\n",
        "if __name__ == \"__main__\":\n",
        "    print(compute())"
      ],
      "metadata": {
        "colab": {
          "base_uri": "https://localhost:8080/"
        },
        "id": "Ppp_FRZIDXN9",
        "outputId": "3d940a0b-e28f-4146-d80e-cc5c2b05355c"
      },
      "execution_count": null,
      "outputs": [
        {
          "output_type": "stream",
          "name": "stdout",
          "text": [
            "31875000\n"
          ]
        }
      ]
    },
    {
      "cell_type": "markdown",
      "source": [
        "# Problem 10 - Summation of Primes"
      ],
      "metadata": {
        "id": "pXfkPa6jEY36"
      }
    },
    {
      "cell_type": "code",
      "source": [
        "import numpy as np\n",
        "\n",
        "def compute():\n",
        "    limit = 2000000\n",
        "    is_prime = np.ones(limit, dtype=bool)\n",
        "    is_prime[0:2] = False  # 0 and 1 are not prime numbers\n",
        "    for num in range(2, int(np.sqrt(limit)) + 1):\n",
        "        if is_prime[num]:\n",
        "            is_prime[num*num:limit:num] = False\n",
        "    prime_sum = np.sum(np.nonzero(is_prime)[0])\n",
        "    return str(prime_sum)\n",
        "\n",
        "if __name__ == \"__main__\":\n",
        "    print(compute())"
      ],
      "metadata": {
        "colab": {
          "base_uri": "https://localhost:8080/"
        },
        "id": "Ma18eNaPEO4d",
        "outputId": "4c174b9f-f2c8-4ddc-d433-5e5880bff484"
      },
      "execution_count": null,
      "outputs": [
        {
          "output_type": "stream",
          "name": "stdout",
          "text": [
            "142913828922\n"
          ]
        }
      ]
    },
    {
      "cell_type": "markdown",
      "source": [
        "# Problem 11: Largest Product in a Grid"
      ],
      "metadata": {
        "id": "VklcF0_QQrDZ"
      }
    },
    {
      "cell_type": "code",
      "source": [
        "import numpy as np\n",
        "\n",
        "grid_str = (\n",
        "    \"08 02 22 97 38 15 00 40 00 75 04 05 07 78 52 12 50 77 91 08 \"\n",
        "    \"49 49 99 40 17 81 18 57 60 87 17 40 98 43 69 48 04 56 62 00 \"\n",
        "    \"81 49 31 73 55 79 14 29 93 71 40 67 53 88 30 03 49 13 36 65 \"\n",
        "    \"52 70 95 23 04 60 11 42 69 24 68 56 01 32 56 71 37 02 36 91 \"\n",
        "    \"22 31 16 71 51 67 63 89 41 92 36 54 22 40 40 28 66 33 13 80 \"\n",
        "    \"24 47 32 60 99 03 45 02 44 75 33 53 78 36 84 20 35 17 12 50 \"\n",
        "    \"32 98 81 28 64 23 67 10 26 38 40 67 59 54 70 66 18 38 64 70 \"\n",
        "    \"67 26 20 68 02 62 12 20 95 63 94 39 63 08 40 91 66 49 94 21 \"\n",
        "    \"24 55 58 05 66 73 99 26 97 17 78 78 96 83 14 88 34 89 63 72 \"\n",
        "    \"21 36 23 09 75 00 76 44 20 45 35 14 00 61 33 97 34 31 33 95 \"\n",
        "    \"78 17 53 28 22 75 31 67 15 94 03 80 04 62 16 14 09 53 56 92 \"\n",
        "    \"16 39 05 42 96 35 31 47 55 58 88 24 00 17 54 24 36 29 85 57 \"\n",
        "    \"86 56 00 48 35 71 89 07 05 44 44 37 44 60 21 58 51 54 17 58 \"\n",
        "    \"19 80 81 68 05 94 47 69 28 73 92 13 86 52 17 77 04 89 55 40 \"\n",
        "    \"04 52 08 83 97 35 99 16 07 97 57 32 16 26 26 79 33 27 98 66 \"\n",
        "    \"88 36 68 87 57 62 20 72 03 46 33 67 46 55 12 32 63 93 53 69 \"\n",
        "    \"04 42 16 73 38 25 39 11 24 94 72 18 08 46 29 32 40 62 76 36 \"\n",
        "    \"20 69 36 41 72 30 23 88 34 62 99 69 82 67 59 85 74 04 36 16 \"\n",
        "    \"20 73 35 29 78 31 90 01 74 31 49 71 48 86 81 16 23 57 05 54 \"\n",
        "    \"01 70 54 71 83 51 54 69 16 92 33 48 61 43 52 01 89 19 67 48\"\n",
        ")\n",
        "\n",
        "# Convert the grid string to a numpy array\n",
        "grid = np.array([int(x) for x in grid_str.split()]).reshape(20, 20)\n",
        "\n",
        "def max_product_in_grid(grid, num_factors=4):\n",
        "    max_product = 0\n",
        "    rows, cols = grid.shape\n",
        "\n",
        "    # Check horizontally and vertically\n",
        "    for row in range(rows):\n",
        "        for col in range(cols - num_factors + 1):\n",
        "            horizontal_product = np.prod(grid[row, col:col + num_factors])\n",
        "            vertical_product = np.prod(grid[col:col + num_factors, row]) if row <= rows - num_factors else 0\n",
        "            max_product = max(max_product, horizontal_product, vertical_product)\n",
        "\n",
        "    # Check diagonally\n",
        "    for row in range(rows - num_factors + 1):\n",
        "        for col in range(cols - num_factors + 1):\n",
        "            diag_product1 = np.prod([grid[row + i, col + i] for i in range(num_factors)])\n",
        "            diag_product2 = np.prod([grid[row + num_factors - 1 - i, col + i] for i in range(num_factors)])\n",
        "            max_product = max(max_product, diag_product1, diag_product2)\n",
        "\n",
        "    return max_product\n",
        "\n",
        "def compute():\n",
        "    max_product = max_product_in_grid(grid)\n",
        "    return str(max_product)\n",
        "\n",
        "if __name__ == \"__main__\":\n",
        "    print(compute())"
      ],
      "metadata": {
        "colab": {
          "base_uri": "https://localhost:8080/"
        },
        "id": "pQhP9JtmEsvs",
        "outputId": "044c7fff-1bb1-4ca2-ea86-41868f70b134"
      },
      "execution_count": null,
      "outputs": [
        {
          "output_type": "stream",
          "name": "stdout",
          "text": [
            "70600674\n"
          ]
        }
      ]
    },
    {
      "cell_type": "markdown",
      "source": [
        "# Problem 12 : Highly Divisible Triangular Number"
      ],
      "metadata": {
        "id": "SGFxblAHRswu"
      }
    },
    {
      "cell_type": "code",
      "source": [
        "import math\n",
        "import itertools\n",
        "\n",
        "def count_divisors(n):\n",
        "    \"\"\"Returns the number of divisors of n using prime factorization.\"\"\"\n",
        "    if n == 1:\n",
        "        return 1\n",
        "    count = 0\n",
        "    root = int(math.sqrt(n))\n",
        "    for i in range(1, root + 1):\n",
        "        if n % i == 0:\n",
        "            count += 2 if i != n // i else 1\n",
        "    return count\n",
        "\n",
        "def compute():\n",
        "    for i in itertools.count(1):\n",
        "        triangle_number = i * (i + 1) // 2\n",
        "        if count_divisors(triangle_number) > 500:\n",
        "            return str(triangle_number)\n",
        "\n",
        "if __name__ == \"__main__\":\n",
        "    print(compute())"
      ],
      "metadata": {
        "colab": {
          "base_uri": "https://localhost:8080/"
        },
        "id": "FlZo__BvRHLb",
        "outputId": "6bcb2dcc-1306-46e7-98b5-7d9891aa29fb"
      },
      "execution_count": null,
      "outputs": [
        {
          "output_type": "stream",
          "name": "stdout",
          "text": [
            "76576500\n"
          ]
        }
      ]
    },
    {
      "cell_type": "markdown",
      "source": [
        "# Problem 13 - Large Sum"
      ],
      "metadata": {
        "id": "FecrfBOqSZkr"
      }
    },
    {
      "cell_type": "code",
      "source": [
        "numbers = [\n",
        "    \"37107287533902102798797998220837590246510135740250\",\n",
        "    \"46376937677490009712648124896970078050417018260538\",\n",
        "    \"74324986199524741059474233309513058123726617309629\",\n",
        "    \"91942213363574161572522430563301811072406154908250\",\n",
        "    \"23067588207539346171171980310421047513778063246676\",\n",
        "    \"89261670696623633820136378418383684178734361726757\",\n",
        "    \"28112879812849979408065481931592621691275889832738\",\n",
        "    \"44274228917432520321923589422876796487670272189318\",\n",
        "    \"47451445736001306439091167216856844588711603153276\",\n",
        "    \"70386486105843025439939619828917593665686757934951\",\n",
        "    \"62176457141856560629502157223196586755079324193331\",\n",
        "    \"64906352462741904929101432445813822663347944758178\",\n",
        "    \"92575867718337217661963751590579239728245598838407\",\n",
        "    \"58203565325359399008402633568948830189458628227828\",\n",
        "    \"80181199384826282014278194139940567587151170094390\",\n",
        "    \"35398664372827112653829987240784473053190104293586\",\n",
        "    \"86515506006295864861532075273371959191420517255829\",\n",
        "    \"71693888707715466499115593487603532921714970056938\",\n",
        "    \"54370070576826684624621495650076471787294438377604\",\n",
        "    \"53282654108756828443191190634694037855217779295145\",\n",
        "    \"36123272525000296071075082563815656710885258350721\",\n",
        "    \"45876576172410976447339110607218265236877223636045\",\n",
        "    \"17423706905851860660448207621209813287860733969412\",\n",
        "    \"81142660418086830619328460811191061556940512689692\",\n",
        "    \"51934325451728388641918047049293215058642563049483\",\n",
        "    \"62467221648435076201727918039944693004732956340691\",\n",
        "    \"15732444386908125794514089057706229429197107928209\",\n",
        "    \"55037687525678773091862540744969844508330393682126\",\n",
        "    \"18336384825330154686196124348767681297534375946515\",\n",
        "    \"80386287592878490201521685554828717201219257766954\",\n",
        "    \"78182833757993103614740356856449095527097864797581\",\n",
        "    \"16726320100436897842553539920931837441497806860984\",\n",
        "    \"48403098129077791799088218795327364475675590848030\",\n",
        "    \"87086987551392711854517078544161852424320693150332\",\n",
        "    \"59959406895756536782107074926966537676326235447210\",\n",
        "    \"69793950679652694742597709739166693763042633987085\",\n",
        "    \"41052684708299085211399427365734116182760315001271\",\n",
        "    \"65378607361501080857009149939512557028198746004375\",\n",
        "    \"35829035317434717326932123578154982629742552737307\",\n",
        "    \"94953759765105305946966067683156574377167401875275\",\n",
        "    \"88902802571733229619176668713819931811048770190271\",\n",
        "    \"25267680276078003013678680992525463401061632866526\",\n",
        "    \"36270218540497705585629946580636237993140746255962\",\n",
        "    \"24074486908231174977792365466257246923322810917141\",\n",
        "    \"91430288197103288597806669760892938638285025333403\",\n",
        "    \"34413065578016127815921815005561868836468420090470\",\n",
        "    \"23053081172816430487623791969842487255036638784583\",\n",
        "    \"11487696932154902810424020138335124462181441773470\",\n",
        "    \"63783299490636259666498587618221225225512486764533\",\n",
        "    \"67720186971698544312419572409913959008952310058822\",\n",
        "    \"95548255300263520781532296796249481641953868218774\",\n",
        "    \"76085327132285723110424803456124867697064507995236\",\n",
        "    \"37774242535411291684276865538926205024910326572967\",\n",
        "    \"23701913275725675285653248258265463092207058596522\",\n",
        "    \"29798860272258331913126375147341994889534765745501\",\n",
        "    \"18495701454879288984856827726077713721403798879715\",\n",
        "    \"38298203783031473527721580348144513491373226651381\",\n",
        "    \"34829543829199918180278916522431027392251122869539\",\n",
        "    \"40957953066405232632538044100059654939159879593635\",\n",
        "    \"29746152185502371307642255121183693803580388584903\",\n",
        "    \"41698116222072977186158236678424689157993532961922\",\n",
        "    \"62467957194401269043877107275048102390895523597457\",\n",
        "    \"23189706772547915061505504953922979530901129967519\",\n",
        "    \"86188088225875314529584099251203829009407770775672\",\n",
        "    \"11306739708304724483816533873502340845647058077308\",\n",
        "    \"82959174767140363198008187129011875491310547126581\",\n",
        "    \"97623331044818386269515456334926366572897563400500\",\n",
        "    \"42846280183517070527831839425882145521227251250327\",\n",
        "    \"55121603546981200581762165212827652751691296897789\",\n",
        "    \"32238195734329339946437501907836945765883352399886\",\n",
        "    \"75506164965184775180738168837861091527357929701337\",\n",
        "    \"62177842752192623401942399639168044983993173312731\",\n",
        "    \"32924185707147349566916674687634660915035914677504\",\n",
        "    \"99518671430235219628894890102423325116913619626622\",\n",
        "    \"73267460800591547471830798392868535206946944540724\",\n",
        "    \"76841822524674417161514036427982273348055556214818\",\n",
        "    \"97142617910342598647204516893989422179826088076852\",\n",
        "    \"87783646182799346313767754307809363333018982642090\",\n",
        "    \"10848802521674670883215120185883543223812876952786\",\n",
        "    \"71329612474782464538636993009049310363619763878039\",\n",
        "    \"62184073572399794223406235393808339651327408011116\",\n",
        "    \"66627891981488087797941876876144230030984490851411\",\n",
        "    \"60661826293682836764744779239180335110989069790714\",\n",
        "    \"85786944089552990653640447425576083659976645795096\",\n",
        "    \"66024396409905389607120198219976047599490197230297\",\n",
        "    \"64913982680032973156037120041377903785566085089252\",\n",
        "    \"16730939319872750275468906903707539413042652315011\",\n",
        "    \"94809377245048795150954100921645863754710598436791\",\n",
        "    \"78639167021187492431995700641917969777599028300699\",\n",
        "    \"15368713711936614952811305876380278410754449733078\",\n",
        "    \"40789923115535562561142322423255033685442488917353\",\n",
        "    \"44889911501440648020369068063960672322193204149535\",\n",
        "    \"41503128880339536053299340368006977710650566631954\",\n",
        "    \"81234880673210146739058568557934581403627822703280\",\n",
        "    \"82616570773948327592232845941706525094512325230608\",\n",
        "    \"22918802058777319719839450180888072429661980811197\",\n",
        "    \"77158542502016545090413245809786882778948721859617\",\n",
        "    \"72107838435069186155435662884062257473692284509516\",\n",
        "    \"20849603980134001723930671666823555245252804609722\",\n",
        "    \"53503534226472524250874054075591789781264330331690\"\n",
        "]\n",
        "\n",
        "def compute():\n",
        "    # Sum all the numbers\n",
        "    total_sum = sum(int(number) for number in numbers)\n",
        "\n",
        "    # Get the first ten digits of the sum\n",
        "    first_ten_digits = str(total_sum)[:10]\n",
        "\n",
        "    return first_ten_digits\n",
        "\n",
        "if __name__ == \"__main__\":\n",
        "    print(compute())"
      ],
      "metadata": {
        "colab": {
          "base_uri": "https://localhost:8080/"
        },
        "id": "M3HVkmxaSLYk",
        "outputId": "1a7db7ce-3bb5-458e-c29f-55def3a6ffef"
      },
      "execution_count": null,
      "outputs": [
        {
          "output_type": "stream",
          "name": "stdout",
          "text": [
            "5537376230\n"
          ]
        }
      ]
    },
    {
      "cell_type": "markdown",
      "source": [
        "Problem 14 -"
      ],
      "metadata": {
        "id": "XtOYF0dlTpF5"
      }
    },
    {
      "cell_type": "code",
      "source": [
        "def collatz_sequence_length(n, computed_lengths):\n",
        "    original_n = n\n",
        "    length = 0\n",
        "    while n != 1:\n",
        "        if n in computed_lengths:\n",
        "            length += computed_lengths[n]\n",
        "            break\n",
        "        if n % 2 == 0:\n",
        "            n //= 2\n",
        "        else:\n",
        "            n = 3 * n + 1\n",
        "        length += 1\n",
        "    computed_lengths[original_n] = length\n",
        "    return length\n",
        "\n",
        "def find_longest_collatz_chain(limit):\n",
        "    max_length = 0\n",
        "    number_with_max_length = 0\n",
        "    computed_lengths = {1: 1}\n",
        "\n",
        "    for i in range(2, limit):\n",
        "        length = collatz_sequence_length(i, computed_lengths)\n",
        "        if length > max_length:\n",
        "            max_length = length\n",
        "            number_with_max_length = i\n",
        "\n",
        "    return number_with_max_length\n",
        "\n",
        "if __name__ == \"__main__\":\n",
        "    result = find_longest_collatz_chain(1000000)\n",
        "    print(result)"
      ],
      "metadata": {
        "colab": {
          "base_uri": "https://localhost:8080/"
        },
        "id": "4uGrC9VETOYE",
        "outputId": "08c08440-affd-4fc5-8f74-34f441af18e5"
      },
      "execution_count": null,
      "outputs": [
        {
          "output_type": "stream",
          "name": "stdout",
          "text": [
            "837799\n"
          ]
        }
      ]
    },
    {
      "cell_type": "markdown",
      "source": [
        "# Problem 15"
      ],
      "metadata": {
        "id": "6uj6sgsdTtuL"
      }
    },
    {
      "cell_type": "code",
      "source": [
        "import math\n",
        "\n",
        "def number_of_routes(grid_size):\n",
        "    return math.factorial(2 * grid_size) // (math.factorial(grid_size) * math.factorial(grid_size))\n",
        "\n",
        "if __name__ == \"__main__\":\n",
        "    grid_size = 20\n",
        "    result = number_of_routes(grid_size)\n",
        "    print(result)"
      ],
      "metadata": {
        "colab": {
          "base_uri": "https://localhost:8080/"
        },
        "id": "eYGyYKl6TsgD",
        "outputId": "afb185e6-b655-481f-eefd-96ea89c3e5c1"
      },
      "execution_count": null,
      "outputs": [
        {
          "output_type": "stream",
          "name": "stdout",
          "text": [
            "137846528820\n"
          ]
        }
      ]
    },
    {
      "cell_type": "markdown",
      "source": [
        "# Problem 16"
      ],
      "metadata": {
        "id": "pXrtTHcoVVmd"
      }
    },
    {
      "cell_type": "code",
      "source": [
        "def sum_of_digits_of_power(base, exponent):\n",
        "    number = base ** exponent\n",
        "    digit_sum = sum(int(digit) for digit in str(number))\n",
        "    return digit_sum\n",
        "\n",
        "if __name__ == \"__main__\":\n",
        "    result = sum_of_digits_of_power(2, 1000)\n",
        "    print(result)\n"
      ],
      "metadata": {
        "colab": {
          "base_uri": "https://localhost:8080/"
        },
        "id": "0acOOyHHUKrO",
        "outputId": "9d2b9594-18c8-43d2-ebbf-52e33140daff"
      },
      "execution_count": null,
      "outputs": [
        {
          "output_type": "stream",
          "name": "stdout",
          "text": [
            "1366\n"
          ]
        }
      ]
    },
    {
      "cell_type": "markdown",
      "source": [
        "# Problem 17 - Number Letter Counts"
      ],
      "metadata": {
        "id": "bysKlMu5V7Yo"
      }
    },
    {
      "cell_type": "code",
      "source": [
        "def number_to_words(n):\n",
        "    if 1 <= n <= 19:\n",
        "        return [\"one\", \"two\", \"three\", \"four\", \"five\", \"six\", \"seven\", \"eight\", \"nine\", \"ten\",\n",
        "                \"eleven\", \"twelve\", \"thirteen\", \"fourteen\", \"fifteen\", \"sixteen\", \"seventeen\",\n",
        "                \"eighteen\", \"nineteen\"][n-1]\n",
        "    elif 20 <= n <= 99:\n",
        "        tens = [\"twenty\", \"thirty\", \"forty\", \"fifty\", \"sixty\", \"seventy\", \"eighty\", \"ninety\"]\n",
        "        if n % 10 == 0:\n",
        "            return tens[n//10 - 2]\n",
        "        else:\n",
        "            return tens[n//10 - 2] + number_to_words(n % 10)\n",
        "    elif 100 <= n <= 999:\n",
        "        if n % 100 == 0:\n",
        "            return number_to_words(n // 100) + \"hundred\"\n",
        "        else:\n",
        "            return number_to_words(n // 100) + \"hundredand\" + number_to_words(n % 100)\n",
        "    elif n == 1000:\n",
        "        return \"onethousand\"\n",
        "    else:\n",
        "        return \"\"\n",
        "\n",
        "def count_letters_in_range(start, end):\n",
        "    total_letters = 0\n",
        "    for i in range(start, end + 1):\n",
        "        words = number_to_words(i)\n",
        "        total_letters += len(words)\n",
        "    return total_letters\n",
        "\n",
        "total_letters = count_letters_in_range(1, 1000)\n",
        "print(total_letters)"
      ],
      "metadata": {
        "id": "sYV-gabeXqs0",
        "colab": {
          "base_uri": "https://localhost:8080/"
        },
        "outputId": "10afd19e-ec93-4906-e8af-4732bdc72fa1"
      },
      "execution_count": null,
      "outputs": [
        {
          "output_type": "stream",
          "name": "stdout",
          "text": [
            "21124\n"
          ]
        }
      ]
    },
    {
      "cell_type": "markdown",
      "source": [
        "# Problem 18 - Maximum Path Sum I"
      ],
      "metadata": {
        "id": "fjuIArwHbUB0"
      }
    },
    {
      "cell_type": "code",
      "source": [
        "def maximum_path_sum(triangle):\n",
        "    # Start from the second-to-last row and move upwards\n",
        "    for row in range(len(triangle) - 2, -1, -1):\n",
        "        for col in range(len(triangle[row])):\n",
        "            # Update the current element with the maximum sum of the paths below it\n",
        "            triangle[row][col] += max(triangle[row + 1][col], triangle[row + 1][col + 1])\n",
        "    # The top element now contains the maximum total from top to bottom\n",
        "    return triangle[0][0]\n",
        "\n",
        "# The given triangle\n",
        "triangle = [\n",
        "    [75],\n",
        "    [95, 64],\n",
        "    [17, 47, 82],\n",
        "    [18, 35, 87, 10],\n",
        "    [20,  4, 82, 47, 65],\n",
        "    [19,  1, 23, 75,  3, 34],\n",
        "    [88,  2, 77, 73,  7, 63, 67],\n",
        "    [99, 65,  4, 28,  6, 16, 70, 92],\n",
        "    [41, 41, 26, 56, 83, 40, 80, 70, 33],\n",
        "    [41, 48, 72, 33, 47, 32, 37, 16, 94, 29],\n",
        "    [53, 71, 44, 65, 25, 43, 91, 52, 97, 51, 14],\n",
        "    [70, 11, 33, 28, 77, 73, 17, 78, 39, 68, 17, 57],\n",
        "    [91, 71, 52, 38, 17, 14, 91, 43, 58, 50, 27, 29, 48],\n",
        "    [63, 66,  4, 68, 89, 53, 67, 30, 73, 16, 69, 87, 40, 31],\n",
        "    [ 4, 62, 98, 27, 23,  9, 70, 98, 73, 93, 38, 53, 60,  4, 23]\n",
        "]\n",
        "\n",
        "# Find the maximum path sum\n",
        "result = maximum_path_sum(triangle)\n",
        "print(result)  # Output should be 1074"
      ],
      "metadata": {
        "colab": {
          "base_uri": "https://localhost:8080/"
        },
        "id": "teX67zFsa-R_",
        "outputId": "911dfd5a-84dc-4ada-c68e-ff3f70fa27c4"
      },
      "execution_count": null,
      "outputs": [
        {
          "output_type": "stream",
          "name": "stdout",
          "text": [
            "1074\n"
          ]
        }
      ]
    },
    {
      "cell_type": "markdown",
      "source": [
        "# Problem 19 - Counting Sundays"
      ],
      "metadata": {
        "id": "MR_P7Flwb5Ms"
      }
    },
    {
      "cell_type": "code",
      "source": [
        "def is_leap_year(year):\n",
        "    \"\"\"Return True if the year is a leap year, else False.\"\"\"\n",
        "    return (year % 4 == 0 and year % 100 != 0) or (year % 400 == 0)\n",
        "\n",
        "def count_sundays_on_first():\n",
        "    # Days in each month\n",
        "    month_days = [31, 28, 31, 30, 31, 30, 31, 31, 30, 31, 30, 31]\n",
        "\n",
        "    # Starting day is Monday, 1 Jan 1900\n",
        "    day_of_week = 0  # Monday\n",
        "\n",
        "    # Count Sundays on the first of the month\n",
        "    sunday_count = 0\n",
        "\n",
        "    # Iterate over each year and month from 1900 to 2000\n",
        "    for year in range(1900, 2001):\n",
        "        for month in range(12):\n",
        "            if year >= 1901 and day_of_week == 6:\n",
        "                sunday_count += 1\n",
        "\n",
        "            # Calculate the day of the week for the next month's first day\n",
        "            if month == 1 and is_leap_year(year):\n",
        "                day_of_week = (day_of_week + 29) % 7\n",
        "            else:\n",
        "                day_of_week = (day_of_week + month_days[month]) % 7\n",
        "\n",
        "    return sunday_count\n",
        "\n",
        "result = count_sundays_on_first()\n",
        "print(result)  # Output should be 171"
      ],
      "metadata": {
        "colab": {
          "base_uri": "https://localhost:8080/"
        },
        "id": "Fz7brLudbqk_",
        "outputId": "6d49d503-9bd1-4aa9-e229-e5de9ae54fa4"
      },
      "execution_count": null,
      "outputs": [
        {
          "output_type": "stream",
          "name": "stdout",
          "text": [
            "171\n"
          ]
        }
      ]
    },
    {
      "cell_type": "markdown",
      "source": [
        "# Problem 20 - Factorial Digit Sum"
      ],
      "metadata": {
        "id": "oy36QKzRczZX"
      }
    },
    {
      "cell_type": "code",
      "source": [
        "import math\n",
        "\n",
        "def sum_of_digits_in_factorial(n):\n",
        "    # Compute factorial of n\n",
        "    factorial_result = math.factorial(n)\n",
        "\n",
        "    # Convert the factorial result to a string\n",
        "    factorial_str = str(factorial_result)\n",
        "\n",
        "    # Sum the digits of the factorial result\n",
        "    digit_sum = sum(int(digit) for digit in factorial_str)\n",
        "\n",
        "    return digit_sum\n",
        "\n",
        "# Compute the sum of digits in 100!\n",
        "result = sum_of_digits_in_factorial(100)\n",
        "print(result)  # Output should be 648"
      ],
      "metadata": {
        "colab": {
          "base_uri": "https://localhost:8080/"
        },
        "id": "PQ-MGzaXckiG",
        "outputId": "83060ccf-ed01-4af3-de6d-65582676b4a0"
      },
      "execution_count": null,
      "outputs": [
        {
          "output_type": "stream",
          "name": "stdout",
          "text": [
            "648\n"
          ]
        }
      ]
    },
    {
      "cell_type": "markdown",
      "source": [
        "# Problem 21 - Amicable Numbers"
      ],
      "metadata": {
        "id": "zH7xDbkudYHJ"
      }
    },
    {
      "cell_type": "code",
      "source": [
        "def sum_of_proper_divisors(n):\n",
        "    \"\"\"Return the sum of proper divisors of n.\"\"\"\n",
        "    divisors_sum = 1\n",
        "    sqrt_n = int(n**0.5)\n",
        "    for i in range(2, sqrt_n + 1):\n",
        "        if n % i == 0:\n",
        "            divisors_sum += i\n",
        "            if i != n // i:\n",
        "                divisors_sum += n // i\n",
        "    return divisors_sum\n",
        "\n",
        "def find_amicable_numbers(limit):\n",
        "    \"\"\"Find all amicable numbers under the given limit.\"\"\"\n",
        "    sum_amicable_numbers = 0\n",
        "    visited = set()\n",
        "\n",
        "    for a in range(2, limit):\n",
        "        if a not in visited:\n",
        "            b = sum_of_proper_divisors(a)\n",
        "            if b != a and sum_of_proper_divisors(b) == a:\n",
        "                visited.add(a)\n",
        "                visited.add(b)\n",
        "                sum_amicable_numbers += a + b\n",
        "\n",
        "    return sum_amicable_numbers\n",
        "\n",
        "# Find the sum of all amicable numbers under 10000\n",
        "result = find_amicable_numbers(10000)\n",
        "print(result)  # Output should be 31626"
      ],
      "metadata": {
        "colab": {
          "base_uri": "https://localhost:8080/"
        },
        "id": "F4CogmlMdKC6",
        "outputId": "6cc1a5e8-5bc3-44bd-ca5e-dd7e540c8b0c"
      },
      "execution_count": null,
      "outputs": [
        {
          "output_type": "stream",
          "name": "stdout",
          "text": [
            "31626\n"
          ]
        }
      ]
    },
    {
      "cell_type": "markdown",
      "source": [
        "# Problem 22 - Names Scores * Revise: !!!!!!!!!"
      ],
      "metadata": {
        "id": "I-hTOY06eRc0"
      }
    },
    {
      "cell_type": "code",
      "source": [
        "# We apply straightforward algorithms to sort the names, sum the letter values, and multiply by the position.\n",
        "def compute():\n",
        "\tans = sum((i + 1) * (ord(c) - ord('A') + 1)\n",
        "\t\tfor (i, name) in enumerate(sorted(NAMES))\n",
        "\t\tfor c in name)\n",
        "\treturn str(ans)\n",
        "\n",
        "\n",
        "NAMES = [  # 10 strings per line, except final line\n",
        "\t\"MARY\", \"PATRICIA\", \"LINDA\", \"BARBARA\", \"ELIZABETH\", \"JENNIFER\", \"MARIA\", \"SUSAN\", \"MARGARET\", \"DOROTHY\",\n",
        "\t\"LISA\", \"NANCY\", \"KAREN\", \"BETTY\", \"HELEN\", \"SANDRA\", \"DONNA\", \"CAROL\", \"RUTH\", \"SHARON\",\n",
        "\t\"MICHELLE\", \"LAURA\", \"SARAH\", \"KIMBERLY\", \"DEBORAH\", \"JESSICA\", \"SHIRLEY\", \"CYNTHIA\", \"ANGELA\", \"MELISSA\",\n",
        "\t\"BRENDA\", \"AMY\", \"ANNA\", \"REBECCA\", \"VIRGINIA\", \"KATHLEEN\", \"PAMELA\", \"MARTHA\", \"DEBRA\", \"AMANDA\",\n",
        "\t\"STEPHANIE\", \"CAROLYN\", \"CHRISTINE\", \"MARIE\", \"JANET\", \"CATHERINE\", \"FRANCES\", \"ANN\", \"JOYCE\", \"DIANE\",\n",
        "\t\"ALICE\", \"JULIE\", \"HEATHER\", \"TERESA\", \"DORIS\", \"GLORIA\", \"EVELYN\", \"JEAN\", \"CHERYL\", \"MILDRED\",\n",
        "\t\"KATHERINE\", \"JOAN\", \"ASHLEY\", \"JUDITH\", \"ROSE\", \"JANICE\", \"KELLY\", \"NICOLE\", \"JUDY\", \"CHRISTINA\",\n",
        "\t\"KATHY\", \"THERESA\", \"BEVERLY\", \"DENISE\", \"TAMMY\", \"IRENE\", \"JANE\", \"LORI\", \"RACHEL\", \"MARILYN\",\n",
        "\t\"ANDREA\", \"KATHRYN\", \"LOUISE\", \"SARA\", \"ANNE\", \"JACQUELINE\", \"WANDA\", \"BONNIE\", \"JULIA\", \"RUBY\",\n",
        "\t\"LOIS\", \"TINA\", \"PHYLLIS\", \"NORMA\", \"PAULA\", \"DIANA\", \"ANNIE\", \"LILLIAN\", \"EMILY\", \"ROBIN\",\n",
        "\t\"PEGGY\", \"CRYSTAL\", \"GLADYS\", \"RITA\", \"DAWN\", \"CONNIE\", \"FLORENCE\", \"TRACY\", \"EDNA\", \"TIFFANY\",\n",
        "\t\"CARMEN\", \"ROSA\", \"CINDY\", \"GRACE\", \"WENDY\", \"VICTORIA\", \"EDITH\", \"KIM\", \"SHERRY\", \"SYLVIA\",\n",
        "\t\"JOSEPHINE\", \"THELMA\", \"SHANNON\", \"SHEILA\", \"ETHEL\", \"ELLEN\", \"ELAINE\", \"MARJORIE\", \"CARRIE\", \"CHARLOTTE\",\n",
        "\t\"MONICA\", \"ESTHER\", \"PAULINE\", \"EMMA\", \"JUANITA\", \"ANITA\", \"RHONDA\", \"HAZEL\", \"AMBER\", \"EVA\",\n",
        "\t\"DEBBIE\", \"APRIL\", \"LESLIE\", \"CLARA\", \"LUCILLE\", \"JAMIE\", \"JOANNE\", \"ELEANOR\", \"VALERIE\", \"DANIELLE\",\n",
        "\t\"MEGAN\", \"ALICIA\", \"SUZANNE\", \"MICHELE\", \"GAIL\", \"BERTHA\", \"DARLENE\", \"VERONICA\", \"JILL\", \"ERIN\",\n",
        "\t\"GERALDINE\", \"LAUREN\", \"CATHY\", \"JOANN\", \"LORRAINE\", \"LYNN\", \"SALLY\", \"REGINA\", \"ERICA\", \"BEATRICE\",\n",
        "\t\"DOLORES\", \"BERNICE\", \"AUDREY\", \"YVONNE\", \"ANNETTE\", \"JUNE\", \"SAMANTHA\", \"MARION\", \"DANA\", \"STACY\",\n",
        "\t\"ANA\", \"RENEE\", \"IDA\", \"VIVIAN\", \"ROBERTA\", \"HOLLY\", \"BRITTANY\", \"MELANIE\", \"LORETTA\", \"YOLANDA\",\n",
        "\t\"JEANETTE\", \"LAURIE\", \"KATIE\", \"KRISTEN\", \"VANESSA\", \"ALMA\", \"SUE\", \"ELSIE\", \"BETH\", \"JEANNE\",\n",
        "\t\"VICKI\", \"CARLA\", \"TARA\", \"ROSEMARY\", \"EILEEN\", \"TERRI\", \"GERTRUDE\", \"LUCY\", \"TONYA\", \"ELLA\",\n",
        "\t\"STACEY\", \"WILMA\", \"GINA\", \"KRISTIN\", \"JESSIE\", \"NATALIE\", \"AGNES\", \"VERA\", \"WILLIE\", \"CHARLENE\",\n",
        "\t\"BESSIE\", \"DELORES\", \"MELINDA\", \"PEARL\", \"ARLENE\", \"MAUREEN\", \"COLLEEN\", \"ALLISON\", \"TAMARA\", \"JOY\",\n",
        "\t\"GEORGIA\", \"CONSTANCE\", \"LILLIE\", \"CLAUDIA\", \"JACKIE\", \"MARCIA\", \"TANYA\", \"NELLIE\", \"MINNIE\", \"MARLENE\",\n",
        "\t\"HEIDI\", \"GLENDA\", \"LYDIA\", \"VIOLA\", \"COURTNEY\", \"MARIAN\", \"STELLA\", \"CAROLINE\", \"DORA\", \"JO\",\n",
        "\t\"VICKIE\", \"MATTIE\", \"TERRY\", \"MAXINE\", \"IRMA\", \"MABEL\", \"MARSHA\", \"MYRTLE\", \"LENA\", \"CHRISTY\",\n",
        "\t\"DEANNA\", \"PATSY\", \"HILDA\", \"GWENDOLYN\", \"JENNIE\", \"NORA\", \"MARGIE\", \"NINA\", \"CASSANDRA\", \"LEAH\",\n",
        "\t\"PENNY\", \"KAY\", \"PRISCILLA\", \"NAOMI\", \"CAROLE\", \"BRANDY\", \"OLGA\", \"BILLIE\", \"DIANNE\", \"TRACEY\",\n",
        "\t\"LEONA\", \"JENNY\", \"FELICIA\", \"SONIA\", \"MIRIAM\", \"VELMA\", \"BECKY\", \"BOBBIE\", \"VIOLET\", \"KRISTINA\",\n",
        "\t\"TONI\", \"MISTY\", \"MAE\", \"SHELLY\", \"DAISY\", \"RAMONA\", \"SHERRI\", \"ERIKA\", \"KATRINA\", \"CLAIRE\",\n",
        "\t\"LINDSEY\", \"LINDSAY\", \"GENEVA\", \"GUADALUPE\", \"BELINDA\", \"MARGARITA\", \"SHERYL\", \"CORA\", \"FAYE\", \"ADA\",\n",
        "\t\"NATASHA\", \"SABRINA\", \"ISABEL\", \"MARGUERITE\", \"HATTIE\", \"HARRIET\", \"MOLLY\", \"CECILIA\", \"KRISTI\", \"BRANDI\",\n",
        "\t\"BLANCHE\", \"SANDY\", \"ROSIE\", \"JOANNA\", \"IRIS\", \"EUNICE\", \"ANGIE\", \"INEZ\", \"LYNDA\", \"MADELINE\",\n",
        "\t\"AMELIA\", \"ALBERTA\", \"GENEVIEVE\", \"MONIQUE\", \"JODI\", \"JANIE\", \"MAGGIE\", \"KAYLA\", \"SONYA\", \"JAN\",\n",
        "\t\"LEE\", \"KRISTINE\", \"CANDACE\", \"FANNIE\", \"MARYANN\", \"OPAL\", \"ALISON\", \"YVETTE\", \"MELODY\", \"LUZ\",\n",
        "\t\"SUSIE\", \"OLIVIA\", \"FLORA\", \"SHELLEY\", \"KRISTY\", \"MAMIE\", \"LULA\", \"LOLA\", \"VERNA\", \"BEULAH\",\n",
        "\t\"ANTOINETTE\", \"CANDICE\", \"JUANA\", \"JEANNETTE\", \"PAM\", \"KELLI\", \"HANNAH\", \"WHITNEY\", \"BRIDGET\", \"KARLA\",\n",
        "\t\"CELIA\", \"LATOYA\", \"PATTY\", \"SHELIA\", \"GAYLE\", \"DELLA\", \"VICKY\", \"LYNNE\", \"SHERI\", \"MARIANNE\",\n",
        "\t\"KARA\", \"JACQUELYN\", \"ERMA\", \"BLANCA\", \"MYRA\", \"LETICIA\", \"PAT\", \"KRISTA\", \"ROXANNE\", \"ANGELICA\",\n",
        "\t\"JOHNNIE\", \"ROBYN\", \"FRANCIS\", \"ADRIENNE\", \"ROSALIE\", \"ALEXANDRA\", \"BROOKE\", \"BETHANY\", \"SADIE\", \"BERNADETTE\",\n",
        "\t\"TRACI\", \"JODY\", \"KENDRA\", \"JASMINE\", \"NICHOLE\", \"RACHAEL\", \"CHELSEA\", \"MABLE\", \"ERNESTINE\", \"MURIEL\",\n",
        "\t\"MARCELLA\", \"ELENA\", \"KRYSTAL\", \"ANGELINA\", \"NADINE\", \"KARI\", \"ESTELLE\", \"DIANNA\", \"PAULETTE\", \"LORA\",\n",
        "\t\"MONA\", \"DOREEN\", \"ROSEMARIE\", \"ANGEL\", \"DESIREE\", \"ANTONIA\", \"HOPE\", \"GINGER\", \"JANIS\", \"BETSY\",\n",
        "\t\"CHRISTIE\", \"FREDA\", \"MERCEDES\", \"MEREDITH\", \"LYNETTE\", \"TERI\", \"CRISTINA\", \"EULA\", \"LEIGH\", \"MEGHAN\",\n",
        "\t\"SOPHIA\", \"ELOISE\", \"ROCHELLE\", \"GRETCHEN\", \"CECELIA\", \"RAQUEL\", \"HENRIETTA\", \"ALYSSA\", \"JANA\", \"KELLEY\",\n",
        "\t\"GWEN\", \"KERRY\", \"JENNA\", \"TRICIA\", \"LAVERNE\", \"OLIVE\", \"ALEXIS\", \"TASHA\", \"SILVIA\", \"ELVIRA\",\n",
        "\t\"CASEY\", \"DELIA\", \"SOPHIE\", \"KATE\", \"PATTI\", \"LORENA\", \"KELLIE\", \"SONJA\", \"LILA\", \"LANA\",\n",
        "\t\"DARLA\", \"MAY\", \"MINDY\", \"ESSIE\", \"MANDY\", \"LORENE\", \"ELSA\", \"JOSEFINA\", \"JEANNIE\", \"MIRANDA\",\n",
        "\t\"DIXIE\", \"LUCIA\", \"MARTA\", \"FAITH\", \"LELA\", \"JOHANNA\", \"SHARI\", \"CAMILLE\", \"TAMI\", \"SHAWNA\",\n",
        "\t\"ELISA\", \"EBONY\", \"MELBA\", \"ORA\", \"NETTIE\", \"TABITHA\", \"OLLIE\", \"JAIME\", \"WINIFRED\", \"KRISTIE\",\n",
        "\t\"MARINA\", \"ALISHA\", \"AIMEE\", \"RENA\", \"MYRNA\", \"MARLA\", \"TAMMIE\", \"LATASHA\", \"BONITA\", \"PATRICE\",\n",
        "\t\"RONDA\", \"SHERRIE\", \"ADDIE\", \"FRANCINE\", \"DELORIS\", \"STACIE\", \"ADRIANA\", \"CHERI\", \"SHELBY\", \"ABIGAIL\",\n",
        "\t\"CELESTE\", \"JEWEL\", \"CARA\", \"ADELE\", \"REBEKAH\", \"LUCINDA\", \"DORTHY\", \"CHRIS\", \"EFFIE\", \"TRINA\",\n",
        "\t\"REBA\", \"SHAWN\", \"SALLIE\", \"AURORA\", \"LENORA\", \"ETTA\", \"LOTTIE\", \"KERRI\", \"TRISHA\", \"NIKKI\",\n",
        "\t\"ESTELLA\", \"FRANCISCA\", \"JOSIE\", \"TRACIE\", \"MARISSA\", \"KARIN\", \"BRITTNEY\", \"JANELLE\", \"LOURDES\", \"LAUREL\",\n",
        "\t\"HELENE\", \"FERN\", \"ELVA\", \"CORINNE\", \"KELSEY\", \"INA\", \"BETTIE\", \"ELISABETH\", \"AIDA\", \"CAITLIN\",\n",
        "\t\"INGRID\", \"IVA\", \"EUGENIA\", \"CHRISTA\", \"GOLDIE\", \"CASSIE\", \"MAUDE\", \"JENIFER\", \"THERESE\", \"FRANKIE\",\n",
        "\t\"DENA\", \"LORNA\", \"JANETTE\", \"LATONYA\", \"CANDY\", \"MORGAN\", \"CONSUELO\", \"TAMIKA\", \"ROSETTA\", \"DEBORA\",\n",
        "\t\"CHERIE\", \"POLLY\", \"DINA\", \"JEWELL\", \"FAY\", \"JILLIAN\", \"DOROTHEA\", \"NELL\", \"TRUDY\", \"ESPERANZA\",\n",
        "\t\"PATRICA\", \"KIMBERLEY\", \"SHANNA\", \"HELENA\", \"CAROLINA\", \"CLEO\", \"STEFANIE\", \"ROSARIO\", \"OLA\", \"JANINE\",\n",
        "\t\"MOLLIE\", \"LUPE\", \"ALISA\", \"LOU\", \"MARIBEL\", \"SUSANNE\", \"BETTE\", \"SUSANA\", \"ELISE\", \"CECILE\",\n",
        "\t\"ISABELLE\", \"LESLEY\", \"JOCELYN\", \"PAIGE\", \"JONI\", \"RACHELLE\", \"LEOLA\", \"DAPHNE\", \"ALTA\", \"ESTER\",\n",
        "\t\"PETRA\", \"GRACIELA\", \"IMOGENE\", \"JOLENE\", \"KEISHA\", \"LACEY\", \"GLENNA\", \"GABRIELA\", \"KERI\", \"URSULA\",\n",
        "\t\"LIZZIE\", \"KIRSTEN\", \"SHANA\", \"ADELINE\", \"MAYRA\", \"JAYNE\", \"JACLYN\", \"GRACIE\", \"SONDRA\", \"CARMELA\",\n",
        "\t\"MARISA\", \"ROSALIND\", \"CHARITY\", \"TONIA\", \"BEATRIZ\", \"MARISOL\", \"CLARICE\", \"JEANINE\", \"SHEENA\", \"ANGELINE\",\n",
        "\t\"FRIEDA\", \"LILY\", \"ROBBIE\", \"SHAUNA\", \"MILLIE\", \"CLAUDETTE\", \"CATHLEEN\", \"ANGELIA\", \"GABRIELLE\", \"AUTUMN\",\n",
        "\t\"KATHARINE\", \"SUMMER\", \"JODIE\", \"STACI\", \"LEA\", \"CHRISTI\", \"JIMMIE\", \"JUSTINE\", \"ELMA\", \"LUELLA\",\n",
        "\t\"MARGRET\", \"DOMINIQUE\", \"SOCORRO\", \"RENE\", \"MARTINA\", \"MARGO\", \"MAVIS\", \"CALLIE\", \"BOBBI\", \"MARITZA\",\n",
        "\t\"LUCILE\", \"LEANNE\", \"JEANNINE\", \"DEANA\", \"AILEEN\", \"LORIE\", \"LADONNA\", \"WILLA\", \"MANUELA\", \"GALE\",\n",
        "\t\"SELMA\", \"DOLLY\", \"SYBIL\", \"ABBY\", \"LARA\", \"DALE\", \"IVY\", \"DEE\", \"WINNIE\", \"MARCY\",\n",
        "\t\"LUISA\", \"JERI\", \"MAGDALENA\", \"OFELIA\", \"MEAGAN\", \"AUDRA\", \"MATILDA\", \"LEILA\", \"CORNELIA\", \"BIANCA\",\n",
        "\t\"SIMONE\", \"BETTYE\", \"RANDI\", \"VIRGIE\", \"LATISHA\", \"BARBRA\", \"GEORGINA\", \"ELIZA\", \"LEANN\", \"BRIDGETTE\",\n",
        "\t\"RHODA\", \"HALEY\", \"ADELA\", \"NOLA\", \"BERNADINE\", \"FLOSSIE\", \"ILA\", \"GRETA\", \"RUTHIE\", \"NELDA\",\n",
        "\t\"MINERVA\", \"LILLY\", \"TERRIE\", \"LETHA\", \"HILARY\", \"ESTELA\", \"VALARIE\", \"BRIANNA\", \"ROSALYN\", \"EARLINE\",\n",
        "\t\"CATALINA\", \"AVA\", \"MIA\", \"CLARISSA\", \"LIDIA\", \"CORRINE\", \"ALEXANDRIA\", \"CONCEPCION\", \"TIA\", \"SHARRON\",\n",
        "\t\"RAE\", \"DONA\", \"ERICKA\", \"JAMI\", \"ELNORA\", \"CHANDRA\", \"LENORE\", \"NEVA\", \"MARYLOU\", \"MELISA\",\n",
        "\t\"TABATHA\", \"SERENA\", \"AVIS\", \"ALLIE\", \"SOFIA\", \"JEANIE\", \"ODESSA\", \"NANNIE\", \"HARRIETT\", \"LORAINE\",\n",
        "\t\"PENELOPE\", \"MILAGROS\", \"EMILIA\", \"BENITA\", \"ALLYSON\", \"ASHLEE\", \"TANIA\", \"TOMMIE\", \"ESMERALDA\", \"KARINA\",\n",
        "\t\"EVE\", \"PEARLIE\", \"ZELMA\", \"MALINDA\", \"NOREEN\", \"TAMEKA\", \"SAUNDRA\", \"HILLARY\", \"AMIE\", \"ALTHEA\",\n",
        "\t\"ROSALINDA\", \"JORDAN\", \"LILIA\", \"ALANA\", \"GAY\", \"CLARE\", \"ALEJANDRA\", \"ELINOR\", \"MICHAEL\", \"LORRIE\",\n",
        "\t\"JERRI\", \"DARCY\", \"EARNESTINE\", \"CARMELLA\", \"TAYLOR\", \"NOEMI\", \"MARCIE\", \"LIZA\", \"ANNABELLE\", \"LOUISA\",\n",
        "\t\"EARLENE\", \"MALLORY\", \"CARLENE\", \"NITA\", \"SELENA\", \"TANISHA\", \"KATY\", \"JULIANNE\", \"JOHN\", \"LAKISHA\",\n",
        "\t\"EDWINA\", \"MARICELA\", \"MARGERY\", \"KENYA\", \"DOLLIE\", \"ROXIE\", \"ROSLYN\", \"KATHRINE\", \"NANETTE\", \"CHARMAINE\",\n",
        "\t\"LAVONNE\", \"ILENE\", \"KRIS\", \"TAMMI\", \"SUZETTE\", \"CORINE\", \"KAYE\", \"JERRY\", \"MERLE\", \"CHRYSTAL\",\n",
        "\t\"LINA\", \"DEANNE\", \"LILIAN\", \"JULIANA\", \"ALINE\", \"LUANN\", \"KASEY\", \"MARYANNE\", \"EVANGELINE\", \"COLETTE\",\n",
        "\t\"MELVA\", \"LAWANDA\", \"YESENIA\", \"NADIA\", \"MADGE\", \"KATHIE\", \"EDDIE\", \"OPHELIA\", \"VALERIA\", \"NONA\",\n",
        "\t\"MITZI\", \"MARI\", \"GEORGETTE\", \"CLAUDINE\", \"FRAN\", \"ALISSA\", \"ROSEANN\", \"LAKEISHA\", \"SUSANNA\", \"REVA\",\n",
        "\t\"DEIDRE\", \"CHASITY\", \"SHEREE\", \"CARLY\", \"JAMES\", \"ELVIA\", \"ALYCE\", \"DEIRDRE\", \"GENA\", \"BRIANA\",\n",
        "\t\"ARACELI\", \"KATELYN\", \"ROSANNE\", \"WENDI\", \"TESSA\", \"BERTA\", \"MARVA\", \"IMELDA\", \"MARIETTA\", \"MARCI\",\n",
        "\t\"LEONOR\", \"ARLINE\", \"SASHA\", \"MADELYN\", \"JANNA\", \"JULIETTE\", \"DEENA\", \"AURELIA\", \"JOSEFA\", \"AUGUSTA\",\n",
        "\t\"LILIANA\", \"YOUNG\", \"CHRISTIAN\", \"LESSIE\", \"AMALIA\", \"SAVANNAH\", \"ANASTASIA\", \"VILMA\", \"NATALIA\", \"ROSELLA\",\n",
        "\t\"LYNNETTE\", \"CORINA\", \"ALFREDA\", \"LEANNA\", \"CAREY\", \"AMPARO\", \"COLEEN\", \"TAMRA\", \"AISHA\", \"WILDA\",\n",
        "\t\"KARYN\", \"CHERRY\", \"QUEEN\", \"MAURA\", \"MAI\", \"EVANGELINA\", \"ROSANNA\", \"HALLIE\", \"ERNA\", \"ENID\",\n",
        "\t\"MARIANA\", \"LACY\", \"JULIET\", \"JACKLYN\", \"FREIDA\", \"MADELEINE\", \"MARA\", \"HESTER\", \"CATHRYN\", \"LELIA\",\n",
        "\t\"CASANDRA\", \"BRIDGETT\", \"ANGELITA\", \"JANNIE\", \"DIONNE\", \"ANNMARIE\", \"KATINA\", \"BERYL\", \"PHOEBE\", \"MILLICENT\",\n",
        "\t\"KATHERYN\", \"DIANN\", \"CARISSA\", \"MARYELLEN\", \"LIZ\", \"LAURI\", \"HELGA\", \"GILDA\", \"ADRIAN\", \"RHEA\",\n",
        "\t\"MARQUITA\", \"HOLLIE\", \"TISHA\", \"TAMERA\", \"ANGELIQUE\", \"FRANCESCA\", \"BRITNEY\", \"KAITLIN\", \"LOLITA\", \"FLORINE\",\n",
        "\t\"ROWENA\", \"REYNA\", \"TWILA\", \"FANNY\", \"JANELL\", \"INES\", \"CONCETTA\", \"BERTIE\", \"ALBA\", \"BRIGITTE\",\n",
        "\t\"ALYSON\", \"VONDA\", \"PANSY\", \"ELBA\", \"NOELLE\", \"LETITIA\", \"KITTY\", \"DEANN\", \"BRANDIE\", \"LOUELLA\",\n",
        "\t\"LETA\", \"FELECIA\", \"SHARLENE\", \"LESA\", \"BEVERLEY\", \"ROBERT\", \"ISABELLA\", \"HERMINIA\", \"TERRA\", \"CELINA\",\n",
        "\t\"TORI\", \"OCTAVIA\", \"JADE\", \"DENICE\", \"GERMAINE\", \"SIERRA\", \"MICHELL\", \"CORTNEY\", \"NELLY\", \"DORETHA\",\n",
        "\t\"SYDNEY\", \"DEIDRA\", \"MONIKA\", \"LASHONDA\", \"JUDI\", \"CHELSEY\", \"ANTIONETTE\", \"MARGOT\", \"BOBBY\", \"ADELAIDE\",\n",
        "\t\"NAN\", \"LEEANN\", \"ELISHA\", \"DESSIE\", \"LIBBY\", \"KATHI\", \"GAYLA\", \"LATANYA\", \"MINA\", \"MELLISA\",\n",
        "\t\"KIMBERLEE\", \"JASMIN\", \"RENAE\", \"ZELDA\", \"ELDA\", \"MA\", \"JUSTINA\", \"GUSSIE\", \"EMILIE\", \"CAMILLA\",\n",
        "\t\"ABBIE\", \"ROCIO\", \"KAITLYN\", \"JESSE\", \"EDYTHE\", \"ASHLEIGH\", \"SELINA\", \"LAKESHA\", \"GERI\", \"ALLENE\",\n",
        "\t\"PAMALA\", \"MICHAELA\", \"DAYNA\", \"CARYN\", \"ROSALIA\", \"SUN\", \"JACQULINE\", \"REBECA\", \"MARYBETH\", \"KRYSTLE\",\n",
        "\t\"IOLA\", \"DOTTIE\", \"BENNIE\", \"BELLE\", \"AUBREY\", \"GRISELDA\", \"ERNESTINA\", \"ELIDA\", \"ADRIANNE\", \"DEMETRIA\",\n",
        "\t\"DELMA\", \"CHONG\", \"JAQUELINE\", \"DESTINY\", \"ARLEEN\", \"VIRGINA\", \"RETHA\", \"FATIMA\", \"TILLIE\", \"ELEANORE\",\n",
        "\t\"CARI\", \"TREVA\", \"BIRDIE\", \"WILHELMINA\", \"ROSALEE\", \"MAURINE\", \"LATRICE\", \"YONG\", \"JENA\", \"TARYN\",\n",
        "\t\"ELIA\", \"DEBBY\", \"MAUDIE\", \"JEANNA\", \"DELILAH\", \"CATRINA\", \"SHONDA\", \"HORTENCIA\", \"THEODORA\", \"TERESITA\",\n",
        "\t\"ROBBIN\", \"DANETTE\", \"MARYJANE\", \"FREDDIE\", \"DELPHINE\", \"BRIANNE\", \"NILDA\", \"DANNA\", \"CINDI\", \"BESS\",\n",
        "\t\"IONA\", \"HANNA\", \"ARIEL\", \"WINONA\", \"VIDA\", \"ROSITA\", \"MARIANNA\", \"WILLIAM\", \"RACHEAL\", \"GUILLERMINA\",\n",
        "\t\"ELOISA\", \"CELESTINE\", \"CAREN\", \"MALISSA\", \"LONA\", \"CHANTEL\", \"SHELLIE\", \"MARISELA\", \"LEORA\", \"AGATHA\",\n",
        "\t\"SOLEDAD\", \"MIGDALIA\", \"IVETTE\", \"CHRISTEN\", \"ATHENA\", \"JANEL\", \"CHLOE\", \"VEDA\", \"PATTIE\", \"TESSIE\",\n",
        "\t\"TERA\", \"MARILYNN\", \"LUCRETIA\", \"KARRIE\", \"DINAH\", \"DANIELA\", \"ALECIA\", \"ADELINA\", \"VERNICE\", \"SHIELA\",\n",
        "\t\"PORTIA\", \"MERRY\", \"LASHAWN\", \"DEVON\", \"DARA\", \"TAWANA\", \"OMA\", \"VERDA\", \"CHRISTIN\", \"ALENE\",\n",
        "\t\"ZELLA\", \"SANDI\", \"RAFAELA\", \"MAYA\", \"KIRA\", \"CANDIDA\", \"ALVINA\", \"SUZAN\", \"SHAYLA\", \"LYN\",\n",
        "\t\"LETTIE\", \"ALVA\", \"SAMATHA\", \"ORALIA\", \"MATILDE\", \"MADONNA\", \"LARISSA\", \"VESTA\", \"RENITA\", \"INDIA\",\n",
        "\t\"DELOIS\", \"SHANDA\", \"PHILLIS\", \"LORRI\", \"ERLINDA\", \"CRUZ\", \"CATHRINE\", \"BARB\", \"ZOE\", \"ISABELL\",\n",
        "\t\"IONE\", \"GISELA\", \"CHARLIE\", \"VALENCIA\", \"ROXANNA\", \"MAYME\", \"KISHA\", \"ELLIE\", \"MELLISSA\", \"DORRIS\",\n",
        "\t\"DALIA\", \"BELLA\", \"ANNETTA\", \"ZOILA\", \"RETA\", \"REINA\", \"LAURETTA\", \"KYLIE\", \"CHRISTAL\", \"PILAR\",\n",
        "\t\"CHARLA\", \"ELISSA\", \"TIFFANI\", \"TANA\", \"PAULINA\", \"LEOTA\", \"BREANNA\", \"JAYME\", \"CARMEL\", \"VERNELL\",\n",
        "\t\"TOMASA\", \"MANDI\", \"DOMINGA\", \"SANTA\", \"MELODIE\", \"LURA\", \"ALEXA\", \"TAMELA\", \"RYAN\", \"MIRNA\",\n",
        "\t\"KERRIE\", \"VENUS\", \"NOEL\", \"FELICITA\", \"CRISTY\", \"CARMELITA\", \"BERNIECE\", \"ANNEMARIE\", \"TIARA\", \"ROSEANNE\",\n",
        "\t\"MISSY\", \"CORI\", \"ROXANA\", \"PRICILLA\", \"KRISTAL\", \"JUNG\", \"ELYSE\", \"HAYDEE\", \"ALETHA\", \"BETTINA\",\n",
        "\t\"MARGE\", \"GILLIAN\", \"FILOMENA\", \"CHARLES\", \"ZENAIDA\", \"HARRIETTE\", \"CARIDAD\", \"VADA\", \"UNA\", \"ARETHA\",\n",
        "\t\"PEARLINE\", \"MARJORY\", \"MARCELA\", \"FLOR\", \"EVETTE\", \"ELOUISE\", \"ALINA\", \"TRINIDAD\", \"DAVID\", \"DAMARIS\",\n",
        "\t\"CATHARINE\", \"CARROLL\", \"BELVA\", \"NAKIA\", \"MARLENA\", \"LUANNE\", \"LORINE\", \"KARON\", \"DORENE\", \"DANITA\",\n",
        "\t\"BRENNA\", \"TATIANA\", \"SAMMIE\", \"LOUANN\", \"LOREN\", \"JULIANNA\", \"ANDRIA\", \"PHILOMENA\", \"LUCILA\", \"LEONORA\",\n",
        "\t\"DOVIE\", \"ROMONA\", \"MIMI\", \"JACQUELIN\", \"GAYE\", \"TONJA\", \"MISTI\", \"JOE\", \"GENE\", \"CHASTITY\",\n",
        "\t\"STACIA\", \"ROXANN\", \"MICAELA\", \"NIKITA\", \"MEI\", \"VELDA\", \"MARLYS\", \"JOHNNA\", \"AURA\", \"LAVERN\",\n",
        "\t\"IVONNE\", \"HAYLEY\", \"NICKI\", \"MAJORIE\", \"HERLINDA\", \"GEORGE\", \"ALPHA\", \"YADIRA\", \"PERLA\", \"GREGORIA\",\n",
        "\t\"DANIEL\", \"ANTONETTE\", \"SHELLI\", \"MOZELLE\", \"MARIAH\", \"JOELLE\", \"CORDELIA\", \"JOSETTE\", \"CHIQUITA\", \"TRISTA\",\n",
        "\t\"LOUIS\", \"LAQUITA\", \"GEORGIANA\", \"CANDI\", \"SHANON\", \"LONNIE\", \"HILDEGARD\", \"CECIL\", \"VALENTINA\", \"STEPHANY\",\n",
        "\t\"MAGDA\", \"KAROL\", \"GERRY\", \"GABRIELLA\", \"TIANA\", \"ROMA\", \"RICHELLE\", \"RAY\", \"PRINCESS\", \"OLETA\",\n",
        "\t\"JACQUE\", \"IDELLA\", \"ALAINA\", \"SUZANNA\", \"JOVITA\", \"BLAIR\", \"TOSHA\", \"RAVEN\", \"NEREIDA\", \"MARLYN\",\n",
        "\t\"KYLA\", \"JOSEPH\", \"DELFINA\", \"TENA\", \"STEPHENIE\", \"SABINA\", \"NATHALIE\", \"MARCELLE\", \"GERTIE\", \"DARLEEN\",\n",
        "\t\"THEA\", \"SHARONDA\", \"SHANTEL\", \"BELEN\", \"VENESSA\", \"ROSALINA\", \"ONA\", \"GENOVEVA\", \"COREY\", \"CLEMENTINE\",\n",
        "\t\"ROSALBA\", \"RENATE\", \"RENATA\", \"MI\", \"IVORY\", \"GEORGIANNA\", \"FLOY\", \"DORCAS\", \"ARIANA\", \"TYRA\",\n",
        "\t\"THEDA\", \"MARIAM\", \"JULI\", \"JESICA\", \"DONNIE\", \"VIKKI\", \"VERLA\", \"ROSELYN\", \"MELVINA\", \"JANNETTE\",\n",
        "\t\"GINNY\", \"DEBRAH\", \"CORRIE\", \"ASIA\", \"VIOLETA\", \"MYRTIS\", \"LATRICIA\", \"COLLETTE\", \"CHARLEEN\", \"ANISSA\",\n",
        "\t\"VIVIANA\", \"TWYLA\", \"PRECIOUS\", \"NEDRA\", \"LATONIA\", \"LAN\", \"HELLEN\", \"FABIOLA\", \"ANNAMARIE\", \"ADELL\",\n",
        "\t\"SHARYN\", \"CHANTAL\", \"NIKI\", \"MAUD\", \"LIZETTE\", \"LINDY\", \"KIA\", \"KESHA\", \"JEANA\", \"DANELLE\",\n",
        "\t\"CHARLINE\", \"CHANEL\", \"CARROL\", \"VALORIE\", \"LIA\", \"DORTHA\", \"CRISTAL\", \"SUNNY\", \"LEONE\", \"LEILANI\",\n",
        "\t\"GERRI\", \"DEBI\", \"ANDRA\", \"KESHIA\", \"IMA\", \"EULALIA\", \"EASTER\", \"DULCE\", \"NATIVIDAD\", \"LINNIE\",\n",
        "\t\"KAMI\", \"GEORGIE\", \"CATINA\", \"BROOK\", \"ALDA\", \"WINNIFRED\", \"SHARLA\", \"RUTHANN\", \"MEAGHAN\", \"MAGDALENE\",\n",
        "\t\"LISSETTE\", \"ADELAIDA\", \"VENITA\", \"TRENA\", \"SHIRLENE\", \"SHAMEKA\", \"ELIZEBETH\", \"DIAN\", \"SHANTA\", \"MICKEY\",\n",
        "\t\"LATOSHA\", \"CARLOTTA\", \"WINDY\", \"SOON\", \"ROSINA\", \"MARIANN\", \"LEISA\", \"JONNIE\", \"DAWNA\", \"CATHIE\",\n",
        "\t\"BILLY\", \"ASTRID\", \"SIDNEY\", \"LAUREEN\", \"JANEEN\", \"HOLLI\", \"FAWN\", \"VICKEY\", \"TERESSA\", \"SHANTE\",\n",
        "\t\"RUBYE\", \"MARCELINA\", \"CHANDA\", \"CARY\", \"TERESE\", \"SCARLETT\", \"MARTY\", \"MARNIE\", \"LULU\", \"LISETTE\",\n",
        "\t\"JENIFFER\", \"ELENOR\", \"DORINDA\", \"DONITA\", \"CARMAN\", \"BERNITA\", \"ALTAGRACIA\", \"ALETA\", \"ADRIANNA\", \"ZORAIDA\",\n",
        "\t\"RONNIE\", \"NICOLA\", \"LYNDSEY\", \"KENDALL\", \"JANINA\", \"CHRISSY\", \"AMI\", \"STARLA\", \"PHYLIS\", \"PHUONG\",\n",
        "\t\"KYRA\", \"CHARISSE\", \"BLANCH\", \"SANJUANITA\", \"RONA\", \"NANCI\", \"MARILEE\", \"MARANDA\", \"CORY\", \"BRIGETTE\",\n",
        "\t\"SANJUANA\", \"MARITA\", \"KASSANDRA\", \"JOYCELYN\", \"IRA\", \"FELIPA\", \"CHELSIE\", \"BONNY\", \"MIREYA\", \"LORENZA\",\n",
        "\t\"KYONG\", \"ILEANA\", \"CANDELARIA\", \"TONY\", \"TOBY\", \"SHERIE\", \"OK\", \"MARK\", \"LUCIE\", \"LEATRICE\",\n",
        "\t\"LAKESHIA\", \"GERDA\", \"EDIE\", \"BAMBI\", \"MARYLIN\", \"LAVON\", \"HORTENSE\", \"GARNET\", \"EVIE\", \"TRESSA\",\n",
        "\t\"SHAYNA\", \"LAVINA\", \"KYUNG\", \"JEANETTA\", \"SHERRILL\", \"SHARA\", \"PHYLISS\", \"MITTIE\", \"ANABEL\", \"ALESIA\",\n",
        "\t\"THUY\", \"TAWANDA\", \"RICHARD\", \"JOANIE\", \"TIFFANIE\", \"LASHANDA\", \"KARISSA\", \"ENRIQUETA\", \"DARIA\", \"DANIELLA\",\n",
        "\t\"CORINNA\", \"ALANNA\", \"ABBEY\", \"ROXANE\", \"ROSEANNA\", \"MAGNOLIA\", \"LIDA\", \"KYLE\", \"JOELLEN\", \"ERA\",\n",
        "\t\"CORAL\", \"CARLEEN\", \"TRESA\", \"PEGGIE\", \"NOVELLA\", \"NILA\", \"MAYBELLE\", \"JENELLE\", \"CARINA\", \"NOVA\",\n",
        "\t\"MELINA\", \"MARQUERITE\", \"MARGARETTE\", \"JOSEPHINA\", \"EVONNE\", \"DEVIN\", \"CINTHIA\", \"ALBINA\", \"TOYA\", \"TAWNYA\",\n",
        "\t\"SHERITA\", \"SANTOS\", \"MYRIAM\", \"LIZABETH\", \"LISE\", \"KEELY\", \"JENNI\", \"GISELLE\", \"CHERYLE\", \"ARDITH\",\n",
        "\t\"ARDIS\", \"ALESHA\", \"ADRIANE\", \"SHAINA\", \"LINNEA\", \"KAROLYN\", \"HONG\", \"FLORIDA\", \"FELISHA\", \"DORI\",\n",
        "\t\"DARCI\", \"ARTIE\", \"ARMIDA\", \"ZOLA\", \"XIOMARA\", \"VERGIE\", \"SHAMIKA\", \"NENA\", \"NANNETTE\", \"MAXIE\",\n",
        "\t\"LOVIE\", \"JEANE\", \"JAIMIE\", \"INGE\", \"FARRAH\", \"ELAINA\", \"CAITLYN\", \"STARR\", \"FELICITAS\", \"CHERLY\",\n",
        "\t\"CARYL\", \"YOLONDA\", \"YASMIN\", \"TEENA\", \"PRUDENCE\", \"PENNIE\", \"NYDIA\", \"MACKENZIE\", \"ORPHA\", \"MARVEL\",\n",
        "\t\"LIZBETH\", \"LAURETTE\", \"JERRIE\", \"HERMELINDA\", \"CAROLEE\", \"TIERRA\", \"MIRIAN\", \"META\", \"MELONY\", \"KORI\",\n",
        "\t\"JENNETTE\", \"JAMILA\", \"ENA\", \"ANH\", \"YOSHIKO\", \"SUSANNAH\", \"SALINA\", \"RHIANNON\", \"JOLEEN\", \"CRISTINE\",\n",
        "\t\"ASHTON\", \"ARACELY\", \"TOMEKA\", \"SHALONDA\", \"MARTI\", \"LACIE\", \"KALA\", \"JADA\", \"ILSE\", \"HAILEY\",\n",
        "\t\"BRITTANI\", \"ZONA\", \"SYBLE\", \"SHERRYL\", \"RANDY\", \"NIDIA\", \"MARLO\", \"KANDICE\", \"KANDI\", \"DEB\",\n",
        "\t\"DEAN\", \"AMERICA\", \"ALYCIA\", \"TOMMY\", \"RONNA\", \"NORENE\", \"MERCY\", \"JOSE\", \"INGEBORG\", \"GIOVANNA\",\n",
        "\t\"GEMMA\", \"CHRISTEL\", \"AUDRY\", \"ZORA\", \"VITA\", \"VAN\", \"TRISH\", \"STEPHAINE\", \"SHIRLEE\", \"SHANIKA\",\n",
        "\t\"MELONIE\", \"MAZIE\", \"JAZMIN\", \"INGA\", \"HOA\", \"HETTIE\", \"GERALYN\", \"FONDA\", \"ESTRELLA\", \"ADELLA\",\n",
        "\t\"SU\", \"SARITA\", \"RINA\", \"MILISSA\", \"MARIBETH\", \"GOLDA\", \"EVON\", \"ETHELYN\", \"ENEDINA\", \"CHERISE\",\n",
        "\t\"CHANA\", \"VELVA\", \"TAWANNA\", \"SADE\", \"MIRTA\", \"LI\", \"KARIE\", \"JACINTA\", \"ELNA\", \"DAVINA\",\n",
        "\t\"CIERRA\", \"ASHLIE\", \"ALBERTHA\", \"TANESHA\", \"STEPHANI\", \"NELLE\", \"MINDI\", \"LU\", \"LORINDA\", \"LARUE\",\n",
        "\t\"FLORENE\", \"DEMETRA\", \"DEDRA\", \"CIARA\", \"CHANTELLE\", \"ASHLY\", \"SUZY\", \"ROSALVA\", \"NOELIA\", \"LYDA\",\n",
        "\t\"LEATHA\", \"KRYSTYNA\", \"KRISTAN\", \"KARRI\", \"DARLINE\", \"DARCIE\", \"CINDA\", \"CHEYENNE\", \"CHERRIE\", \"AWILDA\",\n",
        "\t\"ALMEDA\", \"ROLANDA\", \"LANETTE\", \"JERILYN\", \"GISELE\", \"EVALYN\", \"CYNDI\", \"CLETA\", \"CARIN\", \"ZINA\",\n",
        "\t\"ZENA\", \"VELIA\", \"TANIKA\", \"PAUL\", \"CHARISSA\", \"THOMAS\", \"TALIA\", \"MARGARETE\", \"LAVONDA\", \"KAYLEE\",\n",
        "\t\"KATHLENE\", \"JONNA\", \"IRENA\", \"ILONA\", \"IDALIA\", \"CANDIS\", \"CANDANCE\", \"BRANDEE\", \"ANITRA\", \"ALIDA\",\n",
        "\t\"SIGRID\", \"NICOLETTE\", \"MARYJO\", \"LINETTE\", \"HEDWIG\", \"CHRISTIANA\", \"CASSIDY\", \"ALEXIA\", \"TRESSIE\", \"MODESTA\",\n",
        "\t\"LUPITA\", \"LITA\", \"GLADIS\", \"EVELIA\", \"DAVIDA\", \"CHERRI\", \"CECILY\", \"ASHELY\", \"ANNABEL\", \"AGUSTINA\",\n",
        "\t\"WANITA\", \"SHIRLY\", \"ROSAURA\", \"HULDA\", \"EUN\", \"BAILEY\", \"YETTA\", \"VERONA\", \"THOMASINA\", \"SIBYL\",\n",
        "\t\"SHANNAN\", \"MECHELLE\", \"LUE\", \"LEANDRA\", \"LANI\", \"KYLEE\", \"KANDY\", \"JOLYNN\", \"FERNE\", \"EBONI\",\n",
        "\t\"CORENE\", \"ALYSIA\", \"ZULA\", \"NADA\", \"MOIRA\", \"LYNDSAY\", \"LORRETTA\", \"JUAN\", \"JAMMIE\", \"HORTENSIA\",\n",
        "\t\"GAYNELL\", \"CAMERON\", \"ADRIA\", \"VINA\", \"VICENTA\", \"TANGELA\", \"STEPHINE\", \"NORINE\", \"NELLA\", \"LIANA\",\n",
        "\t\"LESLEE\", \"KIMBERELY\", \"ILIANA\", \"GLORY\", \"FELICA\", \"EMOGENE\", \"ELFRIEDE\", \"EDEN\", \"EARTHA\", \"CARMA\",\n",
        "\t\"BEA\", \"OCIE\", \"MARRY\", \"LENNIE\", \"KIARA\", \"JACALYN\", \"CARLOTA\", \"ARIELLE\", \"YU\", \"STAR\",\n",
        "\t\"OTILIA\", \"KIRSTIN\", \"KACEY\", \"JOHNETTA\", \"JOEY\", \"JOETTA\", \"JERALDINE\", \"JAUNITA\", \"ELANA\", \"DORTHEA\",\n",
        "\t\"CAMI\", \"AMADA\", \"ADELIA\", \"VERNITA\", \"TAMAR\", \"SIOBHAN\", \"RENEA\", \"RASHIDA\", \"OUIDA\", \"ODELL\",\n",
        "\t\"NILSA\", \"MERYL\", \"KRISTYN\", \"JULIETA\", \"DANICA\", \"BREANNE\", \"AUREA\", \"ANGLEA\", \"SHERRON\", \"ODETTE\",\n",
        "\t\"MALIA\", \"LORELEI\", \"LIN\", \"LEESA\", \"KENNA\", \"KATHLYN\", \"FIONA\", \"CHARLETTE\", \"SUZIE\", \"SHANTELL\",\n",
        "\t\"SABRA\", \"RACQUEL\", \"MYONG\", \"MIRA\", \"MARTINE\", \"LUCIENNE\", \"LAVADA\", \"JULIANN\", \"JOHNIE\", \"ELVERA\",\n",
        "\t\"DELPHIA\", \"CLAIR\", \"CHRISTIANE\", \"CHAROLETTE\", \"CARRI\", \"AUGUSTINE\", \"ASHA\", \"ANGELLA\", \"PAOLA\", \"NINFA\",\n",
        "\t\"LEDA\", \"LAI\", \"EDA\", \"SUNSHINE\", \"STEFANI\", \"SHANELL\", \"PALMA\", \"MACHELLE\", \"LISSA\", \"KECIA\",\n",
        "\t\"KATHRYNE\", \"KARLENE\", \"JULISSA\", \"JETTIE\", \"JENNIFFER\", \"HUI\", \"CORRINA\", \"CHRISTOPHER\", \"CAROLANN\", \"ALENA\",\n",
        "\t\"TESS\", \"ROSARIA\", \"MYRTICE\", \"MARYLEE\", \"LIANE\", \"KENYATTA\", \"JUDIE\", \"JANEY\", \"IN\", \"ELMIRA\",\n",
        "\t\"ELDORA\", \"DENNA\", \"CRISTI\", \"CATHI\", \"ZAIDA\", \"VONNIE\", \"VIVA\", \"VERNIE\", \"ROSALINE\", \"MARIELA\",\n",
        "\t\"LUCIANA\", \"LESLI\", \"KARAN\", \"FELICE\", \"DENEEN\", \"ADINA\", \"WYNONA\", \"TARSHA\", \"SHERON\", \"SHASTA\",\n",
        "\t\"SHANITA\", \"SHANI\", \"SHANDRA\", \"RANDA\", \"PINKIE\", \"PARIS\", \"NELIDA\", \"MARILOU\", \"LYLA\", \"LAURENE\",\n",
        "\t\"LACI\", \"JOI\", \"JANENE\", \"DOROTHA\", \"DANIELE\", \"DANI\", \"CAROLYNN\", \"CARLYN\", \"BERENICE\", \"AYESHA\",\n",
        "\t\"ANNELIESE\", \"ALETHEA\", \"THERSA\", \"TAMIKO\", \"RUFINA\", \"OLIVA\", \"MOZELL\", \"MARYLYN\", \"MADISON\", \"KRISTIAN\",\n",
        "\t\"KATHYRN\", \"KASANDRA\", \"KANDACE\", \"JANAE\", \"GABRIEL\", \"DOMENICA\", \"DEBBRA\", \"DANNIELLE\", \"CHUN\", \"BUFFY\",\n",
        "\t\"BARBIE\", \"ARCELIA\", \"AJA\", \"ZENOBIA\", \"SHAREN\", \"SHAREE\", \"PATRICK\", \"PAGE\", \"MY\", \"LAVINIA\",\n",
        "\t\"KUM\", \"KACIE\", \"JACKELINE\", \"HUONG\", \"FELISA\", \"EMELIA\", \"ELEANORA\", \"CYTHIA\", \"CRISTIN\", \"CLYDE\",\n",
        "\t\"CLARIBEL\", \"CARON\", \"ANASTACIA\", \"ZULMA\", \"ZANDRA\", \"YOKO\", \"TENISHA\", \"SUSANN\", \"SHERILYN\", \"SHAY\",\n",
        "\t\"SHAWANDA\", \"SABINE\", \"ROMANA\", \"MATHILDA\", \"LINSEY\", \"KEIKO\", \"JOANA\", \"ISELA\", \"GRETTA\", \"GEORGETTA\",\n",
        "\t\"EUGENIE\", \"DUSTY\", \"DESIRAE\", \"DELORA\", \"CORAZON\", \"ANTONINA\", \"ANIKA\", \"WILLENE\", \"TRACEE\", \"TAMATHA\",\n",
        "\t\"REGAN\", \"NICHELLE\", \"MICKIE\", \"MAEGAN\", \"LUANA\", \"LANITA\", \"KELSIE\", \"EDELMIRA\", \"BREE\", \"AFTON\",\n",
        "\t\"TEODORA\", \"TAMIE\", \"SHENA\", \"MEG\", \"LINH\", \"KELI\", \"KACI\", \"DANYELLE\", \"BRITT\", \"ARLETTE\",\n",
        "\t\"ALBERTINE\", \"ADELLE\", \"TIFFINY\", \"STORMY\", \"SIMONA\", \"NUMBERS\", \"NICOLASA\", \"NICHOL\", \"NIA\", \"NAKISHA\",\n",
        "\t\"MEE\", \"MAIRA\", \"LOREEN\", \"KIZZY\", \"JOHNNY\", \"JAY\", \"FALLON\", \"CHRISTENE\", \"BOBBYE\", \"ANTHONY\",\n",
        "\t\"YING\", \"VINCENZA\", \"TANJA\", \"RUBIE\", \"RONI\", \"QUEENIE\", \"MARGARETT\", \"KIMBERLI\", \"IRMGARD\", \"IDELL\",\n",
        "\t\"HILMA\", \"EVELINA\", \"ESTA\", \"EMILEE\", \"DENNISE\", \"DANIA\", \"CARL\", \"CARIE\", \"ANTONIO\", \"WAI\",\n",
        "\t\"SANG\", \"RISA\", \"RIKKI\", \"PARTICIA\", \"MUI\", \"MASAKO\", \"MARIO\", \"LUVENIA\", \"LOREE\", \"LONI\",\n",
        "\t\"LIEN\", \"KEVIN\", \"GIGI\", \"FLORENCIA\", \"DORIAN\", \"DENITA\", \"DALLAS\", \"CHI\", \"BILLYE\", \"ALEXANDER\",\n",
        "\t\"TOMIKA\", \"SHARITA\", \"RANA\", \"NIKOLE\", \"NEOMA\", \"MARGARITE\", \"MADALYN\", \"LUCINA\", \"LAILA\", \"KALI\",\n",
        "\t\"JENETTE\", \"GABRIELE\", \"EVELYNE\", \"ELENORA\", \"CLEMENTINA\", \"ALEJANDRINA\", \"ZULEMA\", \"VIOLETTE\", \"VANNESSA\", \"THRESA\",\n",
        "\t\"RETTA\", \"PIA\", \"PATIENCE\", \"NOELLA\", \"NICKIE\", \"JONELL\", \"DELTA\", \"CHUNG\", \"CHAYA\", \"CAMELIA\",\n",
        "\t\"BETHEL\", \"ANYA\", \"ANDREW\", \"THANH\", \"SUZANN\", \"SPRING\", \"SHU\", \"MILA\", \"LILLA\", \"LAVERNA\",\n",
        "\t\"KEESHA\", \"KATTIE\", \"GIA\", \"GEORGENE\", \"EVELINE\", \"ESTELL\", \"ELIZBETH\", \"VIVIENNE\", \"VALLIE\", \"TRUDIE\",\n",
        "\t\"STEPHANE\", \"MICHEL\", \"MAGALY\", \"MADIE\", \"KENYETTA\", \"KARREN\", \"JANETTA\", \"HERMINE\", \"HARMONY\", \"DRUCILLA\",\n",
        "\t\"DEBBI\", \"CELESTINA\", \"CANDIE\", \"BRITNI\", \"BECKIE\", \"AMINA\", \"ZITA\", \"YUN\", \"YOLANDE\", \"VIVIEN\",\n",
        "\t\"VERNETTA\", \"TRUDI\", \"SOMMER\", \"PEARLE\", \"PATRINA\", \"OSSIE\", \"NICOLLE\", \"LOYCE\", \"LETTY\", \"LARISA\",\n",
        "\t\"KATHARINA\", \"JOSELYN\", \"JONELLE\", \"JENELL\", \"IESHA\", \"HEIDE\", \"FLORINDA\", \"FLORENTINA\", \"FLO\", \"ELODIA\",\n",
        "\t\"DORINE\", \"BRUNILDA\", \"BRIGID\", \"ASHLI\", \"ARDELLA\", \"TWANA\", \"THU\", \"TARAH\", \"SUNG\", \"SHEA\",\n",
        "\t\"SHAVON\", \"SHANE\", \"SERINA\", \"RAYNA\", \"RAMONITA\", \"NGA\", \"MARGURITE\", \"LUCRECIA\", \"KOURTNEY\", \"KATI\",\n",
        "\t\"JESUS\", \"JESENIA\", \"DIAMOND\", \"CRISTA\", \"AYANA\", \"ALICA\", \"ALIA\", \"VINNIE\", \"SUELLEN\", \"ROMELIA\",\n",
        "\t\"RACHELL\", \"PIPER\", \"OLYMPIA\", \"MICHIKO\", \"KATHALEEN\", \"JOLIE\", \"JESSI\", \"JANESSA\", \"HANA\", \"HA\",\n",
        "\t\"ELEASE\", \"CARLETTA\", \"BRITANY\", \"SHONA\", \"SALOME\", \"ROSAMOND\", \"REGENA\", \"RAINA\", \"NGOC\", \"NELIA\",\n",
        "\t\"LOUVENIA\", \"LESIA\", \"LATRINA\", \"LATICIA\", \"LARHONDA\", \"JINA\", \"JACKI\", \"HOLLIS\", \"HOLLEY\", \"EMMY\",\n",
        "\t\"DEEANN\", \"CORETTA\", \"ARNETTA\", \"VELVET\", \"THALIA\", \"SHANICE\", \"NETA\", \"MIKKI\", \"MICKI\", \"LONNA\",\n",
        "\t\"LEANA\", \"LASHUNDA\", \"KILEY\", \"JOYE\", \"JACQULYN\", \"IGNACIA\", \"HYUN\", \"HIROKO\", \"HENRY\", \"HENRIETTE\",\n",
        "\t\"ELAYNE\", \"DELINDA\", \"DARNELL\", \"DAHLIA\", \"COREEN\", \"CONSUELA\", \"CONCHITA\", \"CELINE\", \"BABETTE\", \"AYANNA\",\n",
        "\t\"ANETTE\", \"ALBERTINA\", \"SKYE\", \"SHAWNEE\", \"SHANEKA\", \"QUIANA\", \"PAMELIA\", \"MIN\", \"MERRI\", \"MERLENE\",\n",
        "\t\"MARGIT\", \"KIESHA\", \"KIERA\", \"KAYLENE\", \"JODEE\", \"JENISE\", \"ERLENE\", \"EMMIE\", \"ELSE\", \"DARYL\",\n",
        "\t\"DALILA\", \"DAISEY\", \"CODY\", \"CASIE\", \"BELIA\", \"BABARA\", \"VERSIE\", \"VANESA\", \"SHELBA\", \"SHAWNDA\",\n",
        "\t\"SAM\", \"NORMAN\", \"NIKIA\", \"NAOMA\", \"MARNA\", \"MARGERET\", \"MADALINE\", \"LAWANA\", \"KINDRA\", \"JUTTA\",\n",
        "\t\"JAZMINE\", \"JANETT\", \"HANNELORE\", \"GLENDORA\", \"GERTRUD\", \"GARNETT\", \"FREEDA\", \"FREDERICA\", \"FLORANCE\", \"FLAVIA\",\n",
        "\t\"DENNIS\", \"CARLINE\", \"BEVERLEE\", \"ANJANETTE\", \"VALDA\", \"TRINITY\", \"TAMALA\", \"STEVIE\", \"SHONNA\", \"SHA\",\n",
        "\t\"SARINA\", \"ONEIDA\", \"MICAH\", \"MERILYN\", \"MARLEEN\", \"LURLINE\", \"LENNA\", \"KATHERIN\", \"JIN\", \"JENI\",\n",
        "\t\"HAE\", \"GRACIA\", \"GLADY\", \"FARAH\", \"ERIC\", \"ENOLA\", \"EMA\", \"DOMINQUE\", \"DEVONA\", \"DELANA\",\n",
        "\t\"CECILA\", \"CAPRICE\", \"ALYSHA\", \"ALI\", \"ALETHIA\", \"VENA\", \"THERESIA\", \"TAWNY\", \"SONG\", \"SHAKIRA\",\n",
        "\t\"SAMARA\", \"SACHIKO\", \"RACHELE\", \"PAMELLA\", \"NICKY\", \"MARNI\", \"MARIEL\", \"MAREN\", \"MALISA\", \"LIGIA\",\n",
        "\t\"LERA\", \"LATORIA\", \"LARAE\", \"KIMBER\", \"KATHERN\", \"KAREY\", \"JENNEFER\", \"JANETH\", \"HALINA\", \"FREDIA\",\n",
        "\t\"DELISA\", \"DEBROAH\", \"CIERA\", \"CHIN\", \"ANGELIKA\", \"ANDREE\", \"ALTHA\", \"YEN\", \"VIVAN\", \"TERRESA\",\n",
        "\t\"TANNA\", \"SUK\", \"SUDIE\", \"SOO\", \"SIGNE\", \"SALENA\", \"RONNI\", \"REBBECCA\", \"MYRTIE\", \"MCKENZIE\",\n",
        "\t\"MALIKA\", \"MAIDA\", \"LOAN\", \"LEONARDA\", \"KAYLEIGH\", \"FRANCE\", \"ETHYL\", \"ELLYN\", \"DAYLE\", \"CAMMIE\",\n",
        "\t\"BRITTNI\", \"BIRGIT\", \"AVELINA\", \"ASUNCION\", \"ARIANNA\", \"AKIKO\", \"VENICE\", \"TYESHA\", \"TONIE\", \"TIESHA\",\n",
        "\t\"TAKISHA\", \"STEFFANIE\", \"SINDY\", \"SANTANA\", \"MEGHANN\", \"MANDA\", \"MACIE\", \"LADY\", \"KELLYE\", \"KELLEE\",\n",
        "\t\"JOSLYN\", \"JASON\", \"INGER\", \"INDIRA\", \"GLINDA\", \"GLENNIS\", \"FERNANDA\", \"FAUSTINA\", \"ENEIDA\", \"ELICIA\",\n",
        "\t\"DOT\", \"DIGNA\", \"DELL\", \"ARLETTA\", \"ANDRE\", \"WILLIA\", \"TAMMARA\", \"TABETHA\", \"SHERRELL\", \"SARI\",\n",
        "\t\"REFUGIO\", \"REBBECA\", \"PAULETTA\", \"NIEVES\", \"NATOSHA\", \"NAKITA\", \"MAMMIE\", \"KENISHA\", \"KAZUKO\", \"KASSIE\",\n",
        "\t\"GARY\", \"EARLEAN\", \"DAPHINE\", \"CORLISS\", \"CLOTILDE\", \"CAROLYNE\", \"BERNETTA\", \"AUGUSTINA\", \"AUDREA\", \"ANNIS\",\n",
        "\t\"ANNABELL\", \"YAN\", \"TENNILLE\", \"TAMICA\", \"SELENE\", \"SEAN\", \"ROSANA\", \"REGENIA\", \"QIANA\", \"MARKITA\",\n",
        "\t\"MACY\", \"LEEANNE\", \"LAURINE\", \"KYM\", \"JESSENIA\", \"JANITA\", \"GEORGINE\", \"GENIE\", \"EMIKO\", \"ELVIE\",\n",
        "\t\"DEANDRA\", \"DAGMAR\", \"CORIE\", \"COLLEN\", \"CHERISH\", \"ROMAINE\", \"PORSHA\", \"PEARLENE\", \"MICHELINE\", \"MERNA\",\n",
        "\t\"MARGORIE\", \"MARGARETTA\", \"LORE\", \"KENNETH\", \"JENINE\", \"HERMINA\", \"FREDERICKA\", \"ELKE\", \"DRUSILLA\", \"DORATHY\",\n",
        "\t\"DIONE\", \"DESIRE\", \"CELENA\", \"BRIGIDA\", \"ANGELES\", \"ALLEGRA\", \"THEO\", \"TAMEKIA\", \"SYNTHIA\", \"STEPHEN\",\n",
        "\t\"SOOK\", \"SLYVIA\", \"ROSANN\", \"REATHA\", \"RAYE\", \"MARQUETTA\", \"MARGART\", \"LING\", \"LAYLA\", \"KYMBERLY\",\n",
        "\t\"KIANA\", \"KAYLEEN\", \"KATLYN\", \"KARMEN\", \"JOELLA\", \"IRINA\", \"EMELDA\", \"ELENI\", \"DETRA\", \"CLEMMIE\",\n",
        "\t\"CHERYLL\", \"CHANTELL\", \"CATHEY\", \"ARNITA\", \"ARLA\", \"ANGLE\", \"ANGELIC\", \"ALYSE\", \"ZOFIA\", \"THOMASINE\",\n",
        "\t\"TENNIE\", \"SON\", \"SHERLY\", \"SHERLEY\", \"SHARYL\", \"REMEDIOS\", \"PETRINA\", \"NICKOLE\", \"MYUNG\", \"MYRLE\",\n",
        "\t\"MOZELLA\", \"LOUANNE\", \"LISHA\", \"LATIA\", \"LANE\", \"KRYSTA\", \"JULIENNE\", \"JOEL\", \"JEANENE\", \"JACQUALINE\",\n",
        "\t\"ISAURA\", \"GWENDA\", \"EARLEEN\", \"DONALD\", \"CLEOPATRA\", \"CARLIE\", \"AUDIE\", \"ANTONIETTA\", \"ALISE\", \"ALEX\",\n",
        "\t\"VERDELL\", \"VAL\", \"TYLER\", \"TOMOKO\", \"THAO\", \"TALISHA\", \"STEVEN\", \"SO\", \"SHEMIKA\", \"SHAUN\",\n",
        "\t\"SCARLET\", \"SAVANNA\", \"SANTINA\", \"ROSIA\", \"RAEANN\", \"ODILIA\", \"NANA\", \"MINNA\", \"MAGAN\", \"LYNELLE\",\n",
        "\t\"LE\", \"KARMA\", \"JOEANN\", \"IVANA\", \"INELL\", \"ILANA\", \"HYE\", \"HONEY\", \"HEE\", \"GUDRUN\",\n",
        "\t\"FRANK\", \"DREAMA\", \"CRISSY\", \"CHANTE\", \"CARMELINA\", \"ARVILLA\", \"ARTHUR\", \"ANNAMAE\", \"ALVERA\", \"ALEIDA\",\n",
        "\t\"AARON\", \"YEE\", \"YANIRA\", \"VANDA\", \"TIANNA\", \"TAM\", \"STEFANIA\", \"SHIRA\", \"PERRY\", \"NICOL\",\n",
        "\t\"NANCIE\", \"MONSERRATE\", \"MINH\", \"MELYNDA\", \"MELANY\", \"MATTHEW\", \"LOVELLA\", \"LAURE\", \"KIRBY\", \"KACY\",\n",
        "\t\"JACQUELYNN\", \"HYON\", \"GERTHA\", \"FRANCISCO\", \"ELIANA\", \"CHRISTENA\", \"CHRISTEEN\", \"CHARISE\", \"CATERINA\", \"CARLEY\",\n",
        "\t\"CANDYCE\", \"ARLENA\", \"AMMIE\", \"YANG\", \"WILLETTE\", \"VANITA\", \"TUYET\", \"TINY\", \"SYREETA\", \"SILVA\",\n",
        "\t\"SCOTT\", \"RONALD\", \"PENNEY\", \"NYLA\", \"MICHAL\", \"MAURICE\", \"MARYAM\", \"MARYA\", \"MAGEN\", \"LUDIE\",\n",
        "\t\"LOMA\", \"LIVIA\", \"LANELL\", \"KIMBERLIE\", \"JULEE\", \"DONETTA\", \"DIEDRA\", \"DENISHA\", \"DEANE\", \"DAWNE\",\n",
        "\t\"CLARINE\", \"CHERRYL\", \"BRONWYN\", \"BRANDON\", \"ALLA\", \"VALERY\", \"TONDA\", \"SUEANN\", \"SORAYA\", \"SHOSHANA\",\n",
        "\t\"SHELA\", \"SHARLEEN\", \"SHANELLE\", \"NERISSA\", \"MICHEAL\", \"MERIDITH\", \"MELLIE\", \"MAYE\", \"MAPLE\", \"MAGARET\",\n",
        "\t\"LUIS\", \"LILI\", \"LEONILA\", \"LEONIE\", \"LEEANNA\", \"LAVONIA\", \"LAVERA\", \"KRISTEL\", \"KATHEY\", \"KATHE\",\n",
        "\t\"JUSTIN\", \"JULIAN\", \"JIMMY\", \"JANN\", \"ILDA\", \"HILDRED\", \"HILDEGARDE\", \"GENIA\", \"FUMIKO\", \"EVELIN\",\n",
        "\t\"ERMELINDA\", \"ELLY\", \"DUNG\", \"DOLORIS\", \"DIONNA\", \"DANAE\", \"BERNEICE\", \"ANNICE\", \"ALIX\", \"VERENA\",\n",
        "\t\"VERDIE\", \"TRISTAN\", \"SHAWNNA\", \"SHAWANA\", \"SHAUNNA\", \"ROZELLA\", \"RANDEE\", \"RANAE\", \"MILAGRO\", \"LYNELL\",\n",
        "\t\"LUISE\", \"LOUIE\", \"LOIDA\", \"LISBETH\", \"KARLEEN\", \"JUNITA\", \"JONA\", \"ISIS\", \"HYACINTH\", \"HEDY\",\n",
        "\t\"GWENN\", \"ETHELENE\", \"ERLINE\", \"EDWARD\", \"DONYA\", \"DOMONIQUE\", \"DELICIA\", \"DANNETTE\", \"CICELY\", \"BRANDA\",\n",
        "\t\"BLYTHE\", \"BETHANN\", \"ASHLYN\", \"ANNALEE\", \"ALLINE\", \"YUKO\", \"VELLA\", \"TRANG\", \"TOWANDA\", \"TESHA\",\n",
        "\t\"SHERLYN\", \"NARCISA\", \"MIGUELINA\", \"MERI\", \"MAYBELL\", \"MARLANA\", \"MARGUERITA\", \"MADLYN\", \"LUNA\", \"LORY\",\n",
        "\t\"LORIANN\", \"LIBERTY\", \"LEONORE\", \"LEIGHANN\", \"LAURICE\", \"LATESHA\", \"LARONDA\", \"KATRICE\", \"KASIE\", \"KARL\",\n",
        "\t\"KALEY\", \"JADWIGA\", \"GLENNIE\", \"GEARLDINE\", \"FRANCINA\", \"EPIFANIA\", \"DYAN\", \"DORIE\", \"DIEDRE\", \"DENESE\",\n",
        "\t\"DEMETRICE\", \"DELENA\", \"DARBY\", \"CRISTIE\", \"CLEORA\", \"CATARINA\", \"CARISA\", \"BERNIE\", \"BARBERA\", \"ALMETA\",\n",
        "\t\"TRULA\", \"TEREASA\", \"SOLANGE\", \"SHEILAH\", \"SHAVONNE\", \"SANORA\", \"ROCHELL\", \"MATHILDE\", \"MARGARETA\", \"MAIA\",\n",
        "\t\"LYNSEY\", \"LAWANNA\", \"LAUNA\", \"KENA\", \"KEENA\", \"KATIA\", \"JAMEY\", \"GLYNDA\", \"GAYLENE\", \"ELVINA\",\n",
        "\t\"ELANOR\", \"DANUTA\", \"DANIKA\", \"CRISTEN\", \"CORDIE\", \"COLETTA\", \"CLARITA\", \"CARMON\", \"BRYNN\", \"AZUCENA\",\n",
        "\t\"AUNDREA\", \"ANGELE\", \"YI\", \"WALTER\", \"VERLIE\", \"VERLENE\", \"TAMESHA\", \"SILVANA\", \"SEBRINA\", \"SAMIRA\",\n",
        "\t\"REDA\", \"RAYLENE\", \"PENNI\", \"PANDORA\", \"NORAH\", \"NOMA\", \"MIREILLE\", \"MELISSIA\", \"MARYALICE\", \"LARAINE\",\n",
        "\t\"KIMBERY\", \"KARYL\", \"KARINE\", \"KAM\", \"JOLANDA\", \"JOHANA\", \"JESUSA\", \"JALEESA\", \"JAE\", \"JACQUELYNE\",\n",
        "\t\"IRISH\", \"ILUMINADA\", \"HILARIA\", \"HANH\", \"GENNIE\", \"FRANCIE\", \"FLORETTA\", \"EXIE\", \"EDDA\", \"DREMA\",\n",
        "\t\"DELPHA\", \"BEV\", \"BARBAR\", \"ASSUNTA\", \"ARDELL\", \"ANNALISA\", \"ALISIA\", \"YUKIKO\", \"YOLANDO\", \"WONDA\",\n",
        "\t\"WEI\", \"WALTRAUD\", \"VETA\", \"TEQUILA\", \"TEMEKA\", \"TAMEIKA\", \"SHIRLEEN\", \"SHENITA\", \"PIEDAD\", \"OZELLA\",\n",
        "\t\"MIRTHA\", \"MARILU\", \"KIMIKO\", \"JULIANE\", \"JENICE\", \"JEN\", \"JANAY\", \"JACQUILINE\", \"HILDE\", \"FE\",\n",
        "\t\"FAE\", \"EVAN\", \"EUGENE\", \"ELOIS\", \"ECHO\", \"DEVORAH\", \"CHAU\", \"BRINDA\", \"BETSEY\", \"ARMINDA\",\n",
        "\t\"ARACELIS\", \"APRYL\", \"ANNETT\", \"ALISHIA\", \"VEOLA\", \"USHA\", \"TOSHIKO\", \"THEOLA\", \"TASHIA\", \"TALITHA\",\n",
        "\t\"SHERY\", \"RUDY\", \"RENETTA\", \"REIKO\", \"RASHEEDA\", \"OMEGA\", \"OBDULIA\", \"MIKA\", \"MELAINE\", \"MEGGAN\",\n",
        "\t\"MARTIN\", \"MARLEN\", \"MARGET\", \"MARCELINE\", \"MANA\", \"MAGDALEN\", \"LIBRADA\", \"LEZLIE\", \"LEXIE\", \"LATASHIA\",\n",
        "\t\"LASANDRA\", \"KELLE\", \"ISIDRA\", \"ISA\", \"INOCENCIA\", \"GWYN\", \"FRANCOISE\", \"ERMINIA\", \"ERINN\", \"DIMPLE\",\n",
        "\t\"DEVORA\", \"CRISELDA\", \"ARMANDA\", \"ARIE\", \"ARIANE\", \"ANGELO\", \"ANGELENA\", \"ALLEN\", \"ALIZA\", \"ADRIENE\",\n",
        "\t\"ADALINE\", \"XOCHITL\", \"TWANNA\", \"TRAN\", \"TOMIKO\", \"TAMISHA\", \"TAISHA\", \"SUSY\", \"SIU\", \"RUTHA\",\n",
        "\t\"ROXY\", \"RHONA\", \"RAYMOND\", \"OTHA\", \"NORIKO\", \"NATASHIA\", \"MERRIE\", \"MELVIN\", \"MARINDA\", \"MARIKO\",\n",
        "\t\"MARGERT\", \"LORIS\", \"LIZZETTE\", \"LEISHA\", \"KAILA\", \"KA\", \"JOANNIE\", \"JERRICA\", \"JENE\", \"JANNET\",\n",
        "\t\"JANEE\", \"JACINDA\", \"HERTA\", \"ELENORE\", \"DORETTA\", \"DELAINE\", \"DANIELL\", \"CLAUDIE\", \"CHINA\", \"BRITTA\",\n",
        "\t\"APOLONIA\", \"AMBERLY\", \"ALEASE\", \"YURI\", \"YUK\", \"WEN\", \"WANETA\", \"UTE\", \"TOMI\", \"SHARRI\",\n",
        "\t\"SANDIE\", \"ROSELLE\", \"REYNALDA\", \"RAGUEL\", \"PHYLICIA\", \"PATRIA\", \"OLIMPIA\", \"ODELIA\", \"MITZIE\", \"MITCHELL\",\n",
        "\t\"MISS\", \"MINDA\", \"MIGNON\", \"MICA\", \"MENDY\", \"MARIVEL\", \"MAILE\", \"LYNETTA\", \"LAVETTE\", \"LAURYN\",\n",
        "\t\"LATRISHA\", \"LAKIESHA\", \"KIERSTEN\", \"KARY\", \"JOSPHINE\", \"JOLYN\", \"JETTA\", \"JANISE\", \"JACQUIE\", \"IVELISSE\",\n",
        "\t\"GLYNIS\", \"GIANNA\", \"GAYNELLE\", \"EMERALD\", \"DEMETRIUS\", \"DANYELL\", \"DANILLE\", \"DACIA\", \"CORALEE\", \"CHER\",\n",
        "\t\"CEOLA\", \"BRETT\", \"BELL\", \"ARIANNE\", \"ALESHIA\", \"YUNG\", \"WILLIEMAE\", \"TROY\", \"TRINH\", \"THORA\",\n",
        "\t\"TAI\", \"SVETLANA\", \"SHERIKA\", \"SHEMEKA\", \"SHAUNDA\", \"ROSELINE\", \"RICKI\", \"MELDA\", \"MALLIE\", \"LAVONNA\",\n",
        "\t\"LATINA\", \"LARRY\", \"LAQUANDA\", \"LALA\", \"LACHELLE\", \"KLARA\", \"KANDIS\", \"JOHNA\", \"JEANMARIE\", \"JAYE\",\n",
        "\t\"HANG\", \"GRAYCE\", \"GERTUDE\", \"EMERITA\", \"EBONIE\", \"CLORINDA\", \"CHING\", \"CHERY\", \"CAROLA\", \"BREANN\",\n",
        "\t\"BLOSSOM\", \"BERNARDINE\", \"BECKI\", \"ARLETHA\", \"ARGELIA\", \"ARA\", \"ALITA\", \"YULANDA\", \"YON\", \"YESSENIA\",\n",
        "\t\"TOBI\", \"TASIA\", \"SYLVIE\", \"SHIRL\", \"SHIRELY\", \"SHERIDAN\", \"SHELLA\", \"SHANTELLE\", \"SACHA\", \"ROYCE\",\n",
        "\t\"REBECKA\", \"REAGAN\", \"PROVIDENCIA\", \"PAULENE\", \"MISHA\", \"MIKI\", \"MARLINE\", \"MARICA\", \"LORITA\", \"LATOYIA\",\n",
        "\t\"LASONYA\", \"KERSTIN\", \"KENDA\", \"KEITHA\", \"KATHRIN\", \"JAYMIE\", \"JACK\", \"GRICELDA\", \"GINETTE\", \"ERYN\",\n",
        "\t\"ELINA\", \"ELFRIEDA\", \"DANYEL\", \"CHEREE\", \"CHANELLE\", \"BARRIE\", \"AVERY\", \"AURORE\", \"ANNAMARIA\", \"ALLEEN\",\n",
        "\t\"AILENE\", \"AIDE\", \"YASMINE\", \"VASHTI\", \"VALENTINE\", \"TREASA\", \"TORY\", \"TIFFANEY\", \"SHERYLL\", \"SHARIE\",\n",
        "\t\"SHANAE\", \"SAU\", \"RAISA\", \"PA\", \"NEDA\", \"MITSUKO\", \"MIRELLA\", \"MILDA\", \"MARYANNA\", \"MARAGRET\",\n",
        "\t\"MABELLE\", \"LUETTA\", \"LORINA\", \"LETISHA\", \"LATARSHA\", \"LANELLE\", \"LAJUANA\", \"KRISSY\", \"KARLY\", \"KARENA\",\n",
        "\t\"JON\", \"JESSIKA\", \"JERICA\", \"JEANELLE\", \"JANUARY\", \"JALISA\", \"JACELYN\", \"IZOLA\", \"IVEY\", \"GREGORY\",\n",
        "\t\"EUNA\", \"ETHA\", \"DREW\", \"DOMITILA\", \"DOMINICA\", \"DAINA\", \"CREOLA\", \"CARLI\", \"CAMIE\", \"BUNNY\",\n",
        "\t\"BRITTNY\", \"ASHANTI\", \"ANISHA\", \"ALEEN\", \"ADAH\", \"YASUKO\", \"WINTER\", \"VIKI\", \"VALRIE\", \"TONA\",\n",
        "\t\"TINISHA\", \"THI\", \"TERISA\", \"TATUM\", \"TANEKA\", \"SIMONNE\", \"SHALANDA\", \"SERITA\", \"RESSIE\", \"REFUGIA\",\n",
        "\t\"PAZ\", \"OLENE\", \"NA\", \"MERRILL\", \"MARGHERITA\", \"MANDIE\", \"MAN\", \"MAIRE\", \"LYNDIA\", \"LUCI\",\n",
        "\t\"LORRIANE\", \"LORETA\", \"LEONIA\", \"LAVONA\", \"LASHAWNDA\", \"LAKIA\", \"KYOKO\", \"KRYSTINA\", \"KRYSTEN\", \"KENIA\",\n",
        "\t\"KELSI\", \"JUDE\", \"JEANICE\", \"ISOBEL\", \"GEORGIANN\", \"GENNY\", \"FELICIDAD\", \"EILENE\", \"DEON\", \"DELOISE\",\n",
        "\t\"DEEDEE\", \"DANNIE\", \"CONCEPTION\", \"CLORA\", \"CHERILYN\", \"CHANG\", \"CALANDRA\", \"BERRY\", \"ARMANDINA\", \"ANISA\",\n",
        "\t\"ULA\", \"TIMOTHY\", \"TIERA\", \"THERESSA\", \"STEPHANIA\", \"SIMA\", \"SHYLA\", \"SHONTA\", \"SHERA\", \"SHAQUITA\",\n",
        "\t\"SHALA\", \"SAMMY\", \"ROSSANA\", \"NOHEMI\", \"NERY\", \"MORIAH\", \"MELITA\", \"MELIDA\", \"MELANI\", \"MARYLYNN\",\n",
        "\t\"MARISHA\", \"MARIETTE\", \"MALORIE\", \"MADELENE\", \"LUDIVINA\", \"LORIA\", \"LORETTE\", \"LORALEE\", \"LIANNE\", \"LEON\",\n",
        "\t\"LAVENIA\", \"LAURINDA\", \"LASHON\", \"KIT\", \"KIMI\", \"KEILA\", \"KATELYNN\", \"KAI\", \"JONE\", \"JOANE\",\n",
        "\t\"JI\", \"JAYNA\", \"JANELLA\", \"JA\", \"HUE\", \"HERTHA\", \"FRANCENE\", \"ELINORE\", \"DESPINA\", \"DELSIE\",\n",
        "\t\"DEEDRA\", \"CLEMENCIA\", \"CARRY\", \"CAROLIN\", \"CARLOS\", \"BULAH\", \"BRITTANIE\", \"BOK\", \"BLONDELL\", \"BIBI\",\n",
        "\t\"BEAULAH\", \"BEATA\", \"ANNITA\", \"AGRIPINA\", \"VIRGEN\", \"VALENE\", \"UN\", \"TWANDA\", \"TOMMYE\", \"TOI\",\n",
        "\t\"TARRA\", \"TARI\", \"TAMMERA\", \"SHAKIA\", \"SADYE\", \"RUTHANNE\", \"ROCHEL\", \"RIVKA\", \"PURA\", \"NENITA\",\n",
        "\t\"NATISHA\", \"MING\", \"MERRILEE\", \"MELODEE\", \"MARVIS\", \"LUCILLA\", \"LEENA\", \"LAVETA\", \"LARITA\", \"LANIE\",\n",
        "\t\"KEREN\", \"ILEEN\", \"GEORGEANN\", \"GENNA\", \"GENESIS\", \"FRIDA\", \"EWA\", \"EUFEMIA\", \"EMELY\", \"ELA\",\n",
        "\t\"EDYTH\", \"DEONNA\", \"DEADRA\", \"DARLENA\", \"CHANELL\", \"CHAN\", \"CATHERN\", \"CASSONDRA\", \"CASSAUNDRA\", \"BERNARDA\",\n",
        "\t\"BERNA\", \"ARLINDA\", \"ANAMARIA\", \"ALBERT\", \"WESLEY\", \"VERTIE\", \"VALERI\", \"TORRI\", \"TATYANA\", \"STASIA\",\n",
        "\t\"SHERISE\", \"SHERILL\", \"SEASON\", \"SCOTTIE\", \"SANDA\", \"RUTHE\", \"ROSY\", \"ROBERTO\", \"ROBBI\", \"RANEE\",\n",
        "\t\"QUYEN\", \"PEARLY\", \"PALMIRA\", \"ONITA\", \"NISHA\", \"NIESHA\", \"NIDA\", \"NEVADA\", \"NAM\", \"MERLYN\",\n",
        "\t\"MAYOLA\", \"MARYLOUISE\", \"MARYLAND\", \"MARX\", \"MARTH\", \"MARGENE\", \"MADELAINE\", \"LONDA\", \"LEONTINE\", \"LEOMA\",\n",
        "\t\"LEIA\", \"LAWRENCE\", \"LAURALEE\", \"LANORA\", \"LAKITA\", \"KIYOKO\", \"KETURAH\", \"KATELIN\", \"KAREEN\", \"JONIE\",\n",
        "\t\"JOHNETTE\", \"JENEE\", \"JEANETT\", \"IZETTA\", \"HIEDI\", \"HEIKE\", \"HASSIE\", \"HAROLD\", \"GIUSEPPINA\", \"GEORGANN\",\n",
        "\t\"FIDELA\", \"FERNANDE\", \"ELWANDA\", \"ELLAMAE\", \"ELIZ\", \"DUSTI\", \"DOTTY\", \"CYNDY\", \"CORALIE\", \"CELESTA\",\n",
        "\t\"ARGENTINA\", \"ALVERTA\", \"XENIA\", \"WAVA\", \"VANETTA\", \"TORRIE\", \"TASHINA\", \"TANDY\", \"TAMBRA\", \"TAMA\",\n",
        "\t\"STEPANIE\", \"SHILA\", \"SHAUNTA\", \"SHARAN\", \"SHANIQUA\", \"SHAE\", \"SETSUKO\", \"SERAFINA\", \"SANDEE\", \"ROSAMARIA\",\n",
        "\t\"PRISCILA\", \"OLINDA\", \"NADENE\", \"MUOI\", \"MICHELINA\", \"MERCEDEZ\", \"MARYROSE\", \"MARIN\", \"MARCENE\", \"MAO\",\n",
        "\t\"MAGALI\", \"MAFALDA\", \"LOGAN\", \"LINN\", \"LANNIE\", \"KAYCE\", \"KAROLINE\", \"KAMILAH\", \"KAMALA\", \"JUSTA\",\n",
        "\t\"JOLINE\", \"JENNINE\", \"JACQUETTA\", \"IRAIDA\", \"GERALD\", \"GEORGEANNA\", \"FRANCHESCA\", \"FAIRY\", \"EMELINE\", \"ELANE\",\n",
        "\t\"EHTEL\", \"EARLIE\", \"DULCIE\", \"DALENE\", \"CRIS\", \"CLASSIE\", \"CHERE\", \"CHARIS\", \"CAROYLN\", \"CARMINA\",\n",
        "\t\"CARITA\", \"BRIAN\", \"BETHANIE\", \"AYAKO\", \"ARICA\", \"AN\", \"ALYSA\", \"ALESSANDRA\", \"AKILAH\", \"ADRIEN\",\n",
        "\t\"ZETTA\", \"YOULANDA\", \"YELENA\", \"YAHAIRA\", \"XUAN\", \"WENDOLYN\", \"VICTOR\", \"TIJUANA\", \"TERRELL\", \"TERINA\",\n",
        "\t\"TERESIA\", \"SUZI\", \"SUNDAY\", \"SHERELL\", \"SHAVONDA\", \"SHAUNTE\", \"SHARDA\", \"SHAKITA\", \"SENA\", \"RYANN\",\n",
        "\t\"RUBI\", \"RIVA\", \"REGINIA\", \"REA\", \"RACHAL\", \"PARTHENIA\", \"PAMULA\", \"MONNIE\", \"MONET\", \"MICHAELE\",\n",
        "\t\"MELIA\", \"MARINE\", \"MALKA\", \"MAISHA\", \"LISANDRA\", \"LEO\", \"LEKISHA\", \"LEAN\", \"LAURENCE\", \"LAKENDRA\",\n",
        "\t\"KRYSTIN\", \"KORTNEY\", \"KIZZIE\", \"KITTIE\", \"KERA\", \"KENDAL\", \"KEMBERLY\", \"KANISHA\", \"JULENE\", \"JULE\",\n",
        "\t\"JOSHUA\", \"JOHANNE\", \"JEFFREY\", \"JAMEE\", \"HAN\", \"HALLEY\", \"GIDGET\", \"GALINA\", \"FREDRICKA\", \"FLETA\",\n",
        "\t\"FATIMAH\", \"EUSEBIA\", \"ELZA\", \"ELEONORE\", \"DORTHEY\", \"DORIA\", \"DONELLA\", \"DINORAH\", \"DELORSE\", \"CLARETHA\",\n",
        "\t\"CHRISTINIA\", \"CHARLYN\", \"BONG\", \"BELKIS\", \"AZZIE\", \"ANDERA\", \"AIKO\", \"ADENA\", \"YER\", \"YAJAIRA\",\n",
        "\t\"WAN\", \"VANIA\", \"ULRIKE\", \"TOSHIA\", \"TIFANY\", \"STEFANY\", \"SHIZUE\", \"SHENIKA\", \"SHAWANNA\", \"SHAROLYN\",\n",
        "\t\"SHARILYN\", \"SHAQUANA\", \"SHANTAY\", \"SEE\", \"ROZANNE\", \"ROSELEE\", \"RICKIE\", \"REMONA\", \"REANNA\", \"RAELENE\",\n",
        "\t\"QUINN\", \"PHUNG\", \"PETRONILA\", \"NATACHA\", \"NANCEY\", \"MYRL\", \"MIYOKO\", \"MIESHA\", \"MERIDETH\", \"MARVELLA\",\n",
        "\t\"MARQUITTA\", \"MARHTA\", \"MARCHELLE\", \"LIZETH\", \"LIBBIE\", \"LAHOMA\", \"LADAWN\", \"KINA\", \"KATHELEEN\", \"KATHARYN\",\n",
        "\t\"KARISA\", \"KALEIGH\", \"JUNIE\", \"JULIEANN\", \"JOHNSIE\", \"JANEAN\", \"JAIMEE\", \"JACKQUELINE\", \"HISAKO\", \"HERMA\",\n",
        "\t\"HELAINE\", \"GWYNETH\", \"GLENN\", \"GITA\", \"EUSTOLIA\", \"EMELINA\", \"ELIN\", \"EDRIS\", \"DONNETTE\", \"DONNETTA\",\n",
        "\t\"DIERDRE\", \"DENAE\", \"DARCEL\", \"CLAUDE\", \"CLARISA\", \"CINDERELLA\", \"CHIA\", \"CHARLESETTA\", \"CHARITA\", \"CELSA\",\n",
        "\t\"CASSY\", \"CASSI\", \"CARLEE\", \"BRUNA\", \"BRITTANEY\", \"BRANDE\", \"BILLI\", \"BAO\", \"ANTONETTA\", \"ANGLA\",\n",
        "\t\"ANGELYN\", \"ANALISA\", \"ALANE\", \"WENONA\", \"WENDIE\", \"VERONIQUE\", \"VANNESA\", \"TOBIE\", \"TEMPIE\", \"SUMIKO\",\n",
        "\t\"SULEMA\", \"SPARKLE\", \"SOMER\", \"SHEBA\", \"SHAYNE\", \"SHARICE\", \"SHANEL\", \"SHALON\", \"SAGE\", \"ROY\",\n",
        "\t\"ROSIO\", \"ROSELIA\", \"RENAY\", \"REMA\", \"REENA\", \"PORSCHE\", \"PING\", \"PEG\", \"OZIE\", \"ORETHA\",\n",
        "\t\"ORALEE\", \"ODA\", \"NU\", \"NGAN\", \"NAKESHA\", \"MILLY\", \"MARYBELLE\", \"MARLIN\", \"MARIS\", \"MARGRETT\",\n",
        "\t\"MARAGARET\", \"MANIE\", \"LURLENE\", \"LILLIA\", \"LIESELOTTE\", \"LAVELLE\", \"LASHAUNDA\", \"LAKEESHA\", \"KEITH\", \"KAYCEE\",\n",
        "\t\"KALYN\", \"JOYA\", \"JOETTE\", \"JENAE\", \"JANIECE\", \"ILLA\", \"GRISEL\", \"GLAYDS\", \"GENEVIE\", \"GALA\",\n",
        "\t\"FREDDA\", \"FRED\", \"ELMER\", \"ELEONOR\", \"DEBERA\", \"DEANDREA\", \"DAN\", \"CORRINNE\", \"CORDIA\", \"CONTESSA\",\n",
        "\t\"COLENE\", \"CLEOTILDE\", \"CHARLOTT\", \"CHANTAY\", \"CECILLE\", \"BEATRIS\", \"AZALEE\", \"ARLEAN\", \"ARDATH\", \"ANJELICA\",\n",
        "\t\"ANJA\", \"ALFREDIA\", \"ALEISHA\", \"ADAM\", \"ZADA\", \"YUONNE\", \"XIAO\", \"WILLODEAN\", \"WHITLEY\", \"VENNIE\",\n",
        "\t\"VANNA\", \"TYISHA\", \"TOVA\", \"TORIE\", \"TONISHA\", \"TILDA\", \"TIEN\", \"TEMPLE\", \"SIRENA\", \"SHERRIL\",\n",
        "\t\"SHANTI\", \"SHAN\", \"SENAIDA\", \"SAMELLA\", \"ROBBYN\", \"RENDA\", \"REITA\", \"PHEBE\", \"PAULITA\", \"NOBUKO\",\n",
        "\t\"NGUYET\", \"NEOMI\", \"MOON\", \"MIKAELA\", \"MELANIA\", \"MAXIMINA\", \"MARG\", \"MAISIE\", \"LYNNA\", \"LILLI\",\n",
        "\t\"LAYNE\", \"LASHAUN\", \"LAKENYA\", \"LAEL\", \"KIRSTIE\", \"KATHLINE\", \"KASHA\", \"KARLYN\", \"KARIMA\", \"JOVAN\",\n",
        "\t\"JOSEFINE\", \"JENNELL\", \"JACQUI\", \"JACKELYN\", \"HYO\", \"HIEN\", \"GRAZYNA\", \"FLORRIE\", \"FLORIA\", \"ELEONORA\",\n",
        "\t\"DWANA\", \"DORLA\", \"DONG\", \"DELMY\", \"DEJA\", \"DEDE\", \"DANN\", \"CRYSTA\", \"CLELIA\", \"CLARIS\",\n",
        "\t\"CLARENCE\", \"CHIEKO\", \"CHERLYN\", \"CHERELLE\", \"CHARMAIN\", \"CHARA\", \"CAMMY\", \"BEE\", \"ARNETTE\", \"ARDELLE\",\n",
        "\t\"ANNIKA\", \"AMIEE\", \"AMEE\", \"ALLENA\", \"YVONE\", \"YUKI\", \"YOSHIE\", \"YEVETTE\", \"YAEL\", \"WILLETTA\",\n",
        "\t\"VONCILE\", \"VENETTA\", \"TULA\", \"TONETTE\", \"TIMIKA\", \"TEMIKA\", \"TELMA\", \"TEISHA\", \"TAREN\", \"TA\",\n",
        "\t\"STACEE\", \"SHIN\", \"SHAWNTA\", \"SATURNINA\", \"RICARDA\", \"POK\", \"PASTY\", \"ONIE\", \"NUBIA\", \"MORA\",\n",
        "\t\"MIKE\", \"MARIELLE\", \"MARIELLA\", \"MARIANELA\", \"MARDELL\", \"MANY\", \"LUANNA\", \"LOISE\", \"LISABETH\", \"LINDSY\",\n",
        "\t\"LILLIANA\", \"LILLIAM\", \"LELAH\", \"LEIGHA\", \"LEANORA\", \"LANG\", \"KRISTEEN\", \"KHALILAH\", \"KEELEY\", \"KANDRA\",\n",
        "\t\"JUNKO\", \"JOAQUINA\", \"JERLENE\", \"JANI\", \"JAMIKA\", \"JAME\", \"HSIU\", \"HERMILA\", \"GOLDEN\", \"GENEVIVE\",\n",
        "\t\"EVIA\", \"EUGENA\", \"EMMALINE\", \"ELFREDA\", \"ELENE\", \"DONETTE\", \"DELCIE\", \"DEEANNA\", \"DARCEY\", \"CUC\",\n",
        "\t\"CLARINDA\", \"CIRA\", \"CHAE\", \"CELINDA\", \"CATHERYN\", \"CATHERIN\", \"CASIMIRA\", \"CARMELIA\", \"CAMELLIA\", \"BREANA\",\n",
        "\t\"BOBETTE\", \"BERNARDINA\", \"BEBE\", \"BASILIA\", \"ARLYNE\", \"AMAL\", \"ALAYNA\", \"ZONIA\", \"ZENIA\", \"YURIKO\",\n",
        "\t\"YAEKO\", \"WYNELL\", \"WILLOW\", \"WILLENA\", \"VERNIA\", \"TU\", \"TRAVIS\", \"TORA\", \"TERRILYN\", \"TERICA\",\n",
        "\t\"TENESHA\", \"TAWNA\", \"TAJUANA\", \"TAINA\", \"STEPHNIE\", \"SONA\", \"SOL\", \"SINA\", \"SHONDRA\", \"SHIZUKO\",\n",
        "\t\"SHERLENE\", \"SHERICE\", \"SHARIKA\", \"ROSSIE\", \"ROSENA\", \"RORY\", \"RIMA\", \"RIA\", \"RHEBA\", \"RENNA\",\n",
        "\t\"PETER\", \"NATALYA\", \"NANCEE\", \"MELODI\", \"MEDA\", \"MAXIMA\", \"MATHA\", \"MARKETTA\", \"MARICRUZ\", \"MARCELENE\",\n",
        "\t\"MALVINA\", \"LUBA\", \"LOUETTA\", \"LEIDA\", \"LECIA\", \"LAURAN\", \"LASHAWNA\", \"LAINE\", \"KHADIJAH\", \"KATERINE\",\n",
        "\t\"KASI\", \"KALLIE\", \"JULIETTA\", \"JESUSITA\", \"JESTINE\", \"JESSIA\", \"JEREMY\", \"JEFFIE\", \"JANYCE\", \"ISADORA\",\n",
        "\t\"GEORGIANNE\", \"FIDELIA\", \"EVITA\", \"EURA\", \"EULAH\", \"ESTEFANA\", \"ELSY\", \"ELIZABET\", \"ELADIA\", \"DODIE\",\n",
        "\t\"DION\", \"DIA\", \"DENISSE\", \"DELORAS\", \"DELILA\", \"DAYSI\", \"DAKOTA\", \"CURTIS\", \"CRYSTLE\", \"CONCHA\",\n",
        "\t\"COLBY\", \"CLARETTA\", \"CHU\", \"CHRISTIA\", \"CHARLSIE\", \"CHARLENA\", \"CARYLON\", \"BETTYANN\", \"ASLEY\", \"ASHLEA\",\n",
        "\t\"AMIRA\", \"AI\", \"AGUEDA\", \"AGNUS\", \"YUETTE\", \"VINITA\", \"VICTORINA\", \"TYNISHA\", \"TREENA\", \"TOCCARA\",\n",
        "\t\"TISH\", \"THOMASENA\", \"TEGAN\", \"SOILA\", \"SHILOH\", \"SHENNA\", \"SHARMAINE\", \"SHANTAE\", \"SHANDI\", \"SEPTEMBER\",\n",
        "\t\"SARAN\", \"SARAI\", \"SANA\", \"SAMUEL\", \"SALLEY\", \"ROSETTE\", \"ROLANDE\", \"REGINE\", \"OTELIA\", \"OSCAR\",\n",
        "\t\"OLEVIA\", \"NICHOLLE\", \"NECOLE\", \"NAIDA\", \"MYRTA\", \"MYESHA\", \"MITSUE\", \"MINTA\", \"MERTIE\", \"MARGY\",\n",
        "\t\"MAHALIA\", \"MADALENE\", \"LOVE\", \"LOURA\", \"LOREAN\", \"LEWIS\", \"LESHA\", \"LEONIDA\", \"LENITA\", \"LAVONE\",\n",
        "\t\"LASHELL\", \"LASHANDRA\", \"LAMONICA\", \"KIMBRA\", \"KATHERINA\", \"KARRY\", \"KANESHA\", \"JULIO\", \"JONG\", \"JENEVA\",\n",
        "\t\"JAQUELYN\", \"HWA\", \"GILMA\", \"GHISLAINE\", \"GERTRUDIS\", \"FRANSISCA\", \"FERMINA\", \"ETTIE\", \"ETSUKO\", \"ELLIS\",\n",
        "\t\"ELLAN\", \"ELIDIA\", \"EDRA\", \"DORETHEA\", \"DOREATHA\", \"DENYSE\", \"DENNY\", \"DEETTA\", \"DAINE\", \"CYRSTAL\",\n",
        "\t\"CORRIN\", \"CAYLA\", \"CARLITA\", \"CAMILA\", \"BURMA\", \"BULA\", \"BUENA\", \"BLAKE\", \"BARABARA\", \"AVRIL\",\n",
        "\t\"AUSTIN\", \"ALAINE\", \"ZANA\", \"WILHEMINA\", \"WANETTA\", \"VIRGIL\", \"VI\", \"VERONIKA\", \"VERNON\", \"VERLINE\",\n",
        "\t\"VASILIKI\", \"TONITA\", \"TISA\", \"TEOFILA\", \"TAYNA\", \"TAUNYA\", \"TANDRA\", \"TAKAKO\", \"SUNNI\", \"SUANNE\",\n",
        "\t\"SIXTA\", \"SHARELL\", \"SEEMA\", \"RUSSELL\", \"ROSENDA\", \"ROBENA\", \"RAYMONDE\", \"PEI\", \"PAMILA\", \"OZELL\",\n",
        "\t\"NEIDA\", \"NEELY\", \"MISTIE\", \"MICHA\", \"MERISSA\", \"MAURITA\", \"MARYLN\", \"MARYETTA\", \"MARSHALL\", \"MARCELL\",\n",
        "\t\"MALENA\", \"MAKEDA\", \"MADDIE\", \"LOVETTA\", \"LOURIE\", \"LORRINE\", \"LORILEE\", \"LESTER\", \"LAURENA\", \"LASHAY\",\n",
        "\t\"LARRAINE\", \"LAREE\", \"LACRESHA\", \"KRISTLE\", \"KRISHNA\", \"KEVA\", \"KEIRA\", \"KAROLE\", \"JOIE\", \"JINNY\",\n",
        "\t\"JEANNETTA\", \"JAMA\", \"HEIDY\", \"GILBERTE\", \"GEMA\", \"FAVIOLA\", \"EVELYNN\", \"ENDA\", \"ELLI\", \"ELLENA\",\n",
        "\t\"DIVINA\", \"DAGNY\", \"COLLENE\", \"CODI\", \"CINDIE\", \"CHASSIDY\", \"CHASIDY\", \"CATRICE\", \"CATHERINA\", \"CASSEY\",\n",
        "\t\"CAROLL\", \"CARLENA\", \"CANDRA\", \"CALISTA\", \"BRYANNA\", \"BRITTENY\", \"BEULA\", \"BARI\", \"AUDRIE\", \"AUDRIA\",\n",
        "\t\"ARDELIA\", \"ANNELLE\", \"ANGILA\", \"ALONA\", \"ALLYN\", \"DOUGLAS\", \"ROGER\", \"JONATHAN\", \"RALPH\", \"NICHOLAS\",\n",
        "\t\"BENJAMIN\", \"BRUCE\", \"HARRY\", \"WAYNE\", \"STEVE\", \"HOWARD\", \"ERNEST\", \"PHILLIP\", \"TODD\", \"CRAIG\",\n",
        "\t\"ALAN\", \"PHILIP\", \"EARL\", \"DANNY\", \"BRYAN\", \"STANLEY\", \"LEONARD\", \"NATHAN\", \"MANUEL\", \"RODNEY\",\n",
        "\t\"MARVIN\", \"VINCENT\", \"JEFFERY\", \"JEFF\", \"CHAD\", \"JACOB\", \"ALFRED\", \"BRADLEY\", \"HERBERT\", \"FREDERICK\",\n",
        "\t\"EDWIN\", \"DON\", \"RICKY\", \"RANDALL\", \"BARRY\", \"BERNARD\", \"LEROY\", \"MARCUS\", \"THEODORE\", \"CLIFFORD\",\n",
        "\t\"MIGUEL\", \"JIM\", \"TOM\", \"CALVIN\", \"BILL\", \"LLOYD\", \"DEREK\", \"WARREN\", \"DARRELL\", \"JEROME\",\n",
        "\t\"FLOYD\", \"ALVIN\", \"TIM\", \"GORDON\", \"GREG\", \"JORGE\", \"DUSTIN\", \"PEDRO\", \"DERRICK\", \"ZACHARY\",\n",
        "\t\"HERMAN\", \"GLEN\", \"HECTOR\", \"RICARDO\", \"RICK\", \"BRENT\", \"RAMON\", \"GILBERT\", \"MARC\", \"REGINALD\",\n",
        "\t\"RUBEN\", \"NATHANIEL\", \"RAFAEL\", \"EDGAR\", \"MILTON\", \"RAUL\", \"BEN\", \"CHESTER\", \"DUANE\", \"FRANKLIN\",\n",
        "\t\"BRAD\", \"RON\", \"ROLAND\", \"ARNOLD\", \"HARVEY\", \"JARED\", \"ERIK\", \"DARRYL\", \"NEIL\", \"JAVIER\",\n",
        "\t\"FERNANDO\", \"CLINTON\", \"TED\", \"MATHEW\", \"TYRONE\", \"DARREN\", \"LANCE\", \"KURT\", \"ALLAN\", \"NELSON\",\n",
        "\t\"GUY\", \"CLAYTON\", \"HUGH\", \"MAX\", \"DWAYNE\", \"DWIGHT\", \"ARMANDO\", \"FELIX\", \"EVERETT\", \"IAN\",\n",
        "\t\"WALLACE\", \"KEN\", \"BOB\", \"ALFREDO\", \"ALBERTO\", \"DAVE\", \"IVAN\", \"BYRON\", \"ISAAC\", \"MORRIS\",\n",
        "\t\"CLIFTON\", \"WILLARD\", \"ROSS\", \"ANDY\", \"SALVADOR\", \"KIRK\", \"SERGIO\", \"SETH\", \"KENT\", \"TERRANCE\",\n",
        "\t\"EDUARDO\", \"TERRENCE\", \"ENRIQUE\", \"WADE\", \"STUART\", \"FREDRICK\", \"ARTURO\", \"ALEJANDRO\", \"NICK\", \"LUTHER\",\n",
        "\t\"WENDELL\", \"JEREMIAH\", \"JULIUS\", \"OTIS\", \"TREVOR\", \"OLIVER\", \"LUKE\", \"HOMER\", \"GERARD\", \"DOUG\",\n",
        "\t\"KENNY\", \"HUBERT\", \"LYLE\", \"MATT\", \"ALFONSO\", \"ORLANDO\", \"REX\", \"CARLTON\", \"ERNESTO\", \"NEAL\",\n",
        "\t\"PABLO\", \"LORENZO\", \"OMAR\", \"WILBUR\", \"GRANT\", \"HORACE\", \"RODERICK\", \"ABRAHAM\", \"WILLIS\", \"RICKEY\",\n",
        "\t\"ANDRES\", \"CESAR\", \"JOHNATHAN\", \"MALCOLM\", \"RUDOLPH\", \"DAMON\", \"KELVIN\", \"PRESTON\", \"ALTON\", \"ARCHIE\",\n",
        "\t\"MARCO\", \"WM\", \"PETE\", \"RANDOLPH\", \"GARRY\", \"GEOFFREY\", \"JONATHON\", \"FELIPE\", \"GERARDO\", \"ED\",\n",
        "\t\"DOMINIC\", \"DELBERT\", \"COLIN\", \"GUILLERMO\", \"EARNEST\", \"LUCAS\", \"BENNY\", \"SPENCER\", \"RODOLFO\", \"MYRON\",\n",
        "\t\"EDMUND\", \"GARRETT\", \"SALVATORE\", \"CEDRIC\", \"LOWELL\", \"GREGG\", \"SHERMAN\", \"WILSON\", \"SYLVESTER\", \"ROOSEVELT\",\n",
        "\t\"ISRAEL\", \"JERMAINE\", \"FORREST\", \"WILBERT\", \"LELAND\", \"SIMON\", \"CLARK\", \"IRVING\", \"BRYANT\", \"OWEN\",\n",
        "\t\"RUFUS\", \"WOODROW\", \"KRISTOPHER\", \"MACK\", \"LEVI\", \"MARCOS\", \"GUSTAVO\", \"JAKE\", \"LIONEL\", \"GILBERTO\",\n",
        "\t\"CLINT\", \"NICOLAS\", \"ISMAEL\", \"ORVILLE\", \"ERVIN\", \"DEWEY\", \"AL\", \"WILFRED\", \"JOSH\", \"HUGO\",\n",
        "\t\"IGNACIO\", \"CALEB\", \"TOMAS\", \"SHELDON\", \"ERICK\", \"STEWART\", \"DOYLE\", \"DARREL\", \"ROGELIO\", \"TERENCE\",\n",
        "\t\"SANTIAGO\", \"ALONZO\", \"ELIAS\", \"BERT\", \"ELBERT\", \"RAMIRO\", \"CONRAD\", \"NOAH\", \"GRADY\", \"PHIL\",\n",
        "\t\"CORNELIUS\", \"LAMAR\", \"ROLANDO\", \"CLAY\", \"PERCY\", \"DEXTER\", \"BRADFORD\", \"DARIN\", \"AMOS\", \"MOSES\",\n",
        "\t\"IRVIN\", \"SAUL\", \"ROMAN\", \"RANDAL\", \"TIMMY\", \"DARRIN\", \"WINSTON\", \"BRENDAN\", \"ABEL\", \"DOMINICK\",\n",
        "\t\"BOYD\", \"EMILIO\", \"ELIJAH\", \"DOMINGO\", \"EMMETT\", \"MARLON\", \"EMANUEL\", \"JERALD\", \"EDMOND\", \"EMIL\",\n",
        "\t\"DEWAYNE\", \"WILL\", \"OTTO\", \"TEDDY\", \"REYNALDO\", \"BRET\", \"JESS\", \"TRENT\", \"HUMBERTO\", \"EMMANUEL\",\n",
        "\t\"STEPHAN\", \"VICENTE\", \"LAMONT\", \"GARLAND\", \"MILES\", \"EFRAIN\", \"HEATH\", \"RODGER\", \"HARLEY\", \"ETHAN\",\n",
        "\t\"ELDON\", \"ROCKY\", \"PIERRE\", \"JUNIOR\", \"FREDDY\", \"ELI\", \"BRYCE\", \"ANTOINE\", \"STERLING\", \"CHASE\",\n",
        "\t\"GROVER\", \"ELTON\", \"CLEVELAND\", \"DYLAN\", \"CHUCK\", \"DAMIAN\", \"REUBEN\", \"STAN\", \"AUGUST\", \"LEONARDO\",\n",
        "\t\"JASPER\", \"RUSSEL\", \"ERWIN\", \"BENITO\", \"HANS\", \"MONTE\", \"BLAINE\", \"ERNIE\", \"CURT\", \"QUENTIN\",\n",
        "\t\"AGUSTIN\", \"MURRAY\", \"JAMAL\", \"ADOLFO\", \"HARRISON\", \"TYSON\", \"BURTON\", \"BRADY\", \"ELLIOTT\", \"WILFREDO\",\n",
        "\t\"BART\", \"JARROD\", \"VANCE\", \"DENIS\", \"DAMIEN\", \"JOAQUIN\", \"HARLAN\", \"DESMOND\", \"ELLIOT\", \"DARWIN\",\n",
        "\t\"GREGORIO\", \"BUDDY\", \"XAVIER\", \"KERMIT\", \"ROSCOE\", \"ESTEBAN\", \"ANTON\", \"SOLOMON\", \"SCOTTY\", \"NORBERT\",\n",
        "\t\"ELVIN\", \"WILLIAMS\", \"NOLAN\", \"ROD\", \"QUINTON\", \"HAL\", \"BRAIN\", \"ROB\", \"ELWOOD\", \"KENDRICK\",\n",
        "\t\"DARIUS\", \"MOISES\", \"FIDEL\", \"THADDEUS\", \"CLIFF\", \"MARCEL\", \"JACKSON\", \"RAPHAEL\", \"BRYON\", \"ARMAND\",\n",
        "\t\"ALVARO\", \"JEFFRY\", \"DANE\", \"JOESPH\", \"THURMAN\", \"NED\", \"RUSTY\", \"MONTY\", \"FABIAN\", \"REGGIE\",\n",
        "\t\"MASON\", \"GRAHAM\", \"ISAIAH\", \"VAUGHN\", \"GUS\", \"LOYD\", \"DIEGO\", \"ADOLPH\", \"NORRIS\", \"MILLARD\",\n",
        "\t\"ROCCO\", \"GONZALO\", \"DERICK\", \"RODRIGO\", \"WILEY\", \"RIGOBERTO\", \"ALPHONSO\", \"TY\", \"NOE\", \"VERN\",\n",
        "\t\"REED\", \"JEFFERSON\", \"ELVIS\", \"BERNARDO\", \"MAURICIO\", \"HIRAM\", \"DONOVAN\", \"BASIL\", \"RILEY\", \"NICKOLAS\",\n",
        "\t\"MAYNARD\", \"SCOT\", \"VINCE\", \"QUINCY\", \"EDDY\", \"SEBASTIAN\", \"FEDERICO\", \"ULYSSES\", \"HERIBERTO\", \"DONNELL\",\n",
        "\t\"COLE\", \"DAVIS\", \"GAVIN\", \"EMERY\", \"WARD\", \"ROMEO\", \"JAYSON\", \"DANTE\", \"CLEMENT\", \"COY\",\n",
        "\t\"MAXWELL\", \"JARVIS\", \"BRUNO\", \"ISSAC\", \"DUDLEY\", \"BROCK\", \"SANFORD\", \"CARMELO\", \"BARNEY\", \"NESTOR\",\n",
        "\t\"STEFAN\", \"DONNY\", \"ART\", \"LINWOOD\", \"BEAU\", \"WELDON\", \"GALEN\", \"ISIDRO\", \"TRUMAN\", \"DELMAR\",\n",
        "\t\"JOHNATHON\", \"SILAS\", \"FREDERIC\", \"DICK\", \"IRWIN\", \"MERLIN\", \"CHARLEY\", \"MARCELINO\", \"HARRIS\", \"CARLO\",\n",
        "\t\"TRENTON\", \"KURTIS\", \"HUNTER\", \"AURELIO\", \"WINFRED\", \"VITO\", \"COLLIN\", \"DENVER\", \"CARTER\", \"LEONEL\",\n",
        "\t\"EMORY\", \"PASQUALE\", \"MOHAMMAD\", \"MARIANO\", \"DANIAL\", \"LANDON\", \"DIRK\", \"BRANDEN\", \"ADAN\", \"BUFORD\",\n",
        "\t\"GERMAN\", \"WILMER\", \"EMERSON\", \"ZACHERY\", \"FLETCHER\", \"JACQUES\", \"ERROL\", \"DALTON\", \"MONROE\", \"JOSUE\",\n",
        "\t\"EDWARDO\", \"BOOKER\", \"WILFORD\", \"SONNY\", \"SHELTON\", \"CARSON\", \"THERON\", \"RAYMUNDO\", \"DAREN\", \"HOUSTON\",\n",
        "\t\"ROBBY\", \"LINCOLN\", \"GENARO\", \"BENNETT\", \"OCTAVIO\", \"CORNELL\", \"HUNG\", \"ARRON\", \"ANTONY\", \"HERSCHEL\",\n",
        "\t\"GIOVANNI\", \"GARTH\", \"CYRUS\", \"CYRIL\", \"RONNY\", \"LON\", \"FREEMAN\", \"DUNCAN\", \"KENNITH\", \"CARMINE\",\n",
        "\t\"ERICH\", \"CHADWICK\", \"WILBURN\", \"RUSS\", \"REID\", \"MYLES\", \"ANDERSON\", \"MORTON\", \"JONAS\", \"FOREST\",\n",
        "\t\"MITCHEL\", \"MERVIN\", \"ZANE\", \"RICH\", \"JAMEL\", \"LAZARO\", \"ALPHONSE\", \"RANDELL\", \"MAJOR\", \"JARRETT\",\n",
        "\t\"BROOKS\", \"ABDUL\", \"LUCIANO\", \"SEYMOUR\", \"EUGENIO\", \"MOHAMMED\", \"VALENTIN\", \"CHANCE\", \"ARNULFO\", \"LUCIEN\",\n",
        "\t\"FERDINAND\", \"THAD\", \"EZRA\", \"ALDO\", \"RUBIN\", \"ROYAL\", \"MITCH\", \"EARLE\", \"ABE\", \"WYATT\",\n",
        "\t\"MARQUIS\", \"LANNY\", \"KAREEM\", \"JAMAR\", \"BORIS\", \"ISIAH\", \"EMILE\", \"ELMO\", \"ARON\", \"LEOPOLDO\",\n",
        "\t\"EVERETTE\", \"JOSEF\", \"ELOY\", \"RODRICK\", \"REINALDO\", \"LUCIO\", \"JERROD\", \"WESTON\", \"HERSHEL\", \"BARTON\",\n",
        "\t\"PARKER\", \"LEMUEL\", \"BURT\", \"JULES\", \"GIL\", \"ELISEO\", \"AHMAD\", \"NIGEL\", \"EFREN\", \"ANTWAN\",\n",
        "\t\"ALDEN\", \"MARGARITO\", \"COLEMAN\", \"DINO\", \"OSVALDO\", \"LES\", \"DEANDRE\", \"NORMAND\", \"KIETH\", \"TREY\",\n",
        "\t\"NORBERTO\", \"NAPOLEON\", \"JEROLD\", \"FRITZ\", \"ROSENDO\", \"MILFORD\", \"CHRISTOPER\", \"ALFONZO\", \"LYMAN\", \"JOSIAH\",\n",
        "\t\"BRANT\", \"WILTON\", \"RICO\", \"JAMAAL\", \"DEWITT\", \"BRENTON\", \"OLIN\", \"FOSTER\", \"FAUSTINO\", \"CLAUDIO\",\n",
        "\t\"JUDSON\", \"GINO\", \"EDGARDO\", \"ALEC\", \"TANNER\", \"JARRED\", \"DONN\", \"TAD\", \"PRINCE\", \"PORFIRIO\",\n",
        "\t\"ODIS\", \"LENARD\", \"CHAUNCEY\", \"TOD\", \"MEL\", \"MARCELO\", \"KORY\", \"AUGUSTUS\", \"KEVEN\", \"HILARIO\",\n",
        "\t\"BUD\", \"SAL\", \"ORVAL\", \"MAURO\", \"ZACHARIAH\", \"OLEN\", \"ANIBAL\", \"MILO\", \"JED\", \"DILLON\",\n",
        "\t\"AMADO\", \"NEWTON\", \"LENNY\", \"RICHIE\", \"HORACIO\", \"BRICE\", \"MOHAMED\", \"DELMER\", \"DARIO\", \"REYES\",\n",
        "\t\"MAC\", \"JONAH\", \"JERROLD\", \"ROBT\", \"HANK\", \"RUPERT\", \"ROLLAND\", \"KENTON\", \"DAMION\", \"ANTONE\",\n",
        "\t\"WALDO\", \"FREDRIC\", \"BRADLY\", \"KIP\", \"BURL\", \"WALKER\", \"TYREE\", \"JEFFEREY\", \"AHMED\", \"WILLY\",\n",
        "\t\"STANFORD\", \"OREN\", \"NOBLE\", \"MOSHE\", \"MIKEL\", \"ENOCH\", \"BRENDON\", \"QUINTIN\", \"JAMISON\", \"FLORENCIO\",\n",
        "\t\"DARRICK\", \"TOBIAS\", \"HASSAN\", \"GIUSEPPE\", \"DEMARCUS\", \"CLETUS\", \"TYRELL\", \"LYNDON\", \"KEENAN\", \"WERNER\",\n",
        "\t\"GERALDO\", \"COLUMBUS\", \"CHET\", \"BERTRAM\", \"MARKUS\", \"HUEY\", \"HILTON\", \"DWAIN\", \"DONTE\", \"TYRON\",\n",
        "\t\"OMER\", \"ISAIAS\", \"HIPOLITO\", \"FERMIN\", \"ADALBERTO\", \"BO\", \"BARRETT\", \"TEODORO\", \"MCKINLEY\", \"MAXIMO\",\n",
        "\t\"GARFIELD\", \"RALEIGH\", \"LAWERENCE\", \"ABRAM\", \"RASHAD\", \"KING\", \"EMMITT\", \"DARON\", \"SAMUAL\", \"MIQUEL\",\n",
        "\t\"EUSEBIO\", \"DOMENIC\", \"DARRON\", \"BUSTER\", \"WILBER\", \"RENATO\", \"JC\", \"HOYT\", \"HAYWOOD\", \"EZEKIEL\",\n",
        "\t\"CHAS\", \"FLORENTINO\", \"ELROY\", \"CLEMENTE\", \"ARDEN\", \"NEVILLE\", \"EDISON\", \"DESHAWN\", \"NATHANIAL\", \"JORDON\",\n",
        "\t\"DANILO\", \"CLAUD\", \"SHERWOOD\", \"RAYMON\", \"RAYFORD\", \"CRISTOBAL\", \"AMBROSE\", \"TITUS\", \"HYMAN\", \"FELTON\",\n",
        "\t\"EZEQUIEL\", \"ERASMO\", \"STANTON\", \"LONNY\", \"LEN\", \"IKE\", \"MILAN\", \"LINO\", \"JAROD\", \"HERB\",\n",
        "\t\"ANDREAS\", \"WALTON\", \"RHETT\", \"PALMER\", \"DOUGLASS\", \"CORDELL\", \"OSWALDO\", \"ELLSWORTH\", \"VIRGILIO\", \"TONEY\",\n",
        "\t\"NATHANAEL\", \"DEL\", \"BENEDICT\", \"MOSE\", \"JOHNSON\", \"ISREAL\", \"GARRET\", \"FAUSTO\", \"ASA\", \"ARLEN\",\n",
        "\t\"ZACK\", \"WARNER\", \"MODESTO\", \"FRANCESCO\", \"MANUAL\", \"GAYLORD\", \"GASTON\", \"FILIBERTO\", \"DEANGELO\", \"MICHALE\",\n",
        "\t\"GRANVILLE\", \"WES\", \"MALIK\", \"ZACKARY\", \"TUAN\", \"ELDRIDGE\", \"CRISTOPHER\", \"CORTEZ\", \"ANTIONE\", \"MALCOM\",\n",
        "\t\"LONG\", \"KOREY\", \"JOSPEH\", \"COLTON\", \"WAYLON\", \"VON\", \"HOSEA\", \"SHAD\", \"SANTO\", \"RUDOLF\",\n",
        "\t\"ROLF\", \"REY\", \"RENALDO\", \"MARCELLUS\", \"LUCIUS\", \"KRISTOFER\", \"BOYCE\", \"BENTON\", \"HAYDEN\", \"HARLAND\",\n",
        "\t\"ARNOLDO\", \"RUEBEN\", \"LEANDRO\", \"KRAIG\", \"JERRELL\", \"JEROMY\", \"HOBERT\", \"CEDRICK\", \"ARLIE\", \"WINFORD\",\n",
        "\t\"WALLY\", \"LUIGI\", \"KENETH\", \"JACINTO\", \"GRAIG\", \"FRANKLYN\", \"EDMUNDO\", \"SID\", \"PORTER\", \"LEIF\",\n",
        "\t\"JERAMY\", \"BUCK\", \"WILLIAN\", \"VINCENZO\", \"SHON\", \"LYNWOOD\", \"JERE\", \"HAI\", \"ELDEN\", \"DORSEY\",\n",
        "\t\"DARELL\", \"BRODERICK\", \"ALONSO\",\n",
        "]\n",
        "\n",
        "\n",
        "if __name__ == \"__main__\":\n",
        "\tprint(compute())"
      ],
      "metadata": {
        "colab": {
          "base_uri": "https://localhost:8080/"
        },
        "id": "az29hVOneuBO",
        "outputId": "23f14791-6f21-4b67-d16f-f23d22778641"
      },
      "execution_count": null,
      "outputs": [
        {
          "output_type": "stream",
          "name": "stdout",
          "text": [
            "871198282\n"
          ]
        }
      ]
    },
    {
      "cell_type": "markdown",
      "source": [
        "# Problem 23 - Non-Abundant Sums"
      ],
      "metadata": {
        "id": "sVjRWCY7jRCp"
      }
    },
    {
      "cell_type": "code",
      "source": [
        "def sum_of_proper_divisors(n):\n",
        "    total = 1  # Start with 1, which is a proper divisor of any number\n",
        "    sqrt_n = int(n**0.5)\n",
        "\n",
        "    for i in range(2, sqrt_n + 1):\n",
        "        if n % i == 0:\n",
        "            total += i\n",
        "            if i != n // i:\n",
        "                total += n // i\n",
        "\n",
        "    return total\n",
        "\n",
        "def find_abundant_numbers(limit):\n",
        "    abundant_numbers = []\n",
        "\n",
        "    for i in range(1, limit + 1):\n",
        "        if sum_of_proper_divisors(i) > i:\n",
        "            abundant_numbers.append(i)\n",
        "\n",
        "    return abundant_numbers\n",
        "\n",
        "def main():\n",
        "    LIMIT = 28123\n",
        "    abundant_numbers = find_abundant_numbers(LIMIT)\n",
        "    can_be_written_as_abundant_sum = [False] * (LIMIT + 1)\n",
        "\n",
        "    for i in range(len(abundant_numbers)):\n",
        "        for j in range(i, len(abundant_numbers)):\n",
        "            abundant_sum = abundant_numbers[i] + abundant_numbers[j]\n",
        "            if abundant_sum <= LIMIT:\n",
        "                can_be_written_as_abundant_sum[abundant_sum] = True\n",
        "            else:\n",
        "                break\n",
        "\n",
        "    result = sum(i for i, can_be_written in enumerate(can_be_written_as_abundant_sum) if not can_be_written)\n",
        "    return result\n",
        "\n",
        "if __name__ == \"__main__\":\n",
        "    print(main())\n"
      ],
      "metadata": {
        "colab": {
          "base_uri": "https://localhost:8080/"
        },
        "id": "f9snd99DicQ_",
        "outputId": "91580e7f-b7a4-4cc0-8b4e-807414b27e32"
      },
      "execution_count": null,
      "outputs": [
        {
          "output_type": "stream",
          "name": "stdout",
          "text": [
            "4179871\n"
          ]
        }
      ]
    },
    {
      "cell_type": "markdown",
      "source": [
        "# Problem 24 - Lexicographic Permutations"
      ],
      "metadata": {
        "id": "Om5GA5RCjlOR"
      }
    },
    {
      "cell_type": "code",
      "source": [
        "def factorial(n):\n",
        "    if n == 0 or n == 1:\n",
        "        return 1\n",
        "    else:\n",
        "        return n * factorial(n - 1)\n",
        "\n",
        "def find_millionth_permutation():\n",
        "    digits = list(range(10))\n",
        "    permutation = []\n",
        "    target_permutation_index = 999999  # Since indices are 0-based\n",
        "\n",
        "    factorials = [factorial(i) for i in range(10)]\n",
        "\n",
        "    for i in range(9, -1, -1):\n",
        "        # Determine which digit to place in the current position\n",
        "        block_size = factorials[i]\n",
        "        selected_index = target_permutation_index // block_size\n",
        "        target_permutation_index %= block_size\n",
        "\n",
        "        # Append the digit to the permutation and remove it from the list\n",
        "        permutation.append(digits[selected_index])\n",
        "        digits.pop(selected_index)\n",
        "\n",
        "    return ''.join(map(str, permutation))\n",
        "\n",
        "if __name__ == \"__main__\":\n",
        "    result = find_millionth_permutation()\n",
        "    print(result)\n"
      ],
      "metadata": {
        "colab": {
          "base_uri": "https://localhost:8080/"
        },
        "id": "OXnrS46WjPzy",
        "outputId": "8351e103-3ea9-4a2e-9589-d6c05ab973f1"
      },
      "execution_count": null,
      "outputs": [
        {
          "output_type": "stream",
          "name": "stdout",
          "text": [
            "2783915460\n"
          ]
        }
      ]
    },
    {
      "cell_type": "markdown",
      "source": [
        "# Problem 25- Digit Fibonacci Number"
      ],
      "metadata": {
        "id": "nKIPpZb2k_16"
      }
    },
    {
      "cell_type": "code",
      "source": [
        "import math\n",
        "\n",
        "def find_fibonacci_index_with_digits(digits):\n",
        "    phi = (1 + math.sqrt(5)) / 2\n",
        "    log_phi = math.log10(phi)\n",
        "    log_sqrt_5 = math.log10(math.sqrt(5))\n",
        "\n",
        "    # Calculation based on the formula derived\n",
        "    index = (digits - 1 + log_sqrt_5) / log_phi\n",
        "    return math.ceil(index)\n",
        "\n",
        "if __name__ == \"__main__\":\n",
        "    result = find_fibonacci_index_with_digits(1000)\n",
        "    print(result)  # Expected output: 4782"
      ],
      "metadata": {
        "colab": {
          "base_uri": "https://localhost:8080/"
        },
        "id": "74XQXLwGkpXx",
        "outputId": "267882d7-015c-4bfe-d215-850bd5547351"
      },
      "execution_count": null,
      "outputs": [
        {
          "output_type": "stream",
          "name": "stdout",
          "text": [
            "4782\n"
          ]
        }
      ]
    },
    {
      "cell_type": "markdown",
      "source": [
        "# Problem 26 - Reciprocal Cycles"
      ],
      "metadata": {
        "id": "9slBwSNXlvIE"
      }
    },
    {
      "cell_type": "code",
      "source": [
        "def get_cycle_length(d):\n",
        "    remainders = {}\n",
        "    value = 1\n",
        "    position = 0\n",
        "\n",
        "    while value != 0:\n",
        "        if value in remainders:\n",
        "            return position - remainders[value]\n",
        "        remainders[value] = position\n",
        "        value = (value * 10) % d\n",
        "        position += 1\n",
        "\n",
        "    return 0  # This line is never reached as 1/d for d not divisible by 2 or 5 is always recurring\n",
        "\n",
        "def find_longest_cycle(limit):\n",
        "    max_length = 0\n",
        "    max_d = 0\n",
        "\n",
        "    for d in range(2, limit):\n",
        "        if d % 2 != 0 and d % 5 != 0:\n",
        "            current_length = get_cycle_length(d)\n",
        "            if current_length > max_length:\n",
        "                max_length = current_length\n",
        "                max_d = d\n",
        "\n",
        "    return max_d, max_length\n",
        "\n",
        "if __name__ == \"__main__\":\n",
        "    limit = 1000\n",
        "    result = find_longest_cycle(limit)\n",
        "    print(\"Value of d with longest recurring cycle:\", result[0])\n",
        "    print(\"Length of the cycle:\", result[1])"
      ],
      "metadata": {
        "colab": {
          "base_uri": "https://localhost:8080/"
        },
        "id": "uuJ5YqD3lipb",
        "outputId": "89e3da6a-a086-40b8-bcd1-bf46b72d6097"
      },
      "execution_count": null,
      "outputs": [
        {
          "output_type": "stream",
          "name": "stdout",
          "text": [
            "Value of d with longest recurring cycle: 983\n",
            "Length of the cycle: 982\n"
          ]
        }
      ]
    },
    {
      "cell_type": "markdown",
      "source": [
        "# Problem 27 : Quadratic Primes"
      ],
      "metadata": {
        "id": "1JOlTKD2mgma"
      }
    },
    {
      "cell_type": "code",
      "source": [
        "def sieve_of_eratosthenes(limit):\n",
        "    is_prime = [True] * (limit + 1)\n",
        "    is_prime[0] = is_prime[1] = False\n",
        "\n",
        "    for start in range(2, int(limit**0.5) + 1):\n",
        "        if is_prime[start]:\n",
        "            for multiple in range(start*start, limit + 1, start):\n",
        "                is_prime[multiple] = False\n",
        "\n",
        "    primes = {num for num, prime in enumerate(is_prime) if prime}\n",
        "    return primes\n",
        "\n",
        "def is_prime(n, prime_set):\n",
        "    if n < 2:\n",
        "        return False\n",
        "    if n in prime_set:\n",
        "        return True\n",
        "    for i in range(2, int(n**0.5) + 1):\n",
        "        if n % i == 0:\n",
        "            return False\n",
        "    return True\n",
        "\n",
        "def find_max_primes_quadratic():\n",
        "    limit = 100000  # Upper limit for generating prime numbers\n",
        "    primes = sieve_of_eratosthenes(limit)\n",
        "\n",
        "    max_primes = 0\n",
        "    product_of_coefficients = 0\n",
        "\n",
        "    for a in range(-999, 1000):\n",
        "        for b in range(-1000, 1001):\n",
        "            n = 0\n",
        "            while is_prime(n*n + a*n + b, primes):\n",
        "                n += 1\n",
        "            if n > max_primes:\n",
        "                max_primes = n\n",
        "                product_of_coefficients = a * b\n",
        "\n",
        "    return product_of_coefficients\n",
        "\n",
        "if __name__ == \"__main__\":\n",
        "    result = find_max_primes_quadratic()\n",
        "    print(\"The product of coefficients a and b for the quadratic expression that produces the maximum number of primes is:\", result)\n"
      ],
      "metadata": {
        "colab": {
          "base_uri": "https://localhost:8080/"
        },
        "id": "Gy-thq5GmRKv",
        "outputId": "c5aaef45-373c-4faf-9706-9077560e2ba3"
      },
      "execution_count": null,
      "outputs": [
        {
          "output_type": "stream",
          "name": "stdout",
          "text": [
            "The product of coefficients a and b for the quadratic expression that produces the maximum number of primes is: -59231\n"
          ]
        }
      ]
    },
    {
      "cell_type": "markdown",
      "source": [
        "# Problem 28- Number Spiral Diagonals"
      ],
      "metadata": {
        "id": "yrIdSfPMrKir"
      }
    },
    {
      "cell_type": "code",
      "source": [
        "def sum_of_spiral_diagonals(n):\n",
        "    if n % 2 == 0:\n",
        "        raise ValueError(\"Spiral size must be an odd number.\")\n",
        "\n",
        "    total_sum = 1  # Start with the center value\n",
        "    current_number = 1\n",
        "\n",
        "    for layer in range(1, (n // 2) + 1):\n",
        "        step = 2 * layer\n",
        "        for _ in range(4):  # Each layer has 4 corners\n",
        "            current_number += step\n",
        "            total_sum += current_number\n",
        "\n",
        "    return total_sum\n",
        "\n",
        "# Calculate the sum for a 1001x1001 spiral\n",
        "result = sum_of_spiral_diagonals(1001)\n",
        "print(\"The sum of the numbers on the diagonals in a 1001x1001 spiral is:\", result)"
      ],
      "metadata": {
        "colab": {
          "base_uri": "https://localhost:8080/"
        },
        "id": "bsnRKoEXq_SE",
        "outputId": "5873b541-9c0a-4d4a-f062-6452d73f1706"
      },
      "execution_count": null,
      "outputs": [
        {
          "output_type": "stream",
          "name": "stdout",
          "text": [
            "The sum of the numbers on the diagonals in a 1001x1001 spiral is: 669171001\n"
          ]
        }
      ]
    },
    {
      "cell_type": "markdown",
      "source": [
        "# Problem 29 : Distinct Powers"
      ],
      "metadata": {
        "id": "1Q0uNbDJshQJ"
      }
    },
    {
      "cell_type": "code",
      "source": [
        "def count_distinct_powers(max_a, max_b):\n",
        "    distinct_terms = set()\n",
        "\n",
        "    for a in range(2, max_a + 1):\n",
        "        for b in range(2, max_b + 1):\n",
        "            distinct_terms.add(pow(a, b))\n",
        "\n",
        "    return len(distinct_terms)\n",
        "\n",
        "# Calculate the number of distinct terms for 2 <= a <= 100 and 2 <= b <= 100\n",
        "result = count_distinct_powers(100, 100)\n",
        "print(\"The number of distinct terms is:\", result)\n"
      ],
      "metadata": {
        "colab": {
          "base_uri": "https://localhost:8080/"
        },
        "id": "1YihFJrHsTQj",
        "outputId": "0651e9b2-4a59-4f93-826f-db4e703cfd32"
      },
      "execution_count": null,
      "outputs": [
        {
          "output_type": "stream",
          "name": "stdout",
          "text": [
            "The number of distinct terms is: 9183\n"
          ]
        }
      ]
    },
    {
      "cell_type": "markdown",
      "source": [
        "# Problem 30: Digit Fifth Powers"
      ],
      "metadata": {
        "id": "OGZ_HTgWtool"
      }
    },
    {
      "cell_type": "markdown",
      "source": [],
      "metadata": {
        "id": "Uc92V-hBNKB3"
      }
    },
    {
      "cell_type": "code",
      "source": [
        "import multiprocessing\n",
        "\n",
        "# Precompute the fifth powers of digits 0-9\n",
        "fifth_powers = [i**5 for i in range(10)]\n",
        "\n",
        "def is_sum_of_fifth_powers(n):\n",
        "    \"\"\"Check if a number can be written as the sum of the fifth powers of its digits.\"\"\"\n",
        "    return n == sum(fifth_powers[int(digit)] for digit in str(n))\n",
        "\n",
        "def compute_range(start, end):\n",
        "    \"\"\"Compute the sum of numbers that are equal to the sum of the fifth powers of their digits in a given range.\"\"\"\n",
        "    return sum(n for n in range(start, end) if is_sum_of_fifth_powers(n))\n",
        "\n",
        "if __name__ == \"__main__\":\n",
        "    upper_limit = 354294\n",
        "    num_cores = multiprocessing.cpu_count()\n",
        "    chunk_size = upper_limit // num_cores\n",
        "    pool = multiprocessing.Pool(num_cores)\n",
        "\n",
        "    # Divide the range into chunks for each core to process\n",
        "    tasks = [(i, i + chunk_size) for i in range(2, upper_limit, chunk_size)]\n",
        "    results = pool.starmap(compute_range, tasks)\n",
        "\n",
        "    # Aggregate the results from all cores\n",
        "    total_sum = sum(results)\n",
        "    print(\"The sum of all the numbers that can be written as the sum of fifth powers of their digits is:\", total_sum)\n"
      ],
      "metadata": {
        "colab": {
          "base_uri": "https://localhost:8080/"
        },
        "id": "d8plgE-VtcoX",
        "outputId": "303a2ac5-0f33-4da2-99e7-e59aa5d474fb"
      },
      "execution_count": null,
      "outputs": [
        {
          "output_type": "stream",
          "name": "stdout",
          "text": [
            "The sum of all the numbers that can be written as the sum of fifth powers of their digits is: 443839\n"
          ]
        }
      ]
    },
    {
      "cell_type": "markdown",
      "source": [
        "# NProblem 31 - Coin Sums"
      ],
      "metadata": {
        "id": "ptAxSLSKNLZL"
      }
    },
    {
      "cell_type": "code",
      "source": [
        "def count_ways_to_make_amount(amount, coins):\n",
        "    # Initialize the dp array with zeros, and set dp[0] to 1\n",
        "    dp = [0] * (amount + 1)\n",
        "    dp[0] = 1\n",
        "\n",
        "    # Iterate over each coin\n",
        "    for coin in coins:\n",
        "        for x in range(coin, amount + 1):\n",
        "            dp[x] += dp[x - coin]\n",
        "\n",
        "    return dp[amount]\n",
        "\n",
        "# Given coin denominations\n",
        "coins = [1, 2, 5, 10, 20, 50, 100, 200]\n",
        "\n",
        "# The target amount is 200 pence (which is £2)\n",
        "target_amount = 200\n",
        "\n",
        "# Compute the number of ways to make £2 using any number of coins\n",
        "ways = count_ways_to_make_amount(target_amount, coins)\n",
        "\n",
        "print(f\"The number of different ways to make £2 is: {ways}\")"
      ],
      "metadata": {
        "id": "ff5NTTo5ut8g",
        "colab": {
          "base_uri": "https://localhost:8080/"
        },
        "outputId": "1cbda683-3b15-40cb-ba3b-f7d14fb8247a"
      },
      "execution_count": null,
      "outputs": [
        {
          "output_type": "stream",
          "name": "stdout",
          "text": [
            "The number of different ways to make £2 is: 73682\n"
          ]
        }
      ]
    },
    {
      "cell_type": "markdown",
      "source": [
        "# problem 32 - Pandigital Products"
      ],
      "metadata": {
        "id": "A7jfIhurOinD"
      }
    },
    {
      "cell_type": "code",
      "source": [
        "import itertools\n",
        "\n",
        "def is_pandigital(multiplicand, multiplier, product):\n",
        "    combined = f\"{multiplicand}{multiplier}{product}\"\n",
        "    return ''.join(sorted(combined)) == \"123456789\"\n",
        "\n",
        "def find_pandigital_products():\n",
        "    pandigital_products = set()\n",
        "    digits = '123456789'\n",
        "\n",
        "    # Generate all permutations of the digits 1 through 9\n",
        "    for perm in itertools.permutations(digits):\n",
        "        perm = ''.join(perm)\n",
        "\n",
        "        # Check different split points for multiplicand and multiplier\n",
        "        for i in range(1, 5):\n",
        "            for j in range(i + 1, 6):\n",
        "                multiplicand = int(perm[:i])\n",
        "                multiplier = int(perm[i:j])\n",
        "                product = int(perm[j:])\n",
        "\n",
        "                # Check if the multiplicand * multiplier equals the product\n",
        "                if multiplicand * multiplier == product:\n",
        "                    if is_pandigital(multiplicand, multiplier, product):\n",
        "                        pandigital_products.add(product)\n",
        "\n",
        "    return sum(pandigital_products)\n",
        "\n",
        "# Find the sum of all unique pandigital products\n",
        "result = find_pandigital_products()\n",
        "print(f\"The sum of all products whose identity is 1 through 9 pandigital is: {result}\")"
      ],
      "metadata": {
        "colab": {
          "base_uri": "https://localhost:8080/"
        },
        "id": "9FAc3B5hOE8_",
        "outputId": "894e0511-c3be-4ec9-940f-42b8e78da63b"
      },
      "execution_count": null,
      "outputs": [
        {
          "output_type": "stream",
          "name": "stdout",
          "text": [
            "The sum of all products whose identity is 1 through 9 pandigital is: 45228\n"
          ]
        }
      ]
    },
    {
      "cell_type": "markdown",
      "source": [
        "# Problem 33 - Digit Cancelling Fractions"
      ],
      "metadata": {
        "id": "GkbWw8BNPQWD"
      }
    },
    {
      "cell_type": "code",
      "source": [
        "from math import gcd\n",
        "\n",
        "def is_curious_fraction(numerator, denominator):\n",
        "    # Convert to strings for easier manipulation\n",
        "    num_str = str(numerator)\n",
        "    denom_str = str(denominator)\n",
        "\n",
        "    # Check if there is a common digit that is not zero\n",
        "    for digit in num_str:\n",
        "        if digit in denom_str and digit != '0':\n",
        "            # Remove the common digit\n",
        "            num_new = num_str.replace(digit, '', 1)\n",
        "            denom_new = denom_str.replace(digit, '', 1)\n",
        "\n",
        "            # Check if both new strings are non-empty and the division is correct\n",
        "            if num_new and denom_new and int(denom_new) != 0:\n",
        "                if int(num_new) / int(denom_new) == numerator / denominator:\n",
        "                    return True\n",
        "    return False\n",
        "\n",
        "# Identify the non-trivial curious fractions\n",
        "curious_fractions = []\n",
        "for numerator in range(10, 100):\n",
        "    for denominator in range(numerator + 1, 100):\n",
        "        if is_curious_fraction(numerator, denominator):\n",
        "            curious_fractions.append((numerator, denominator))\n",
        "\n",
        "# Calculate the product of the fractions\n",
        "num_product = 1\n",
        "denom_product = 1\n",
        "for num, denom in curious_fractions:\n",
        "    num_product *= num\n",
        "    denom_product *= denom\n",
        "\n",
        "# Simplify the product by dividing by the GCD\n",
        "common_divisor = gcd(num_product, denom_product)\n",
        "simplified_num = num_product // common_divisor\n",
        "simplified_denom = denom_product // common_divisor\n",
        "\n",
        "print(f\"The value of the denominator in its lowest common terms is: {simplified_denom}\")"
      ],
      "metadata": {
        "colab": {
          "base_uri": "https://localhost:8080/"
        },
        "id": "mRwbl99RO3hv",
        "outputId": "d3a562f8-94d5-49e8-aafe-eae6dcac9578"
      },
      "execution_count": null,
      "outputs": [
        {
          "output_type": "stream",
          "name": "stdout",
          "text": [
            "The value of the denominator in its lowest common terms is: 100\n"
          ]
        }
      ]
    },
    {
      "cell_type": "markdown",
      "source": [
        "# Problem 34 - Digit Factorials"
      ],
      "metadata": {
        "id": "QuSSsPmfPj7u"
      }
    },
    {
      "cell_type": "code",
      "source": [
        "def factorial(n):\n",
        "    \"\"\"Compute the factorial of n.\"\"\"\n",
        "    if n == 0 or n == 1:\n",
        "        return 1\n",
        "    result = 1\n",
        "    for i in range(2, n + 1):\n",
        "        result *= i\n",
        "    return result\n",
        "\n",
        "# Precompute the factorials of digits 0 to 9\n",
        "factorials = [factorial(i) for i in range(10)]\n",
        "\n",
        "def is_curious_number(number):\n",
        "    \"\"\"Check if a number is equal to the sum of the factorial of its digits.\"\"\"\n",
        "    return number == sum(factorials[int(digit)] for digit in str(number))\n",
        "\n",
        "# Find the sum of all curious numbers\n",
        "curious_sum = 0\n",
        "upper_limit = 7 * factorials[9]  # 7 * 9!\n",
        "\n",
        "for number in range(10, upper_limit):\n",
        "    if is_curious_number(number):\n",
        "        curious_sum += number\n",
        "\n",
        "print(f\"The sum of all numbers which are equal to the sum of the factorial of their digits is: {curious_sum}\")"
      ],
      "metadata": {
        "colab": {
          "base_uri": "https://localhost:8080/"
        },
        "id": "aODE0AiVPdq5",
        "outputId": "458416d3-5883-486f-ee71-5ee73bd5a6e5"
      },
      "execution_count": null,
      "outputs": [
        {
          "output_type": "stream",
          "name": "stdout",
          "text": [
            "The sum of all numbers which are equal to the sum of the factorial of their digits is: 40730\n"
          ]
        }
      ]
    },
    {
      "cell_type": "markdown",
      "source": [
        "# Problem 35 - Circular Primes"
      ],
      "metadata": {
        "id": "JDrG5oXtQV42"
      }
    },
    {
      "cell_type": "code",
      "source": [
        "def sieve_of_eratosthenes(limit):\n",
        "    is_prime = [True] * limit\n",
        "    is_prime[0] = is_prime[1] = False\n",
        "\n",
        "    for start in range(2, int(limit**0.5) + 1):\n",
        "        if is_prime[start]:\n",
        "            for multiple in range(start*start, limit, start):\n",
        "                is_prime[multiple] = False\n",
        "\n",
        "    primes = [num for num, prime in enumerate(is_prime) if prime]\n",
        "    return primes, is_prime\n",
        "\n",
        "def rotate_number(num):\n",
        "    s = str(num)\n",
        "    rotations = [int(s[i:] + s[:i]) for i in range(len(s))]\n",
        "    return rotations\n",
        "\n",
        "def is_circular_prime(num, prime_set):\n",
        "    rotations = rotate_number(num)\n",
        "    return all(rotation in prime_set for rotation in rotations)\n",
        "\n",
        "# Limit set to one million\n",
        "limit = 1000000\n",
        "\n",
        "# Generate all prime numbers below the limit\n",
        "primes, is_prime = sieve_of_eratosthenes(limit)\n",
        "prime_set = set(primes)\n",
        "\n",
        "# Find all circular primes\n",
        "circular_primes = []\n",
        "for prime in primes:\n",
        "    if is_circular_prime(prime, prime_set):\n",
        "        circular_primes.append(prime)\n",
        "\n",
        "# Result\n",
        "print(f\"The number of circular primes below one million is: {len(circular_primes)}\")"
      ],
      "metadata": {
        "colab": {
          "base_uri": "https://localhost:8080/"
        },
        "id": "dgWqRmlKQJbY",
        "outputId": "738a5856-6c8d-4685-f9b4-8d984c11adfc"
      },
      "execution_count": null,
      "outputs": [
        {
          "output_type": "stream",
          "name": "stdout",
          "text": [
            "The number of circular primes below one million is: 55\n"
          ]
        }
      ]
    },
    {
      "cell_type": "markdown",
      "source": [
        "# Problem 36 - Double-base Palindromes"
      ],
      "metadata": {
        "id": "jGRXC1vPRbYP"
      }
    },
    {
      "cell_type": "code",
      "source": [
        "def is_palindromic(s):\n",
        "    \"\"\" Check if a string is palindromic \"\"\"\n",
        "    return s == s[::-1]\n",
        "\n",
        "def is_palindromic_in_base(number, base):\n",
        "    \"\"\" Check if a number is palindromic in a given base \"\"\"\n",
        "    if base == 10:\n",
        "        return is_palindromic(str(number))\n",
        "    elif base == 2:\n",
        "        return is_palindromic(bin(number)[2:])\n",
        "    else:\n",
        "        raise ValueError(\"Base not supported\")\n",
        "\n",
        "def sum_double_base_palindromes(limit):\n",
        "    \"\"\" Find the sum of all numbers less than limit that are palindromic in both base 10 and base 2 \"\"\"\n",
        "    sum_palindromes = 0\n",
        "\n",
        "    for number in range(1, limit):\n",
        "        if is_palindromic_in_base(number, 10) and is_palindromic_in_base(number, 2):\n",
        "            sum_palindromes += number\n",
        "\n",
        "    return sum_palindromes\n",
        "\n",
        "# Set the limit to one million\n",
        "limit = 1000000\n",
        "\n",
        "# Calculate the sum of all double-base palindromic numbers below the limit\n",
        "result = sum_double_base_palindromes(limit)\n",
        "\n",
        "print(f\"The sum of all numbers less than one million which are palindromic in both bases is: {result}\")"
      ],
      "metadata": {
        "colab": {
          "base_uri": "https://localhost:8080/"
        },
        "id": "RaAmCQM3RRqc",
        "outputId": "a2519225-ba6c-4913-fc41-92456ea2edc9"
      },
      "execution_count": null,
      "outputs": [
        {
          "output_type": "stream",
          "name": "stdout",
          "text": [
            "The sum of all numbers less than one million which are palindromic in both bases is: 872187\n"
          ]
        }
      ]
    },
    {
      "cell_type": "markdown",
      "source": [
        "# Problem 37 - Truncatable Primes"
      ],
      "metadata": {
        "id": "aUFtMSGnR6u3"
      }
    },
    {
      "cell_type": "code",
      "source": [
        "def sieve_of_eratosthenes(limit):\n",
        "    \"\"\" Generate a list of primes up to limit using the Sieve of Eratosthenes. \"\"\"\n",
        "    is_prime = [True] * (limit + 1)\n",
        "    is_prime[0] = is_prime[1] = False\n",
        "\n",
        "    for start in range(2, int(limit**0.5) + 1):\n",
        "        if is_prime[start]:\n",
        "            for multiple in range(start * start, limit + 1, start):\n",
        "                is_prime[multiple] = False\n",
        "\n",
        "    primes = [num for num, prime in enumerate(is_prime) if prime]\n",
        "    return primes, is_prime\n",
        "\n",
        "def is_truncatable_prime(prime, is_prime):\n",
        "    \"\"\" Check if a prime is truncatable from left to right and right to left. \"\"\"\n",
        "    s = str(prime)\n",
        "\n",
        "    # Check truncation from left to right\n",
        "    for i in range(len(s)):\n",
        "        if not is_prime[int(s[i:])]:\n",
        "            return False\n",
        "\n",
        "    # Check truncation from right to left\n",
        "    for i in range(len(s)):\n",
        "        if not is_prime[int(s[:len(s)-i])]:\n",
        "            return False\n",
        "\n",
        "    return True\n",
        "\n",
        "def find_truncatable_primes():\n",
        "    limit = 1000000\n",
        "    primes, is_prime = sieve_of_eratosthenes(limit)\n",
        "    truncatable_primes = []\n",
        "\n",
        "    for prime in primes:\n",
        "        if prime > 7 and is_truncatable_prime(prime, is_prime):\n",
        "            truncatable_primes.append(prime)\n",
        "            if len(truncatable_primes) == 11:\n",
        "                break\n",
        "\n",
        "    return truncatable_primes\n",
        "\n",
        "# Find and sum the truncatable primes\n",
        "truncatable_primes = find_truncatable_primes()\n",
        "result = sum(truncatable_primes)\n",
        "\n",
        "print(f\"The sum of the only eleven primes that are both truncatable from left to right and right to left is: {result}\")"
      ],
      "metadata": {
        "colab": {
          "base_uri": "https://localhost:8080/"
        },
        "id": "8SAo4W3YR5Ed",
        "outputId": "854f6a03-7b98-473a-ba97-fa2d71f9ff73"
      },
      "execution_count": null,
      "outputs": [
        {
          "output_type": "stream",
          "name": "stdout",
          "text": [
            "The sum of the only eleven primes that are both truncatable from left to right and right to left is: 748317\n"
          ]
        }
      ]
    },
    {
      "cell_type": "markdown",
      "source": [
        "# Problem 38 - Pandigital Multiples"
      ],
      "metadata": {
        "id": "8n267NFSTF-D"
      }
    },
    {
      "cell_type": "code",
      "source": [
        "def is_pandigital(num_str):\n",
        "    return len(num_str) == 9 and set(num_str) == set('123456789')\n",
        "\n",
        "def concatenated_product(integer, n):\n",
        "    return ''.join(str(integer * i) for i in range(1, n + 1))\n",
        "\n",
        "def find_largest_pandigital():\n",
        "    largest_pandigital = 0\n",
        "    for integer in range(1, 10000):  # Upper bound chosen based on empirical observations\n",
        "        n = 1\n",
        "        while True:\n",
        "            concatenated = concatenated_product(integer, n)\n",
        "            if len(concatenated) > 9:\n",
        "                break\n",
        "            if is_pandigital(concatenated):\n",
        "                pandigital_number = int(concatenated)\n",
        "                if pandigital_number > largest_pandigital:\n",
        "                    largest_pandigital = pandigital_number\n",
        "            n += 1\n",
        "    return largest_pandigital\n",
        "\n",
        "# Execute the function to find the largest pandigital number\n",
        "largest_pandigital = find_largest_pandigital()\n",
        "print(largest_pandigital)"
      ],
      "metadata": {
        "colab": {
          "base_uri": "https://localhost:8080/"
        },
        "id": "oAxOJ-a5Snlj",
        "outputId": "0685197c-9673-4abf-c0f3-2bab62f804a9"
      },
      "execution_count": null,
      "outputs": [
        {
          "output_type": "stream",
          "name": "stdout",
          "text": [
            "932718654\n"
          ]
        }
      ]
    },
    {
      "cell_type": "markdown",
      "source": [
        "# Problem 39 - Integer Right Triangles"
      ],
      "metadata": {
        "id": "fAMNcN9xUi2q"
      }
    },
    {
      "cell_type": "code",
      "source": [
        "from collections import defaultdict\n",
        "import math\n",
        "\n",
        "def count_solutions(max_p):\n",
        "    solutions = defaultdict(int)\n",
        "\n",
        "    for a in range(1, max_p):\n",
        "        for b in range(a, (max_p - a) // 2):\n",
        "            c = math.sqrt(a * a + b * b)\n",
        "            if c.is_integer():\n",
        "                p = a + b + int(c)\n",
        "                if p <= max_p:\n",
        "                    solutions[p] += 1\n",
        "\n",
        "    return solutions\n",
        "\n",
        "def max_solutions_perimeter(max_p):\n",
        "    solutions = count_solutions(max_p)\n",
        "    max_p = max(solutions, key=solutions.get)\n",
        "    return max_p, solutions[max_p]\n",
        "\n",
        "max_p, max_count = max_solutions_perimeter(1000)\n",
        "\n",
        "print(f\"The perimeter ≤ 1000 that maximizes the number of right-angled triangles is: {max_p} with {max_count} solutions.\")"
      ],
      "metadata": {
        "colab": {
          "base_uri": "https://localhost:8080/"
        },
        "id": "Qdb5l9tJUVqV",
        "outputId": "86b6517d-be3b-4f6c-c75d-31e6d30f4907"
      },
      "execution_count": null,
      "outputs": [
        {
          "output_type": "stream",
          "name": "stdout",
          "text": [
            "The perimeter ≤ 1000 that maximizes the number of right-angled triangles is: 840 with 8 solutions.\n"
          ]
        }
      ]
    },
    {
      "cell_type": "markdown",
      "source": [
        "# Problem 40 - Champernowne's Constant"
      ],
      "metadata": {
        "id": "4Otl6qoAV9XQ"
      }
    },
    {
      "cell_type": "code",
      "source": [
        "def find_champernowne_digit_product():\n",
        "    # Initialize the concatenated string and the current number\n",
        "    champernowne = \"\"\n",
        "    current_number = 1\n",
        "\n",
        "    # Concatenate numbers until the length of the string is more than 1000000\n",
        "    while len(champernowne) <= 1000000:\n",
        "        champernowne += str(current_number)\n",
        "        current_number += 1\n",
        "\n",
        "    # Extract the required digits\n",
        "    d1 = int(champernowne[0])\n",
        "    d10 = int(champernowne[9])\n",
        "    d100 = int(champernowne[99])\n",
        "    d1000 = int(champernowne[999])\n",
        "    d10000 = int(champernowne[9999])\n",
        "    d100000 = int(champernowne[99999])\n",
        "    d1000000 = int(champernowne[999999])\n",
        "\n",
        "    # Compute the product\n",
        "    product = d1 * d10 * d100 * d1000 * d10000 * d100000 * d1000000\n",
        "\n",
        "    return product\n",
        "\n",
        "# Compute the result\n",
        "result = find_champernowne_digit_product()\n",
        "print(f\"The value of the expression is: {result}\")"
      ],
      "metadata": {
        "colab": {
          "base_uri": "https://localhost:8080/"
        },
        "id": "FVhkXOofVURw",
        "outputId": "34044e46-dbe7-4ac4-df13-a0c53e5868f0"
      },
      "execution_count": null,
      "outputs": [
        {
          "output_type": "stream",
          "name": "stdout",
          "text": [
            "The value of the expression is: 210\n"
          ]
        }
      ]
    },
    {
      "cell_type": "markdown",
      "source": [
        "# Problem 41 - Pandigital Prime"
      ],
      "metadata": {
        "id": "vfn3iRIWWz5j"
      }
    },
    {
      "cell_type": "code",
      "source": [
        "from itertools import permutations\n",
        "import math\n",
        "\n",
        "def is_prime(n):\n",
        "    \"\"\" Check if a number is prime using Miller-Rabin primality test \"\"\"\n",
        "    if n <= 1:\n",
        "        return False\n",
        "    if n <= 3:\n",
        "        return True\n",
        "    if n % 2 == 0 or n % 3 == 0:\n",
        "        return False\n",
        "    i = 5\n",
        "    while i * i <= n:\n",
        "        if n % i == 0 or n % (i + 2) == 0:\n",
        "            return False\n",
        "        i += 6\n",
        "    return True\n",
        "\n",
        "def largest_pandigital_prime():\n",
        "    \"\"\" Find the largest n-digit pandigital prime \"\"\"\n",
        "    # Generate permutations of digits for n=7 down to n=1\n",
        "    for n in range(7, 0, -1):\n",
        "        pandigitals = sorted(permutations('1234567'[:n]), reverse=True)\n",
        "        for pandigital in pandigitals:\n",
        "            number = int(''.join(pandigital))\n",
        "            if is_prime(number):\n",
        "                return number\n",
        "    return None\n",
        "\n",
        "# Find the result\n",
        "result = largest_pandigital_prime()\n",
        "print(f\"The largest n-digit pandigital prime is: {result}\")"
      ],
      "metadata": {
        "colab": {
          "base_uri": "https://localhost:8080/"
        },
        "id": "3K1b45ovWsfZ",
        "outputId": "e5fbdf98-86e5-4965-b0f9-815b3a6ad423"
      },
      "execution_count": null,
      "outputs": [
        {
          "output_type": "stream",
          "name": "stdout",
          "text": [
            "The largest n-digit pandigital prime is: 7652413\n"
          ]
        }
      ]
    },
    {
      "cell_type": "markdown",
      "source": [
        "# Problem 42 - Coded Triangle Numbers"
      ],
      "metadata": {
        "id": "2OWEJYnQXq0f"
      }
    },
    {
      "cell_type": "code",
      "source": [
        "import itertools\n",
        "\n",
        "# Predefined list of words\n",
        "WORDS = [\n",
        "    \"A\", \"ABILITY\", \"ABLE\", \"ABOUT\", \"ABOVE\", \"ABSENCE\", \"ABSOLUTELY\", \"ACADEMIC\", \"ACCEPT\", \"ACCESS\",\n",
        "    \"ACCIDENT\", \"ACCOMPANY\", \"ACCORDING\", \"ACCOUNT\", \"ACHIEVE\", \"ACHIEVEMENT\", \"ACID\", \"ACQUIRE\", \"ACROSS\", \"ACT\",\n",
        "    \"ACTION\", \"ACTIVE\", \"ACTIVITY\", \"ACTUAL\", \"ACTUALLY\", \"ADD\", \"ADDITION\", \"ADDITIONAL\", \"ADDRESS\", \"ADMINISTRATION\",\n",
        "    \"ADMIT\", \"ADOPT\", \"ADULT\", \"ADVANCE\", \"ADVANTAGE\", \"ADVICE\", \"ADVISE\", \"AFFAIR\", \"AFFECT\", \"AFFORD\",\n",
        "    \"AFRAID\", \"AFTER\", \"AFTERNOON\", \"AFTERWARDS\", \"AGAIN\", \"AGAINST\", \"AGE\", \"AGENCY\", \"AGENT\", \"AGO\",\n",
        "    \"AGREE\", \"AGREEMENT\", \"AHEAD\", \"AID\", \"AIM\", \"AIR\", \"AIRCRAFT\", \"ALL\", \"ALLOW\", \"ALMOST\",\n",
        "    \"ALONE\", \"ALONG\", \"ALREADY\", \"ALRIGHT\", \"ALSO\", \"ALTERNATIVE\", \"ALTHOUGH\", \"ALWAYS\", \"AMONG\", \"AMONGST\",\n",
        "    \"AMOUNT\", \"AN\", \"ANALYSIS\", \"ANCIENT\", \"AND\", \"ANIMAL\", \"ANNOUNCE\", \"ANNUAL\", \"ANOTHER\", \"ANSWER\",\n",
        "    \"ANY\", \"ANYBODY\", \"ANYONE\", \"ANYTHING\", \"ANYWAY\", \"APART\", \"APPARENT\", \"APPARENTLY\", \"APPEAL\", \"APPEAR\",\n",
        "    \"APPEARANCE\", \"APPLICATION\", \"APPLY\", \"APPOINT\", \"APPOINTMENT\", \"APPROACH\", \"APPROPRIATE\", \"APPROVE\", \"AREA\", \"ARGUE\",\n",
        "    \"ARGUMENT\", \"ARISE\", \"ARM\", \"ARMY\", \"AROUND\", \"ARRANGE\", \"ARRANGEMENT\", \"ARRIVE\", \"ART\", \"ARTICLE\",\n",
        "    \"ARTIST\", \"AS\", \"ASK\", \"ASPECT\", \"ASSEMBLY\", \"ASSESS\", \"ASSESSMENT\", \"ASSET\", \"ASSOCIATE\", \"ASSOCIATION\",\n",
        "    \"ASSUME\", \"ASSUMPTION\", \"AT\", \"ATMOSPHERE\", \"ATTACH\", \"ATTACK\", \"ATTEMPT\", \"ATTEND\", \"ATTENTION\", \"ATTITUDE\",\n",
        "    \"ATTRACT\", \"ATTRACTIVE\", \"AUDIENCE\", \"AUTHOR\", \"AUTHORITY\", \"AVAILABLE\", \"AVERAGE\", \"AVOID\", \"AWARD\", \"AWARE\",\n",
        "    \"AWAY\", \"AYE\", \"BABY\", \"BACK\", \"BACKGROUND\", \"BAD\", \"BAG\", \"BALANCE\", \"BALL\", \"BAND\",\n",
        "    \"BANK\", \"BAR\", \"BASE\", \"BASIC\", \"BASIS\", \"BATTLE\", \"BE\", \"BEAR\", \"BEAT\", \"BEAUTIFUL\",\n",
        "    \"BECAUSE\", \"BECOME\", \"BED\", \"BEDROOM\", \"BEFORE\", \"BEGIN\", \"BEGINNING\", \"BEHAVIOUR\", \"BEHIND\", \"BELIEF\",\n",
        "    \"BELIEVE\", \"BELONG\", \"BELOW\", \"BENEATH\", \"BENEFIT\", \"BESIDE\", \"BEST\", \"BETTER\", \"BETWEEN\", \"BEYOND\",\n",
        "    \"BIG\", \"BILL\", \"BIND\", \"BIRD\", \"BIRTH\", \"BIT\", \"BLACK\", \"BLOCK\", \"BLOOD\", \"BLOODY\",\n",
        "    \"BLOW\", \"BLUE\", \"BOARD\", \"BOAT\", \"BODY\", \"BONE\", \"BOOK\", \"BORDER\", \"BOTH\", \"BOTTLE\",\n",
        "    \"BOTTOM\", \"BOX\", \"BOY\", \"BRAIN\", \"BRANCH\", \"BREAK\", \"BREATH\", \"BRIDGE\", \"BRIEF\", \"BRIGHT\",\n",
        "    \"BRING\", \"BROAD\", \"BROTHER\", \"BUDGET\", \"BUILD\", \"BUILDING\", \"BURN\", \"BUS\", \"BUSINESS\", \"BUSY\",\n",
        "    \"BUT\", \"BUY\", \"BY\", \"CABINET\", \"CALL\", \"CAMPAIGN\", \"CAN\", \"CANDIDATE\", \"CAPABLE\", \"CAPACITY\",\n",
        "    \"CAPITAL\", \"CAR\", \"CARD\", \"CARE\", \"CAREER\", \"CAREFUL\", \"CAREFULLY\", \"CARRY\", \"CASE\", \"CASH\",\n",
        "    \"CAT\", \"CATCH\", \"CATEGORY\", \"CAUSE\", \"CELL\", \"CENTRAL\", \"CENTRE\", \"CENTURY\", \"CERTAIN\", \"CERTAINLY\",\n",
        "    \"CHAIN\", \"CHAIR\", \"CHAIRMAN\", \"CHALLENGE\", \"CHANCE\", \"CHANGE\", \"CHANNEL\", \"CHAPTER\", \"CHARACTER\", \"CHARACTERISTIC\",\n",
        "    \"CHARGE\", \"CHEAP\", \"CHECK\", \"CHEMICAL\", \"CHIEF\", \"CHILD\", \"CHOICE\", \"CHOOSE\", \"CHURCH\", \"CIRCLE\",\n",
        "    \"CIRCUMSTANCE\", \"CITIZEN\", \"CITY\", \"CIVIL\", \"CLAIM\", \"CLASS\", \"CLEAN\", \"CLEAR\", \"CLEARLY\", \"CLIENT\",\n",
        "    \"CLIMB\", \"CLOSE\", \"CLOSELY\", \"CLOTHES\", \"CLUB\", \"COAL\", \"CODE\", \"COFFEE\", \"COLD\", \"COLLEAGUE\",\n",
        "    \"COLLECT\", \"COLLECTION\", \"COLLEGE\", \"COLOUR\", \"COMBINATION\", \"COMBINE\", \"COME\", \"COMMENT\", \"COMMERCIAL\", \"COMMISSION\",\n",
        "    \"COMMIT\", \"COMMITMENT\", \"COMMITTEE\", \"COMMON\", \"COMMUNICATION\", \"COMMUNITY\", \"COMPANY\", \"COMPARE\", \"COMPARISON\", \"COMPETITION\",\n",
        "    \"COMPLETE\", \"COMPLETELY\", \"COMPLEX\", \"COMPONENT\", \"COMPUTER\", \"CONCENTRATE\", \"CONCENTRATION\", \"CONCEPT\", \"CONCERN\", \"CONCERNED\",\n",
        "    \"CONCLUDE\", \"CONCLUSION\", \"CONDITION\", \"CONDUCT\", \"CONFERENCE\", \"CONFIDENCE\", \"CONFIRM\", \"CONFLICT\", \"CONGRESS\", \"CONNECT\",\n",
        "    \"CONNECTION\", \"CONSEQUENCE\", \"CONSERVATIVE\", \"CONSIDER\", \"CONSIDERABLE\", \"CONSIDERATION\", \"CONSIST\", \"CONSTANT\", \"CONSTRUCTION\", \"CONSUMER\",\n",
        "    \"CONTACT\", \"CONTAIN\", \"CONTENT\", \"CONTEXT\", \"CONTINUE\", \"CONTRACT\", \"CONTRAST\", \"CONTRIBUTE\", \"CONTRIBUTION\", \"CONTROL\",\n",
        "    \"CONVENTION\", \"CONVERSATION\", \"COPY\", \"CORNER\", \"CORPORATE\", \"CORRECT\", \"COS\", \"COST\", \"COULD\", \"COUNCIL\",\n",
        "    \"COUNT\", \"COUNTRY\", \"COUNTY\", \"COUPLE\", \"COURSE\", \"COURT\", \"COVER\", \"CREATE\", \"CREATION\", \"CREDIT\",\n",
        "    \"CRIME\", \"CRIMINAL\", \"CRISIS\", \"CRITERION\", \"CRITICAL\", \"CRITICISM\", \"CROSS\", \"CROWD\", \"CRY\", \"CULTURAL\",\n",
        "    \"CULTURE\", \"CUP\", \"CURRENT\", \"CURRENTLY\", \"CURRICULUM\", \"CUSTOMER\", \"CUT\", \"DAMAGE\", \"DANGER\", \"DANGEROUS\",\n",
        "    \"DARK\", \"DATA\", \"DATE\", \"DAUGHTER\", \"DAY\", \"DEAD\", \"DEAL\", \"DEATH\", \"DEBATE\", \"DEBT\",\n",
        "    \"DECADE\", \"DECIDE\", \"DECISION\", \"DECLARE\", \"DEEP\", \"DEFENCE\", \"DEFENDANT\", \"DEFINE\", \"DEFINITION\", \"DEGREE\",\n",
        "    \"DELIVER\", \"DEMAND\", \"DEMOCRATIC\", \"DEMONSTRATE\", \"DENY\", \"DEPARTMENT\", \"DEPEND\", \"DEPUTY\", \"DERIVE\", \"DESCRIBE\",\n",
        "    \"DESCRIPTION\", \"DESIGN\", \"DESIRE\", \"DESK\", \"DESPITE\", \"DESTROY\", \"DETAIL\", \"DETAILED\", \"DETERMINE\", \"DEVELOP\",\n",
        "    \"DEVELOPMENT\", \"DEVICE\", \"DIE\", \"DIFFERENCE\", \"DIFFERENT\", \"DIFFICULT\", \"DIFFICULTY\", \"DINNER\", \"DIRECT\", \"DIRECTION\",\n",
        "    \"DIRECTLY\", \"DIRECTOR\", \"DISAPPEAR\", \"DISCIPLINE\", \"DISCOVER\", \"DISCUSS\", \"DISCUSSION\", \"DISEASE\", \"DISPLAY\", \"DISTANCE\",\n",
        "    \"DISTINCTION\", \"DISTRIBUTION\", \"DISTRICT\", \"DIVIDE\", \"DIVISION\", \"DO\", \"DOCTOR\", \"DOCUMENT\", \"DOG\", \"DOMESTIC\",\n",
        "    \"DOOR\", \"DOUBLE\", \"DOUBT\", \"DOWN\", \"DRAW\", \"DRAWING\", \"DREAM\", \"DRESS\", \"DRINK\", \"DRIVE\",\n",
        "    \"DRIVER\", \"DROP\", \"DRUG\", \"DRY\", \"DUE\", \"DURING\", \"DUTY\", \"EACH\", \"EAR\", \"EARLY\",\n",
        "    \"EARN\", \"EARTH\", \"EASILY\", \"EAST\", \"EASY\", \"EAT\", \"ECONOMIC\", \"ECONOMY\", \"EDGE\", \"EDITOR\",\n",
        "    \"EDUCATION\", \"EDUCATIONAL\", \"EFFECT\", \"EFFECTIVE\", \"EFFECTIVELY\", \"EFFORT\", \"EGG\", \"EITHER\", \"ELDERLY\", \"ELECTION\",\n",
        "    \"ELEMENT\", \"ELSE\", \"ELSEWHERE\", \"EMERGE\", \"EMPHASIS\", \"EMPLOY\", \"EMPLOYEE\", \"EMPLOYER\", \"EMPLOYMENT\", \"EMPTY\",\n",
        "    \"ENABLE\", \"ENCOURAGE\", \"END\", \"ENEMY\", \"ENERGY\", \"ENGINE\", \"ENGINEERING\", \"ENJOY\", \"ENOUGH\", \"ENSURE\",\n",
        "    \"ENTER\", \"ENTERPRISE\", \"ENTIRE\", \"ENTIRELY\", \"ENTITLE\", \"ENTRY\", \"ENVIRONMENT\", \"ENVIRONMENTAL\", \"EQUAL\", \"EQUALLY\",\n",
        "    \"EQUIPMENT\", \"ERROR\", \"ESCAPE\", \"ESPECIALLY\", \"ESSENTIAL\", \"ESTABLISH\", \"ESTABLISHMENT\", \"ESTATE\", \"ESTIMATE\", \"EVEN\",\n",
        "    \"EVENING\", \"EVENT\", \"EVENTUALLY\", \"EVER\", \"EVERY\", \"EVERYBODY\", \"EVERYONE\", \"EVERYTHING\", \"EVIDENCE\", \"EXACTLY\",\n",
        "    \"EXAMINATION\", \"EXAMINE\", \"EXAMPLE\", \"EXCELLENT\", \"EXCEPT\", \"EXCHANGE\", \"EXECUTIVE\", \"EXERCISE\", \"EXHIBITION\", \"EXIST\",\n",
        "    \"EXISTENCE\", \"EXISTING\", \"EXPECT\", \"EXPECTATION\", \"EXPENDITURE\", \"EXPENSE\", \"EXPENSIVE\", \"EXPERIENCE\", \"EXPERIMENT\", \"EXPERT\",\n",
        "    \"EXPLAIN\", \"EXPLANATION\", \"EXPLORE\", \"EXPRESS\", \"EXPRESSION\", \"EXTEND\", \"EXTENT\", \"EXTERNAL\", \"EXTRA\", \"EXTREMELY\",\n",
        "    \"EYE\", \"FACE\", \"FACILITY\", \"FACT\", \"FACTOR\", \"FACTORY\", \"FAIL\", \"FAILURE\", \"FAIR\", \"FAIRLY\",\n",
        "    \"FAITH\", \"FALL\", \"FAMILIAR\", \"FAMILY\", \"FAMOUS\", \"FAR\", \"FARM\", \"FARMER\", \"FASHION\", \"FAST\",\n",
        "    \"FATHER\", \"FAVOUR\", \"FEAR\", \"FEATURE\", \"FEE\", \"FEEL\", \"FEELING\", \"FEMALE\", \"FEW\", \"FIELD\",\n",
        "    \"FIGHT\", \"FIGURE\", \"FILE\", \"FILL\", \"FILM\", \"FINAL\", \"FINALLY\", \"FINANCE\", \"FINANCIAL\", \"FIND\",\n",
        "    \"FINDING\", \"FINE\", \"FINGER\", \"FINISH\", \"FIRE\", \"FIRM\", \"FIRST\", \"FISH\", \"FIT\", \"FIX\",\n",
        "    \"FLAT\", \"FLIGHT\", \"FLOOR\", \"FLOW\", \"FLOWER\", \"FLY\", \"FOCUS\", \"FOLLOW\", \"FOLLOWING\", \"FOOD\",\n",
        "    \"FOOT\", \"FOOTBALL\", \"FOR\", \"FORCE\", \"FOREIGN\", \"FOREST\", \"FORGET\", \"FORM\", \"FORMAL\", \"FORMER\",\n",
        "    \"FORWARD\", \"FOUNDATION\", \"FREE\", \"FREEDOM\", \"FREQUENTLY\", \"FRESH\", \"FRIEND\", \"FROM\", \"FRONT\", \"FRUIT\",\n",
        "    \"FUEL\", \"FULL\", \"FULLY\", \"FUNCTION\", \"FUND\", \"FUNNY\", \"FURTHER\", \"FUTURE\", \"GAIN\", \"GAME\",\n",
        "    \"GARDEN\", \"GAS\", \"GATE\", \"GATHER\", \"GENERAL\", \"GENERALLY\", \"GENERATE\", \"GENERATION\", \"GENTLEMAN\", \"GET\",\n",
        "    \"GIRL\", \"GIVE\", \"GLASS\", \"GO\", \"GOAL\", \"GOD\", \"GOLD\", \"GOOD\", \"GOVERNMENT\", \"GRANT\",\n",
        "    \"GREAT\", \"GREEN\", \"GREY\", \"GROUND\", \"GROUP\", \"GROW\", \"GROWING\", \"GROWTH\", \"GUEST\", \"GUIDE\",\n",
        "    \"GUN\", \"HAIR\", \"HALF\", \"HALL\", \"HAND\", \"HANDLE\", \"HANG\", \"HAPPEN\", \"HAPPY\", \"HARD\",\n",
        "    \"HARDLY\", \"HATE\", \"HAVE\", \"HE\", \"HEAD\", \"HEALTH\", \"HEAR\", \"HEART\", \"HEAT\", \"HEAVY\",\n",
        "    \"HELL\", \"HELP\", \"HENCE\", \"HER\", \"HERE\", \"HERSELF\", \"HIDE\", \"HIGH\", \"HIGHLY\", \"HILL\",\n",
        "    \"HIM\", \"HIMSELF\", \"HIS\", \"HISTORICAL\", \"HISTORY\", \"HIT\", \"HOLD\", \"HOLE\", \"HOLIDAY\", \"HOME\",\n",
        "    \"HOPE\", \"HORSE\", \"HOSPITAL\", \"HOT\", \"HOTEL\", \"HOUR\", \"HOUSE\", \"HOUSEHOLD\", \"HOUSING\", \"HOW\",\n",
        "    \"HOWEVER\", \"HUGE\", \"HUMAN\", \"HURT\", \"HUSBAND\", \"I\", \"IDEA\", \"IDENTIFY\", \"IF\", \"IGNORE\",\n",
        "    \"ILLUSTRATE\", \"IMAGE\", \"IMAGINE\", \"IMMEDIATE\", \"IMMEDIATELY\", \"IMPACT\", \"IMPLICATION\", \"IMPLY\", \"IMPORTANCE\", \"IMPORTANT\",\n",
        "    \"IMPOSE\", \"IMPOSSIBLE\", \"IMPRESSION\", \"IMPROVE\", \"IMPROVEMENT\", \"IN\", \"INCIDENT\", \"INCLUDE\", \"INCLUDING\", \"INCOME\",\n",
        "    \"INCREASE\", \"INCREASED\", \"INCREASINGLY\", \"INDEED\", \"INDEPENDENT\", \"INDEX\", \"INDICATE\", \"INDIVIDUAL\", \"INDUSTRIAL\", \"INDUSTRY\",\n",
        "    \"INFLUENCE\", \"INFORM\", \"INFORMATION\", \"INITIAL\", \"INITIATIVE\", \"INJURY\", \"INSIDE\", \"INSIST\", \"INSTANCE\", \"INSTEAD\",\n",
        "    \"INSTITUTE\", \"INSTITUTION\", \"INSTRUCTION\", \"INSTRUMENT\", \"INSURANCE\", \"INTEND\", \"INTENTION\", \"INTEREST\", \"INTERESTED\", \"INTERESTING\",\n",
        "    \"INTERNAL\", \"INTERNATIONAL\", \"INTERPRETATION\", \"INTERVIEW\", \"INTO\", \"INTRODUCE\", \"INTRODUCTION\", \"INVESTIGATE\", \"INVESTIGATION\", \"INVESTMENT\",\n",
        "    \"INVITE\", \"INVOLVE\", \"IRON\", \"IS\", \"ISLAND\", \"ISSUE\", \"IT\", \"ITEM\", \"ITS\", \"ITSELF\",\n",
        "    \"JOB\", \"JOIN\", \"JOINT\", \"JOURNEY\", \"JUDGE\", \"JUMP\", \"JUST\", \"JUSTICE\", \"KEEP\", \"KEY\",\n",
        "    \"KID\", \"KILL\", \"KIND\", \"KING\", \"KITCHEN\", \"KNEE\", \"KNOW\", \"KNOWLEDGE\", \"LABOUR\", \"LACK\",\n",
        "    \"LADY\", \"LAND\", \"LANGUAGE\", \"LARGE\", \"LARGELY\", \"LAST\", \"LATE\", \"LATER\", \"LATTER\", \"LAUGH\",\n",
        "    \"LAUNCH\", \"LAW\", \"LAWYER\", \"LAY\", \"LEAD\", \"LEADER\", \"LEADERSHIP\", \"LEADING\", \"LEAF\", \"LEAGUE\",\n",
        "    \"LEAN\", \"LEARN\", \"LEAST\", \"LEAVE\", \"LEFT\", \"LEG\", \"LEGAL\", \"LEGISLATION\", \"LENGTH\", \"LESS\",\n",
        "    \"LET\", \"LETTER\", \"LEVEL\", \"LIABILITY\", \"LIBERAL\", \"LIBRARY\", \"LIE\", \"LIFE\", \"LIFT\", \"LIGHT\",\n",
        "    \"LIKE\", \"LIKELY\", \"LIMIT\", \"LIMITED\", \"LINE\", \"LINK\", \"LIP\", \"LIST\", \"LISTEN\", \"LITERATURE\",\n",
        "    \"LITTLE\", \"LIVE\", \"LIVING\", \"LOAN\", \"LOCAL\", \"LOCATION\", \"LONG\", \"LOOK\", \"LORD\", \"LOSE\",\n",
        "    \"LOSS\", \"LOT\", \"LOVE\", \"LOVELY\", \"LOW\", \"LUNCH\", \"MACHINE\", \"MAGAZINE\", \"MAIN\", \"MAINLY\",\n",
        "    \"MAINTAIN\", \"MAJOR\", \"MAJORITY\", \"MAKE\", \"MALE\", \"MAN\", \"MANAGE\", \"MANAGEMENT\", \"MANAGER\", \"MANNER\",\n",
        "    \"MANY\", \"MAP\", \"MARK\", \"MARKET\", \"MARRIAGE\", \"MARRIED\", \"MARRY\", \"MASS\", \"MASTER\", \"MATCH\",\n",
        "    \"MATERIAL\", \"MATTER\", \"MAY\", \"MAYBE\", \"ME\", \"MEAL\", \"MEAN\", \"MEANING\", \"MEANS\", \"MEANWHILE\",\n",
        "    \"MEASURE\", \"MECHANISM\", \"MEDIA\", \"MEDICAL\", \"MEET\", \"MEETING\", \"MEMBER\", \"MEMBERSHIP\", \"MEMORY\", \"MENTAL\",\n",
        "    \"MENTION\", \"MERELY\", \"MESSAGE\", \"METAL\", \"METHOD\", \"MIDDLE\", \"MIGHT\", \"MILE\", \"MILITARY\", \"MILK\",\n",
        "    \"MIND\", \"MINE\", \"MINISTER\", \"MINISTRY\", \"MINUTE\", \"MISS\", \"MISTAKE\", \"MODEL\", \"MODERN\", \"MODULE\",\n",
        "    \"MOMENT\", \"MONEY\", \"MONTH\", \"MORE\", \"MORNING\", \"MOST\", \"MOTHER\", \"MOTION\", \"MOTOR\", \"MOUNTAIN\",\n",
        "    \"MOUTH\", \"MOVE\", \"MOVEMENT\", \"MUCH\", \"MURDER\", \"MUSEUM\", \"MUSIC\", \"MUST\", \"MY\", \"MYSELF\",\n",
        "    \"NAME\", \"NARROW\", \"NATION\", \"NATIONAL\", \"NATURAL\", \"NATURE\", \"NEAR\", \"NEARLY\", \"NECESSARILY\", \"NECESSARY\",\n",
        "    \"NECK\", \"NEED\", \"NEGOTIATION\", \"NEIGHBOUR\", \"NEITHER\", \"NETWORK\", \"NEVER\", \"NEVERTHELESS\", \"NEW\", \"NEWS\",\n",
        "    \"NEWSPAPER\", \"NEXT\", \"NICE\", \"NIGHT\", \"NO\", \"NOBODY\", \"NOD\", \"NOISE\", \"NONE\", \"NOR\",\n",
        "    \"NORMAL\", \"NORMALLY\", \"NORTH\", \"NORTHERN\", \"NOSE\", \"NOT\", \"NOTE\", \"NOTHING\", \"NOTICE\", \"NOTION\",\n",
        "    \"NOW\", \"NUCLEAR\", \"NUMBER\", \"NURSE\", \"OBJECT\", \"OBJECTIVE\", \"OBSERVATION\", \"OBSERVE\", \"OBTAIN\", \"OBVIOUS\",\n",
        "    \"OBVIOUSLY\", \"OCCASION\", \"OCCUR\", \"ODD\", \"OF\", \"OFF\", \"OFFENCE\", \"OFFER\", \"OFFICE\", \"OFFICER\",\n",
        "    \"OFFICIAL\", \"OFTEN\", \"OIL\", \"OKAY\", \"OLD\", \"ON\", \"ONCE\", \"ONE\", \"ONLY\", \"ONTO\",\n",
        "    \"OPEN\", \"OPERATE\", \"OPERATION\", \"OPINION\", \"OPPORTUNITY\", \"OPPOSITION\", \"OPTION\", \"OR\", \"ORDER\", \"ORDINARY\",\n",
        "    \"ORGANISATION\", \"ORGANISE\", \"ORGANIZATION\", \"ORIGIN\", \"ORIGINAL\", \"OTHER\", \"OTHERWISE\", \"OUGHT\", \"OUR\", \"OURSELVES\",\n",
        "    \"OUT\", \"OUTCOME\", \"OUTPUT\", \"OUTSIDE\", \"OVER\", \"OVERALL\", \"OWN\", \"OWNER\", \"PACKAGE\", \"PAGE\",\n",
        "    \"PAIN\", \"PAINT\", \"PAINTING\", \"PAIR\", \"PANEL\", \"PAPER\", \"PARENT\", \"PARK\", \"PARLIAMENT\", \"PART\",\n",
        "    \"PARTICULAR\", \"PARTICULARLY\", \"PARTLY\", \"PARTNER\", \"PARTY\", \"PASS\", \"PASSAGE\", \"PAST\", \"PATH\", \"PATIENT\",\n",
        "    \"PATTERN\", \"PAY\", \"PAYMENT\", \"PEACE\", \"PENSION\", \"PEOPLE\", \"PER\", \"PERCENT\", \"PERFECT\", \"PERFORM\",\n",
        "    \"PERFORMANCE\", \"PERHAPS\", \"PERIOD\", \"PERMANENT\", \"PERSON\", \"PERSONAL\", \"PERSUADE\", \"PHASE\", \"PHONE\", \"PHOTOGRAPH\",\n",
        "    \"PHYSICAL\", \"PICK\", \"PICTURE\", \"PIECE\", \"PLACE\", \"PLAN\", \"PLANNING\", \"PLANT\", \"PLASTIC\", \"PLATE\",\n",
        "    \"PLAY\", \"PLAYER\", \"PLEASE\", \"PLEASURE\", \"PLENTY\", \"PLUS\", \"POCKET\", \"POINT\", \"POLICE\", \"POLICY\",\n",
        "    \"POLITICAL\", \"POLITICS\", \"POOL\", \"POOR\", \"POPULAR\", \"POPULATION\", \"POSITION\", \"POSITIVE\", \"POSSIBILITY\", \"POSSIBLE\",\n",
        "    \"POSSIBLY\", \"POST\", \"POTENTIAL\", \"POUND\", \"POWER\", \"POWERFUL\", \"PRACTICAL\", \"PRACTICE\", \"PREFER\", \"PREPARE\",\n",
        "    \"PRESENCE\", \"PRESENT\", \"PRESIDENT\", \"PRESS\", \"PRESSURE\", \"PRETTY\", \"PREVENT\", \"PREVIOUS\", \"PREVIOUSLY\", \"PRICE\",\n",
        "    \"PRIMARY\", \"PRIME\", \"PRINCIPLE\", \"PRIORITY\", \"PRISON\", \"PRISONER\", \"PRIVATE\", \"PROBABLY\", \"PROBLEM\", \"PROCEDURE\",\n",
        "    \"PROCESS\", \"PRODUCE\", \"PRODUCT\", \"PRODUCTION\", \"PROFESSIONAL\", \"PROFIT\", \"PROGRAM\", \"PROGRAMME\", \"PROGRESS\", \"PROJECT\",\n",
        "    \"PROMISE\", \"PROMOTE\", \"PROPER\", \"PROPERLY\", \"PROPERTY\", \"PROPORTION\", \"PROPOSE\", \"PROPOSAL\", \"PROSPECT\", \"PROTECT\",\n",
        "    \"PROTECTION\", \"PROVE\", \"PROVIDE\", \"PROVIDED\", \"PROVISION\", \"PUB\", \"PUBLIC\", \"PUBLICATION\", \"PUBLISH\", \"PULL\",\n",
        "    \"PUPIL\", \"PURPOSE\", \"PUSH\", \"PUT\", \"QUALITY\", \"QUARTER\", \"QUESTION\", \"QUICK\", \"QUICKLY\", \"QUIET\",\n",
        "    \"QUITE\", \"RACE\", \"RADIO\", \"RAILWAY\", \"RAIN\", \"RAISE\", \"RANGE\", \"RAPIDLY\", \"RARE\", \"RATE\",\n",
        "    \"RATHER\", \"REACH\", \"REACTION\", \"READ\", \"READER\", \"READING\", \"READY\", \"REAL\", \"REALISE\", \"REALITY\",\n",
        "    \"REALIZE\", \"REALLY\", \"REASON\", \"REASONABLE\", \"RECALL\", \"RECEIVE\", \"RECENT\", \"RECENTLY\", \"RECOGNISE\", \"RECOGNITION\",\n",
        "    \"RECOGNIZE\", \"RECOMMEND\", \"RECORD\", \"RECOVER\", \"RED\", \"REDUCE\", \"REDUCTION\", \"REFER\", \"REFERENCE\", \"REFLECT\",\n",
        "    \"REFORM\", \"REFUSE\", \"REGARD\", \"REGION\", \"REGIONAL\", \"REGULAR\", \"REGULATION\", \"REJECT\", \"RELATE\", \"RELATION\",\n",
        "    \"RELATIONSHIP\", \"RELATIVE\", \"RELATIVELY\", \"RELEASE\", \"RELEVANT\", \"RELIEF\", \"RELIGION\", \"RELIGIOUS\", \"RELY\", \"REMAIN\",\n",
        "    \"REMEMBER\", \"REMIND\", \"REMOVE\", \"REPEAT\", \"REPLACE\", \"REPLY\", \"REPORT\", \"REPRESENT\", \"REPRESENTATION\", \"REPRESENTATIVE\",\n",
        "    \"REQUEST\", \"REQUIRE\", \"REQUIREMENT\", \"RESEARCH\", \"RESOURCE\", \"RESPECT\", \"RESPOND\", \"RESPONSE\", \"RESPONSIBILITY\", \"RESPONSIBLE\",\n",
        "    \"REST\", \"RESTAURANT\", \"RESULT\", \"RETAIN\", \"RETURN\", \"REVEAL\", \"REVENUE\", \"REVIEW\", \"REVOLUTION\", \"RICH\",\n",
        "    \"RIDE\", \"RIGHT\", \"RING\", \"RISE\", \"RISK\", \"RIVER\", \"ROAD\", \"ROCK\", \"ROLE\", \"ROLL\",\n",
        "    \"ROOF\", \"ROOM\", \"ROUND\", \"ROUTE\", \"ROW\", \"ROYAL\", \"RULE\", \"RUN\", \"RURAL\", \"SAFE\",\n",
        "    \"SAFETY\", \"SALE\", \"SAME\", \"SAMPLE\", \"SATISFY\", \"SAVE\", \"SAY\", \"SCALE\", \"SCENE\", \"SCHEME\",\n",
        "    \"SCHOOL\", \"SCIENCE\", \"SCIENTIFIC\", \"SCIENTIST\", \"SCORE\", \"SCREEN\", \"SEA\", \"SEARCH\", \"SEASON\", \"SEAT\",\n",
        "    \"SECOND\", \"SECONDARY\", \"SECRETARY\", \"SECTION\", \"SECTOR\", \"SECURE\", \"SECURITY\", \"SEE\", \"SEEK\", \"SEEM\",\n",
        "    \"SELECT\", \"SELECTION\", \"SELL\", \"SEND\", \"SENIOR\", \"SENSE\", \"SENTENCE\", \"SEPARATE\", \"SEQUENCE\", \"SERIES\",\n",
        "    \"SERIOUS\", \"SERIOUSLY\", \"SERVANT\", \"SERVE\", \"SERVICE\", \"SESSION\", \"SET\", \"SETTLE\", \"SETTLEMENT\", \"SEVERAL\",\n",
        "    \"SEVERE\", \"SEX\", \"SEXUAL\", \"SHAKE\", \"SHALL\", \"SHAPE\", \"SHARE\", \"SHE\", \"SHEET\", \"SHIP\",\n",
        "    \"SHOE\", \"SHOOT\", \"SHOP\", \"SHORT\", \"SHOT\", \"SHOULD\", \"SHOULDER\", \"SHOUT\", \"SHOW\", \"SHUT\",\n",
        "    \"SIDE\", \"SIGHT\", \"SIGN\", \"SIGNAL\", \"SIGNIFICANCE\", \"SIGNIFICANT\", \"SILENCE\", \"SIMILAR\", \"SIMPLE\", \"SIMPLY\",\n",
        "    \"SINCE\", \"SING\", \"SINGLE\", \"SIR\", \"SISTER\", \"SIT\", \"SITE\", \"SITUATION\", \"SIZE\", \"SKILL\",\n",
        "    \"SKIN\", \"SKY\", \"SLEEP\", \"SLIGHTLY\", \"SLIP\", \"SLOW\", \"SLOWLY\", \"SMALL\", \"SMILE\", \"SO\",\n",
        "    \"SOCIAL\", \"SOCIETY\", \"SOFT\", \"SOFTWARE\", \"SOIL\", \"SOLDIER\", \"SOLICITOR\", \"SOLUTION\", \"SOME\", \"SOMEBODY\",\n",
        "    \"SOMEONE\", \"SOMETHING\", \"SOMETIMES\", \"SOMEWHAT\", \"SOMEWHERE\", \"SON\", \"SONG\", \"SOON\", \"SORRY\", \"SORT\",\n",
        "    \"SOUND\", \"SOURCE\", \"SOUTH\", \"SOUTHERN\", \"SPACE\", \"SPEAK\", \"SPEAKER\", \"SPECIAL\", \"SPECIES\", \"SPECIFIC\",\n",
        "    \"SPEECH\", \"SPEED\", \"SPEND\", \"SPIRIT\", \"SPORT\", \"SPOT\", \"SPREAD\", \"SPRING\", \"STAFF\", \"STAGE\",\n",
        "    \"STAND\", \"STANDARD\", \"STAR\", \"START\", \"STATE\", \"STATEMENT\", \"STATION\", \"STATUS\", \"STAY\", \"STEAL\",\n",
        "    \"STEP\", \"STICK\", \"STILL\", \"STOCK\", \"STONE\", \"STOP\", \"STORE\", \"STORY\", \"STRAIGHT\", \"STRANGE\",\n",
        "    \"STRATEGY\", \"STREET\", \"STRENGTH\", \"STRIKE\", \"STRONG\", \"STRONGLY\", \"STRUCTURE\", \"STUDENT\", \"STUDIO\", \"STUDY\",\n",
        "    \"STUFF\", \"STYLE\", \"SUBJECT\", \"SUBSTANTIAL\", \"SUCCEED\", \"SUCCESS\", \"SUCCESSFUL\", \"SUCH\", \"SUDDENLY\", \"SUFFER\",\n",
        "    \"SUFFICIENT\", \"SUGGEST\", \"SUGGESTION\", \"SUITABLE\", \"SUM\", \"SUMMER\", \"SUN\", \"SUPPLY\", \"SUPPORT\", \"SUPPOSE\",\n",
        "    \"SURE\", \"SURELY\", \"SURFACE\", \"SURPRISE\", \"SURROUND\", \"SURVEY\", \"SURVIVE\", \"SWITCH\", \"SYSTEM\", \"TABLE\",\n",
        "    \"TAKE\", \"TALK\", \"TALL\", \"TAPE\", \"TARGET\", \"TASK\", \"TAX\", \"TEA\", \"TEACH\", \"TEACHER\",\n",
        "    \"TEACHING\", \"TEAM\", \"TEAR\", \"TECHNICAL\", \"TECHNIQUE\", \"TECHNOLOGY\", \"TELEPHONE\", \"TELEVISION\", \"TELL\", \"TEMPERATURE\",\n",
        "    \"TEND\", \"TERM\", \"TERMS\", \"TERRIBLE\", \"TEST\", \"TEXT\", \"THAN\", \"THANK\", \"THANKS\", \"THAT\",\n",
        "    \"THE\", \"THEATRE\", \"THEIR\", \"THEM\", \"THEME\", \"THEMSELVES\", \"THEN\", \"THEORY\", \"THERE\", \"THEREFORE\",\n",
        "    \"THESE\", \"THEY\", \"THIN\", \"THING\", \"THINK\", \"THIS\", \"THOSE\", \"THOUGH\", \"THOUGHT\", \"THREAT\",\n",
        "    \"THREATEN\", \"THROUGH\", \"THROUGHOUT\", \"THROW\", \"THUS\", \"TICKET\", \"TIME\", \"TINY\", \"TITLE\", \"TO\",\n",
        "    \"TODAY\", \"TOGETHER\", \"TOMORROW\", \"TONE\", \"TONIGHT\", \"TOO\", \"TOOL\", \"TOOTH\", \"TOP\", \"TOTAL\",\n",
        "    \"TOTALLY\", \"TOUCH\", \"TOUR\", \"TOWARDS\", \"TOWN\", \"TRACK\", \"TRADE\", \"TRADITION\", \"TRADITIONAL\", \"TRAFFIC\",\n",
        "    \"TRAIN\", \"TRAINING\", \"TRANSFER\", \"TRANSPORT\", \"TRAVEL\", \"TREAT\", \"TREATMENT\", \"TREATY\", \"TREE\", \"TREND\",\n",
        "    \"TRIAL\", \"TRIP\", \"TROOP\", \"TROUBLE\", \"TRUE\", \"TRUST\", \"TRUTH\", \"TRY\", \"TURN\", \"TWICE\",\n",
        "    \"TYPE\", \"TYPICAL\", \"UNABLE\", \"UNDER\", \"UNDERSTAND\", \"UNDERSTANDING\", \"UNDERTAKE\", \"UNEMPLOYMENT\", \"UNFORTUNATELY\", \"UNION\",\n",
        "    \"UNIT\", \"UNITED\", \"UNIVERSITY\", \"UNLESS\", \"UNLIKELY\", \"UNTIL\", \"UP\", \"UPON\", \"UPPER\", \"URBAN\",\n",
        "    \"US\", \"USE\", \"USED\", \"USEFUL\", \"USER\", \"USUAL\", \"USUALLY\", \"VALUE\", \"VARIATION\", \"VARIETY\",\n",
        "    \"VARIOUS\", \"VARY\", \"VAST\", \"VEHICLE\", \"VERSION\", \"VERY\", \"VIA\", \"VICTIM\", \"VICTORY\", \"VIDEO\",\n",
        "    \"VIEW\", \"VILLAGE\", \"VIOLENCE\", \"VISION\", \"VISIT\", \"VISITOR\", \"VITAL\", \"VOICE\", \"VOLUME\", \"VOTE\",\n",
        "    \"WAGE\", \"WAIT\", \"WALK\", \"WALL\", \"WANT\", \"WAR\", \"WARM\", \"WARN\", \"WASH\", \"WATCH\",\n",
        "    \"WATER\", \"WAVE\", \"WAY\", \"WE\", \"WEAK\", \"WEAPON\", \"WEAR\", \"WEATHER\", \"WEEK\", \"WEEKEND\",\n",
        "    \"WEIGHT\", \"WELCOME\", \"WELFARE\", \"WELL\", \"WEST\", \"WESTERN\", \"WHAT\", \"WHATEVER\", \"WHEN\", \"WHERE\",\n",
        "    \"WHEREAS\", \"WHETHER\", \"WHICH\", \"WHILE\", \"WHILST\", \"WHITE\", \"WHO\", \"WHOLE\", \"WHOM\", \"WHOSE\",\n",
        "    \"WHY\", \"WIDE\", \"WIDELY\", \"WIFE\", \"WILD\", \"WILL\", \"WIN\", \"WIND\", \"WINDOW\", \"WINE\",\n",
        "    \"WING\", \"WINNER\", \"WINTER\", \"WISH\", \"WITH\", \"WITHDRAW\", \"WITHIN\", \"WITHOUT\", \"WOMAN\", \"WONDER\",\n",
        "    \"WONDERFUL\", \"WOOD\", \"WORD\", \"WORK\", \"WORKER\", \"WORKING\", \"WORKS\", \"WORLD\", \"WORRY\", \"WORTH\",\n",
        "    \"WOULD\", \"WRITE\", \"WRITER\", \"WRITING\", \"WRONG\", \"YARD\", \"YEAH\", \"YEAR\", \"YES\", \"YESTERDAY\",\n",
        "    \"YET\", \"YOU\", \"YOUNG\", \"YOUR\", \"YOURSELF\", \"YOUTH\",\n",
        "]\n",
        "\n",
        "def is_triangular_number(n):\n",
        "    temp = 0\n",
        "    for i in itertools.count():\n",
        "        temp += i\n",
        "        if n == temp:\n",
        "            return True\n",
        "        elif n < temp:\n",
        "            return False\n",
        "\n",
        "def compute():\n",
        "    ans = sum(1\n",
        "              for s in WORDS\n",
        "              if is_triangular_number(sum((ord(c) - ord('A') + 1) for c in s)))\n",
        "    return str(ans)\n",
        "\n",
        "if __name__ == \"__main__\":\n",
        "    print(compute())"
      ],
      "metadata": {
        "colab": {
          "base_uri": "https://localhost:8080/"
        },
        "id": "LcrJks5MXX9r",
        "outputId": "0f920933-a302-45a1-88fa-a3c04dd7d617"
      },
      "execution_count": null,
      "outputs": [
        {
          "output_type": "stream",
          "name": "stdout",
          "text": [
            "162\n"
          ]
        }
      ]
    },
    {
      "cell_type": "markdown",
      "source": [
        "# Problem 43 - Sub-string Divisibility"
      ],
      "metadata": {
        "id": "ydEBCmXMZv3E"
      }
    },
    {
      "cell_type": "code",
      "source": [
        "import itertools\n",
        "\n",
        "def has_sub_string_divisibility_property(number):\n",
        "    \"\"\" Check if the number has the sub-string divisibility property \"\"\"\n",
        "    primes = [2, 3, 5, 7, 11, 13, 17]\n",
        "    # Convert the number to a string\n",
        "    num_str = str(number)\n",
        "\n",
        "    # Check each divisibility rule\n",
        "    for i in range(1, 8):\n",
        "        substring = int(num_str[i:i+3])\n",
        "        if substring % primes[i-1] != 0:\n",
        "            return False\n",
        "    return True\n",
        "\n",
        "def compute():\n",
        "    # Generate all 0 to 9 pandigital numbers\n",
        "    pandigital_numbers = itertools.permutations('0123456789')\n",
        "    total_sum = 0\n",
        "\n",
        "    for p in pandigital_numbers:\n",
        "        # Convert tuple to integer\n",
        "        num = int(''.join(p))\n",
        "        if has_sub_string_divisibility_property(num):\n",
        "            total_sum += num\n",
        "\n",
        "    return total_sum\n",
        "\n",
        "# Calculate the result\n",
        "result = compute()\n",
        "print(f\"The sum of all 0 to 9 pandigital numbers with the sub-string divisibility property is: {result}\")"
      ],
      "metadata": {
        "colab": {
          "base_uri": "https://localhost:8080/"
        },
        "id": "mSBDReyJZrhe",
        "outputId": "066539af-0b80-4a50-8301-b5460760cfff"
      },
      "execution_count": null,
      "outputs": [
        {
          "output_type": "stream",
          "name": "stdout",
          "text": [
            "The sum of all 0 to 9 pandigital numbers with the sub-string divisibility property is: 16695334890\n"
          ]
        }
      ]
    },
    {
      "cell_type": "markdown",
      "source": [
        "# Problem 44 - Pentagon Numbers"
      ],
      "metadata": {
        "id": "XS-Chu4Gaq27"
      }
    },
    {
      "cell_type": "code",
      "source": [
        "import math\n",
        "\n",
        "def pentagonal_number(n):\n",
        "    \"\"\"Return the n-th pentagonal number.\"\"\"\n",
        "    return n * (3 * n - 1) // 2\n",
        "\n",
        "def is_pentagonal(x):\n",
        "    \"\"\"Check if x is a pentagonal number.\"\"\"\n",
        "    n = (math.sqrt(24 * x + 1) + 1) / 6\n",
        "    return n.is_integer()\n",
        "\n",
        "def find_minimal_pentagonal_difference():\n",
        "    pentagonals = [pentagonal_number(i) for i in range(1, 3000)]\n",
        "    pentagonal_set = set(pentagonals)\n",
        "    min_diff = float('inf')\n",
        "\n",
        "    for i in range(len(pentagonals)):\n",
        "        for j in range(i + 1, len(pentagonals)):\n",
        "            pj = pentagonals[i]\n",
        "            pk = pentagonals[j]\n",
        "            if (pk + pj) in pentagonal_set and (pk - pj) in pentagonal_set:\n",
        "                diff = pk - pj\n",
        "                if diff < min_diff:\n",
        "                    min_diff = diff\n",
        "\n",
        "    return min_diff\n",
        "\n",
        "# Calculate the result\n",
        "result = find_minimal_pentagonal_difference()\n",
        "print(f\"The minimal difference D is: {result}\")"
      ],
      "metadata": {
        "colab": {
          "base_uri": "https://localhost:8080/"
        },
        "id": "JV2MWyjCahFS",
        "outputId": "bbd10937-8e28-4aeb-870a-82f95f95e97d"
      },
      "execution_count": null,
      "outputs": [
        {
          "output_type": "stream",
          "name": "stdout",
          "text": [
            "The minimal difference D is: 5482660\n"
          ]
        }
      ]
    },
    {
      "cell_type": "markdown",
      "source": [
        "# Problem 45 - Triangular, Pentagonal, and Hexagonal"
      ],
      "metadata": {
        "id": "K8X6wqUgbMNT"
      }
    },
    {
      "cell_type": "code",
      "source": [
        "def is_pentagonal(x):\n",
        "    # Using the inverse of the pentagonal number formula\n",
        "    n = (1 + (1 + 24 * x) ** 0.5) / 6\n",
        "    return n.is_integer()\n",
        "\n",
        "def is_hexagonal(x):\n",
        "    # Using the inverse of the hexagonal number formula\n",
        "    n = (1 + (1 + 8 * x) ** 0.5) / 4\n",
        "    return n.is_integer()\n",
        "\n",
        "def find_next_triangle_pentagonal_hexagonal(start_n):\n",
        "    n = start_n\n",
        "    while True:\n",
        "        T_n = n * (n + 1) // 2  # Generate triangle number\n",
        "        if T_n > 40755 and is_pentagonal(T_n) and is_hexagonal(T_n):\n",
        "            return T_n\n",
        "        n += 1\n",
        "\n",
        "# Start from n = 286 since T_285 = 40755\n",
        "next_triangle_pentagonal_hexagonal = find_next_triangle_pentagonal_hexagonal(286)\n",
        "print(next_triangle_pentagonal_hexagonal)"
      ],
      "metadata": {
        "colab": {
          "base_uri": "https://localhost:8080/"
        },
        "id": "WglLJiErbClS",
        "outputId": "69478002-33d5-4530-a62c-58b569980b67"
      },
      "execution_count": null,
      "outputs": [
        {
          "output_type": "stream",
          "name": "stdout",
          "text": [
            "1533776805\n"
          ]
        }
      ]
    },
    {
      "cell_type": "markdown",
      "source": [
        "# Problem 46 - Goldbach's Other Conjecture"
      ],
      "metadata": {
        "id": "-aMBuQBqcRpO"
      }
    },
    {
      "cell_type": "code",
      "source": [
        "import math\n",
        "\n",
        "def sieve_of_eratosthenes(limit):\n",
        "    \"\"\"Generate list of primes up to the limit using the Sieve of Eratosthenes.\"\"\"\n",
        "    sieve = [True] * (limit + 1)\n",
        "    sieve[0] = sieve[1] = False  # 0 and 1 are not primes\n",
        "    for start in range(2, int(math.sqrt(limit)) + 1):\n",
        "        if sieve[start]:\n",
        "            for multiple in range(start*start, limit + 1, start):\n",
        "                sieve[multiple] = False\n",
        "    return [num for num, is_prime in enumerate(sieve) if is_prime]\n",
        "\n",
        "def is_prime(n, primes_set):\n",
        "    \"\"\"Check if a number is prime given a set of primes.\"\"\"\n",
        "    return n in primes_set\n",
        "\n",
        "def find_smallest_odd_composite(limit):\n",
        "    primes = sieve_of_eratosthenes(limit)\n",
        "    primes_set = set(primes)\n",
        "\n",
        "    def can_be_written_as_sum_of_prime_and_twice_square(n):\n",
        "        for prime in primes:\n",
        "            if prime > n:\n",
        "                break\n",
        "            k = math.sqrt((n - prime) / 2)\n",
        "            if k.is_integer():\n",
        "                return True\n",
        "        return False\n",
        "\n",
        "    number = 9  # Starting with the smallest odd composite number\n",
        "    while True:\n",
        "        if number not in primes_set and not can_be_written_as_sum_of_prime_and_twice_square(number):\n",
        "            return number\n",
        "        number += 2\n",
        "\n",
        "# Finding the smallest odd composite that cannot be written as the sum of a prime and twice a square\n",
        "result = find_smallest_odd_composite(10000)\n",
        "print(f\"The smallest odd composite that cannot be written as the sum of a prime and twice a square is: {result}\")"
      ],
      "metadata": {
        "colab": {
          "base_uri": "https://localhost:8080/"
        },
        "id": "XRYjbL0ScF9Q",
        "outputId": "4fcbb332-d45d-42ac-97d4-7fb43734b451"
      },
      "execution_count": null,
      "outputs": [
        {
          "output_type": "stream",
          "name": "stdout",
          "text": [
            "The smallest odd composite that cannot be written as the sum of a prime and twice a square is: 5777\n"
          ]
        }
      ]
    },
    {
      "cell_type": "markdown",
      "source": [
        "#  Problem 47 - Distinct Primes Factors"
      ],
      "metadata": {
        "id": "USqEgHZkdBSs"
      }
    },
    {
      "cell_type": "code",
      "source": [
        "import math\n",
        "\n",
        "def sieve_of_eratosthenes(limit):\n",
        "    \"\"\"Generate list of primes up to the limit using the Sieve of Eratosthenes.\"\"\"\n",
        "    sieve = [True] * (limit + 1)\n",
        "    sieve[0] = sieve[1] = False  # 0 and 1 are not primes\n",
        "    for start in range(2, int(math.sqrt(limit)) + 1):\n",
        "        if sieve[start]:\n",
        "            for multiple in range(start*start, limit + 1, start):\n",
        "                sieve[multiple] = False\n",
        "    return [num for num, is_prime in enumerate(sieve) if is_prime]\n",
        "\n",
        "def count_distinct_prime_factors(n, primes):\n",
        "    \"\"\"Count the number of distinct prime factors of n using the list of primes.\"\"\"\n",
        "    count = 0\n",
        "    for prime in primes:\n",
        "        if prime * prime > n:\n",
        "            break\n",
        "        if n % prime == 0:\n",
        "            count += 1\n",
        "            while n % prime == 0:\n",
        "                n //= prime\n",
        "    if n > 1:  # If n is still greater than 1, then it is a prime factor itself.\n",
        "        count += 1\n",
        "    return count\n",
        "\n",
        "def find_consecutive_numbers_with_n_distinct_prime_factors(n, limit):\n",
        "    primes = sieve_of_eratosthenes(limit)\n",
        "    consecutive_count = 0\n",
        "    for i in range(2, limit):\n",
        "        if count_distinct_prime_factors(i, primes) == n:\n",
        "            consecutive_count += 1\n",
        "            if consecutive_count == n:\n",
        "                return i - n + 1\n",
        "        else:\n",
        "            consecutive_count = 0\n",
        "    return None\n",
        "\n",
        "# Finding the first four consecutive integers to have four distinct prime factors each\n",
        "limit = 200000  # Set a limit high enough to find the solution\n",
        "result = find_consecutive_numbers_with_n_distinct_prime_factors(4, limit)\n",
        "print(f\"The first of the four consecutive numbers to have four distinct prime factors each is: {result}\")"
      ],
      "metadata": {
        "colab": {
          "base_uri": "https://localhost:8080/"
        },
        "id": "vzXiN4dBcxkm",
        "outputId": "af3c781b-b585-41b2-cb57-139ae9edc842"
      },
      "execution_count": null,
      "outputs": [
        {
          "output_type": "stream",
          "name": "stdout",
          "text": [
            "The first of the four consecutive numbers to have four distinct prime factors each is: 134043\n"
          ]
        }
      ]
    },
    {
      "cell_type": "markdown",
      "source": [
        "# Problem 48 - Self Powers"
      ],
      "metadata": {
        "id": "5CtQvnKFeAmr"
      }
    },
    {
      "cell_type": "code",
      "source": [
        "def last_ten_digits_of_series(limit, modulo):\n",
        "    total_sum = 0\n",
        "    for i in range(1, limit + 1):\n",
        "        total_sum += pow(i, i, modulo)\n",
        "        total_sum %= modulo\n",
        "    return total_sum\n",
        "\n",
        "# Constants\n",
        "LIMIT = 1000\n",
        "MODULO = 10**10\n",
        "\n",
        "# Calculate the last ten digits of the series\n",
        "result = last_ten_digits_of_series(LIMIT, MODULO)\n",
        "print(f\"The last ten digits of the series are: {result:010d}\")"
      ],
      "metadata": {
        "colab": {
          "base_uri": "https://localhost:8080/"
        },
        "id": "5oWd1TIsd2a5",
        "outputId": "f7c1f5aa-0794-4e2f-fea4-b7f485dcb33c"
      },
      "execution_count": null,
      "outputs": [
        {
          "output_type": "stream",
          "name": "stdout",
          "text": [
            "The last ten digits of the series are: 9110846700\n"
          ]
        }
      ]
    },
    {
      "cell_type": "markdown",
      "source": [
        "# Problem 49 - Prime Permutations"
      ],
      "metadata": {
        "id": "nW9pnfv_ez0y"
      }
    },
    {
      "cell_type": "code",
      "source": [
        "import itertools\n",
        "\n",
        "def sieve_of_eratosthenes(limit):\n",
        "    \"\"\"Generate list of primes up to the limit using the Sieve of Eratosthenes.\"\"\"\n",
        "    sieve = [True] * (limit + 1)\n",
        "    sieve[0] = sieve[1] = False  # 0 and 1 are not primes\n",
        "    for start in range(2, int(limit**0.5) + 1):\n",
        "        if sieve[start]:\n",
        "            for multiple in range(start*start, limit + 1, start):\n",
        "                sieve[multiple] = False\n",
        "    return [num for num, is_prime in enumerate(sieve) if is_prime and num >= 1000 and num < 10000]\n",
        "\n",
        "def is_permutation(a, b):\n",
        "    \"\"\"Check if two numbers are permutations of each other.\"\"\"\n",
        "    return sorted(str(a)) == sorted(str(b))\n",
        "\n",
        "def find_arithmetic_sequence(primes):\n",
        "    \"\"\"Find the 4-digit prime permutations that form an arithmetic sequence.\"\"\"\n",
        "    prime_set = set(primes)\n",
        "    for prime in primes:\n",
        "        permutations = [int(''.join(p)) for p in itertools.permutations(str(prime))]\n",
        "        permutations = sorted(set([p for p in permutations if p in prime_set and p > prime]))\n",
        "        for i in range(len(permutations)):\n",
        "            for j in range(i + 1, len(permutations)):\n",
        "                k = permutations[j] + (permutations[j] - permutations[i])\n",
        "                if k in prime_set and is_permutation(permutations[i], k):\n",
        "                    return permutations[i], permutations[j], k\n",
        "    return None\n",
        "\n",
        "# Generate all 4-digit primes\n",
        "primes = sieve_of_eratosthenes(9999)\n",
        "\n",
        "# Find the arithmetic sequence\n",
        "sequence = find_arithmetic_sequence(primes)\n",
        "\n",
        "# Form the 12-digit number by concatenating the terms\n",
        "result = ''.join(map(str, sequence))\n",
        "print(f\"The 12-digit number formed by concatenating the terms is: {result}\")"
      ],
      "metadata": {
        "colab": {
          "base_uri": "https://localhost:8080/"
        },
        "id": "-DYqCkZeenxN",
        "outputId": "c5343289-6ccb-41d3-9c7f-c237d6712912"
      },
      "execution_count": null,
      "outputs": [
        {
          "output_type": "stream",
          "name": "stdout",
          "text": [
            "The 12-digit number formed by concatenating the terms is: 296962999629\n"
          ]
        }
      ]
    },
    {
      "cell_type": "markdown",
      "source": [
        "# Problem 50 - Consecutive Prime Sum"
      ],
      "metadata": {
        "id": "OTfAmFmmft1R"
      }
    },
    {
      "cell_type": "code",
      "source": [
        "import itertools\n",
        "\n",
        "def sieve_of_eratosthenes(limit):\n",
        "    \"\"\"Generate list of primes up to the limit using the Sieve of Eratosthenes.\"\"\"\n",
        "    sieve = [True] * (limit + 1)\n",
        "    sieve[0] = sieve[1] = False  # 0 and 1 are not primes\n",
        "    for start in range(2, int(limit**0.5) + 1):\n",
        "        if sieve[start]:\n",
        "            for multiple in range(start * start, limit + 1, start):\n",
        "                sieve[multiple] = False\n",
        "    return [num for num, is_prime in enumerate(sieve) if is_prime]\n",
        "\n",
        "def find_longest_sum_of_consecutive_primes(limit):\n",
        "    primes = sieve_of_eratosthenes(limit)\n",
        "    prime_set = set(primes)\n",
        "    max_length = 0\n",
        "    max_prime = 0\n",
        "\n",
        "    for start in range(len(primes)):\n",
        "        for end in range(start + max_length, len(primes)):\n",
        "            prime_sum = sum(primes[start:end])\n",
        "            if prime_sum > limit:\n",
        "                break\n",
        "            if prime_sum in prime_set:\n",
        "                max_length = end - start\n",
        "                max_prime = prime_sum\n",
        "\n",
        "    return max_prime, max_length\n",
        "\n",
        "# Define the limit\n",
        "LIMIT = 1000000\n",
        "\n",
        "# Find the prime below one million that can be written as the sum of the most consecutive primes\n",
        "result, length = find_longest_sum_of_consecutive_primes(LIMIT)\n",
        "print(f\"The prime below one million that can be written as the sum of the most consecutive primes is: {result}\")\n",
        "print(f\"The length of the consecutive prime sum sequence is: {length}\")"
      ],
      "metadata": {
        "colab": {
          "base_uri": "https://localhost:8080/"
        },
        "id": "7YAdQHbufiDT",
        "outputId": "5aa49105-a006-41e7-a1f3-c5df80d243ad"
      },
      "execution_count": null,
      "outputs": [
        {
          "output_type": "stream",
          "name": "stdout",
          "text": [
            "The prime below one million that can be written as the sum of the most consecutive primes is: 997651\n",
            "The length of the consecutive prime sum sequence is: 543\n"
          ]
        }
      ]
    },
    {
      "cell_type": "markdown",
      "source": [
        "# Problem 51 - Prime Digit Replacements"
      ],
      "metadata": {
        "id": "kXLc4qQDeCaf"
      }
    },
    {
      "cell_type": "code",
      "source": [
        "from itertools import combinations\n",
        "from sympy import isprime\n",
        "\n",
        "def replace_digits(number, indices, digit):\n",
        "    number = list(str(number))\n",
        "    for index in indices:\n",
        "        number[index] = digit\n",
        "    return int(\"\".join(number))\n",
        "\n",
        "def find_smallest_prime_family(size):\n",
        "    number = 56003\n",
        "    while True:\n",
        "        str_num = str(number)\n",
        "        num_length = len(str_num)\n",
        "        for num_digits in range(1, num_length):\n",
        "            for indices in combinations(range(num_length), num_digits):\n",
        "                prime_family = []\n",
        "                for digit in '0123456789':\n",
        "                    if indices[0] == 0 and digit == '0':  # Skip leading zeroes\n",
        "                        continue\n",
        "                    candidate = replace_digits(number, indices, digit)\n",
        "                    if isprime(candidate):\n",
        "                        prime_family.append(candidate)\n",
        "                if len(prime_family) == size:\n",
        "                    return min(prime_family)\n",
        "        number += 1\n",
        "\n",
        "smallest_prime = find_smallest_prime_family(8)\n",
        "print(smallest_prime)"
      ],
      "metadata": {
        "id": "6JvbvA6YhIIN",
        "colab": {
          "base_uri": "https://localhost:8080/"
        },
        "outputId": "d9fb3d8b-b8eb-4d3e-8915-3e6983bee906"
      },
      "execution_count": null,
      "outputs": [
        {
          "output_type": "stream",
          "name": "stdout",
          "text": [
            "121313\n"
          ]
        }
      ]
    },
    {
      "cell_type": "markdown",
      "source": [
        "# Problem 52 - Permuted Multiples"
      ],
      "metadata": {
        "id": "qHe7UtwHeKq2"
      }
    },
    {
      "cell_type": "code",
      "source": [
        "def same_digits(a, b):\n",
        "    return sorted(str(a)) == sorted(str(b))\n",
        "\n",
        "def find_smallest_integer():\n",
        "    x = 1\n",
        "    while True:\n",
        "        if (same_digits(x, 2*x) and\n",
        "            same_digits(x, 3*x) and\n",
        "            same_digits(x, 4*x) and\n",
        "            same_digits(x, 5*x) and\n",
        "            same_digits(x, 6*x)):\n",
        "            return x\n",
        "        x += 1\n",
        "\n",
        "result = find_smallest_integer()\n",
        "print(result)"
      ],
      "metadata": {
        "colab": {
          "base_uri": "https://localhost:8080/"
        },
        "id": "9gANRBZ8eULP",
        "outputId": "f4918861-c833-4b2e-ef9b-db4dd769ce32"
      },
      "execution_count": null,
      "outputs": [
        {
          "output_type": "stream",
          "name": "stdout",
          "text": [
            "142857\n"
          ]
        }
      ]
    },
    {
      "cell_type": "markdown",
      "source": [
        "# Problem 53 - Combinatoric Selections"
      ],
      "metadata": {
        "id": "tnQnNbG6eUwZ"
      }
    },
    {
      "cell_type": "code",
      "source": [
        "import math\n",
        "\n",
        "def factorial(n):\n",
        "    \"\"\"Compute the factorial of n.\"\"\"\n",
        "    return math.factorial(n)\n",
        "\n",
        "def binomial_coefficient(n, r):\n",
        "    \"\"\"Compute the binomial coefficient (n choose r).\"\"\"\n",
        "    if r > n:\n",
        "        return 0\n",
        "    return factorial(n) // (factorial(r) * factorial(n - r))\n",
        "\n",
        "def count_large_binomials(limit, threshold):\n",
        "    \"\"\"Count the binomial coefficients greater than the threshold.\"\"\"\n",
        "    count = 0\n",
        "    for n in range(1, limit + 1):\n",
        "        for r in range(0, n + 1):\n",
        "            if binomial_coefficient(n, r) > threshold:\n",
        "                count += 1\n",
        "    return count\n",
        "\n",
        "# Define the limit and threshold\n",
        "limit = 100\n",
        "threshold = 1000000\n",
        "\n",
        "# Count the large binomial coefficients\n",
        "result = count_large_binomials(limit, threshold)\n",
        "print(result)"
      ],
      "metadata": {
        "colab": {
          "base_uri": "https://localhost:8080/"
        },
        "id": "g_A-YxJ1eY9S",
        "outputId": "5a9fd356-57b1-49e5-edec-648c6074f72b"
      },
      "execution_count": null,
      "outputs": [
        {
          "output_type": "stream",
          "name": "stdout",
          "text": [
            "4075\n"
          ]
        }
      ]
    },
    {
      "cell_type": "markdown",
      "source": [
        "# Problem 54 - Poker Hands"
      ],
      "metadata": {
        "id": "mgLRR2tNhQWA"
      }
    },
    {
      "cell_type": "code",
      "source": [
        "def compute():\n",
        "    # Count how many hands Player 1 wins\n",
        "    ans = sum(1 for handpair in HANDS if is_player1_win(handpair))\n",
        "    return str(ans)\n",
        "\n",
        "\n",
        "def is_player1_win(handpair):\n",
        "    # Parse cards and divide among players\n",
        "    cards = [parse_card(item) for item in handpair.split(\" \")]\n",
        "    assert len(cards) == 10\n",
        "    player1 = cards[:5]\n",
        "    player2 = cards[5:]\n",
        "    # Compare hand scores\n",
        "    return get_score(player1) > get_score(player2)\n",
        "\n",
        "\n",
        "def get_score(hand):\n",
        "    assert len(hand) == 5\n",
        "\n",
        "    # rankcounts[i] is the number of cards with the rank of i\n",
        "    rankcounts = [sum(1 for (rank, _) in hand if rank == i) for i in range(13)]\n",
        "\n",
        "    # rankcounthist[i] is the number of times a rank count of i occurs.\n",
        "    rankcounthist = [rankcounts.count(i) for i in range(6)]\n",
        "\n",
        "    # flushsuit is in the range [0,3] if all cards have that suit; otherwise -1\n",
        "    minsuit = min(suit for (_, suit) in hand)\n",
        "    maxsuit = max(suit for (_, suit) in hand)\n",
        "    flushsuit = minsuit if minsuit == maxsuit else -1\n",
        "\n",
        "    bestcards = get_5_frequent_highest_cards(rankcounts, rankcounthist)\n",
        "    straighthighrank = get_straight_high_rank(rankcounts)\n",
        "\n",
        "    # Main idea: Encode the hand type in the top bits, then encode up to 5 cards in big-endian (4 bits each).\n",
        "    if   straighthighrank != -1 and flushsuit != -1     : return 8 << 20 | straighthighrank  # Straight flush\n",
        "    elif rankcounthist[4] == 1                          : return 7 << 20 | bestcards         # Four of a kind\n",
        "    elif rankcounthist[3] == 1 and rankcounthist[2] == 1: return 6 << 20 | bestcards         # Full house\n",
        "    elif flushsuit != -1                                : return 5 << 20 | bestcards         # Flush\n",
        "    elif straighthighrank != -1                         : return 4 << 20 | straighthighrank  # Straight\n",
        "    elif rankcounthist[3] == 1                          : return 3 << 20 | bestcards         # Three of a kind\n",
        "    elif rankcounthist[2] == 2                          : return 2 << 20 | bestcards         # Two pairs\n",
        "    elif rankcounthist[2] == 1                          : return 1 << 20 | bestcards         # One pair\n",
        "    else                                                : return 0 << 20 | bestcards         # High card\n",
        "\n",
        "\n",
        "def get_5_frequent_highest_cards(ranks, rankshist):\n",
        "    result = 0\n",
        "    count = 0\n",
        "\n",
        "    for i in reversed(range(len(rankshist))):\n",
        "        for j in reversed(range(len(ranks))):\n",
        "            if ranks[j] == i:\n",
        "                for k in range(i):\n",
        "                    if count >= 5:\n",
        "                        break\n",
        "                    result = result << 4 | j\n",
        "                    count += 1\n",
        "\n",
        "    if count != 5:\n",
        "        raise ValueError(\"Invalid hand - not enough cards\")\n",
        "    return result\n",
        "\n",
        "\n",
        "def get_straight_high_rank(ranks):\n",
        "    for i in reversed(range(3, len(ranks))):\n",
        "        for j in range(5):\n",
        "            if ranks[(i - j + 13) % 13] == 0:\n",
        "                break  # Current offset is not a straight\n",
        "        else:  # Straight found\n",
        "            return i\n",
        "    return -1\n",
        "\n",
        "\n",
        "def parse_card(card):\n",
        "    return (RANKS.index(card[0]), SUITS.index(card[1]))\n",
        "\n",
        "\n",
        "RANKS = \"23456789TJQKA\"\n",
        "SUITS = \"SHCD\"\n",
        "\n",
        "\n",
        "HANDS = [\n",
        "\t\"8C TS KC 9H 4S 7D 2S 5D 3S AC\",\n",
        "\t\"5C AD 5D AC 9C 7C 5H 8D TD KS\",\n",
        "\t\"3H 7H 6S KC JS QH TD JC 2D 8S\",\n",
        "\t\"TH 8H 5C QS TC 9H 4D JC KS JS\",\n",
        "\t\"7C 5H KC QH JD AS KH 4C AD 4S\",\n",
        "\t\"5H KS 9C 7D 9H 8D 3S 5D 5C AH\",\n",
        "\t\"6H 4H 5C 3H 2H 3S QH 5S 6S AS\",\n",
        "\t\"TD 8C 4H 7C TC KC 4C 3H 7S KS\",\n",
        "\t\"7C 9C 6D KD 3H 4C QS QC AC KH\",\n",
        "\t\"JC 6S 5H 2H 2D KD 9D 7C AS JS\",\n",
        "\t\"AD QH TH 9D 8H TS 6D 3S AS AC\",\n",
        "\t\"2H 4S 5C 5S TC KC JD 6C TS 3C\",\n",
        "\t\"QD AS 6H JS 2C 3D 9H KC 4H 8S\",\n",
        "\t\"KD 8S 9S 7C 2S 3S 6D 6S 4H KC\",\n",
        "\t\"3C 8C 2D 7D 4D 9S 4S QH 4H JD\",\n",
        "\t\"8C KC 7S TC 2D TS 8H QD AC 5C\",\n",
        "\t\"3D KH QD 6C 6S AD AS 8H 2H QS\",\n",
        "\t\"6S 8D 4C 8S 6C QH TC 6D 7D 9D\",\n",
        "\t\"2S 8D 8C 4C TS 9S 9D 9C AC 3D\",\n",
        "\t\"3C QS 2S 4H JH 3D 2D TD 8S 9H\",\n",
        "\t\"5H QS 8S 6D 3C 8C JD AS 7H 7D\",\n",
        "\t\"6H TD 9D AS JH 6C QC 9S KD JC\",\n",
        "\t\"AH 8S QS 4D TH AC TS 3C 3D 5C\",\n",
        "\t\"5S 4D JS 3D 8H 6C TS 3S AD 8C\",\n",
        "\t\"6D 7C 5D 5H 3S 5C JC 2H 5S 3D\",\n",
        "\t\"5H 6H 2S KS 3D 5D JD 7H JS 8H\",\n",
        "\t\"KH 4H AS JS QS QC TC 6D 7C KS\",\n",
        "\t\"3D QS TS 2H JS 4D AS 9S JC KD\",\n",
        "\t\"QD 5H 4D 5D KH 7H 3D JS KD 4H\",\n",
        "\t\"2C 9H 6H 5C 9D 6C JC 2D TH 9S\",\n",
        "\t\"7D 6D AS QD JH 4D JS 7C QS 5C\",\n",
        "\t\"3H KH QD AD 8C 8H 3S TH 9D 5S\",\n",
        "\t\"AH 9S 4D 9D 8S 4H JS 3C TC 8D\",\n",
        "\t\"2C KS 5H QD 3S TS 9H AH AD 8S\",\n",
        "\t\"5C 7H 5D KD 9H 4D 3D 2D KS AD\",\n",
        "\t\"KS KC 9S 6D 2C QH 9D 9H TS TC\",\n",
        "\t\"9C 6H 5D QH 4D AD 6D QC JS KH\",\n",
        "\t\"9S 3H 9D JD 5C 4D 9H AS TC QH\",\n",
        "\t\"2C 6D JC 9C 3C AD 9S KH 9D 7D\",\n",
        "\t\"KC 9C 7C JC JS KD 3H AS 3C 7D\",\n",
        "\t\"QD KH QS 2C 3S 8S 8H 9H 9C JC\",\n",
        "\t\"QH 8D 3C KC 4C 4H 6D AD 9H 9D\",\n",
        "\t\"3S KS QS 7H KH 7D 5H 5D JD AD\",\n",
        "\t\"2H 2C 6H TH TC 7D 8D 4H 8C AS\",\n",
        "\t\"4S 2H AC QC 3S 6D TH 4D 4C KH\",\n",
        "\t\"4D TC KS AS 7C 3C 6D 2D 9H 6C\",\n",
        "\t\"8C TD 5D QS 2C 7H 4C 9C 3H 9H\",\n",
        "\t\"5H JH TS 7S TD 6H AD QD 8H 8S\",\n",
        "\t\"5S AD 9C 8C 7C 8D 5H 9D 8S 2S\",\n",
        "\t\"4H KH KS 9S 2S KC 5S AD 4S 7D\",\n",
        "\t\"QS 9C QD 6H JS 5D AC 8D 2S AS\",\n",
        "\t\"KH AC JC 3S 9D 9S 3C 9C 5S JS\",\n",
        "\t\"AD 3C 3D KS 3S 5C 9C 8C TS 4S\",\n",
        "\t\"JH 8D 5D 6H KD QS QD 3D 6C KC\",\n",
        "\t\"8S JD 6C 3S 8C TC QC 3C QH JS\",\n",
        "\t\"KC JC 8H 2S 9H 9C JH 8S 8C 9S\",\n",
        "\t\"8S 2H QH 4D QC 9D KC AS TH 3C\",\n",
        "\t\"8S 6H TH 7C 2H 6S 3C 3H AS 7S\",\n",
        "\t\"QH 5S JS 4H 5H TS 8H AH AC JC\",\n",
        "\t\"9D 8H 2S 4S TC JC 3C 7H 3H 5C\",\n",
        "\t\"3D AD 3C 3S 4C QC AS 5D TH 8C\",\n",
        "\t\"6S 9D 4C JS KH AH TS JD 8H AD\",\n",
        "\t\"4C 6S 9D 7S AC 4D 3D 3S TC JD\",\n",
        "\t\"AD 7H 6H 4H JH KC TD TS 7D 6S\",\n",
        "\t\"8H JH TC 3S 8D 8C 9S 2C 5C 4D\",\n",
        "\t\"2C 9D KC QH TH QS JC 9C 4H TS\",\n",
        "\t\"QS 3C QD 8H KH 4H 8D TD 8S AC\",\n",
        "\t\"7C 3C TH 5S 8H 8C 9C JD TC KD\",\n",
        "\t\"QC TC JD TS 8C 3H 6H KD 7C TD\",\n",
        "\t\"JH QS KS 9C 6D 6S AS 9H KH 6H\",\n",
        "\t\"2H 4D AH 2D JH 6H TD 5D 4H JD\",\n",
        "\t\"KD 8C 9S JH QD JS 2C QS 5C 7C\",\n",
        "\t\"4S TC 7H 8D 2S 6H 7S 9C 7C KC\",\n",
        "\t\"8C 5D 7H 4S TD QC 8S JS 4H KS\",\n",
        "\t\"AD 8S JH 6D TD KD 7C 6C 2D 7D\",\n",
        "\t\"JC 6H 6S JS 4H QH 9H AH 4C 3C\",\n",
        "\t\"6H 5H AS 7C 7S 3D KH KC 5D 5C\",\n",
        "\t\"JC 3D TD AS 4D 6D 6S QH JD KS\",\n",
        "\t\"8C 7S 8S QH 2S JD 5C 7H AH QD\",\n",
        "\t\"8S 3C 6H 6C 2C 8D TD 7D 4C 4D\",\n",
        "\t\"5D QH KH 7C 2S 7H JS 6D QC QD\",\n",
        "\t\"AD 6C 6S 7D TH 6H 2H 8H KH 4H\",\n",
        "\t\"KS JS KD 5D 2D KH 7D 9C 8C 3D\",\n",
        "\t\"9C 6D QD 3C KS 3S 7S AH JD 2D\",\n",
        "\t\"AH QH AS JC 8S 8H 4C KC TH 7D\",\n",
        "\t\"JC 5H TD 7C 5D KD 4C AD 8H JS\",\n",
        "\t\"KC 2H AC AH 7D JH KH 5D 7S 6D\",\n",
        "\t\"9S 5S 9C 6H 8S TD JD 9H 6C AC\",\n",
        "\t\"7D 8S 6D TS KD 7H AC 5S 7C 5D\",\n",
        "\t\"AH QC JC 4C TC 8C 2H TS 2C 7D\",\n",
        "\t\"KD KC 6S 3D 7D 2S 8S 3H 5S 5C\",\n",
        "\t\"8S 5D 8H 4C 6H KC 3H 7C 5S KD\",\n",
        "\t\"JH 8C 3D 3C 6C KC TD 7H 7C 4C\",\n",
        "\t\"JC KC 6H TS QS TD KS 8H 8C 9S\",\n",
        "\t\"6C 5S 9C QH 7D AH KS KC 9S 2C\",\n",
        "\t\"4D 4S 8H TD 9C 3S 7D 9D AS TH\",\n",
        "\t\"6S 7D 3C 6H 5D KD 2C 5C 9D 9C\",\n",
        "\t\"2H KC 3D AD 3H QD QS 8D JC 4S\",\n",
        "\t\"8C 3H 9C 7C AD 5D JC 9D JS AS\",\n",
        "\t\"5D 9H 5C 7H 6S 6C QC JC QD 9S\",\n",
        "\t\"JC QS JH 2C 6S 9C QC 3D 4S TC\",\n",
        "\t\"4H 5S 8D 3D 4D 2S KC 2H JS 2C\",\n",
        "\t\"TD 3S TH KD 4D 7H JH JS KS AC\",\n",
        "\t\"7S 8C 9S 2D 8S 7D 5C AD 9D AS\",\n",
        "\t\"8C 7H 2S 6C TH 3H 4C 3S 8H AC\",\n",
        "\t\"KD 5H JC 8H JD 2D 4H TD JH 5C\",\n",
        "\t\"3D AS QH KS 7H JD 8S 5S 6D 5H\",\n",
        "\t\"9S 6S TC QS JC 5C 5D 9C TH 8C\",\n",
        "\t\"5H 3S JH 9H 2S 2C 6S 7S AS KS\",\n",
        "\t\"8C QD JC QS TC QC 4H AC KH 6C\",\n",
        "\t\"TC 5H 7D JH 4H 2H 8D JC KS 4D\",\n",
        "\t\"5S 9C KH KD 9H 5C TS 3D 7D 2D\",\n",
        "\t\"5H AS TC 4D 8C 2C TS 9D 3H 8D\",\n",
        "\t\"6H 8D 2D 9H JD 6C 4S 5H 5S 6D\",\n",
        "\t\"AD 9C JC 7D 6H 9S 6D JS 9H 3C\",\n",
        "\t\"AD JH TC QS 4C 5D 9S 7C 9C AH\",\n",
        "\t\"KD 6H 2H TH 8S QD KS 9D 9H AS\",\n",
        "\t\"4H 8H 8D 5H 6C AH 5S AS AD 8S\",\n",
        "\t\"QS 5D 4S 2H TD KS 5H AC 3H JC\",\n",
        "\t\"9C 7D QD KD AC 6D 5H QH 6H 5S\",\n",
        "\t\"KC AH QH 2H 7D QS 3H KS 7S JD\",\n",
        "\t\"6C 8S 3H 6D KS QD 5D 5C 8H TC\",\n",
        "\t\"9H 4D 4S 6S 9D KH QC 4H 6C JD\",\n",
        "\t\"TD 2D QH 4S 6H JH KD 3C QD 8C\",\n",
        "\t\"4S 6H 7C QD 9D AS AH 6S AD 3C\",\n",
        "\t\"2C KC TH 6H 8D AH 5C 6D 8S 5D\",\n",
        "\t\"TD TS 7C AD JC QD 9H 3C KC 7H\",\n",
        "\t\"5D 4D 5S 8H 4H 7D 3H JD KD 2D\",\n",
        "\t\"JH TD 6H QS 4S KD 5C 8S 7D 8H\",\n",
        "\t\"AC 3D AS 8C TD 7H KH 5D 6C JD\",\n",
        "\t\"9D KS 7C 6D QH TC JD KD AS KC\",\n",
        "\t\"JH 8S 5S 7S 7D AS 2D 3D AD 2H\",\n",
        "\t\"2H 5D AS 3C QD KC 6H 9H 9S 2C\",\n",
        "\t\"9D 5D TH 4C JH 3H 8D TC 8H 9H\",\n",
        "\t\"6H KD 2C TD 2H 6C 9D 2D JS 8C\",\n",
        "\t\"KD 7S 3C 7C AS QH TS AD 8C 2S\",\n",
        "\t\"QS 8H 6C JS 4C 9S QC AD TD TS\",\n",
        "\t\"2H 7C TS TC 8C 3C 9H 2D 6D JC\",\n",
        "\t\"TC 2H 8D JH KS 6D 3H TD TH 8H\",\n",
        "\t\"9D TD 9H QC 5D 6C 8H 8C KC TS\",\n",
        "\t\"2H 8C 3D AH 4D TH TC 7D 8H KC\",\n",
        "\t\"TS 5C 2D 8C 6S KH AH 5H 6H KC\",\n",
        "\t\"5S 5D AH TC 4C JD 8D 6H 8C 6C\",\n",
        "\t\"KC QD 3D 8H 2D JC 9H 4H AD 2S\",\n",
        "\t\"TD 6S 7D JS KD 4H QS 2S 3S 8C\",\n",
        "\t\"4C 9H JH TS 3S 4H QC 5S 9S 9C\",\n",
        "\t\"2C KD 9H JS 9S 3H JC TS 5D AC\",\n",
        "\t\"AS 2H 5D AD 5H JC 7S TD JS 4C\",\n",
        "\t\"2D 4S 8H 3D 7D 2C AD KD 9C TS\",\n",
        "\t\"7H QD JH 5H JS AC 3D TH 4C 8H\",\n",
        "\t\"6D KH KC QD 5C AD 7C 2D 4H AC\",\n",
        "\t\"3D 9D TC 8S QD 2C JC 4H JD AH\",\n",
        "\t\"6C TD 5S TC 8S AH 2C 5D AS AC\",\n",
        "\t\"TH 7S 3D AS 6C 4C 7H 7D 4H AH\",\n",
        "\t\"5C 2H KS 6H 7S 4H 5H 3D 3C 7H\",\n",
        "\t\"3C 9S AC 7S QH 2H 3D 6S 3S 3H\",\n",
        "\t\"2D 3H AS 2C 6H TC JS 6S 9C 6C\",\n",
        "\t\"QH KD QD 6D AC 6H KH 2C TS 8C\",\n",
        "\t\"8H 7D 3S 9H 5D 3H 4S QC 9S 5H\",\n",
        "\t\"2D 9D 7H 6H 3C 8S 5H 4D 3S 4S\",\n",
        "\t\"KD 9S 4S TC 7S QC 3S 8S 2H 7H\",\n",
        "\t\"TC 3D 8C 3H 6C 2H 6H KS KD 4D\",\n",
        "\t\"KC 3D 9S 3H JS 4S 8H 2D 6C 8S\",\n",
        "\t\"6H QS 6C TC QD 9H 7D 7C 5H 4D\",\n",
        "\t\"TD 9D 8D 6S 6C TC 5D TS JS 8H\",\n",
        "\t\"4H KC JD 9H TC 2C 6S 5H 8H AS\",\n",
        "\t\"JS 9C 5C 6S 9D JD 8H KC 4C 6D\",\n",
        "\t\"4D 8D 8S 6C 7C 6H 7H 8H 5C KC\",\n",
        "\t\"TC 3D JC 6D KS 9S 6H 7S 9C 2C\",\n",
        "\t\"6C 3S KD 5H TS 7D 9H 9S 6H KH\",\n",
        "\t\"3D QD 4C 6H TS AC 3S 5C 2H KD\",\n",
        "\t\"4C AS JS 9S 7C TS 7H 9H JC KS\",\n",
        "\t\"4H 8C JD 3H 6H AD 9S 4S 5S KS\",\n",
        "\t\"4C 2C 7D 3D AS 9C 2S QS KC 6C\",\n",
        "\t\"8S 5H 3D 2S AC 9D 6S 3S 4D TD\",\n",
        "\t\"QD TH 7S TS 3D AC 7H 6C 5D QC\",\n",
        "\t\"TC QD AD 9C QS 5C 8D KD 3D 3C\",\n",
        "\t\"9D 8H AS 3S 7C 8S JD 2D 8D KC\",\n",
        "\t\"4C TH AC QH JS 8D 7D 7S 9C KH\",\n",
        "\t\"9D 8D 4C JH 2C 2S QD KD TS 4H\",\n",
        "\t\"4D 6D 5D 2D JH 3S 8S 3H TC KH\",\n",
        "\t\"AD 4D 2C QS 8C KD JH JD AH 5C\",\n",
        "\t\"5C 6C 5H 2H JH 4H KS 7C TC 3H\",\n",
        "\t\"3C 4C QC 5D JH 9C QD KH 8D TC\",\n",
        "\t\"3H 9C JS 7H QH AS 7C 9H 5H JC\",\n",
        "\t\"2D 5S QD 4S 3C KC 6S 6C 5C 4C\",\n",
        "\t\"5D KH 2D TS 8S 9C AS 9S 7C 4C\",\n",
        "\t\"7C AH 8C 8D 5S KD QH QS JH 2C\",\n",
        "\t\"8C 9D AH 2H AC QC 5S 8H 7H 2C\",\n",
        "\t\"QD 9H 5S QS QC 9C 5H JC TH 4H\",\n",
        "\t\"6C 6S 3H 5H 3S 6H KS 8D AC 7S\",\n",
        "\t\"AC QH 7H 8C 4S KC 6C 3D 3S TC\",\n",
        "\t\"9D 3D JS TH AC 5H 3H 8S 3S TC\",\n",
        "\t\"QD KH JS KS 9S QC 8D AH 3C AC\",\n",
        "\t\"5H 6C KH 3S 9S JH 2D QD AS 8C\",\n",
        "\t\"6C 4D 7S 7H 5S JC 6S 9H 4H JH\",\n",
        "\t\"AH 5S 6H 9S AD 3S TH 2H 9D 8C\",\n",
        "\t\"4C 8D 9H 7C QC AD 4S 9C KC 5S\",\n",
        "\t\"9D 6H 4D TC 4C JH 2S 5D 3S AS\",\n",
        "\t\"2H 6C 7C KH 5C AD QS TH JD 8S\",\n",
        "\t\"3S 4S 7S AH AS KC JS 2S AD TH\",\n",
        "\t\"JS KC 2S 7D 8C 5C 9C TS 5H 9D\",\n",
        "\t\"7S 9S 4D TD JH JS KH 6H 5D 2C\",\n",
        "\t\"JD JS JC TH 2D 3D QD 8C AC 5H\",\n",
        "\t\"7S KH 5S 9D 5D TD 4S 6H 3C 2D\",\n",
        "\t\"4S 5D AC 8D 4D 7C AD AS AH 9C\",\n",
        "\t\"6S TH TS KS 2C QC AH AS 3C 4S\",\n",
        "\t\"2H 8C 3S JC 5C 7C 3H 3C KH JH\",\n",
        "\t\"7S 3H JC 5S 6H 4C 2S 4D KC 7H\",\n",
        "\t\"4D 7C 4H 9S 8S 6S AD TC 6C JC\",\n",
        "\t\"KH QS 3S TC 4C 8H 8S AC 3C TS\",\n",
        "\t\"QD QS TH 3C TS 7H 7D AH TD JC\",\n",
        "\t\"TD JD QC 4D 9S 7S TS AD 7D AC\",\n",
        "\t\"AH 7H 4S 6D 7C 2H 9D KS JC TD\",\n",
        "\t\"7C AH JD 4H 6D QS TS 2H 2C 5C\",\n",
        "\t\"TC KC 8C 9S 4C JS 3C JC 6S AH\",\n",
        "\t\"AS 7D QC 3D 5S JC JD 9D TD KH\",\n",
        "\t\"TH 3C 2S 6H AH AC 5H 5C 7S 8H\",\n",
        "\t\"QC 2D AC QD 2S 3S JD QS 6S 8H\",\n",
        "\t\"KC 4H 3C 9D JS 6H 3S 8S AS 8C\",\n",
        "\t\"7H KC 7D JD 2H JC QH 5S 3H QS\",\n",
        "\t\"9H TD 3S 8H 7S AC 5C 6C AH 7C\",\n",
        "\t\"8D 9H AH JD TD QS 7D 3S 9C 8S\",\n",
        "\t\"AH QH 3C JD KC 4S 5S 5D TD KS\",\n",
        "\t\"9H 7H 6S JH TH 4C 7C AD 5C 2D\",\n",
        "\t\"7C KD 5S TC 9D 6S 6C 5D 2S TH\",\n",
        "\t\"KC 9H 8D 5H 7H 4H QC 3D 7C AS\",\n",
        "\t\"6S 8S QC TD 4S 5C TH QS QD 2S\",\n",
        "\t\"8S 5H TH QC 9H 6S KC 7D 7C 5C\",\n",
        "\t\"7H KD AH 4D KH 5C 4S 2D KC QH\",\n",
        "\t\"6S 2C TD JC AS 4D 6C 8C 4H 5S\",\n",
        "\t\"JC TC JD 5S 6S 8D AS 9D AD 3S\",\n",
        "\t\"6D 6H 5D 5S TC 3D 7D QS 9D QD\",\n",
        "\t\"4S 6C 8S 3S 7S AD KS 2D 7D 7C\",\n",
        "\t\"KC QH JC AC QD 5D 8D QS 7H 7D\",\n",
        "\t\"JS AH 8S 5H 3D TD 3H 4S 6C JH\",\n",
        "\t\"4S QS 7D AS 9H JS KS 6D TC 5C\",\n",
        "\t\"2D 5C 6H TC 4D QH 3D 9H 8S 6C\",\n",
        "\t\"6D 7H TC TH 5S JD 5C 9C KS KD\",\n",
        "\t\"8D TD QH 6S 4S 6C 8S KC 5C TC\",\n",
        "\t\"5S 3D KS AC 4S 7D QD 4C TH 2S\",\n",
        "\t\"TS 8H 9S 6S 7S QH 3C AH 7H 8C\",\n",
        "\t\"4C 8C TS JS QC 3D 7D 5D 7S JH\",\n",
        "\t\"8S 7S 9D QC AC 7C 6D 2H JH KC\",\n",
        "\t\"JS KD 3C 6S 4S 7C AH QC KS 5H\",\n",
        "\t\"KS 6S 4H JD QS TC 8H KC 6H AS\",\n",
        "\t\"KH 7C TC 6S TD JC 5C 7D AH 3S\",\n",
        "\t\"3H 4C 4H TC TH 6S 7H 6D 9C QH\",\n",
        "\t\"7D 5H 4S 8C JS 4D 3D 8S QH KC\",\n",
        "\t\"3H 6S AD 7H 3S QC 8S 4S 7S JS\",\n",
        "\t\"3S JD KH TH 6H QS 9C 6C 2D QD\",\n",
        "\t\"4S QH 4D 5H KC 7D 6D 8D TH 5S\",\n",
        "\t\"TD AD 6S 7H KD KH 9H 5S KC JC\",\n",
        "\t\"3H QC AS TS 4S QD KS 9C 7S KC\",\n",
        "\t\"TS 6S QC 6C TH TC 9D 5C 5D KD\",\n",
        "\t\"JS 3S 4H KD 4C QD 6D 9S JC 9D\",\n",
        "\t\"8S JS 6D 4H JH 6H 6S 6C KS KH\",\n",
        "\t\"AC 7D 5D TC 9S KH 6S QD 6H AS\",\n",
        "\t\"AS 7H 6D QH 8D TH 2S KH 5C 5H\",\n",
        "\t\"4C 7C 3D QC TC 4S KH 8C 2D JS\",\n",
        "\t\"6H 5D 7S 5H 9C 9H JH 8S TH 7H\",\n",
        "\t\"AS JS 2S QD KH 8H 4S AC 8D 8S\",\n",
        "\t\"3H 4C TD KD 8C JC 5C QS 2D JD\",\n",
        "\t\"TS 7D 5D 6C 2C QS 2H 3C AH KS\",\n",
        "\t\"4S 7C 9C 7D JH 6C 5C 8H 9D QD\",\n",
        "\t\"2S TD 7S 6D 9C 9S QS KH QH 5C\",\n",
        "\t\"JC 6S 9C QH JH 8D 7S JS KH 2H\",\n",
        "\t\"8D 5H TH KC 4D 4S 3S 6S 3D QS\",\n",
        "\t\"2D JD 4C TD 7C 6D TH 7S JC AH\",\n",
        "\t\"QS 7S 4C TH 9D TS AD 4D 3H 6H\",\n",
        "\t\"2D 3H 7D JD 3D AS 2S 9C QC 8S\",\n",
        "\t\"4H 9H 9C 2C 7S JH KD 5C 5D 6H\",\n",
        "\t\"TC 9H 8H JC 3C 9S 8D KS AD KC\",\n",
        "\t\"TS 5H JD QS QH QC 8D 5D KH AH\",\n",
        "\t\"5D AS 8S 6S 4C AH QC QD TH 7H\",\n",
        "\t\"3H 4H 7D 6S 4S 9H AS 8H JS 9D\",\n",
        "\t\"JD 8C 2C 9D 7D 5H 5S 9S JC KD\",\n",
        "\t\"KD 9C 4S QD AH 7C AD 9D AC TD\",\n",
        "\t\"6S 4H 4S 9C 8D KS TC 9D JH 7C\",\n",
        "\t\"5S JC 5H 4S QH AC 2C JS 2S 9S\",\n",
        "\t\"8C 5H AS QD AD 5C 7D 8S QC TD\",\n",
        "\t\"JC 4C 8D 5C KH QS 4D 6H 2H 2C\",\n",
        "\t\"TH 4S 2D KC 3H QD AC 7H AD 9D\",\n",
        "\t\"KH QD AS 8H TH KC 8D 7S QH 8C\",\n",
        "\t\"JC 6C 7D 8C KH AD QS 2H 6S 2D\",\n",
        "\t\"JC KH 2D 7D JS QC 5H 4C 5D AD\",\n",
        "\t\"TS 3S AD 4S TD 2D TH 6S 9H JH\",\n",
        "\t\"9H 2D QS 2C 4S 3D KH AS AC 9D\",\n",
        "\t\"KH 6S 8H 4S KD 7D 9D TS QD QC\",\n",
        "\t\"JH 5H AH KS AS AD JC QC 5S KH\",\n",
        "\t\"5D 7D 6D KS KD 3D 7C 4D JD 3S\",\n",
        "\t\"AC JS 8D 5H 9C 3H 4H 4D TS 2C\",\n",
        "\t\"6H KS KH 9D 7C 2S 6S 8S 2H 3D\",\n",
        "\t\"6H AC JS 7S 3S TD 8H 3H 4H TH\",\n",
        "\t\"9H TC QC KC 5C KS 6H 4H AC 8S\",\n",
        "\t\"TC 7D QH 4S JC TS 6D 6C AC KH\",\n",
        "\t\"QH 7D 7C JH QS QD TH 3H 5D KS\",\n",
        "\t\"3D 5S 8D JS 4C 2C KS 7H 9C 4H\",\n",
        "\t\"5H 8S 4H TD 2C 3S QD QC 3H KC\",\n",
        "\t\"QC JS KD 9C AD 5S 9D 7D 7H TS\",\n",
        "\t\"8C JC KH 7C 7S 6C TS 2C QD TH\",\n",
        "\t\"5S 9D TH 3C 7S QH 8S 9C 2H 5H\",\n",
        "\t\"5D 9H 6H 2S JS KH 3H 7C 2H 5S\",\n",
        "\t\"JD 5D 5S 2C TC 2S 6S 6C 3C 8S\",\n",
        "\t\"4D KH 8H 4H 2D KS 3H 5C 2S 9H\",\n",
        "\t\"3S 2D TD 7H 8S 6H JD KC 9C 8D\",\n",
        "\t\"6S QD JH 7C 9H 5H 8S 8H TH TD\",\n",
        "\t\"QS 7S TD 7D TS JC KD 7C 3C 2C\",\n",
        "\t\"3C JD 8S 4H 2D 2S TD AS 4D AC\",\n",
        "\t\"AH KS 6C 4C 4S 7D 8C 9H 6H AS\",\n",
        "\t\"5S 3C 9S 2C QS KD 4D 4S AC 5D\",\n",
        "\t\"2D TS 2C JS KH QH 5D 8C AS KC\",\n",
        "\t\"KD 3H 6C TH 8S 7S KH 6H 9S AC\",\n",
        "\t\"6H 7S 6C QS AH 2S 2H 4H 5D 5H\",\n",
        "\t\"5H JC QD 2C 2S JD AS QC 6S 7D\",\n",
        "\t\"6C TC AS KD 8H 9D 2C 7D JH 9S\",\n",
        "\t\"2H 4C 6C AH 8S TD 3H TH 7C TS\",\n",
        "\t\"KD 4S TS 6C QH 8D 9D 9C AH 7D\",\n",
        "\t\"6D JS 5C QD QC 9C 5D 8C 2H KD\",\n",
        "\t\"3C QH JH AD 6S AH KC 8S 6D 6H\",\n",
        "\t\"3D 7C 4C 7S 5S 3S 6S 5H JC 3C\",\n",
        "\t\"QH 7C 5H 3C 3S 8C TS 4C KD 9C\",\n",
        "\t\"QD 3S 7S 5H 7H QH JC 7C 8C KD\",\n",
        "\t\"3C KD KH 2S 4C TS AC 6S 2C 7C\",\n",
        "\t\"2C KH 3C 4C 6H 4D 5H 5S 7S QD\",\n",
        "\t\"4D 7C 8S QD TS 9D KS 6H KD 3C\",\n",
        "\t\"QS 4D TS 7S 4C 3H QD 8D 9S TC\",\n",
        "\t\"TS QH AC 6S 3C 9H 9D QS 8S 6H\",\n",
        "\t\"3S 7S 5D 4S JS 2D 6C QH 6S TH\",\n",
        "\t\"4C 4H AS JS 5D 3D TS 9C AC 8S\",\n",
        "\t\"6S 9C 7C 3S 5C QS AD AS 6H 3C\",\n",
        "\t\"9S 8C 7H 3H 6S 7C AS 9H JD KH\",\n",
        "\t\"3D 3H 7S 4D 6C 7C AC 2H 9C TH\",\n",
        "\t\"4H 5S 3H AC TC TH 9C 9H 9S 8D\",\n",
        "\t\"8D 9H 5H 4D 6C 2H QD 6S 5D 3S\",\n",
        "\t\"4C 5C JD QS 4D 3H TH AC QH 8C\",\n",
        "\t\"QC 5S 3C 7H AD 4C KS 4H JD 6D\",\n",
        "\t\"QS AH 3H KS 9H 2S JS JH 5H 2H\",\n",
        "\t\"2H 5S TH 6S TS 3S KS 3C 5H JS\",\n",
        "\t\"2D 9S 7H 3D KC JH 6D 7D JS TD\",\n",
        "\t\"AC JS 8H 2C 8C JH JC 2D TH 7S\",\n",
        "\t\"5D 9S 8H 2H 3D TC AH JC KD 9C\",\n",
        "\t\"9D QD JC 2H 6D KH TS 9S QH TH\",\n",
        "\t\"2C 8D 4S JD 5H 3H TH TC 9C KC\",\n",
        "\t\"AS 3D 9H 7D 4D TH KH 2H 7S 3H\",\n",
        "\t\"4H 7S KS 2S JS TS 8S 2H QD 8D\",\n",
        "\t\"5S 6H JH KS 8H 2S QC AC 6S 3S\",\n",
        "\t\"JC AS AD QS 8H 6C KH 4C 4D QD\",\n",
        "\t\"2S 3D TS TD 9S KS 6S QS 5C 8D\",\n",
        "\t\"3C 6D 4S QC KC JH QD TH KH AD\",\n",
        "\t\"9H AH 4D KS 2S 8D JH JC 7C QS\",\n",
        "\t\"2D 6C TH 3C 8H QD QH 2S 3S KS\",\n",
        "\t\"6H 5D 9S 4C TS TD JS QD 9D JD\",\n",
        "\t\"5H 8H KH 8S KS 7C TD AD 4S KD\",\n",
        "\t\"2C 7C JC 5S AS 6C 7D 8S 5H 9C\",\n",
        "\t\"6S QD 9S TS KH QS 5S QH 3C KC\",\n",
        "\t\"7D 3H 3C KD 5C AS JH 7H 6H JD\",\n",
        "\t\"9D 5C 9H KC 8H KS 4S AD 4D 2S\",\n",
        "\t\"3S JD QD 8D 2S 7C 5S 6S 5H TS\",\n",
        "\t\"6D 9S KC TD 3S 6H QD JD 5C 8D\",\n",
        "\t\"5H 9D TS KD 8D 6H TD QC 4C 7D\",\n",
        "\t\"6D 4S JD 9D AH 9S AS TD 9H QD\",\n",
        "\t\"2D 5S 2H 9C 6H 9S TD QC 7D TC\",\n",
        "\t\"3S 2H KS TS 2C 9C 8S JS 9D 7D\",\n",
        "\t\"3C KC 6D 5D 6C 6H 8S AS 7S QS\",\n",
        "\t\"JH 9S 2H 8D 4C 8H 9H AD TH KH\",\n",
        "\t\"QC AS 2S JS 5C 6H KD 3H 7H 2C\",\n",
        "\t\"QD 8H 2S 8D 3S 6D AH 2C TC 5C\",\n",
        "\t\"JD JS TS 8S 3H 5D TD KC JC 6H\",\n",
        "\t\"6S QS TC 3H 5D AH JC 7C 7D 4H\",\n",
        "\t\"7C 5D 8H 9C 2H 9H JH KH 5S 2C\",\n",
        "\t\"9C 7H 6S TH 3S QC QD 4C AC JD\",\n",
        "\t\"2H 5D 9S 7D KC 3S QS 2D AS KH\",\n",
        "\t\"2S 4S 2H 7D 5C TD TH QH 9S 4D\",\n",
        "\t\"6D 3S TS 6H 4H KS 9D 8H 5S 2D\",\n",
        "\t\"9H KS 4H 3S 5C 5D KH 6H 6S JS\",\n",
        "\t\"KC AS 8C 4C JC KH QC TH QD AH\",\n",
        "\t\"6S KH 9S 2C 5H TC 3C 7H JC 4D\",\n",
        "\t\"JD 4S 6S 5S 8D 7H 7S 4D 4C 2H\",\n",
        "\t\"7H 9H 5D KH 9C 7C TS TC 7S 5H\",\n",
        "\t\"4C 8D QC TS 4S 9H 3D AD JS 7C\",\n",
        "\t\"8C QS 5C 5D 3H JS AH KC 4S 9D\",\n",
        "\t\"TS JD 8S QS TH JH KH 2D QD JS\",\n",
        "\t\"JD QC 5D 6S 9H 3S 2C 8H 9S TS\",\n",
        "\t\"2S 4C AD 7H JC 5C 2D 6D 4H 3D\",\n",
        "\t\"7S JS 2C 4H 8C AD QD 9C 3S TD\",\n",
        "\t\"JD TS 4C 6H 9H 7D QD 6D 3C AS\",\n",
        "\t\"AS 7C 4C 6S 5D 5S 5C JS QC 4S\",\n",
        "\t\"KD 6S 9S 7C 3C 5S 7D JH QD JS\",\n",
        "\t\"4S 7S JH 2C 8S 5D 7H 3D QH AD\",\n",
        "\t\"TD 6H 2H 8D 4H 2D 7C AD KH 5D\",\n",
        "\t\"TS 3S 5H 2C QD AH 2S 5C KH TD\",\n",
        "\t\"KC 4D 8C 5D AS 6C 2H 2S 9H 7C\",\n",
        "\t\"KD JS QC TS QS KH JH 2C 5D AD\",\n",
        "\t\"3S 5H KC 6C 9H 3H 2H AD 7D 7S\",\n",
        "\t\"7S JS JH KD 8S 7D 2S 9H 7C 2H\",\n",
        "\t\"9H 2D 8D QC 6S AD AS 8H 5H 6C\",\n",
        "\t\"2S 7H 6C 6D 7D 8C 5D 9D JC 3C\",\n",
        "\t\"7C 9C 7H JD 2H KD 3S KH AD 4S\",\n",
        "\t\"QH AS 9H 4D JD KS KD TS KH 5H\",\n",
        "\t\"4C 8H 5S 3S 3D 7D TD AD 7S KC\",\n",
        "\t\"JS 8S 5S JC 8H TH 9C 4D 5D KC\",\n",
        "\t\"7C 5S 9C QD 2C QH JS 5H 8D KH\",\n",
        "\t\"TD 2S KS 3D AD KC 7S TC 3C 5D\",\n",
        "\t\"4C 2S AD QS 6C 9S QD TH QH 5C\",\n",
        "\t\"8C AD QS 2D 2S KC JD KS 6C JC\",\n",
        "\t\"8D 4D JS 2H 5D QD 7S 7D QH TS\",\n",
        "\t\"6S 7H 3S 8C 8S 9D QS 8H 6C 9S\",\n",
        "\t\"4S TC 2S 5C QD 4D QS 6D TH 6S\",\n",
        "\t\"3S 5C 9D 6H 8D 4C 7D TC 7C TD\",\n",
        "\t\"AH 6S AS 7H 5S KD 3H 5H AC 4C\",\n",
        "\t\"8D 8S AH KS QS 2C AD 6H 7D 5D\",\n",
        "\t\"6H 9H 9S 2H QS 8S 9C 5D 2D KD\",\n",
        "\t\"TS QC 5S JH 7D 7S TH 9S 9H AC\",\n",
        "\t\"7H 3H 6S KC 4D 6D 5C 4S QD TS\",\n",
        "\t\"TD 2S 7C QD 3H JH 9D 4H 7S 7H\",\n",
        "\t\"KS 3D 4H 5H TC 2S AS 2D 6D 7D\",\n",
        "\t\"8H 3C 7H TD 3H AD KC TH 9C KH\",\n",
        "\t\"TC 4C 2C 9S 9D 9C 5C 2H JD 3C\",\n",
        "\t\"3H AC TS 5D AD 8D 6H QC 6S 8C\",\n",
        "\t\"2S TS 3S JD 7H 8S QH 4C 5S 8D\",\n",
        "\t\"AC 4S 6C 3C KH 3D 7C 2D 8S 2H\",\n",
        "\t\"4H 6C 8S TH 2H 4S 8H 9S 3H 7S\",\n",
        "\t\"7C 4C 9C 2C 5C AS 5D KD 4D QH\",\n",
        "\t\"9H 4H TS AS 7D 8D 5D 9S 8C 2H\",\n",
        "\t\"QC KD AC AD 2H 7S AS 3S 2D 9S\",\n",
        "\t\"2H QC 8H TC 6D QD QS 5D KH 3C\",\n",
        "\t\"TH JD QS 4C 2S 5S AD 7H 3S AS\",\n",
        "\t\"7H JS 3D 6C 3S 6D AS 9S AC QS\",\n",
        "\t\"9C TS AS 8C TC 8S 6H 9D 8D 6C\",\n",
        "\t\"4D JD 9C KC 7C 6D KS 3S 8C AS\",\n",
        "\t\"3H 6S TC 8D TS 3S KC 9S 7C AS\",\n",
        "\t\"8C QC 4H 4S 8S 6C 3S TC AH AC\",\n",
        "\t\"4D 7D 5C AS 2H 6S TS QC AD TC\",\n",
        "\t\"QD QC 8S 4S TH 3D AH TS JH 4H\",\n",
        "\t\"5C 2D 9S 2C 3H 3C 9D QD QH 7D\",\n",
        "\t\"KC 9H 6C KD 7S 3C 4D AS TC 2D\",\n",
        "\t\"3D JS 4D 9D KS 7D TH QC 3H 3C\",\n",
        "\t\"8D 5S 2H 9D 3H 8C 4C 4H 3C TH\",\n",
        "\t\"JC TH 4S 6S JD 2D 4D 6C 3D 4C\",\n",
        "\t\"TS 3S 2D 4H AC 2C 6S 2H JH 6H\",\n",
        "\t\"TD 8S AD TC AH AC JH 9S 6S 7S\",\n",
        "\t\"6C KC 4S JD 8D 9H 5S 7H QH AH\",\n",
        "\t\"KD 8D TS JH 5C 5H 3H AD AS JS\",\n",
        "\t\"2D 4H 3D 6C 8C 7S AD 5D 5C 8S\",\n",
        "\t\"TD 5D 7S 9C 4S 5H 6C 8C 4C 8S\",\n",
        "\t\"JS QH 9C AS 5C QS JC 3D QC 7C\",\n",
        "\t\"JC 9C KH JH QS QC 2C TS 3D AD\",\n",
        "\t\"5D JH AC 5C 9S TS 4C JD 8C KS\",\n",
        "\t\"KC AS 2D KH 9H 2C 5S 4D 3D 6H\",\n",
        "\t\"TH AH 2D 8S JC 3D 8C QH 7S 3S\",\n",
        "\t\"8H QD 4H JC AS KH KS 3C 9S 6D\",\n",
        "\t\"9S QH 7D 9C 4S AC 7H KH 4D KD\",\n",
        "\t\"AH AD TH 6D 9C 9S KD KS QH 4H\",\n",
        "\t\"QD 6H 9C 7C QS 6D 6S 9D 5S JH\",\n",
        "\t\"AH 8D 5H QD 2H JC KS 4H KH 5S\",\n",
        "\t\"5C 2S JS 8D 9C 8C 3D AS KC AH\",\n",
        "\t\"JD 9S 2H QS 8H 5S 8C TH 5C 4C\",\n",
        "\t\"QC QS 8C 2S 2C 3S 9C 4C KS KH\",\n",
        "\t\"2D 5D 8S AH AD TD 2C JS KS 8C\",\n",
        "\t\"TC 5S 5H 8H QC 9H 6H JD 4H 9S\",\n",
        "\t\"3C JH 4H 9H AH 4S 2H 4C 8D AC\",\n",
        "\t\"8S TH 4D 7D 6D QD QS 7S TC 7C\",\n",
        "\t\"KH 6D 2D JD 5H JS QD JH 4H 4S\",\n",
        "\t\"9C 7S JH 4S 3S TS QC 8C TC 4H\",\n",
        "\t\"QH 9D 4D JH QS 3S 2C 7C 6C 2D\",\n",
        "\t\"4H 9S JD 5C 5H AH 9D TS 2D 4C\",\n",
        "\t\"KS JH TS 5D 2D AH JS 7H AS 8D\",\n",
        "\t\"JS AH 8C AD KS 5S 8H 2C 6C TH\",\n",
        "\t\"2H 5D AD AC KS 3D 8H TS 6H QC\",\n",
        "\t\"6D 4H TS 9C 5H JS JH 6S JD 4C\",\n",
        "\t\"JH QH 4H 2C 6D 3C 5D 4C QS KC\",\n",
        "\t\"6H 4H 6C 7H 6S 2S 8S KH QC 8C\",\n",
        "\t\"3H 3D 5D KS 4H TD AD 3S 4D TS\",\n",
        "\t\"5S 7C 8S 7D 2C KS 7S 6C 8C JS\",\n",
        "\t\"5D 2H 3S 7C 5C QD 5H 6D 9C 9H\",\n",
        "\t\"JS 2S KD 9S 8D TD TS AC 8C 9D\",\n",
        "\t\"5H QD 2S AC 8C 9H KS 7C 4S 3C\",\n",
        "\t\"KH AS 3H 8S 9C JS QS 4S AD 4D\",\n",
        "\t\"AS 2S TD AD 4D 9H JC 4C 5H QS\",\n",
        "\t\"5D 7C 4H TC 2D 6C JS 4S KC 3S\",\n",
        "\t\"4C 2C 5D AC 9H 3D JD 8S QS QH\",\n",
        "\t\"2C 8S 6H 3C QH 6D TC KD AC AH\",\n",
        "\t\"QC 6C 3S QS 4S AC 8D 5C AD KH\",\n",
        "\t\"5S 4C AC KH AS QC 2C 5C 8D 9C\",\n",
        "\t\"8H JD 3C KH 8D 5C 9C QD QH 9D\",\n",
        "\t\"7H TS 2C 8C 4S TD JC 9C 5H QH\",\n",
        "\t\"JS 4S 2C 7C TH 6C AS KS 7S JD\",\n",
        "\t\"JH 7C 9H 7H TC 5H 3D 6D 5D 4D\",\n",
        "\t\"2C QD JH 2H 9D 5S 3D TD AD KS\",\n",
        "\t\"JD QH 3S 4D TH 7D 6S QS KS 4H\",\n",
        "\t\"TC KS 5S 8D 8H AD 2S 2D 4C JH\",\n",
        "\t\"5S JH TC 3S 2D QS 9D 4C KD 9S\",\n",
        "\t\"AC KH 3H AS 9D KC 9H QD 6C 6S\",\n",
        "\t\"9H 7S 3D 5C 7D KC TD 8H 4H 6S\",\n",
        "\t\"3C 7H 8H TC QD 4D 7S 6S QH 6C\",\n",
        "\t\"6D AD 4C QD 6C 5D 7D 9D KS TS\",\n",
        "\t\"JH 2H JD 9S 7S TS KH 8D 5D 8H\",\n",
        "\t\"2D 9S 4C 7D 9D 5H QD 6D AC 6S\",\n",
        "\t\"7S 6D JC QD JH 4C 6S QS 2H 7D\",\n",
        "\t\"8C TD JH KD 2H 5C QS 2C JS 7S\",\n",
        "\t\"TC 5H 4H JH QD 3S 5S 5D 8S KH\",\n",
        "\t\"KS KH 7C 2C 5D JH 6S 9C 6D JC\",\n",
        "\t\"5H AH JD 9C JS KC 2H 6H 4D 5S\",\n",
        "\t\"AS 3C TH QC 6H 9C 8S 8C TD 7C\",\n",
        "\t\"KC 2C QD 9C KH 4D 7S 3C TS 9H\",\n",
        "\t\"9C QC 2S TS 8C TD 9S QD 3S 3C\",\n",
        "\t\"4D 9D TH JH AH 6S 2S JD QH JS\",\n",
        "\t\"QD 9H 6C KD 7D 7H 5D 6S 8H AH\",\n",
        "\t\"8H 3C 4S 2H 5H QS QH 7S 4H AC\",\n",
        "\t\"QS 3C 7S 9S 4H 3S AH KS 9D 7C\",\n",
        "\t\"AD 5S 6S 2H 2D 5H TC 4S 3C 8C\",\n",
        "\t\"QH TS 6S 4D JS KS JH AS 8S 6D\",\n",
        "\t\"2C 8S 2S TD 5H AS TC TS 6C KC\",\n",
        "\t\"KC TS 8H 2H 3H 7C 4C 5S TH TD\",\n",
        "\t\"KD AD KH 7H 7S 5D 5H 5S 2D 9C\",\n",
        "\t\"AD 9S 3D 7S 8C QC 7C 9C KD KS\",\n",
        "\t\"3C QC 9S 8C 4D 5C AS QD 6C 2C\",\n",
        "\t\"2H KC 8S JD 7S AC 8D 5C 2S 4D\",\n",
        "\t\"9D QH 3D 2S TC 3S KS 3C 9H TD\",\n",
        "\t\"KD 6S AC 2C 7H 5H 3S 6C 6H 8C\",\n",
        "\t\"QH TC 8S 6S KH TH 4H 5D TS 4D\",\n",
        "\t\"8C JS 4H 6H 2C 2H 7D AC QD 3D\",\n",
        "\t\"QS KC 6S 2D 5S 4H TD 3H JH 4C\",\n",
        "\t\"7S 5H 7H 8H KH 6H QS TH KD 7D\",\n",
        "\t\"5H AD KD 7C KH 5S TD 6D 3C 6C\",\n",
        "\t\"8C 9C 5H JD 7C KC KH 7H 2H 3S\",\n",
        "\t\"7S 4H AD 4D 8S QS TH 3D 7H 5S\",\n",
        "\t\"8D TC KS KD 9S 6D AD JD 5C 2S\",\n",
        "\t\"7H 8H 6C QD 2H 6H 9D TC 9S 7C\",\n",
        "\t\"8D 6D 4C 7C 6C 3C TH KH JS JH\",\n",
        "\t\"5S 3S 8S JS 9H AS AD 8H 7S KD\",\n",
        "\t\"JH 7C 2C KC 5H AS AD 9C 9S JS\",\n",
        "\t\"AD AC 2C 6S QD 7C 3H TH KS KD\",\n",
        "\t\"9D JD 4H 8H 4C KH 7S TS 8C KC\",\n",
        "\t\"3S 5S 2H 7S 6H 7D KS 5C 6D AD\",\n",
        "\t\"5S 8C 9H QS 7H 7S 2H 6C 7D TD\",\n",
        "\t\"QS 5S TD AC 9D KC 3D TC 2D 4D\",\n",
        "\t\"TD 2H 7D JD QD 4C 7H 5D KC 3D\",\n",
        "\t\"4C 3H 8S KD QH 5S QC 9H TC 5H\",\n",
        "\t\"9C QD TH 5H TS 5C 9H AH QH 2C\",\n",
        "\t\"4D 6S 3C AC 6C 3D 2C 2H TD TH\",\n",
        "\t\"AC 9C 5D QC 4D AD 8D 6D 8C KC\",\n",
        "\t\"AD 3C 4H AC 8D 8H 7S 9S TD JC\",\n",
        "\t\"4H 9H QH JS 2D TH TD TC KD KS\",\n",
        "\t\"5S 6S 9S 8D TH AS KH 5H 5C 8S\",\n",
        "\t\"JD 2S 9S 6S 5S 8S 5D 7S 7H 9D\",\n",
        "\t\"5D 8C 4C 9D AD TS 2C 7D KD TC\",\n",
        "\t\"8S QS 4D KC 5C 8D 4S KH JD KD\",\n",
        "\t\"AS 5C AD QH 7D 2H 9S 7H 7C TC\",\n",
        "\t\"2S 8S JD KH 7S 6C 6D AD 5D QC\",\n",
        "\t\"9H 6H 3S 8C 8H AH TC 4H JS TD\",\n",
        "\t\"2C TS 4D 7H 2D QC 9C 5D TH 7C\",\n",
        "\t\"6C 8H QC 5D TS JH 5C 5H 9H 4S\",\n",
        "\t\"2D QC 7H AS JS 8S 2H 4C 4H 8D\",\n",
        "\t\"JS 6S AC KD 3D 3C 4S 7H TH KC\",\n",
        "\t\"QH KH 6S QS 5S 4H 3C QD 3S 3H\",\n",
        "\t\"7H AS KH 8C 4H 9C 5S 3D 6S TS\",\n",
        "\t\"9C 7C 3H 5S QD 2C 3D AD AC 5H\",\n",
        "\t\"JH TD 2D 4C TS 3H KH AD 3S 7S\",\n",
        "\t\"AS 4C 5H 4D 6S KD JC 3C 6H 2D\",\n",
        "\t\"3H 6S 8C 2D TH 4S AH QH AD 5H\",\n",
        "\t\"7C 2S 9H 7H KC 5C 6D 5S 3H JC\",\n",
        "\t\"3C TC 9C 4H QD TD JH 6D 9H 5S\",\n",
        "\t\"7C 6S 5C 5D 6C 4S 7H 9H 6H AH\",\n",
        "\t\"AD 2H 7D KC 2C 4C 2S 9S 7H 3S\",\n",
        "\t\"TH 4C 8S 6S 3S AD KS AS JH TD\",\n",
        "\t\"5C TD 4S 4D AD 6S 5D TC 9C 7D\",\n",
        "\t\"8H 3S 4D 4S 5S 6H 5C AC 3H 3D\",\n",
        "\t\"9H 3C AC 4S QS 8S 9D QH 5H 4D\",\n",
        "\t\"JC 6C 5H TS AC 9C JD 8C 7C QD\",\n",
        "\t\"8S 8H 9C JD 2D QC QH 6H 3C 8D\",\n",
        "\t\"KS JS 2H 6H 5H QH QS 3H 7C 6D\",\n",
        "\t\"TC 3H 4S 7H QC 2H 3S 8C JS KH\",\n",
        "\t\"AH 8H 5S 4C 9H JD 3H 7S JC AC\",\n",
        "\t\"3C 2D 4C 5S 6C 4S QS 3S JD 3D\",\n",
        "\t\"5H 2D TC AH KS 6D 7H AD 8C 6H\",\n",
        "\t\"6C 7S 3C JD 7C 8H KS KH AH 6D\",\n",
        "\t\"AH 7D 3H 8H 8S 7H QS 5H 9D 2D\",\n",
        "\t\"JD AC 4H 7S 8S 9S KS AS 9D QH\",\n",
        "\t\"7S 2C 8S 5S JH QS JC AH KD 4C\",\n",
        "\t\"AH 2S 9H 4H 8D TS TD 6H QH JD\",\n",
        "\t\"4H JC 3H QS 6D 7S 9C 8S 9D 8D\",\n",
        "\t\"5H TD 4S 9S 4C 8C 8D 7H 3H 3D\",\n",
        "\t\"QS KH 3S 2C 2S 3C 7S TD 4S QD\",\n",
        "\t\"7C TD 4D 5S KH AC AS 7H 4C 6C\",\n",
        "\t\"2S 5H 6D JD 9H QS 8S 2C 2H TD\",\n",
        "\t\"2S TS 6H 9H 7S 4H JC 4C 5D 5S\",\n",
        "\t\"2C 5H 7D 4H 3S QH JC JS 6D 8H\",\n",
        "\t\"4C QH 7C QD 3S AD TH 8S 5S TS\",\n",
        "\t\"9H TC 2S TD JC 7D 3S 3D TH QH\",\n",
        "\t\"7D 4C 8S 5C JH 8H 6S 3S KC 3H\",\n",
        "\t\"JC 3H KH TC QH TH 6H 2C AC 5H\",\n",
        "\t\"QS 2H 9D 2C AS 6S 6C 2S 8C 8S\",\n",
        "\t\"9H 7D QC TH 4H KD QS AC 7S 3C\",\n",
        "\t\"4D JH 6S 5S 8H KS 9S QC 3S AS\",\n",
        "\t\"JD 2D 6S 7S TC 9H KC 3H 7D KD\",\n",
        "\t\"2H KH 7C 4D 4S 3H JS QD 7D KC\",\n",
        "\t\"4C JC AS 9D 3C JS 6C 8H QD 4D\",\n",
        "\t\"AH JS 3S 6C 4C 3D JH 6D 9C 9H\",\n",
        "\t\"9H 2D 8C 7H 5S KS 6H 9C 2S TC\",\n",
        "\t\"6C 8C AD 7H 6H 3D KH AS 5D TH\",\n",
        "\t\"KS 8C 3S TS 8S 4D 5S 9S 6C 4H\",\n",
        "\t\"9H 4S 4H 5C 7D KC 2D 2H 9D JH\",\n",
        "\t\"5C JS TC 9D 9H 5H 7S KH JC 6S\",\n",
        "\t\"7C 9H 8H 4D JC KH JD 2H TD TC\",\n",
        "\t\"8H 6C 2H 2C KH 6H 9D QS QH 5H\",\n",
        "\t\"AC 7D 2S 3D QD JC 2D 8D JD JH\",\n",
        "\t\"2H JC 2D 7H 2C 3C 8D KD TD 4H\",\n",
        "\t\"3S 4H 6D 8D TS 3H TD 3D 6H TH\",\n",
        "\t\"JH JC 3S AC QH 9H 7H 8S QC 2C\",\n",
        "\t\"7H TD QS 4S 8S 9C 2S 5D 4D 2H\",\n",
        "\t\"3D TS 3H 2S QC 8H 6H KC JC KS\",\n",
        "\t\"5D JD 7D TC 8C 6C 9S 3D 8D AC\",\n",
        "\t\"8H 6H JH 6C 5D 8D 8S 4H AD 2C\",\n",
        "\t\"9D 4H 2D 2C 3S TS AS TC 3C 5D\",\n",
        "\t\"4D TH 5H KS QS 6C 4S 2H 3D AD\",\n",
        "\t\"5C KC 6H 2C 5S 3C 4D 2D 9H 9S\",\n",
        "\t\"JD 4C 3H TH QH 9H 5S AH 8S AC\",\n",
        "\t\"7D 9S 6S 2H TD 9C 4H 8H QS 4C\",\n",
        "\t\"3C 6H 5D 4H 8C 9C KC 6S QD QS\",\n",
        "\t\"3S 9H KD TC 2D JS 8C 6S 4H 4S\",\n",
        "\t\"2S 4C 8S QS 6H KH 3H TH 8C 5D\",\n",
        "\t\"2C KH 5S 3S 7S 7H 6C 9D QD 8D\",\n",
        "\t\"8H KS AC 2D KH TS 6C JS KC 7H\",\n",
        "\t\"9C KS 5C TD QC AH 6C 5H 9S 7C\",\n",
        "\t\"5D 4D 3H 4H 6S 7C 7S AH QD TD\",\n",
        "\t\"2H 7D QC 6S TC TS AH 7S 9D 3H\",\n",
        "\t\"TH 5H QD 9S KS 7S 7C 6H 8C TD\",\n",
        "\t\"TH 2D 4D QC 5C 7D JD AH 9C 4H\",\n",
        "\t\"4H 3H AH 8D 6H QC QH 9H 2H 2C\",\n",
        "\t\"2D AD 4C TS 6H 7S TH 4H QS TD\",\n",
        "\t\"3C KD 2H 3H QS JD TC QC 5D 8H\",\n",
        "\t\"KS JC QD TH 9S KD 8D 8C 2D 9C\",\n",
        "\t\"3C QD KD 6D 4D 8D AH AD QC 8S\",\n",
        "\t\"8H 3S 9D 2S 3H KS 6H 4C 7C KC\",\n",
        "\t\"TH 9S 5C 3D 7D 6H AC 7S 4D 2C\",\n",
        "\t\"5C 3D JD 4D 2D 6D 5H 9H 4C KH\",\n",
        "\t\"AS 7H TD 6C 2H 3D QD KS 4C 4S\",\n",
        "\t\"JC 3C AC 7C JD JS 8H 9S QC 5D\",\n",
        "\t\"JD 6S 5S 2H AS 8C 7D 5H JH 3D\",\n",
        "\t\"8D TC 5S 9S 8S 3H JC 5H 7S AS\",\n",
        "\t\"5C TD 3D 7D 4H 8D 7H 4D 5D JS\",\n",
        "\t\"QS 9C KS TD 2S 8S 5C 2H 4H AS\",\n",
        "\t\"TH 7S 4H 7D 3H JD KD 5D 2S KC\",\n",
        "\t\"JD 7H 4S 8H 4C JS 6H QH 5S 4H\",\n",
        "\t\"2C QS 8C 5S 3H QC 2S 6C QD AD\",\n",
        "\t\"8C 3D JD TC 4H 2H AD 5S AC 2S\",\n",
        "\t\"5D 2C JS 2D AD 9D 3D 4C 4S JH\",\n",
        "\t\"8D 5H 5D 6H 7S 4D KS 9D TD JD\",\n",
        "\t\"3D 6D 9C 2S AS 7D 5S 5C 8H JD\",\n",
        "\t\"7C 8S 3S 6S 5H JD TC AD 7H 7S\",\n",
        "\t\"2S 9D TS 4D AC 8D 6C QD JD 3H\",\n",
        "\t\"9S KH 2C 3C AC 3D 5H 6H 8D 5D\",\n",
        "\t\"KS 3D 2D 6S AS 4C 2S 7C 7H KH\",\n",
        "\t\"AC 2H 3S JC 5C QH 4D 2D 5H 7S\",\n",
        "\t\"TS AS JD 8C 6H JC 8S 5S 2C 5D\",\n",
        "\t\"7S QH 7H 6C QC 8H 2D 7C JD 2S\",\n",
        "\t\"2C QD 2S 2H JC 9C 5D 2D JD JH\",\n",
        "\t\"7C 5C 9C 8S 7D 6D 8D 6C 9S JH\",\n",
        "\t\"2C AD 6S 5H 3S KS 7S 9D KH 4C\",\n",
        "\t\"7H 6C 2C 5C TH 9D 8D 3S QC AH\",\n",
        "\t\"5S KC 6H TC 5H 8S TH 6D 3C AH\",\n",
        "\t\"9C KD 4H AD TD 9S 4S 7D 6H 5D\",\n",
        "\t\"7H 5C 5H 6D AS 4C KD KH 4H 9D\",\n",
        "\t\"3C 2S 5C 6C JD QS 2H 9D 7D 3H\",\n",
        "\t\"AC 2S 6S 7S JS QD 5C QS 6H AD\",\n",
        "\t\"5H TH QC 7H TC 3S 7C 6D KC 3D\",\n",
        "\t\"4H 3D QC 9S 8H 2C 3S JC KS 5C\",\n",
        "\t\"4S 6S 2C 6H 8S 3S 3D 9H 3H JS\",\n",
        "\t\"4S 8C 4D 2D 8H 9H 7D 9D AH TS\",\n",
        "\t\"9S 2C 9H 4C 8D AS 7D 3D 6D 5S\",\n",
        "\t\"6S 4C 7H 8C 3H 5H JC AH 9D 9C\",\n",
        "\t\"2S 7C 5S JD 8C 3S 3D 4D 7D 6S\",\n",
        "\t\"3C KC 4S 5D 7D 3D JD 7H 3H 4H\",\n",
        "\t\"9C 9H 4H 4D TH 6D QD 8S 9S 7S\",\n",
        "\t\"2H AC 8S 4S AD 8C 2C AH 7D TC\",\n",
        "\t\"TS 9H 3C AD KS TC 3D 8C 8H JD\",\n",
        "\t\"QC 8D 2C 3C 7D 7C JD 9H 9C 6C\",\n",
        "\t\"AH 6S JS JH 5D AS QC 2C JD TD\",\n",
        "\t\"9H KD 2H 5D 2D 3S 7D TC AH TS\",\n",
        "\t\"TD 8H AS 5D AH QC AC 6S TC 5H\",\n",
        "\t\"KS 4S 7H 4D 8D 9C TC 2H 6H 3H\",\n",
        "\t\"3H KD 4S QD QH 3D 8H 8C TD 7S\",\n",
        "\t\"8S JD TC AH JS QS 2D KH KS 4D\",\n",
        "\t\"3C AD JC KD JS KH 4S TH 9H 2C\",\n",
        "\t\"QC 5S JS 9S KS AS 7C QD 2S JD\",\n",
        "\t\"KC 5S QS 3S 2D AC 5D 9H 8H KS\",\n",
        "\t\"6H 9C TC AD 2C 6D 5S JD 6C 7C\",\n",
        "\t\"QS KH TD QD 2C 3H 8S 2S QC AH\",\n",
        "\t\"9D 9H JH TC QH 3C 2S JS 5C 7H\",\n",
        "\t\"6C 3S 3D 2S 4S QD 2D TH 5D 2C\",\n",
        "\t\"2D 6H 6D 2S JC QH AS 7H 4H KH\",\n",
        "\t\"5H 6S KS AD TC TS 7C AC 4S 4H\",\n",
        "\t\"AD 3C 4H QS 8C 9D KS 2H 2D 4D\",\n",
        "\t\"4S 9D 6C 6D 9C AC 8D 3H 7H KD\",\n",
        "\t\"JC AH 6C TS JD 6D AD 3S 5D QD\",\n",
        "\t\"JC JH JD 3S 7S 8S JS QC 3H 4S\",\n",
        "\t\"JD TH 5C 2C AD JS 7H 9S 2H 7S\",\n",
        "\t\"8D 3S JH 4D QC AS JD 2C KC 6H\",\n",
        "\t\"2C AC 5H KD 5S 7H QD JH AH 2D\",\n",
        "\t\"JC QH 8D 8S TC 5H 5C AH 8C 6C\",\n",
        "\t\"3H JS 8S QD JH 3C 4H 6D 5C 3S\",\n",
        "\t\"6D 4S 4C AH 5H 5S 3H JD 7C 8D\",\n",
        "\t\"8H AH 2H 3H JS 3C 7D QC 4H KD\",\n",
        "\t\"6S 2H KD 5H 8H 2D 3C 8S 7S QD\",\n",
        "\t\"2S 7S KC QC AH TC QS 6D 4C 8D\",\n",
        "\t\"5S 9H 2C 3S QD 7S 6C 2H 7C 9D\",\n",
        "\t\"3C 6C 5C 5S JD JC KS 3S 5D TS\",\n",
        "\t\"7C KS 6S 5S 2S 2D TC 2H 5H QS\",\n",
        "\t\"AS 7H 6S TS 5H 9S 9D 3C KD 2H\",\n",
        "\t\"4S JS QS 3S 4H 7C 2S AC 6S 9D\",\n",
        "\t\"8C JH 2H 5H 7C 5D QH QS KH QC\",\n",
        "\t\"3S TD 3H 7C KC 8D 5H 8S KH 8C\",\n",
        "\t\"4H KH JD TS 3C 7H AS QC JS 5S\",\n",
        "\t\"AH 9D 2C 8D 4D 2D 6H 6C KC 6S\",\n",
        "\t\"2S 6H 9D 3S 7H 4D KH 8H KD 3D\",\n",
        "\t\"9C TC AC JH KH 4D JD 5H TD 3S\",\n",
        "\t\"7S 4H 9D AS 4C 7D QS 9S 2S KH\",\n",
        "\t\"3S 8D 8S KS 8C JC 5C KH 2H 5D\",\n",
        "\t\"8S QH 2C 4D KC JS QC 9D AC 6H\",\n",
        "\t\"8S 8C 7C JS JD 6S 4C 9C AC 4S\",\n",
        "\t\"QH 5D 2C 7D JC 8S 2D JS JH 4C\",\n",
        "\t\"JS 4C 7S TS JH KC KH 5H QD 4S\",\n",
        "\t\"QD 8C 8D 2D 6S TD 9D AC QH 5S\",\n",
        "\t\"QH QC JS 3D 3C 5C 4H KH 8S 7H\",\n",
        "\t\"7C 2C 5S JC 8S 3H QC 5D 2H KC\",\n",
        "\t\"5S 8D KD 6H 4H QD QH 6D AH 3D\",\n",
        "\t\"7S KS 6C 2S 4D AC QS 5H TS JD\",\n",
        "\t\"7C 2D TC 5D QS AC JS QC 6C KC\",\n",
        "\t\"2C KS 4D 3H TS 8S AD 4H 7S 9S\",\n",
        "\t\"QD 9H QH 5H 4H 4D KH 3S JC AD\",\n",
        "\t\"4D AC KC 8D 6D 4C 2D KH 2C JD\",\n",
        "\t\"2C 9H 2D AH 3H 6D 9C 7D TC KS\",\n",
        "\t\"8C 3H KD 7C 5C 2S 4S 5H AS AH\",\n",
        "\t\"TH JD 4H KD 3H TC 5C 3S AC KH\",\n",
        "\t\"6D 7H AH 7S QC 6H 2D TD JD AS\",\n",
        "\t\"JH 5D 7H TC 9S 7D JC AS 5S KH\",\n",
        "\t\"2H 8C AD TH 6H QD KD 9H 6S 6C\",\n",
        "\t\"QH KC 9D 4D 3S JS JH 4H 2C 9H\",\n",
        "\t\"TC 7H KH 4H JC 7D 9S 3H QS 7S\",\n",
        "\t\"AD 7D JH 6C 7H 4H 3S 3H 4D QH\",\n",
        "\t\"JD 2H 5C AS 6C QC 4D 3C TC JH\",\n",
        "\t\"AC JD 3H 6H 4C JC AD 7D 7H 9H\",\n",
        "\t\"4H TC TS 2C 8C 6S KS 2H JD 9S\",\n",
        "\t\"4C 3H QS QC 9S 9H 6D KC 9D 9C\",\n",
        "\t\"5C AD 8C 2C QH TH QD JC 8D 8H\",\n",
        "\t\"QC 2C 2S QD 9C 4D 3S 8D JH QS\",\n",
        "\t\"9D 3S 2C 7S 7C JC TD 3C TC 9H\",\n",
        "\t\"3C TS 8H 5C 4C 2C 6S 8D 7C 4H\",\n",
        "\t\"KS 7H 2H TC 4H 2C 3S AS AH QS\",\n",
        "\t\"8C 2D 2H 2C 4S 4C 6S 7D 5S 3S\",\n",
        "\t\"TH QC 5D TD 3C QS KD KC KS AS\",\n",
        "\t\"4D AH KD 9H KS 5C 4C 6H JC 7S\",\n",
        "\t\"KC 4H 5C QS TC 2H JC 9S AH QH\",\n",
        "\t\"4S 9H 3H 5H 3C QD 2H QC JH 8H\",\n",
        "\t\"5D AS 7H 2C 3D JH 6H 4C 6S 7D\",\n",
        "\t\"9C JD 9H AH JS 8S QH 3H KS 8H\",\n",
        "\t\"3S AC QC TS 4D AD 3D AH 8S 9H\",\n",
        "\t\"7H 3H QS 9C 9S 5H JH JS AH AC\",\n",
        "\t\"8D 3C JD 2H AC 9C 7H 5S 4D 8H\",\n",
        "\t\"7C JH 9H 6C JS 9S 7H 8C 9D 4H\",\n",
        "\t\"2D AS 9S 6H 4D JS JH 9H AD QD\",\n",
        "\t\"6H 7S JH KH AH 7H TD 5S 6S 2C\",\n",
        "\t\"8H JH 6S 5H 5S 9D TC 4C QC 9S\",\n",
        "\t\"7D 2C KD 3H 5H AS QD 7H JS 4D\",\n",
        "\t\"TS QH 6C 8H TH 5H 3C 3H 9C 9D\",\n",
        "\t\"AD KH JS 5D 3H AS AC 9S 5C KC\",\n",
        "\t\"2C KH 8C JC QS 6D AH 2D KC TC\",\n",
        "\t\"9D 3H 2S 7C 4D 6D KH KS 8D 7D\",\n",
        "\t\"9H 2S TC JH AC QC 3H 5S 3S 8H\",\n",
        "\t\"3S AS KD 8H 4C 3H 7C JH QH TS\",\n",
        "\t\"7S 6D 7H 9D JH 4C 3D 3S 6C AS\",\n",
        "\t\"4S 2H 2C 4C 8S 5H KC 8C QC QD\",\n",
        "\t\"3H 3S 6C QS QC 2D 6S 5D 2C 9D\",\n",
        "\t\"2H 8D JH 2S 3H 2D 6C 5C 7S AD\",\n",
        "\t\"9H JS 5D QH 8S TS 2H 7S 6S AD\",\n",
        "\t\"6D QC 9S 7H 5H 5C 7D KC JD 4H\",\n",
        "\t\"QC 5S 9H 9C 4D 6S KS 2S 4C 7C\",\n",
        "\t\"9H 7C 4H 8D 3S 6H 5C 8H JS 7S\",\n",
        "\t\"2D 6H JS TD 4H 4D JC TH 5H KC\",\n",
        "\t\"AC 7C 8D TH 3H 9S 2D 4C KC 4D\",\n",
        "\t\"KD QS 9C 7S 3D KS AD TS 4C 4H\",\n",
        "\t\"QH 9C 8H 2S 7D KS 7H 5D KD 4C\",\n",
        "\t\"9C 2S 2H JC 6S 6C TC QC JH 5C\",\n",
        "\t\"7S AC 8H KC 8S 6H QS JC 3D 6S\",\n",
        "\t\"JS 2D JH 8C 4S 6H 8H 6D 5D AD\",\n",
        "\t\"6H 7D 2S 4H 9H 7C AS AC 8H 5S\",\n",
        "\t\"3C JS 4S 6D 5H 2S QH 6S 9C 2C\",\n",
        "\t\"3D 5S 6S 9S 4C QS 8D QD 8S TC\",\n",
        "\t\"9C 3D AH 9H 5S 2C 7D AD JC 3S\",\n",
        "\t\"7H TC AS 3C 6S 6D 7S KH KC 9H\",\n",
        "\t\"3S TC 8H 6S 5H JH 8C 7D AC 2S\",\n",
        "\t\"QD 9D 9C 3S JC 8C KS 8H 5D 4D\",\n",
        "\t\"JS AH JD 6D 9D 8C 9H 9S 8H 3H\",\n",
        "\t\"2D 6S 4C 4D 8S AD 4S TC AH 9H\",\n",
        "\t\"TS AC QC TH KC 6D 4H 7S 8C 2H\",\n",
        "\t\"3C QD JS 9D 5S JC AH 2H TS 9H\",\n",
        "\t\"3H 4D QH 5D 9C 5H 7D 4S JC 3S\",\n",
        "\t\"8S TH 3H 7C 2H JD JS TS AC 8D\",\n",
        "\t\"9C 2H TD KC JD 2S 8C 5S AD 2C\",\n",
        "\t\"3D KD 7C 5H 4D QH QD TC 6H 7D\",\n",
        "\t\"7H 2C KC 5S KD 6H AH QC 7S QH\",\n",
        "\t\"6H 5C AC 5H 2C 9C 2D 7C TD 2S\",\n",
        "\t\"4D 9D AH 3D 7C JD 4H 8C 4C KS\",\n",
        "\t\"TH 3C JS QH 8H 4C AS 3D QS QC\",\n",
        "\t\"4D 7S 5H JH 6D 7D 6H JS KH 3C\",\n",
        "\t\"QD 8S 7D 2H 2C 7C JC 2S 5H 8C\",\n",
        "\t\"QH 8S 9D TC 2H AD 7C 8D QD 6S\",\n",
        "\t\"3S 7C AD 9H 2H 9S JD TS 4C 2D\",\n",
        "\t\"3S AS 4H QC 2C 8H 8S 7S TD TC\",\n",
        "\t\"JH TH TD 3S 4D 4H 5S 5D QS 2C\",\n",
        "\t\"8C QD QH TC 6D 4S 9S 9D 4H QC\",\n",
        "\t\"8C JS 9D 6H JD 3H AD 6S TD QC\",\n",
        "\t\"KC 8S 3D 7C TD 7D 8D 9H 4S 3S\",\n",
        "\t\"6C 4S 3D 9D KD TC KC KS AC 5S\",\n",
        "\t\"7C 6S QH 3D JS KD 6H 6D 2D 8C\",\n",
        "\t\"JD 2S 5S 4H 8S AC 2D 6S TS 5C\",\n",
        "\t\"5H 8C 5S 3C 4S 3D 7C 8D AS 3H\",\n",
        "\t\"AS TS 7C 3H AD 7D JC QS 6C 6H\",\n",
        "\t\"3S 9S 4C AC QH 5H 5D 9H TS 4H\",\n",
        "\t\"6C 5C 7H 7S TD AD JD 5S 2H 2S\",\n",
        "\t\"7D 6C KC 3S JD 8D 8S TS QS KH\",\n",
        "\t\"8S QS 8D 6C TH AC AH 2C 8H 9S\",\n",
        "\t\"7H TD KH QH 8S 3D 4D AH JD AS\",\n",
        "\t\"TS 3D 2H JC 2S JH KH 6C QC JS\",\n",
        "\t\"KC TH 2D 6H 7S 2S TC 8C 9D QS\",\n",
        "\t\"3C 9D 6S KH 8H 6D 5D TH 2C 2H\",\n",
        "\t\"6H TC 7D AD 4D 8S TS 9H TD 7S\",\n",
        "\t\"JS 6D JD JC 2H AC 6C 3D KH 8D\",\n",
        "\t\"KH JD 9S 5D 4H 4C 3H 7S QS 5C\",\n",
        "\t\"4H JD 5D 3S 3C 4D KH QH QS 7S\",\n",
        "\t\"JD TS 8S QD AH 4C 6H 3S 5S 2C\",\n",
        "\t\"QS 3D JD AS 8D TH 7C 6S QC KS\",\n",
        "\t\"7S 2H 8C QC 7H AC 6D 2D TH KH\",\n",
        "\t\"5S 6C 7H KH 7D AH 8C 5C 7S 3D\",\n",
        "\t\"3C KD AD 7D 6C 4D KS 2D 8C 4S\",\n",
        "\t\"7C 8D 5S 2D 2S AH AD 2C 9D TD\",\n",
        "\t\"3C AD 4S KS JH 7C 5C 8C 9C TH\",\n",
        "\t\"AS TD 4D 7C JD 8C QH 3C 5H 9S\",\n",
        "\t\"3H 9C 8S 9S 6S QD KS AH 5H JH\",\n",
        "\t\"QC 9C 5S 4H 2H TD 7D AS 8C 9D\",\n",
        "\t\"8C 2C 9D KD TC 7S 3D KH QC 3C\",\n",
        "\t\"4D AS 4C QS 5S 9D 6S JD QH KS\",\n",
        "\t\"6D AH 6C 4C 5H TS 9H 7D 3D 5S\",\n",
        "\t\"QS JD 7C 8D 9C AC 3S 6S 6C KH\",\n",
        "\t\"8H JH 5D 9S 6D AS 6S 3S QC 7H\",\n",
        "\t\"QD AD 5C JH 2H AH 4H AS KC 2C\",\n",
        "\t\"JH 9C 2C 6H 2D JS 5D 9H KC 6D\",\n",
        "\t\"7D 9D KD TH 3H AS 6S QC 6H AD\",\n",
        "\t\"JD 4H 7D KC 3H JS 3C TH 3D QS\",\n",
        "\t\"4C 3H 8C QD 5H 6H AS 8H AD JD\",\n",
        "\t\"TH 8S KD 5D QC 7D JS 5S 5H TS\",\n",
        "\t\"7D KC 9D QS 3H 3C 6D TS 7S AH\",\n",
        "\t\"7C 4H 7H AH QC AC 4D 5D 6D TH\",\n",
        "\t\"3C 4H 2S KD 8H 5H JH TC 6C JD\",\n",
        "\t\"4S 8C 3D 4H JS TD 7S JH QS KD\",\n",
        "\t\"7C QC KD 4D 7H 6S AD TD TC KH\",\n",
        "\t\"5H 9H KC 3H 4D 3D AD 6S QD 6H\",\n",
        "\t\"TH 7C 6H TS QH 5S 2C KC TD 6S\",\n",
        "\t\"7C 4D 5S JD JH 7D AC KD KH 4H\",\n",
        "\t\"7D 6C 8D 8H 5C JH 8S QD TH JD\",\n",
        "\t\"8D 7D 6C 7C 9D KD AS 5C QH JH\",\n",
        "\t\"9S 2C 8C 3C 4C KS JH 2D 8D 4H\",\n",
        "\t\"7S 6C JH KH 8H 3H 9D 2D AH 6D\",\n",
        "\t\"4D TC 9C 8D 7H TD KS TH KD 3C\",\n",
        "\t\"JD 9H 8D QD AS KD 9D 2C 2S 9C\",\n",
        "\t\"8D 3H 5C 7H KS 5H QH 2D 8C 9H\",\n",
        "\t\"2D TH 6D QD 6C KC 3H 3S AD 4C\",\n",
        "\t\"4H 3H JS 9D 3C TC 5H QH QC JC\",\n",
        "\t\"3D 5C 6H 3S 3C JC 5S 7S 2S QH\",\n",
        "\t\"AC 5C 8C 4D 5D 4H 2S QD 3C 3H\",\n",
        "\t\"2C TD AH 9C KD JS 6S QD 4C QC\",\n",
        "\t\"QS 8C 3S 4H TC JS 3H 7C JC AD\",\n",
        "\t\"5H 4D 9C KS JC TD 9S TS 8S 9H\",\n",
        "\t\"QD TS 7D AS AC 2C TD 6H 8H AH\",\n",
        "\t\"6S AD 8C 4S 9H 8D 9D KH 8S 3C\",\n",
        "\t\"QS 4D 2D 7S KH JS JC AD 4C 3C\",\n",
        "\t\"QS 9S 7H KC TD TH 5H JS AC JH\",\n",
        "\t\"6D AC 2S QS 7C AS KS 6S KH 5S\",\n",
        "\t\"6D 8H KH 3C QS 2H 5C 9C 9D 6C\",\n",
        "\t\"JS 2C 4C 6H 7D JC AC QD TD 3H\",\n",
        "\t\"4H QC 8H JD 4C KD KS 5C KC 7S\",\n",
        "\t\"6D 2D 3H 2S QD 5S 7H AS TH 6S\",\n",
        "\t\"AS 6D 8D 2C 8S TD 8H QD JC AH\",\n",
        "\t\"9C 9H 2D TD QH 2H 5C TC 3D 8H\",\n",
        "\t\"KC 8S 3D KH 2S TS TC 6S 4D JH\",\n",
        "\t\"9H 9D QS AC KC 6H 5D 4D 8D AH\",\n",
        "\t\"9S 5C QS 4H 7C 7D 2H 8S AD JS\",\n",
        "\t\"3D AC 9S AS 2C 2D 2H 3H JC KH\",\n",
        "\t\"7H QH KH JD TC KS 5S 8H 4C 8D\",\n",
        "\t\"2H 7H 3S 2S 5H QS 3C AS 9H KD\",\n",
        "\t\"AD 3D JD 6H 5S 9C 6D AC 9S 3S\",\n",
        "\t\"3D 5D 9C 2D AC 4S 2S AD 6C 6S\",\n",
        "\t\"QC 4C 2D 3H 6S KC QH QD 2H JH\",\n",
        "\t\"QC 3C 8S 4D 9S 2H 5C 8H QS QD\",\n",
        "\t\"6D KD 6S 7H 3S KH 2H 5C JC 6C\",\n",
        "\t\"3S 9S TC 6S 8H 2D AD 7S 8S TS\",\n",
        "\t\"3C 6H 9C 3H 5C JC 8H QH TD QD\",\n",
        "\t\"3C JS QD 5D TD 2C KH 9H TH AS\",\n",
        "\t\"9S TC JD 3D 5C 5H AD QH 9H KC\",\n",
        "\t\"TC 7H 4H 8H 3H TD 6S AC 7C 2S\",\n",
        "\t\"QS 9D 5D 3C JC KS 4D 6C JH 2S\",\n",
        "\t\"9S 6S 3C 7H TS 4C KD 6D 3D 9C\",\n",
        "\t\"2D 9H AH AC 7H 2S JH 3S 7C QC\",\n",
        "\t\"QD 9H 3C 2H AC AS 8S KD 8C KH\",\n",
        "\t\"2D 7S TD TH 6D JD 8D 4D 2H 5S\",\n",
        "\t\"8S QH KD JD QS JH 4D KC 5H 3S\",\n",
        "\t\"3C KH QC 6D 8H 3S AH 7D TD 2D\",\n",
        "\t\"5S 9H QH 4S 6S 6C 6D TS TH 7S\",\n",
        "\t\"6C 4C 6D QS JS 9C TS 3H 8D 8S\",\n",
        "\t\"JS 5C 7S AS 2C AH 2H AD 5S TC\",\n",
        "\t\"KD 6C 9C 9D TS 2S JC 4H 2C QD\",\n",
        "\t\"QS 9H TC 3H KC KS 4H 3C AD TH\",\n",
        "\t\"KH 9C 2H KD 9D TC 7S KC JH 2D\",\n",
        "\t\"7C 3S KC AS 8C 5D 9C 9S QH 3H\",\n",
        "\t\"2D 8C TD 4C 2H QC 5D TC 2C 7D\",\n",
        "\t\"KS 4D 6C QH TD KH 5D 7C AD 8D\",\n",
        "\t\"2S 9S 8S 4C 8C 3D 6H QD 7C 7H\",\n",
        "\t\"6C 8S QH 5H TS 5C 3C 4S 2S 2H\",\n",
        "\t\"8S 6S 2H JC 3S 3H 9D 8C 2S 7H\",\n",
        "\t\"QC 2C 8H 9C AC JD 4C 4H 6S 3S\",\n",
        "\t\"3H 3S 7D 4C 9S 5H 8H JC 3D TC\",\n",
        "\t\"QH 2S 2D 9S KD QD 9H AD 6D 9C\",\n",
        "\t\"8D 2D KS 9S JC 4C JD KC 4S TH\",\n",
        "\t\"KH TS 6D 4D 5C KD 5H AS 9H AD\",\n",
        "\t\"QD JS 7C 6D 5D 5C TH 5H QH QS\",\n",
        "\t\"9D QH KH 5H JH 4C 4D TC TH 6C\",\n",
        "\t\"KH AS TS 9D KD 9C 7S 4D 8H 5S\",\n",
        "\t\"KH AS 2S 7D 9D 4C TS TH AH 7C\",\n",
        "\t\"KS 4D AC 8S 9S 8D TH QH 9D 5C\",\n",
        "\t\"5D 5C 8C QS TC 4C 3D 3S 2C 8D\",\n",
        "\t\"9D KS 2D 3C KC 4S 8C KH 6C JC\",\n",
        "\t\"8H AH 6H 7D 7S QD 3C 4C 6C KC\",\n",
        "\t\"3H 2C QH 8H AS 7D 4C 8C 4H KC\",\n",
        "\t\"QD 5S 4H 2C TD AH JH QH 4C 8S\",\n",
        "\t\"3H QS 5S JS 8H 2S 9H 9C 3S 2C\",\n",
        "\t\"6H TS 7S JC QD AC TD KC 5S 3H\",\n",
        "\t\"QH AS QS 7D JC KC 2C 4C 5C 5S\",\n",
        "\t\"QH 3D AS JS 4H 8D 7H JC 2S 9C\",\n",
        "\t\"5D 4D 2S 4S 9D 9C 2D QS 8H 7H\",\n",
        "\t\"6D 7H 3H JS TS AC 2D JH 7C 8S\",\n",
        "\t\"JH 5H KC 3C TC 5S 9H 4C 8H 9D\",\n",
        "\t\"8S KC 5H 9H AD KS 9D KH 8D AH\",\n",
        "\t\"JC 2H 9H KS 6S 3H QC 5H AH 9C\",\n",
        "\t\"5C KH 5S AD 6C JC 9H QC 9C TD\",\n",
        "\t\"5S 5D JC QH 2D KS 8H QS 2H TS\",\n",
        "\t\"JH 5H 5S AH 7H 3C 8S AS TD KH\",\n",
        "\t\"6H 3D JD 2C 4C KC 7S AH 6C JH\",\n",
        "\t\"4C KS 9D AD 7S KC 7D 8H 3S 9C\",\n",
        "\t\"7H 5C 5H 3C 8H QC 3D KH 6D JC\",\n",
        "\t\"2D 4H 5D 7D QC AD AH 9H QH 8H\",\n",
        "\t\"KD 8C JS 9D 3S 3C 2H 5D 6D 2S\",\n",
        "\t\"8S 6S TS 3C 6H 8D 5S 3H TD 6C\",\n",
        "\t\"KS 3D JH 9C 7C 9S QS 5S 4H 6H\",\n",
        "\t\"7S 6S TH 4S KC KD 3S JC JH KS\",\n",
        "\t\"7C 3C 2S 6D QH 2C 7S 5H 8H AH\",\n",
        "\t\"KC 8D QD 6D KH 5C 7H 9D 3D 9C\",\n",
        "\t\"6H 2D 8S JS 9S 2S 6D KC 7C TC\",\n",
        "\t\"KD 9C JH 7H KC 8S 2S 7S 3D 6H\",\n",
        "\t\"4H 9H 2D 4C 8H 7H 5S 8S 2H 8D\",\n",
        "\t\"AD 7C 3C 7S 5S 4D 9H 3D JC KH\",\n",
        "\t\"5D AS 7D 6D 9C JC 4C QH QS KH\",\n",
        "\t\"KD JD 7D 3D QS QC 8S 6D JS QD\",\n",
        "\t\"6S 8C 5S QH TH 9H AS AC 2C JD\",\n",
        "\t\"QC KS QH 7S 3C 4C 5C KC 5D AH\",\n",
        "\t\"6C 4H 9D AH 2C 3H KD 3D TS 5C\",\n",
        "\t\"TD 8S QS AS JS 3H KD AC 4H KS\",\n",
        "\t\"7D 5D TS 9H 4H 4C 9C 2H 8C QC\",\n",
        "\t\"2C 7D 9H 4D KS 4C QH AD KD JS\",\n",
        "\t\"QD AD AH KH 9D JS 9H JC KD JD\",\n",
        "\t\"8S 3C 4S TS 7S 4D 5C 2S 6H 7C\",\n",
        "\t\"JS 7S 5C KD 6D QH 8S TD 2H 6S\",\n",
        "\t\"QH 6C TC 6H TD 4C 9D 2H QC 8H\",\n",
        "\t\"3D TS 4D 2H 6H 6S 2C 7H 8S 6C\",\n",
        "\t\"9H 9D JD JH 3S AH 2C 6S 3H 8S\",\n",
        "\t\"2C QS 8C 5S 3H 2S 7D 3C AD 4S\",\n",
        "\t\"5C QC QH AS TS 4S 6S 4C 5H JS\",\n",
        "\t\"JH 5C TD 4C 6H JS KD KH QS 4H\",\n",
        "\t\"TC KH JC 4D 9H 9D 8D KC 3C 8H\",\n",
        "\t\"2H TC 8S AD 9S 4H TS 7H 2C 5C\",\n",
        "\t\"4H 2S 6C 5S KS AH 9C 7C 8H KD\",\n",
        "\t\"TS QH TD QS 3C JH AH 2C 8D 7D\",\n",
        "\t\"5D KC 3H 5S AC 4S 7H QS 4C 2H\",\n",
        "\t\"3D 7D QC KH JH 6D 6C TD TH KD\",\n",
        "\t\"5S 8D TH 6C 9D 7D KH 8C 9S 6D\",\n",
        "\t\"JD QS 7S QC 2S QH JC 4S KS 8D\",\n",
        "\t\"7S 5S 9S JD KD 9C JC AD 2D 7C\",\n",
        "\t\"4S 5H AH JH 9C 5D TD 7C 2D 6S\",\n",
        "\t\"KC 6C 7H 6S 9C QD 5S 4H KS TD\",\n",
        "\t\"6S 8D KS 2D TH TD 9H JD TS 3S\",\n",
        "\t\"KH JS 4H 5D 9D TC TD QC JD TS\",\n",
        "\t\"QS QD AC AD 4C 6S 2D AS 3H KC\",\n",
        "\t\"4C 7C 3C TD QS 9C KC AS 8D AD\",\n",
        "\t\"KC 7H QC 6D 8H 6S 5S AH 7S 8C\",\n",
        "\t\"3S AD 9H JC 6D JD AS KH 6S JH\",\n",
        "\t\"AD 3D TS KS 7H JH 2D JS QD AC\",\n",
        "\t\"9C JD 7C 6D TC 6H 6C JC 3D 3S\",\n",
        "\t\"QC KC 3S JC KD 2C 8D AH QS TS\",\n",
        "\t\"AS KD 3D JD 8H 7C 8C 5C QD 6C\",\n",
        "]\n",
        "\n",
        "\n",
        "if __name__ == \"__main__\":\n",
        "\tprint(compute())"
      ],
      "metadata": {
        "colab": {
          "base_uri": "https://localhost:8080/"
        },
        "id": "AViMPqL4i63k",
        "outputId": "463383b4-7e02-4d28-d3ce-cb3d81fcde48"
      },
      "execution_count": null,
      "outputs": [
        {
          "output_type": "stream",
          "name": "stdout",
          "text": [
            "376\n"
          ]
        }
      ]
    },
    {
      "cell_type": "markdown",
      "source": [
        "#  Problem 55 - Lychrel Numbers"
      ],
      "metadata": {
        "id": "7sEcMVXAhQiM"
      }
    },
    {
      "cell_type": "code",
      "source": [
        "def is_palindrome(n):\n",
        "    s = str(n)\n",
        "    return s == s[::-1]\n",
        "\n",
        "def reverse_and_add(n):\n",
        "    reversed_n = int(str(n)[::-1])\n",
        "    return n + reversed_n\n",
        "\n",
        "def is_lychrel(n, max_iterations=50):\n",
        "    for _ in range(max_iterations):\n",
        "        n = reverse_and_add(n)\n",
        "        if is_palindrome(n):\n",
        "            return False\n",
        "    return True\n",
        "\n",
        "def count_lychrel_numbers(limit=10000):\n",
        "    count = 0\n",
        "    for i in range(1, limit):\n",
        "        if is_lychrel(i):\n",
        "            count += 1\n",
        "    return count\n",
        "\n",
        "# Compute the number of Lychrel numbers below 10,000\n",
        "result = count_lychrel_numbers()\n",
        "print(result)  # Expected result is 249\n"
      ],
      "metadata": {
        "colab": {
          "base_uri": "https://localhost:8080/"
        },
        "id": "Q26TdupJjddV",
        "outputId": "1e94543d-4b33-406a-bcc5-2287de992e29"
      },
      "execution_count": null,
      "outputs": [
        {
          "output_type": "stream",
          "name": "stdout",
          "text": [
            "249\n"
          ]
        }
      ]
    },
    {
      "cell_type": "markdown",
      "source": [
        "# Problem 56 - Powerful Digit Sum"
      ],
      "metadata": {
        "id": "A0B7GbDzhQui"
      }
    },
    {
      "cell_type": "code",
      "source": [
        "def digital_sum(n):\n",
        "    return sum(int(digit) for digit in str(n))\n",
        "\n",
        "max_digital_sum = 0\n",
        "\n",
        "for a in range(1, 100):\n",
        "    for b in range(1, 100):\n",
        "        number = a ** b\n",
        "        current_digital_sum = digital_sum(number)\n",
        "        if current_digital_sum > max_digital_sum:\n",
        "            max_digital_sum = current_digital_sum\n",
        "\n",
        "print(max_digital_sum)  # Expected result is 972"
      ],
      "metadata": {
        "colab": {
          "base_uri": "https://localhost:8080/"
        },
        "id": "Wc-UnOyckaXi",
        "outputId": "5bc69a66-b10b-4b2b-cf92-5292e59f05c9"
      },
      "execution_count": null,
      "outputs": [
        {
          "output_type": "stream",
          "name": "stdout",
          "text": [
            "972\n"
          ]
        }
      ]
    },
    {
      "cell_type": "markdown",
      "source": [
        "# Problem 57 - Square Root Convergents"
      ],
      "metadata": {
        "id": "WpoENYxehQ9G"
      }
    },
    {
      "cell_type": "code",
      "source": [
        "def count_fractions_with_more_digits(limit):\n",
        "    count = 0\n",
        "\n",
        "    # Initial values for the numerator (N) and denominator (D)\n",
        "    N = 1\n",
        "    D = 1\n",
        "\n",
        "    for _ in range(limit):\n",
        "        # Calculate the next numerator and denominator\n",
        "        N, D = N + 2 * D, N + D\n",
        "\n",
        "        # Check if the numerator has more digits than the denominator\n",
        "        if len(str(N)) > len(str(D)):\n",
        "            count += 1\n",
        "\n",
        "    return count\n",
        "\n",
        "# Counting the number of fractions within the first 1000 expansions\n",
        "limit = 1000\n",
        "result = count_fractions_with_more_digits(limit)\n",
        "print(result)\n"
      ],
      "metadata": {
        "colab": {
          "base_uri": "https://localhost:8080/"
        },
        "id": "b1AkV-2qlJzA",
        "outputId": "7158af38-9707-4ff6-cd5b-aa65f59e3bbd"
      },
      "execution_count": null,
      "outputs": [
        {
          "output_type": "stream",
          "name": "stdout",
          "text": [
            "153\n"
          ]
        }
      ]
    },
    {
      "cell_type": "markdown",
      "source": [
        "# Problem 58  - Spiral Primes"
      ],
      "metadata": {
        "id": "xYwfPzOjhRH_"
      }
    },
    {
      "cell_type": "code",
      "source": [
        "def is_prime(n):\n",
        "    if n <= 1:\n",
        "        return False\n",
        "    if n <= 3:\n",
        "        return True\n",
        "    if n % 2 == 0 or n % 3 == 0:\n",
        "        return False\n",
        "    i = 5\n",
        "    while i * i <= n:\n",
        "        if n % i == 0 or n % (i + 2) == 0:\n",
        "            return False\n",
        "        i += 6\n",
        "    return True\n",
        "\n",
        "def find_spiral_side_length_below_threshold(threshold):\n",
        "    prime_count = 0\n",
        "    diagonal_count = 1  # Starting with the central 1\n",
        "    n = 1\n",
        "    while True:\n",
        "        n += 2\n",
        "        diagonal_count += 4\n",
        "        corners = [n**2 - i*(n-1) for i in range(4)]\n",
        "        prime_count += sum(1 for corner in corners if is_prime(corner))\n",
        "        if prime_count / diagonal_count < threshold:\n",
        "            return n\n",
        "\n",
        "# Find the side length for which the ratio falls below 10%\n",
        "threshold = 0.10\n",
        "side_length = find_spiral_side_length_below_threshold(threshold)\n",
        "print(side_length)"
      ],
      "metadata": {
        "colab": {
          "base_uri": "https://localhost:8080/"
        },
        "id": "RFoxOuqAlvHz",
        "outputId": "92f02cf1-2126-4953-eb7b-a34af17505ae"
      },
      "execution_count": null,
      "outputs": [
        {
          "output_type": "stream",
          "name": "stdout",
          "text": [
            "26241\n"
          ]
        }
      ]
    },
    {
      "cell_type": "markdown",
      "source": [
        "# Problem 59 - XOR Decryption\n"
      ],
      "metadata": {
        "id": "e_BGwH7lhRTk"
      }
    },
    {
      "cell_type": "code",
      "source": [
        "import itertools\n",
        "\n",
        "# Decrypt the message using the given key\n",
        "def decrypt(ciphertext, key):\n",
        "    return [(c ^ key[i % len(key)]) for i, c in enumerate(ciphertext)]\n",
        "\n",
        "# Score the decrypted plaintext\n",
        "def get_score(plaintext):\n",
        "    score = 0\n",
        "    for c in plaintext:\n",
        "        if 65 <= c <= 90:  # Uppercase letters\n",
        "            score += 1\n",
        "        elif 97 <= c <= 122:  # Lowercase letters\n",
        "            score += 2\n",
        "        elif c in (32, 44, 46, 33, 63):  # Common punctuation (space, comma, period, exclamation mark, question mark)\n",
        "            score += 1\n",
        "        elif c < 0x20 or c == 0x7F:  # Control characters\n",
        "            score -= 10\n",
        "    return score\n",
        "\n",
        "# Find the best key by maximizing the score\n",
        "def find_best_key(ciphertext):\n",
        "    best_key = None\n",
        "    best_score = float('-inf')\n",
        "    for key in itertools.product(range(97, 123), repeat=3):\n",
        "        decrypted_text = decrypt(ciphertext, key)\n",
        "        score = get_score(decrypted_text)\n",
        "        if score > best_score:\n",
        "            best_score = score\n",
        "            best_key = key\n",
        "    return best_key\n",
        "\n",
        "# Calculate the sum of ASCII values of the decrypted message\n",
        "def compute():\n",
        "    CIPHERTEXT = [\n",
        "        36, 22, 80,  0,  0,  4, 23, 25, 19, 17, 88,  4,  4, 19, 21, 11, 88, 22, 23, 23,\n",
        "        29, 69, 12, 24,  0, 88, 25, 11, 12,  2, 10, 28,  5,  6, 12, 25, 10, 22, 80, 10,\n",
        "        30, 80, 10, 22, 21, 69, 23, 22, 69, 61,  5,  9, 29,  2, 66, 11, 80,  8, 23,  3,\n",
        "        17, 88, 19,  0, 20, 21,  7, 10, 17, 17, 29, 20, 69,  8, 17, 21, 29,  2, 22, 84,\n",
        "        80, 71, 60, 21, 69, 11,  5,  8, 21, 25, 22, 88,  3,  0, 10, 25,  0, 10,  5,  8,\n",
        "        88,  2,  0, 27, 25, 21, 10, 31,  6, 25,  2, 16, 21, 82, 69, 35, 63, 11, 88,  4,\n",
        "        13, 29, 80, 22, 13, 29, 22, 88, 31,  3, 88,  3,  0, 10, 25,  0, 11, 80, 10, 30,\n",
        "        80, 23, 29, 19, 12,  8,  2, 10, 27, 17,  9, 11, 45, 95, 88, 57, 69, 16, 17, 19,\n",
        "        29, 80, 23, 29, 19,  0, 22,  4,  9,  1, 80,  3, 23,  5, 11, 28, 92, 69,  9,  5,\n",
        "        12, 12, 21, 69, 13, 30,  0,  0,  0,  0, 27,  4,  0, 28, 28, 28, 84, 80,  4, 22,\n",
        "        80,  0, 20, 21,  2, 25, 30, 17, 88, 21, 29,  8,  2,  0, 11,  3, 12, 23, 30, 69,\n",
        "        30, 31, 23, 88,  4, 13, 29, 80,  0, 22,  4, 12, 10, 21, 69, 11,  5,  8, 88, 31,\n",
        "         3, 88,  4, 13, 17,  3, 69, 11, 21, 23, 17, 21, 22, 88, 65, 69, 83, 80, 84, 87,\n",
        "        68, 69, 83, 80, 84, 87, 73, 69, 83, 80, 84, 87, 65, 83, 88, 91, 69, 29,  4,  6,\n",
        "        86, 92, 69, 15, 24, 12, 27, 24, 69, 28, 21, 21, 29, 30,  1, 11, 80, 10, 22, 80,\n",
        "        17, 16, 21, 69,  9,  5,  4, 28,  2,  4, 12,  5, 23, 29, 80, 10, 30, 80, 17, 16,\n",
        "        21, 69, 27, 25, 23, 27, 28,  0, 84, 80, 22, 23, 80, 17, 16, 17, 17, 88, 25,  3,\n",
        "        88,  4, 13, 29, 80, 17, 10,  5,  0, 88,  3, 16, 21, 80, 10, 30, 80, 17, 16, 25,\n",
        "        22, 88,  3,  0, 10, 25,  0, 11, 80, 12, 11, 80, 10, 26,  4,  4, 17, 30,  0, 28,\n",
        "        92, 69, 30,  2, 10, 21, 80, 12, 12, 80,  4, 12, 80, 10, 22, 19,  0, 88,  4, 13,\n",
        "        29, 80, 20, 13, 17,  1, 10, 17, 17, 13,  2,  0, 88, 31,  3, 88,  4, 13, 29, 80,\n",
        "         6, 17,  2,  6, 20, 21, 69, 30, 31,  9, 20, 31, 18, 11, 94, 69, 54, 17,  8, 29,\n",
        "        28, 28, 84, 80, 44, 88, 24,  4, 14, 21, 69, 30, 31, 16, 22, 20, 69, 12, 24,  4,\n",
        "        12, 80, 17, 16, 21, 69, 11,  5,  8, 88, 31,  3, 88,  4, 13, 17,  3, 69, 11, 21,\n",
        "        23, 17, 21, 22, 88, 25, 22, 88, 17, 69, 11, 25, 29, 12, 24, 69,  8, 17, 23, 12,\n",
        "        80, 10, 30, 80, 17, 16, 21, 69, 11,  1, 16, 25,  2,  0, 88, 31,  3, 88,  4, 13,\n",
        "        29, 80, 21, 29,  2, 12, 21, 21, 17, 29,  2, 69, 23, 22, 69, 12, 24,  0, 88, 19,\n",
        "        12, 10, 19,  9, 29, 80, 18, 16, 31, 22, 29, 80,  1, 17, 17,  8, 29,  4,  0, 10,\n",
        "        80, 12, 11, 80, 84, 67, 80, 10, 10, 80,  7,  1, 80, 21, 13,  4, 17, 17, 30,  2,\n",
        "        88,  4, 13, 29, 80, 22, 13, 29, 69, 23, 22, 69, 12, 24, 12, 11, 80, 22, 29,  2,\n",
        "        12, 29,  3, 69, 29,  1, 16, 25, 28, 69, 12, 31, 69, 11, 92, 69, 17,  4, 69, 16,\n",
        "        17, 22, 88,  4, 13, 29, 80, 23, 25,  4, 12, 23, 80, 22,  9,  2, 17, 80, 70, 76,\n",
        "        88, 29, 16, 20,  4, 12,  8, 28, 12, 29, 20, 69, 26,  9, 69, 11, 80, 17, 23, 80,\n",
        "        84, 88, 31,  3, 88,  4, 13, 29, 80, 21, 29,  2, 12, 21, 21, 17, 29,  2, 69, 12,\n",
        "        31, 69, 12, 24,  0, 88, 20, 12, 25, 29,  0, 12, 21, 23, 86, 80, 44, 88,  7, 12,\n",
        "        20, 28, 69, 11, 31, 10, 22, 80, 22, 16, 31, 18, 88,  4, 13, 25,  4, 69, 12, 24,\n",
        "         0, 88,  3, 16, 21, 80, 10, 30, 80, 17, 16, 25, 22, 88,  3,  0, 10, 25,  0, 11,\n",
        "        80, 17, 23, 80,  7, 29, 80,  4,  8,  0, 23, 23,  8, 12, 21, 17, 17, 29, 28, 28,\n",
        "        88, 65, 75, 78, 68, 81, 65, 67, 81, 72, 70, 83, 64, 68, 87, 74, 70, 81, 75, 70,\n",
        "        81, 67, 80,  4, 22, 20, 69, 30,  2, 10, 21, 80,  8, 13, 28, 17, 17,  0,  9,  1,\n",
        "        25, 11, 31, 80, 17, 16, 25, 22, 88, 30, 16, 21, 18,  0, 10, 80,  7,  1, 80, 22,\n",
        "        17,  8, 73, 88, 17, 11, 28, 80, 17, 16, 21, 11, 88,  4,  4, 19, 25, 11, 31, 80,\n",
        "        17, 16, 21, 69, 11,  1, 16, 25,  2,  0, 88,  2, 10, 23,  4, 73, 88,  4, 13, 29,\n",
        "        80, 11, 13, 29,  7, 29,  2, 69, 75, 94, 84, 76, 65, 80, 65, 66, 83, 77, 67, 80,\n",
        "        64, 73, 82, 65, 67, 87, 75, 72, 69, 17,  3, 69, 17, 30,  1, 29, 21,  1, 88,  0,\n",
        "        23, 23, 20, 16, 27, 21,  1, 84, 80, 18, 16, 25,  6, 16, 80,  0,  0,  0, 23, 29,\n",
        "         3, 22, 29,  3, 69, 12, 24,  0, 88,  0,  0, 10, 25,  8, 29,  4,  0, 10, 80, 10,\n",
        "        30, 80,  4, 88, 19, 12, 10, 19,  9, 29, 80, 18, 16, 31, 22, 29, 80,  1, 17, 17,\n",
        "         8, 29,  4,  0, 10, 80, 12, 11, 80, 84, 86, 80, 35, 23, 28,  9, 23,  7, 12, 22,\n",
        "        23, 69, 25, 23,  4, 17, 30, 69, 12, 24,  0, 88,  3,  4, 21, 21, 69, 11,  4,  0,\n",
        "         8,  3, 69, 26,  9, 69, 15, 24, 12, 27, 24, 69, 49, 80, 13, 25, 20, 69, 25,  2,\n",
        "        23, 17,  6,  0, 28, 80,  4, 12, 80, 17, 16, 25, 22, 88,  3, 16, 21, 92, 69, 49,\n",
        "        80, 13, 25,  6,  0, 88, 20, 12, 11, 19, 10, 14, 21, 23, 29, 20, 69, 12, 24,  4,\n",
        "        12, 80, 17, 16, 21, 69, 11,  5,  8, 88, 31,  3, 88,  4, 13, 29, 80, 22, 29,  2,\n",
        "        12, 29,  3, 69, 73, 80, 78, 88, 65, 74, 73, 70, 69, 83, 80, 84, 87, 72, 84, 88,\n",
        "        91, 69, 73, 95, 87, 77, 70, 69, 83, 80, 84, 87, 70, 87, 77, 80, 78, 88, 21, 17,\n",
        "        27, 94, 69, 25, 28, 22, 23, 80,  1, 29,  0,  0, 22, 20, 22, 88, 31, 11, 88,  4,\n",
        "        13, 29, 80, 20, 13, 17,  1, 10, 17, 17, 13,  2,  0, 88, 31,  3, 88,  4, 13, 29,\n",
        "        80,  6, 17,  2,  6, 20, 21, 75, 88, 62,  4, 21, 21,  9,  1, 92, 69, 12, 24,  0,\n",
        "        88,  3, 16, 21, 80, 10, 30, 80, 17, 16, 25, 22, 88, 29, 16, 20,  4, 12,  8, 28,\n",
        "        12, 29, 20, 69, 26,  9, 69, 65, 64, 69, 31, 25, 19, 29,  3, 69, 12, 24,  0, 88,\n",
        "        18, 12,  9,  5,  4, 28,  2,  4, 12, 21, 69, 80, 22, 10, 13,  2, 17, 16, 80, 21,\n",
        "        23,  7,  0, 10, 89, 69, 23, 22, 69, 12, 24,  0, 88, 19, 12, 10, 19, 16, 21, 22,\n",
        "         0, 10, 21, 11, 27, 21, 69, 23, 22, 69, 12, 24,  0, 88,  0,  0, 10, 25,  8, 29,\n",
        "         4,  0, 10, 80, 10, 30, 80,  4, 88, 19, 12, 10, 19,  9, 29, 80, 18, 16, 31, 22,\n",
        "        29, 80,  1, 17, 17,  8, 29,  4,  0, 10, 80, 12, 11, 80, 84, 86, 80, 36, 22, 20,\n",
        "        69, 26,  9, 69, 11, 25,  8, 17, 28,  4, 10, 80, 23, 29, 17, 22, 23, 30, 12, 22,\n",
        "        23, 69, 49, 80, 13, 25,  6,  0, 88, 28, 12, 19, 21, 18, 17,  3,  0, 88, 18,  0,\n",
        "        29, 30, 69, 25, 18,  9, 29, 80, 17, 23, 80,  1, 29,  4,  0, 10, 29, 12, 22, 21,\n",
        "        69, 12, 24,  0, 88,  3, 16, 21,  3, 69, 23, 22, 69, 12, 24,  0, 88,  3, 16, 26,\n",
        "         3,  0,  9,  5,  0, 22,  4, 69, 11, 21, 23, 17, 21, 22, 88, 25, 11, 88,  7, 13,\n",
        "        17, 19, 13, 88,  4, 13, 29, 80,  0,  0,  0, 10, 22, 21, 11, 12,  3, 69, 25,  2,\n",
        "         0, 88, 21, 19, 29, 30, 69, 22,  5,  8, 26, 21, 23, 11, 94,\n",
        "    ]\n",
        "\n",
        "    best_key = find_best_key(CIPHERTEXT)\n",
        "    decrypted_text = decrypt(CIPHERTEXT, best_key)\n",
        "    answer = sum(decrypted_text)\n",
        "    return str(answer)\n",
        "\n",
        "if __name__ == \"__main__\":\n",
        "    print(compute())"
      ],
      "metadata": {
        "id": "tIg32623oIZR",
        "outputId": "35af2dd0-9bdf-4e05-893c-d990c65e761a",
        "colab": {
          "base_uri": "https://localhost:8080/"
        }
      },
      "execution_count": null,
      "outputs": [
        {
          "output_type": "stream",
          "name": "stdout",
          "text": [
            "129448\n"
          ]
        }
      ]
    },
    {
      "cell_type": "markdown",
      "source": [
        "# Problem 60 - Prime Pair Sets - revisar!!!!!!!!1"
      ],
      "metadata": {
        "id": "tCtfEXuFhRx6"
      }
    },
    {
      "cell_type": "markdown",
      "source": [
        "# Problem 61 -  Cyclical Figurate Numbers"
      ],
      "metadata": {
        "id": "Oq0we0TVqWhm"
      }
    },
    {
      "cell_type": "code",
      "source": [
        "def polygonal_numbers(formula, limit):\n",
        "    n = 1\n",
        "    numbers = []\n",
        "    while True:\n",
        "        num = formula(n)\n",
        "        if num >= limit:\n",
        "            break\n",
        "        if num >= 1000:\n",
        "            numbers.append(num)\n",
        "        n += 1\n",
        "    return numbers\n",
        "\n",
        "def is_cyclic(a, b):\n",
        "    return str(a)[-2:] == str(b)[:2]\n",
        "\n",
        "def find_cyclic_set(polygonal_lists, used_types, current_set):\n",
        "    if len(current_set) == 6:\n",
        "        if is_cyclic(current_set[-1], current_set[0]):\n",
        "            return current_set\n",
        "        return None\n",
        "\n",
        "    for i, plist in enumerate(polygonal_lists):\n",
        "        if i in used_types:\n",
        "            continue\n",
        "        for num in plist:\n",
        "            if not current_set or is_cyclic(current_set[-1], num):\n",
        "                result = find_cyclic_set(polygonal_lists, used_types + [i], current_set + [num])\n",
        "                if result:\n",
        "                    return result\n",
        "    return None\n",
        "\n",
        "# Generate 4-digit polygonal numbers\n",
        "polygonal_lists = [\n",
        "    polygonal_numbers(lambda n: n * (n + 1) // 2, 10000),  # Triangle\n",
        "    polygonal_numbers(lambda n: n * n, 10000),            # Square\n",
        "    polygonal_numbers(lambda n: n * (3 * n - 1) // 2, 10000),  # Pentagonal\n",
        "    polygonal_numbers(lambda n: n * (2 * n - 1), 10000),  # Hexagonal\n",
        "    polygonal_numbers(lambda n: n * (5 * n - 3) // 2, 10000),  # Heptagonal\n",
        "    polygonal_numbers(lambda n: n * (3 * n - 2), 10000)  # Octagonal\n",
        "]\n",
        "\n",
        "# Find the cyclic set\n",
        "cyclic_set = find_cyclic_set(polygonal_lists, [], [])\n",
        "if cyclic_set:\n",
        "    print(\"Cyclic set:\", cyclic_set)\n",
        "    print(\"Sum:\", sum(cyclic_set))\n",
        "else:\n",
        "    print(\"No cyclic set found.\")"
      ],
      "metadata": {
        "colab": {
          "base_uri": "https://localhost:8080/"
        },
        "id": "kyJuHMdisFFq",
        "outputId": "e3e58f8e-7245-465d-9f88-ab8fc17c8003"
      },
      "execution_count": null,
      "outputs": [
        {
          "output_type": "stream",
          "name": "stdout",
          "text": [
            "Cyclic set: [8256, 5625, 2512, 1281, 8128, 2882]\n",
            "Sum: 28684\n"
          ]
        }
      ]
    },
    {
      "cell_type": "markdown",
      "source": [
        "# Problem 62 -"
      ],
      "metadata": {
        "id": "qPIPqcHWqdId"
      }
    },
    {
      "cell_type": "code",
      "source": [
        "from collections import defaultdict\n",
        "\n",
        "# Function to generate the smallest cube with exactly five permutations that are cubes\n",
        "def find_smallest_cube_with_permutations(permutation_count):\n",
        "    cubes = defaultdict(list)\n",
        "    n = 1\n",
        "\n",
        "    while True:\n",
        "        cube = n ** 3\n",
        "        sorted_digits = ''.join(sorted(str(cube)))\n",
        "        cubes[sorted_digits].append(cube)\n",
        "\n",
        "        # Check if we've found the desired number of permutations\n",
        "        if len(cubes[sorted_digits]) == permutation_count:\n",
        "            return min(cubes[sorted_digits])\n",
        "\n",
        "        n += 1\n",
        "\n",
        "# Finding the smallest cube with exactly five permutations that are cubes\n",
        "smallest_cube = find_smallest_cube_with_permutations(5)\n",
        "smallest_cube"
      ],
      "metadata": {
        "id": "r_SbjNWDpjZr",
        "colab": {
          "base_uri": "https://localhost:8080/"
        },
        "outputId": "5d547a59-68ef-46eb-9220-1bbacd65d3d2"
      },
      "execution_count": null,
      "outputs": [
        {
          "output_type": "execute_result",
          "data": {
            "text/plain": [
              "127035954683"
            ]
          },
          "metadata": {},
          "execution_count": 1
        }
      ]
    },
    {
      "cell_type": "markdown",
      "source": [
        "# Problem 63 -"
      ],
      "metadata": {
        "id": "LDY03vImqfyY"
      }
    },
    {
      "cell_type": "code",
      "source": [
        "from math import log10, ceil\n",
        "\n",
        "def count_n_digit_nth_powers():\n",
        "    count = 0\n",
        "\n",
        "    for n in range(1, 22):  # 9^21 is the largest possible nth power that can fit in n digits\n",
        "        for base in range(1, 10):  # base 10 digits, so base ranges from 1 to 9\n",
        "            power = base ** n\n",
        "            if len(str(power)) == n:\n",
        "                count += 1\n",
        "\n",
        "    return count\n",
        "\n",
        "# Calculate the number of n-digit positive integers that are also an nth power\n",
        "result = count_n_digit_nth_powers()\n",
        "result"
      ],
      "metadata": {
        "id": "k1XSoXiPqjBh",
        "colab": {
          "base_uri": "https://localhost:8080/"
        },
        "outputId": "0129c06a-0566-4e32-f5f1-bd8aacd667d9"
      },
      "execution_count": null,
      "outputs": [
        {
          "output_type": "execute_result",
          "data": {
            "text/plain": [
              "49"
            ]
          },
          "metadata": {},
          "execution_count": 2
        }
      ]
    },
    {
      "cell_type": "markdown",
      "source": [
        "# Problem 64  -"
      ],
      "metadata": {
        "id": "Dd1ijNFOql95"
      }
    },
    {
      "cell_type": "code",
      "source": [
        "import math\n",
        "from collections import defaultdict\n",
        "\n",
        "# Function to calculate the continued fraction for sqrt(N)\n",
        "def continued_fraction_sqrt(N):\n",
        "    m = 0\n",
        "    d = 1\n",
        "    a0 = a = int(math.sqrt(N))\n",
        "\n",
        "    if a * a == N:\n",
        "        return 0  # Perfect square, period is 0\n",
        "\n",
        "    period = 0\n",
        "\n",
        "    while a != 2 * a0:\n",
        "        m = d * a - m\n",
        "        d = (N - m * m) // d\n",
        "        a = (a0 + m) // d\n",
        "        period += 1\n",
        "\n",
        "    return period\n",
        "\n",
        "# Function to count how many continued fractions for N <= limit have an odd period\n",
        "def count_odd_periods(limit):\n",
        "    odd_period_count = 0\n",
        "\n",
        "    for N in range(2, limit + 1):\n",
        "        period = continued_fraction_sqrt(N)\n",
        "        if period % 2 == 1:\n",
        "            odd_period_count += 1\n",
        "\n",
        "    return odd_period_count\n",
        "\n",
        "# Count how many continued fractions for N <= 10000 have an odd period\n",
        "odd_periods = count_odd_periods(10000)\n",
        "odd_periods"
      ],
      "metadata": {
        "id": "ppSznzswqo-Q",
        "colab": {
          "base_uri": "https://localhost:8080/"
        },
        "outputId": "7dda6b63-9619-4f44-e0ea-ad9b91b2d172"
      },
      "execution_count": null,
      "outputs": [
        {
          "output_type": "execute_result",
          "data": {
            "text/plain": [
              "1322"
            ]
          },
          "metadata": {},
          "execution_count": 3
        }
      ]
    },
    {
      "cell_type": "markdown",
      "source": [
        "# Problem 65 -"
      ],
      "metadata": {
        "id": "4qc0b4NyqqFv"
      }
    },
    {
      "cell_type": "code",
      "source": [
        "from fractions import Fraction\n",
        "\n",
        "def continued_fraction_e(n):\n",
        "    \"\"\" Generate the first n terms of the continued fraction for e \"\"\"\n",
        "    sequence = []\n",
        "    k = 1\n",
        "    sequence.append(2)  # the first element\n",
        "    while len(sequence) < n:\n",
        "        sequence.append(1)\n",
        "        sequence.append(2 * k)\n",
        "        sequence.append(1)\n",
        "        k += 1\n",
        "    return sequence[:n]\n",
        "\n",
        "def convergent_of_e(n):\n",
        "    \"\"\" Calculate the nth convergent of the continued fraction for e \"\"\"\n",
        "    seq = continued_fraction_e(n)\n",
        "    conv = Fraction(0)\n",
        "    for x in reversed(seq[1:]):\n",
        "        conv = 1 / (conv + x)\n",
        "    conv += seq[0]\n",
        "    return conv\n",
        "\n",
        "# Find the 100th convergent of e\n",
        "convergent_100 = convergent_of_e(100)\n",
        "\n",
        "# Find the sum of digits in the numerator of the 100th convergent\n",
        "numerator = convergent_100.numerator\n",
        "sum_of_digits = sum(int(digit) for digit in str(numerator))\n",
        "sum_of_digits"
      ],
      "metadata": {
        "id": "gkuaXm-lqsLX",
        "colab": {
          "base_uri": "https://localhost:8080/"
        },
        "outputId": "6b8ee640-f09c-44d7-d12f-d7883a3662e5"
      },
      "execution_count": null,
      "outputs": [
        {
          "output_type": "execute_result",
          "data": {
            "text/plain": [
              "272"
            ]
          },
          "metadata": {},
          "execution_count": 4
        }
      ]
    },
    {
      "cell_type": "markdown",
      "source": [
        "# Problem 66 -"
      ],
      "metadata": {
        "id": "mp7hVmHsqup0"
      }
    },
    {
      "cell_type": "code",
      "source": [
        "import math\n",
        "from fractions import Fraction\n",
        "\n",
        "def solve_pell(D):\n",
        "    \"\"\" Solve the Pell's equation x^2 - Dy^2 = 1 for minimal x using continued fractions \"\"\"\n",
        "    m = 0\n",
        "    d = 1\n",
        "    a0 = a = int(math.sqrt(D))\n",
        "\n",
        "    if a * a == D:\n",
        "        return 0  # D is a perfect square, no solution\n",
        "\n",
        "    num1, num2 = 1, a\n",
        "    den1, den2 = 0, 1\n",
        "\n",
        "    while num2 * num2 - D * den2 * den2 != 1:\n",
        "        m = d * a - m\n",
        "        d = (D - m * m) // d\n",
        "        a = (a0 + m) // d\n",
        "        num1, num2 = num2, a * num2 + num1\n",
        "        den1, den2 = den2, a * den2 + den1\n",
        "\n",
        "    return num2\n",
        "\n",
        "def find_max_x_for_D(limit):\n",
        "    max_x = 0\n",
        "    result_D = 0\n",
        "\n",
        "    for D in range(2, limit + 1):\n",
        "        x = solve_pell(D)\n",
        "        if x > max_x:\n",
        "            max_x = x\n",
        "            result_D = D\n",
        "\n",
        "    return result_D\n",
        "\n",
        "# Find the value of D <= 1000 for which the largest minimal x is obtained\n",
        "result_D = find_max_x_for_D(1000)\n",
        "result_D"
      ],
      "metadata": {
        "id": "K5AsvPnmqwKS",
        "colab": {
          "base_uri": "https://localhost:8080/"
        },
        "outputId": "0b4f770e-38f3-4d8a-ff47-24c09e96586c"
      },
      "execution_count": null,
      "outputs": [
        {
          "output_type": "execute_result",
          "data": {
            "text/plain": [
              "661"
            ]
          },
          "metadata": {},
          "execution_count": 5
        }
      ]
    },
    {
      "cell_type": "markdown",
      "source": [
        "# Problem 67 -"
      ],
      "metadata": {
        "id": "LkSX2q2Tqwoy"
      }
    },
    {
      "cell_type": "code",
      "source": [
        "def compute():\n",
        "\tfor i in reversed(range(len(triangle) - 1)):\n",
        "\t\tfor j in range(len(triangle[i])):\n",
        "\t\t\ttriangle[i][j] += max(triangle[i + 1][j], triangle[i + 1][j + 1])\n",
        "\treturn str(triangle[0][0])\n",
        "\n",
        "\n",
        "triangle = [  # Mutable\n",
        "\t[59],\n",
        "\t[73,41],\n",
        "\t[52,40, 9],\n",
        "\t[26,53, 6,34],\n",
        "\t[10,51,87,86,81],\n",
        "\t[61,95,66,57,25,68],\n",
        "\t[90,81,80,38,92,67,73],\n",
        "\t[30,28,51,76,81,18,75,44],\n",
        "\t[84,14,95,87,62,81,17,78,58],\n",
        "\t[21,46,71,58, 2,79,62,39,31, 9],\n",
        "\t[56,34,35,53,78,31,81,18,90,93,15],\n",
        "\t[78,53, 4,21,84,93,32,13,97,11,37,51],\n",
        "\t[45, 3,81,79, 5,18,78,86,13,30,63,99,95],\n",
        "\t[39,87,96,28, 3,38,42,17,82,87,58, 7,22,57],\n",
        "\t[ 6,17,51,17, 7,93, 9, 7,75,97,95,78,87, 8,53],\n",
        "\t[67,66,59,60,88,99,94,65,55,77,55,34,27,53,78,28],\n",
        "\t[76,40,41, 4,87,16, 9,42,75,69,23,97,30,60,10,79,87],\n",
        "\t[12,10,44,26,21,36,32,84,98,60,13,12,36,16,63,31,91,35],\n",
        "\t[70,39, 6, 5,55,27,38,48,28,22,34,35,62,62,15,14,94,89,86],\n",
        "\t[66,56,68,84,96,21,34,34,34,81,62,40,65,54,62, 5,98, 3, 2,60],\n",
        "\t[38,89,46,37,99,54,34,53,36,14,70,26, 2,90,45,13,31,61,83,73,47],\n",
        "\t[36,10,63,96,60,49,41, 5,37,42,14,58,84,93,96,17, 9,43, 5,43, 6,59],\n",
        "\t[66,57,87,57,61,28,37,51,84,73,79,15,39,95,88,87,43,39,11,86,77,74,18],\n",
        "\t[54,42, 5,79,30,49,99,73,46,37,50, 2,45, 9,54,52,27,95,27,65,19,45,26,45],\n",
        "\t[71,39,17,78,76,29,52,90,18,99,78,19,35,62,71,19,23,65,93,85,49,33,75, 9, 2],\n",
        "\t[33,24,47,61,60,55,32,88,57,55,91,54,46,57, 7,77,98,52,80,99,24,25,46,78,79, 5],\n",
        "\t[92, 9,13,55,10,67,26,78,76,82,63,49,51,31,24,68, 5,57, 7,54,69,21,67,43,17,63,12],\n",
        "\t[24,59, 6, 8,98,74,66,26,61,60,13, 3, 9, 9,24,30,71, 8,88,70,72,70,29,90,11,82,41,34],\n",
        "\t[66,82,67, 4,36,60,92,77,91,85,62,49,59,61,30,90,29,94,26,41,89, 4,53,22,83,41, 9,74,90],\n",
        "\t[48,28,26,37,28,52,77,26,51,32,18,98,79,36,62,13,17, 8,19,54,89,29,73,68,42,14, 8,16,70,37],\n",
        "\t[37,60,69,70,72,71, 9,59,13,60,38,13,57,36, 9,30,43,89,30,39,15, 2,44,73, 5,73,26,63,56,86,12],\n",
        "\t[55,55,85,50,62,99,84,77,28,85, 3,21,27,22,19,26,82,69,54, 4,13, 7,85,14, 1,15,70,59,89,95,10,19],\n",
        "\t[ 4, 9,31,92,91,38,92,86,98,75,21, 5,64,42,62,84,36,20,73,42,21,23,22,51,51,79,25,45,85,53, 3,43,22],\n",
        "\t[75,63, 2,49,14,12,89,14,60,78,92,16,44,82,38,30,72,11,46,52,90,27, 8,65,78, 3,85,41,57,79,39,52,33,48],\n",
        "\t[78,27,56,56,39,13,19,43,86,72,58,95,39, 7, 4,34,21,98,39,15,39,84,89,69,84,46,37,57,59,35,59,50,26,15,93],\n",
        "\t[42,89,36,27,78,91,24,11,17,41, 5,94, 7,69,51,96, 3,96,47,90,90,45,91,20,50,56,10,32,36,49, 4,53,85,92,25,65],\n",
        "\t[52, 9,61,30,61,97,66,21,96,92,98,90, 6,34,96,60,32,69,68,33,75,84,18,31,71,50,84,63, 3, 3,19,11,28,42,75,45,45],\n",
        "\t[61,31,61,68,96,34,49,39, 5,71,76,59,62,67, 6,47,96,99,34,21,32,47,52, 7,71,60,42,72,94,56,82,83,84,40,94,87,82,46],\n",
        "\t[ 1,20,60,14,17,38,26,78,66,81,45,95,18,51,98,81,48,16,53,88,37,52,69,95,72,93,22,34,98,20,54,27,73,61,56,63,60,34,63],\n",
        "\t[93,42,94,83,47,61,27,51,79,79,45, 1,44,73,31,70,83,42,88,25,53,51,30,15,65,94,80,44,61,84,12,77, 2,62, 2,65,94,42,14,94],\n",
        "\t[32,73, 9,67,68,29,74,98,10,19,85,48,38,31,85,67,53,93,93,77,47,67,39,72,94,53,18,43,77,40,78,32,29,59,24, 6, 2,83,50,60,66],\n",
        "\t[32, 1,44,30,16,51,15,81,98,15,10,62,86,79,50,62,45,60,70,38,31,85,65,61,64, 6,69,84,14,22,56,43, 9,48,66,69,83,91,60,40,36,61],\n",
        "\t[92,48,22,99,15,95,64,43, 1,16,94, 2,99,19,17,69,11,58,97,56,89,31,77,45,67,96,12,73, 8,20,36,47,81,44,50,64,68,85,40,81,85,52, 9],\n",
        "\t[91,35,92,45,32,84,62,15,19,64,21,66, 6, 1,52,80,62,59,12,25,88,28,91,50,40,16,22,99,92,79,87,51,21,77,74,77, 7,42,38,42,74,83, 2, 5],\n",
        "\t[46,19,77,66,24,18, 5,32, 2,84,31,99,92,58,96,72,91,36,62,99,55,29,53,42,12,37,26,58,89,50,66,19,82,75,12,48,24,87,91,85, 2, 7, 3,76,86],\n",
        "\t[99,98,84,93, 7,17,33,61,92,20,66,60,24,66,40,30,67, 5,37,29,24,96, 3,27,70,62,13, 4,45,47,59,88,43,20,66,15,46,92,30, 4,71,66,78,70,53,99],\n",
        "\t[67,60,38, 6,88, 4,17,72,10,99,71, 7,42,25,54, 5,26,64,91,50,45,71, 6,30,67,48,69,82, 8,56,80,67,18,46,66,63, 1,20, 8,80,47, 7,91,16, 3,79,87],\n",
        "\t[18,54,78,49,80,48,77,40,68,23,60,88,58,80,33,57,11,69,55,53,64, 2,94,49,60,92,16,35,81,21,82,96,25,24,96,18, 2, 5,49, 3,50,77, 6,32,84,27,18,38],\n",
        "\t[68, 1,50, 4, 3,21,42,94,53,24,89, 5,92,26,52,36,68,11,85, 1, 4,42, 2,45,15, 6,50, 4,53,73,25,74,81,88,98,21,67,84,79,97,99,20,95, 4,40,46, 2,58,87],\n",
        "\t[94,10, 2,78,88,52,21, 3,88,60, 6,53,49,71,20,91,12,65, 7,49,21,22,11,41,58,99,36,16, 9,48,17,24,52,36,23,15,72,16,84,56, 2,99,43,76,81,71,29,39,49,17],\n",
        "\t[64,39,59,84,86,16,17,66, 3, 9,43, 6,64,18,63,29,68, 6,23, 7,87,14,26,35,17,12,98,41,53,64,78,18,98,27,28,84,80,67,75,62,10,11,76,90,54,10, 5,54,41,39,66],\n",
        "\t[43,83,18,37,32,31,52,29,95,47, 8,76,35,11, 4,53,35,43,34,10,52,57,12,36,20,39,40,55,78,44, 7,31,38,26, 8,15,56,88,86, 1,52,62,10,24,32, 5,60,65,53,28,57,99],\n",
        "\t[ 3,50, 3,52, 7,73,49,92,66,80, 1,46, 8,67,25,36,73,93, 7,42,25,53,13,96,76,83,87,90,54,89,78,22,78,91,73,51,69, 9,79,94,83,53, 9,40,69,62,10,79,49,47, 3,81,30],\n",
        "\t[71,54,73,33,51,76,59,54,79,37,56,45,84,17,62,21,98,69,41,95,65,24,39,37,62, 3,24,48,54,64,46,82,71,78,33,67, 9,16,96,68,52,74,79,68,32,21,13,78,96,60, 9,69,20,36],\n",
        "\t[73,26,21,44,46,38,17,83,65,98, 7,23,52,46,61,97,33,13,60,31,70,15,36,77,31,58,56,93,75,68,21,36,69,53,90,75,25,82,39,50,65,94,29,30,11,33,11,13,96, 2,56,47, 7,49, 2],\n",
        "\t[76,46,73,30,10,20,60,70,14,56,34,26,37,39,48,24,55,76,84,91,39,86,95,61,50,14,53,93,64,67,37,31,10,84,42,70,48,20,10,72,60,61,84,79,69,65,99,73,89,25,85,48,92,56,97,16],\n",
        "\t[ 3,14,80,27,22,30,44,27,67,75,79,32,51,54,81,29,65,14,19, 4,13,82, 4,91,43,40,12,52,29,99, 7,76,60,25, 1, 7,61,71,37,92,40,47,99,66,57, 1,43,44,22,40,53,53, 9,69,26,81, 7],\n",
        "\t[49,80,56,90,93,87,47,13,75,28,87,23,72,79,32,18,27,20,28,10,37,59,21,18,70, 4,79,96, 3,31,45,71,81, 6,14,18,17, 5,31,50,92,79,23,47, 9,39,47,91,43,54,69,47,42,95,62,46,32,85],\n",
        "\t[37,18,62,85,87,28,64, 5,77,51,47,26,30,65, 5,70,65,75,59,80,42,52,25,20,44,10,92,17,71,95,52,14,77,13,24,55,11,65,26,91, 1,30,63,15,49,48,41,17,67,47, 3,68,20,90,98,32, 4,40,68],\n",
        "\t[90,51,58,60, 6,55,23,68, 5,19,76,94,82,36,96,43,38,90,87,28,33,83, 5,17,70,83,96,93, 6, 4,78,47,80, 6,23,84,75,23,87,72,99,14,50,98,92,38,90,64,61,58,76,94,36,66,87,80,51,35,61,38],\n",
        "\t[57,95,64, 6,53,36,82,51,40,33,47,14, 7,98,78,65,39,58,53, 6,50,53, 4,69,40,68,36,69,75,78,75,60, 3,32,39,24,74,47,26,90,13,40,44,71,90,76,51,24,36,50,25,45,70,80,61,80,61,43,90,64,11],\n",
        "\t[18,29,86,56,68,42,79,10,42,44,30,12,96,18,23,18,52,59, 2,99,67,46,60,86,43,38,55,17,44,93,42,21,55,14,47,34,55,16,49,24,23,29,96,51,55,10,46,53,27,92,27,46,63,57,30,65,43,27,21,20,24,83],\n",
        "\t[81,72,93,19,69,52,48, 1,13,83,92,69,20,48,69,59,20,62, 5,42,28,89,90,99,32,72,84,17, 8,87,36, 3,60,31,36,36,81,26,97,36,48,54,56,56,27,16,91, 8,23,11,87,99,33,47, 2,14,44,73,70,99,43,35,33],\n",
        "\t[90,56,61,86,56,12,70,59,63,32, 1,15,81,47,71,76,95,32,65,80,54,70,34,51,40,45,33, 4,64,55,78,68,88,47,31,47,68,87, 3,84,23,44,89,72,35, 8,31,76,63,26,90,85,96,67,65,91,19,14,17,86, 4,71,32,95],\n",
        "\t[37,13, 4,22,64,37,37,28,56,62,86,33, 7,37,10,44,52,82,52, 6,19,52,57,75,90,26,91,24, 6,21,14,67,76,30,46,14,35,89,89,41, 3,64,56,97,87,63,22,34, 3,79,17,45,11,53,25,56,96,61,23,18,63,31,37,37,47],\n",
        "\t[77,23,26,70,72,76,77, 4,28,64,71,69,14,85,96,54,95,48, 6,62,99,83,86,77,97,75,71,66,30,19,57,90,33, 1,60,61,14,12,90,99,32,77,56,41,18,14,87,49,10,14,90,64,18,50,21,74,14,16,88, 5,45,73,82,47,74,44],\n",
        "\t[22,97,41,13,34,31,54,61,56,94, 3,24,59,27,98,77, 4, 9,37,40,12,26,87, 9,71,70, 7,18,64,57,80,21,12,71,83,94,60,39,73,79,73,19,97,32,64,29,41, 7,48,84,85,67,12,74,95,20,24,52,41,67,56,61,29,93,35,72,69],\n",
        "\t[72,23,63,66, 1,11, 7,30,52,56,95,16,65,26,83,90,50,74,60,18,16,48,43,77,37,11,99,98,30,94,91,26,62,73,45,12,87,73,47,27, 1,88,66,99,21,41,95,80, 2,53,23,32,61,48,32,43,43,83,14,66,95,91,19,81,80,67,25,88],\n",
        "\t[ 8,62,32,18,92,14,83,71,37,96,11,83,39,99, 5,16,23,27,10,67, 2,25,44,11,55,31,46,64,41,56,44,74,26,81,51,31,45,85,87, 9,81,95,22,28,76,69,46,48,64,87,67,76,27,89,31,11,74,16,62, 3,60,94,42,47, 9,34,94,93,72],\n",
        "\t[56,18,90,18,42,17,42,32,14,86, 6,53,33,95,99,35,29,15,44,20,49,59,25,54,34,59,84,21,23,54,35,90,78,16,93,13,37,88,54,19,86,67,68,55,66,84,65,42,98,37,87,56,33,28,58,38,28,38,66,27,52,21,81,15, 8,22,97,32,85,27],\n",
        "\t[91,53,40,28,13,34,91,25, 1,63,50,37,22,49,71,58,32,28,30,18,68,94,23,83,63,62,94,76,80,41,90,22,82,52,29,12,18,56,10, 8,35,14,37,57,23,65,67,40,72,39,93,39,70,89,40,34, 7,46,94,22,20, 5,53,64,56,30, 5,56,61,88,27],\n",
        "\t[23,95,11,12,37,69,68,24,66,10,87,70,43,50,75, 7,62,41,83,58,95,93,89,79,45,39, 2,22, 5,22,95,43,62,11,68,29,17,40,26,44,25,71,87,16,70,85,19,25,59,94,90,41,41,80,61,70,55,60,84,33,95,76,42,63,15, 9, 3,40,38,12, 3,32],\n",
        "\t[ 9,84,56,80,61,55,85,97,16,94,82,94,98,57,84,30,84,48,93,90,71, 5,95,90,73,17,30,98,40,64,65,89, 7,79, 9,19,56,36,42,30,23,69,73,72, 7, 5,27,61,24,31,43,48,71,84,21,28,26,65,65,59,65,74,77,20,10,81,61,84,95, 8,52,23,70],\n",
        "\t[47,81,28, 9,98,51,67,64,35,51,59,36,92,82,77,65,80,24,72,53,22, 7,27,10,21,28,30,22,48,82,80,48,56,20,14,43,18,25,50,95,90,31,77, 8, 9,48,44,80,90,22,93,45,82,17,13,96,25,26, 8,73,34,99, 6,49,24, 6,83,51,40,14,15,10,25, 1],\n",
        "\t[54,25,10,81,30,64,24,74,75,80,36,75,82,60,22,69,72,91,45,67, 3,62,79,54,89,74,44,83,64,96,66,73,44,30,74,50,37, 5, 9,97,70, 1,60,46,37,91,39,75,75,18,58,52,72,78,51,81,86,52, 8,97, 1,46,43,66,98,62,81,18,70,93,73, 8,32,46,34],\n",
        "\t[96,80,82, 7,59,71,92,53,19,20,88,66, 3,26,26,10,24,27,50,82,94,73,63, 8,51,33,22,45,19,13,58,33,90,15,22,50,36,13,55, 6,35,47,82,52,33,61,36,27,28,46,98,14,73,20,73,32,16,26,80,53,47,66,76,38,94,45, 2, 1,22,52,47,96,64,58,52,39],\n",
        "\t[88,46,23,39,74,63,81,64,20,90,33,33,76,55,58,26,10,46,42,26,74,74,12,83,32,43, 9, 2,73,55,86,54,85,34,28,23,29,79,91,62,47,41,82,87,99,22,48,90,20, 5,96,75,95, 4,43,28,81,39,81, 1,28,42,78,25,39,77,90,57,58,98,17,36,73,22,63,74,51],\n",
        "\t[29,39,74,94,95,78,64,24,38,86,63,87,93, 6,70,92,22,16,80,64,29,52,20,27,23,50,14,13,87,15,72,96,81,22, 8,49,72,30,70,24,79,31,16,64,59,21,89,34,96,91,48,76,43,53,88, 1,57,80,23,81,90,79,58, 1,80,87,17,99,86,90,72,63,32,69,14,28,88,69],\n",
        "\t[37,17,71,95,56,93,71,35,43,45, 4,98,92,94,84,96,11,30,31,27,31,60,92, 3,48, 5,98,91,86,94,35,90,90, 8,48,19,33,28,68,37,59,26,65,96,50,68,22, 7, 9,49,34,31,77,49,43, 6,75,17,81,87,61,79,52,26,27,72,29,50, 7,98,86, 1,17,10,46,64,24,18,56],\n",
        "\t[51,30,25,94,88,85,79,91,40,33,63,84,49,67,98,92,15,26,75,19,82, 5,18,78,65,93,61,48,91,43,59,41,70,51,22,15,92,81,67,91,46,98,11,11,65,31,66,10,98,65,83,21, 5,56, 5,98,73,67,46,74,69,34, 8,30, 5,52, 7,98,32,95,30,94,65,50,24,63,28,81,99,57],\n",
        "\t[19,23,61,36, 9,89,71,98,65,17,30,29,89,26,79,74,94,11,44,48,97,54,81,55,39,66,69,45,28,47,13,86,15,76,74,70,84,32,36,33,79,20,78,14,41,47,89,28,81, 5,99,66,81,86,38,26, 6,25,13,60,54,55,23,53,27, 5,89,25,23,11,13,54,59,54,56,34,16,24,53,44, 6],\n",
        "\t[13,40,57,72,21,15,60, 8, 4,19,11,98,34,45, 9,97,86,71, 3,15,56,19,15,44,97,31,90, 4,87,87,76, 8,12,30,24,62,84,28,12,85,82,53,99,52,13,94, 6,65,97,86, 9,50,94,68,69,74,30,67,87,94,63, 7,78,27,80,36,69,41, 6,92,32,78,37,82,30, 5,18,87,99,72,19,99],\n",
        "\t[44,20,55,77,69,91,27,31,28,81,80,27, 2, 7,97,23,95,98,12,25,75,29,47,71, 7,47,78,39,41,59,27,76,13,15,66,61,68,35,69,86,16,53,67,63,99,85,41,56, 8,28,33,40,94,76,90,85,31,70,24,65,84,65,99,82,19,25,54,37,21,46,33, 2,52,99,51,33,26, 4,87, 2, 8,18,96],\n",
        "\t[54,42,61,45,91, 6,64,79,80,82,32,16,83,63,42,49,19,78,65,97,40,42,14,61,49,34, 4,18,25,98,59,30,82,72,26,88,54,36,21,75, 3,88,99,53,46,51,55,78,22,94,34,40,68,87,84,25,30,76,25, 8,92,84,42,61,40,38, 9,99,40,23,29,39,46,55,10,90,35,84,56,70,63,23,91,39],\n",
        "\t[52,92, 3,71,89, 7, 9,37,68,66,58,20,44,92,51,56,13,71,79,99,26,37, 2, 6,16,67,36,52,58,16,79,73,56,60,59,27,44,77,94,82,20,50,98,33, 9,87,94,37,40,83,64,83,58,85,17,76,53, 2,83,52,22,27,39,20,48,92,45,21, 9,42,24,23,12,37,52,28,50,78,79,20,86,62,73,20,59],\n",
        "\t[54,96,80,15,91,90,99,70,10, 9,58,90,93,50,81,99,54,38,36,10,30,11,35,84,16,45,82,18,11,97,36,43,96,79,97,65,40,48,23,19,17,31,64,52,65,65,37,32,65,76,99,79,34,65,79,27,55,33, 3, 1,33,27,61,28,66, 8, 4,70,49,46,48,83, 1,45,19,96,13,81,14,21,31,79,93,85,50, 5],\n",
        "\t[92,92,48,84,59,98,31,53,23,27,15,22,79,95,24,76, 5,79,16,93,97,89,38,89,42,83, 2,88,94,95,82,21, 1,97,48,39,31,78, 9,65,50,56,97,61, 1, 7,65,27,21,23,14,15,80,97,44,78,49,35,33,45,81,74,34, 5,31,57, 9,38,94, 7,69,54,69,32,65,68,46,68,78,90,24,28,49,51,45,86,35],\n",
        "\t[41,63,89,76,87,31,86, 9,46,14,87,82,22,29,47,16,13,10,70,72,82,95,48,64,58,43,13,75,42,69,21,12,67,13,64,85,58,23,98, 9,37,76, 5,22,31,12,66,50,29,99,86,72,45,25,10,28,19, 6,90,43,29,31,67,79,46,25,74,14,97,35,76,37,65,46,23,82, 6,22,30,76,93,66,94,17,96,13,20,72],\n",
        "\t[63,40,78, 8,52, 9,90,41,70,28,36,14,46,44,85,96,24,52,58,15,87,37, 5,98,99,39,13,61,76,38,44,99,83,74,90,22,53,80,56,98,30,51,63,39,44,30,91,91, 4,22,27,73,17,35,53,18,35,45,54,56,27,78,48,13,69,36,44,38,71,25,30,56,15,22,73,43,32,69,59,25,93,83,45,11,34,94,44,39,92],\n",
        "\t[12,36,56,88,13,96,16,12,55,54,11,47,19,78,17,17,68,81,77,51,42,55,99,85,66,27,81,79,93,42,65,61,69,74,14, 1,18,56,12, 1,58,37,91,22,42,66,83,25,19, 4,96,41,25,45,18,69,96,88,36,93,10,12,98,32,44,83,83, 4,72,91, 4,27,73, 7,34,37,71,60,59,31, 1,54,54,44,96,93,83,36, 4,45],\n",
        "\t[30,18,22,20,42,96,65,79,17,41,55,69,94,81,29,80,91,31,85,25,47,26,43,49, 2,99,34,67,99,76,16,14,15,93, 8,32,99,44,61,77,67,50,43,55,87,55,53,72,17,46,62,25,50,99,73, 5,93,48,17,31,70,80,59, 9,44,59,45,13,74,66,58,94,87,73,16,14,85,38,74,99,64,23,79,28,71,42,20,37,82,31,23],\n",
        "\t[51,96,39,65,46,71,56,13,29,68,53,86,45,33,51,49,12,91,21,21,76,85, 2,17,98,15,46,12,60,21,88,30,92,83,44,59,42,50,27,88,46,86,94,73,45,54,23,24,14,10,94,21,20,34,23,51, 4,83,99,75,90,63,60,16,22,33,83,70,11,32,10,50,29,30,83,46,11, 5,31,17,86,42,49, 1,44,63,28,60, 7,78,95,40],\n",
        "\t[44,61,89,59, 4,49,51,27,69,71,46,76,44, 4, 9,34,56,39,15, 6,94,91,75,90,65,27,56,23,74, 6,23,33,36,69,14,39, 5,34,35,57,33,22,76,46,56,10,61,65,98, 9,16,69, 4,62,65,18,99,76,49,18,72,66,73,83,82,40,76,31,89,91,27,88,17,35,41,35,32,51,32,67,52,68,74,85,80,57, 7,11,62,66,47,22,67],\n",
        "\t[65,37,19,97,26,17,16,24,24,17,50,37,64,82,24,36,32,11,68,34,69,31,32,89,79,93,96,68,49,90,14,23, 4, 4,67,99,81,74,70,74,36,96,68, 9,64,39,88,35,54,89,96,58,66,27,88,97,32,14, 6,35,78,20,71, 6,85,66,57, 2,58,91,72, 5,29,56,73,48,86,52, 9,93,22,57,79,42,12, 1,31,68,17,59,63,76, 7,77],\n",
        "\t[73,81,14,13,17,20,11, 9, 1,83, 8,85,91,70,84,63,62,77,37, 7,47, 1,59,95,39,69,39,21,99, 9,87, 2,97,16,92,36,74,71,90,66,33,73,73,75,52,91,11,12,26,53, 5,26,26,48,61,50,90,65, 1,87,42,47,74,35,22,73,24,26,56,70,52, 5,48,41,31,18,83,27,21,39,80,85,26, 8,44, 2,71, 7,63,22, 5,52,19, 8,20],\n",
        "\t[17,25,21,11,72,93,33,49,64,23,53,82, 3,13,91,65,85, 2,40, 5,42,31,77,42, 5,36, 6,54, 4,58, 7,76,87,83,25,57,66,12,74,33,85,37,74,32,20,69, 3,97,91,68,82,44,19,14,89,28,85,85,80,53,34,87,58,98,88,78,48,65,98,40,11,57,10,67,70,81,60,79,74,72,97,59,79,47,30,20,54,80,89,91,14, 5,33,36,79,39],\n",
        "\t[60,85,59,39,60, 7,57,76,77,92, 6,35,15,72,23,41,45,52,95,18,64,79,86,53,56,31,69,11,91,31,84,50,44,82,22,81,41,40,30,42,30,91,48,94,74,76,64,58,74,25,96,57,14,19, 3,99,28,83,15,75,99, 1,89,85,79,50, 3,95,32,67,44, 8, 7,41,62,64,29,20,14,76,26,55,48,71,69,66,19,72,44,25,14, 1,48,74,12,98, 7],\n",
        "\t[64,66,84,24,18,16,27,48,20,14,47,69,30,86,48,40,23,16,61,21,51,50,26,47,35,33,91,28,78,64,43,68, 4,79,51, 8,19,60,52,95, 6,68,46,86,35,97,27,58, 4,65,30,58,99,12,12,75,91,39,50,31,42,64,70, 4,46, 7,98,73,98,93,37,89,77,91,64,71,64,65,66,21,78,62,81,74,42,20,83,70,73,95,78,45,92,27,34,53,71,15],\n",
        "\t[30,11,85,31,34,71,13,48, 5,14,44, 3,19,67,23,73,19,57, 6,90,94,72,57,69,81,62,59,68,88,57,55,69,49,13, 7,87,97,80,89, 5,71, 5, 5,26,38,40,16,62,45,99,18,38,98,24,21,26,62,74,69, 4,85,57,77,35,58,67,91,79,79,57,86,28,66,34,72,51,76,78,36,95,63,90, 8,78,47,63,45,31,22,70,52,48,79,94,15,77,61,67,68],\n",
        "\t[23,33,44,81,80,92,93,75,94,88,23,61,39,76,22, 3,28,94,32, 6,49,65,41,34,18,23, 8,47,62,60, 3,63,33,13,80,52,31,54,73,43,70,26,16,69,57,87,83,31, 3,93,70,81,47,95,77,44,29,68,39,51,56,59,63, 7,25,70, 7,77,43,53,64, 3,94,42,95,39,18, 1,66,21,16,97,20,50,90,16,70,10,95,69,29, 6,25,61,41,26,15,59,63,35],\n",
        "]\n",
        "\n",
        "\n",
        "if __name__ == \"__main__\":\n",
        "\tprint(compute())\n"
      ],
      "metadata": {
        "id": "HoEJxPzpqzdU",
        "colab": {
          "base_uri": "https://localhost:8080/"
        },
        "outputId": "58f05b92-670f-4ab9-a452-a7607723c702"
      },
      "execution_count": null,
      "outputs": [
        {
          "output_type": "stream",
          "name": "stdout",
          "text": [
            "7273\n"
          ]
        }
      ]
    },
    {
      "cell_type": "markdown",
      "source": [
        "# Problem 68 -"
      ],
      "metadata": {
        "id": "V_aas79aq0KF"
      }
    },
    {
      "cell_type": "code",
      "source": [
        "import torch\n",
        "import itertools\n",
        "\n",
        "# Define the advanced function to generate all permutations of the numbers 1 to 10\n",
        "def generate_permutations():\n",
        "    nums = torch.tensor(list(range(1, 11)))\n",
        "    permutations = list(itertools.permutations(nums.numpy()))\n",
        "    return permutations\n",
        "\n",
        "# Define a function to calculate the magic 5-gon ring sum and form the 16-digit string\n",
        "def compute_max_string(permutations):\n",
        "    max_string = \"\"\n",
        "    for state in permutations:\n",
        "        state = torch.tensor(state)\n",
        "        if state[0] + state[5] + state[6] == \\\n",
        "           state[1] + state[6] + state[7] == \\\n",
        "           state[2] + state[7] + state[8] == \\\n",
        "           state[3] + state[8] + state[9] == \\\n",
        "           state[4] + state[9] + state[5]:\n",
        "\n",
        "            # Find the minimum outer node index\n",
        "            minouterindex = torch.argmin(state[:5])\n",
        "\n",
        "            s = \"\"\n",
        "            for i in range(5):\n",
        "                s += str(state[(minouterindex + i) % 5].item())\n",
        "                s += str(state[(minouterindex + i) % 5 + 5].item())\n",
        "                s += str(state[(minouterindex + i + 1) % 5 + 5].item())\n",
        "\n",
        "            # Check if the string is the maximum 16-digit string\n",
        "            if len(s) == 16 and s > max_string:\n",
        "                max_string = s\n",
        "\n",
        "    return max_string\n",
        "\n",
        "# Main computation function to use advanced algorithm\n",
        "def compute():\n",
        "    permutations = generate_permutations()\n",
        "    max_string = compute_max_string(permutations)\n",
        "    return max_string\n",
        "\n",
        "# Execution of the computation\n",
        "if __name__ == \"__main__\":\n",
        "    result = compute()\n",
        "    print(result)"
      ],
      "metadata": {
        "colab": {
          "base_uri": "https://localhost:8080/"
        },
        "id": "Pk768SGmqq49",
        "outputId": "cde5d083-49d0-4f02-a3ff-dfae35f99f5a"
      },
      "execution_count": null,
      "outputs": [
        {
          "output_type": "stream",
          "name": "stdout",
          "text": [
            "6531031914842725\n"
          ]
        }
      ]
    },
    {
      "cell_type": "markdown",
      "source": [
        "# Problem 69 -"
      ],
      "metadata": {
        "id": "kGRNwe8tq2yr"
      }
    },
    {
      "cell_type": "code",
      "source": [
        "import torch\n",
        "\n",
        "# Function to compute the Euler's Totient function using prime factorization\n",
        "def compute_totient(n, primes):\n",
        "    result = n\n",
        "    for p in primes:\n",
        "        if p * p > n:\n",
        "            break\n",
        "        if n % p == 0:\n",
        "            while n % p == 0:\n",
        "                n //= p\n",
        "            result -= result // p\n",
        "    if n > 1:\n",
        "        result -= result // n\n",
        "    return result\n",
        "\n",
        "# Sieve of Eratosthenes to generate all primes up to 1,000,000\n",
        "def sieve(limit):\n",
        "    sieve = torch.ones(limit + 1, dtype=torch.bool)\n",
        "    sieve[0:2] = 0\n",
        "    for i in range(2, int(limit ** 0.5) + 1):\n",
        "        if sieve[i]:\n",
        "            sieve[i*i:limit+1:i] = 0\n",
        "    return torch.nonzero(sieve).flatten().tolist()\n",
        "\n",
        "# Main computation to find the value of n <= 1,000,000 that maximizes n/phi(n)\n",
        "def compute():\n",
        "    limit = 1000000\n",
        "    primes = sieve(limit)\n",
        "\n",
        "    max_ratio = 0\n",
        "    max_n = 0\n",
        "\n",
        "    # Iterate through n by generating products of primes\n",
        "    for n in range(2, limit + 1):\n",
        "        phi_n = compute_totient(n, primes)\n",
        "        ratio = n / phi_n\n",
        "\n",
        "        if ratio > max_ratio:\n",
        "            max_ratio = ratio\n",
        "            max_n = n\n",
        "\n",
        "    return max_n\n",
        "\n",
        "# Execution of the computation\n",
        "if __name__ == \"__main__\":\n",
        "    result = compute()\n",
        "    print(f\"The value of n ≤ 1,000,000 that maximizes n/φ(n) is {result}\")"
      ],
      "metadata": {
        "id": "583JAEccq1zm",
        "colab": {
          "base_uri": "https://localhost:8080/"
        },
        "outputId": "6f40e31a-3144-46ff-bf84-8410c9274cda"
      },
      "execution_count": null,
      "outputs": [
        {
          "output_type": "stream",
          "name": "stdout",
          "text": [
            "The value of n ≤ 1,000,000 that maximizes n/φ(n) is 510510\n"
          ]
        }
      ]
    },
    {
      "cell_type": "markdown",
      "source": [
        "# Problem 70 -"
      ],
      "metadata": {
        "id": "ZR9fgYaoq7gN"
      }
    },
    {
      "cell_type": "code",
      "source": [
        "import torch\n",
        "import numpy as np\n",
        "from sympy import primerange\n",
        "\n",
        "# Function to compute the Euler's Totient function using prime factorization\n",
        "def compute_totient(n, primes):\n",
        "    result = n\n",
        "    temp_n = n\n",
        "    for p in primes:\n",
        "        if p * p > temp_n:\n",
        "            break\n",
        "        if temp_n % p == 0:\n",
        "            while temp_n % p == 0:\n",
        "                temp_n //= p\n",
        "            result -= result // p\n",
        "    if temp_n > 1:\n",
        "        result -= result // temp_n\n",
        "    return result\n",
        "\n",
        "# Function to check if two numbers are permutations of each other\n",
        "def is_permutation(a, b):\n",
        "    return sorted(str(a)) == sorted(str(b))\n",
        "\n",
        "# Sieve of Eratosthenes to generate all primes up to 10^7\n",
        "def sieve(limit):\n",
        "    sieve = torch.ones(limit + 1, dtype=torch.bool)\n",
        "    sieve[0:2] = 0\n",
        "    for i in range(2, int(limit ** 0.5) + 1):\n",
        "        if sieve[i]:\n",
        "            sieve[i*i:limit+1:i] = 0\n",
        "    return torch.nonzero(sieve).flatten().tolist()\n",
        "\n",
        "# Main computation to find the value of n < 10^7 that minimizes n/phi(n)\n",
        "def compute():\n",
        "    limit = 10**7\n",
        "    primes = sieve(int(limit ** 0.5) + 1)\n",
        "\n",
        "    min_ratio = float('inf')\n",
        "    min_n = 0\n",
        "\n",
        "    # Iterate through n and check the conditions\n",
        "    for n in range(2, limit):\n",
        "        phi_n = compute_totient(n, primes)\n",
        "        if is_permutation(n, phi_n):\n",
        "            ratio = n / phi_n\n",
        "            if ratio < min_ratio:\n",
        "                min_ratio = ratio\n",
        "                min_n = n\n",
        "\n",
        "    return min_n\n",
        "\n",
        "# Execution of the computation\n",
        "if __name__ == \"__main__\":\n",
        "    result = compute()\n",
        "    print(f\"The value of n < 10^7 that minimizes n/φ(n) and where φ(n) is a permutation of n is {result}\")"
      ],
      "metadata": {
        "id": "KgSUWjvf0dgx",
        "colab": {
          "base_uri": "https://localhost:8080/"
        },
        "outputId": "cff15ff0-c311-44b2-fee8-27bffe43695a"
      },
      "execution_count": null,
      "outputs": [
        {
          "output_type": "stream",
          "name": "stdout",
          "text": [
            "The value of n < 10^7 that minimizes n/φ(n) and where φ(n) is a permutation of n is 8319823\n"
          ]
        }
      ]
    },
    {
      "cell_type": "markdown",
      "source": [
        "# Problem 71 -"
      ],
      "metadata": {
        "id": "ErGBv_FNf8S7"
      }
    },
    {
      "cell_type": "code",
      "source": [
        "import torch\n",
        "\n",
        "def compute():\n",
        "    LIMIT = 1000000\n",
        "    max_numer = 0\n",
        "    max_denom = 1\n",
        "\n",
        "    for d in range(2, LIMIT + 1):\n",
        "        n = (3 * d) // 7\n",
        "\n",
        "        if d % 7 == 0:\n",
        "            n -= 1\n",
        "\n",
        "        # Check if the fraction n/d is larger than the currently known maximum fraction max_numer/max_denom\n",
        "        if n * max_denom > max_numer * d:\n",
        "            max_numer = n\n",
        "            max_denom = d\n",
        "\n",
        "    return max_numer\n",
        "\n",
        "if __name__ == \"__main__\":\n",
        "    result = compute()\n",
        "    print(f\"The numerator of the fraction immediately to the left of 3/7 is: {result}\")"
      ],
      "metadata": {
        "id": "Fy9bLDiG0efU",
        "colab": {
          "base_uri": "https://localhost:8080/"
        },
        "outputId": "ca7c3fdb-ff9c-44e3-e420-f06b9c98831a"
      },
      "execution_count": null,
      "outputs": [
        {
          "output_type": "stream",
          "name": "stdout",
          "text": [
            "The numerator of the fraction immediately to the left of 3/7 is: 428570\n"
          ]
        }
      ]
    },
    {
      "cell_type": "markdown",
      "source": [
        "# Problem 72 -"
      ],
      "metadata": {
        "id": "IMSvfqgt17o2"
      }
    },
    {
      "cell_type": "code",
      "source": [
        "import torch\n",
        "\n",
        "def compute_totient_sum(limit):\n",
        "    # Create a tensor to hold totient values\n",
        "    phi = torch.arange(0, limit + 1, dtype=torch.long)\n",
        "\n",
        "    # Apply the sieve method to compute all totient values\n",
        "    for i in range(2, limit + 1):\n",
        "        if phi[i] == i:  # i is a prime number\n",
        "            phi[i::i] *= (i - 1)\n",
        "            phi[i::i] //= i\n",
        "\n",
        "    # Sum all totient values, starting from phi(2) to phi(limit)\n",
        "    total = phi[2:].sum().item()  # Convert to standard Python integer\n",
        "    return total\n",
        "\n",
        "if __name__ == \"__main__\":\n",
        "    limit = 1000000\n",
        "    result = compute_totient_sum(limit)\n",
        "    print(f\"The total number of reduced proper fractions for d ≤ {limit} is: {result}\")"
      ],
      "metadata": {
        "colab": {
          "base_uri": "https://localhost:8080/"
        },
        "id": "xNq_MDy80fIK",
        "outputId": "ccc853a4-8a92-400e-8f78-564c3d8b7954"
      },
      "execution_count": null,
      "outputs": [
        {
          "output_type": "stream",
          "name": "stdout",
          "text": [
            "The total number of reduced proper fractions for d ≤ 1000000 is: 303963552391\n"
          ]
        }
      ]
    },
    {
      "cell_type": "markdown",
      "source": [
        "# Problem 73 -"
      ],
      "metadata": {
        "id": "qfoSQI222BQK"
      }
    },
    {
      "cell_type": "code",
      "source": [
        "import torch\n",
        "from math import gcd\n",
        "\n",
        "def count_reduced_proper_fractions(limit):\n",
        "    count = 0\n",
        "    fractions_count = torch.zeros(limit + 1, dtype=torch.long)\n",
        "\n",
        "    for d in range(2, limit + 1):\n",
        "        # Numerators range from ceil(d/3) + 1 to floor(d/2) - 1\n",
        "        lower = d // 3 + 1\n",
        "        upper = (d - 1) // 2\n",
        "\n",
        "        for n in range(lower, upper + 1):\n",
        "            if gcd(n, d) == 1:\n",
        "                count += 1\n",
        "\n",
        "    return count\n",
        "\n",
        "if __name__ == \"__main__\":\n",
        "    limit = 12000\n",
        "    result = count_reduced_proper_fractions(limit)\n",
        "    print(f\"The number of fractions between 1/3 and 1/2 for d ≤ {limit} is: {result}\")"
      ],
      "metadata": {
        "colab": {
          "base_uri": "https://localhost:8080/"
        },
        "id": "qy4CUI1b2EFP",
        "outputId": "b90bd513-f1a5-4ca5-803a-8869fe149029"
      },
      "execution_count": null,
      "outputs": [
        {
          "output_type": "stream",
          "name": "stdout",
          "text": [
            "The number of fractions between 1/3 and 1/2 for d ≤ 12000 is: 7295372\n"
          ]
        }
      ]
    },
    {
      "cell_type": "markdown",
      "source": [
        "# Problem 74 -"
      ],
      "metadata": {
        "id": "1vGP6dTe2E9T"
      }
    },
    {
      "cell_type": "code",
      "source": [
        "import torch\n",
        "\n",
        "# Precompute the factorials of digits 0 to 9\n",
        "factorials = torch.tensor([1, 1, 2, 6, 24, 120, 720, 5040, 40320, 362880])\n",
        "\n",
        "def digit_factorial_sum(n):\n",
        "    \"\"\"Return the sum of the factorials of the digits of n.\"\"\"\n",
        "    return factorials[torch.tensor(list(map(int, str(n))))].sum().item()\n",
        "\n",
        "def chain_length(start, known_lengths):\n",
        "    \"\"\"Return the length of the chain starting at 'start'.\"\"\"\n",
        "    seen = {}\n",
        "    current = start\n",
        "    length = 0\n",
        "\n",
        "    while current not in seen:\n",
        "        seen[current] = length\n",
        "        length += 1\n",
        "        current = digit_factorial_sum(current)\n",
        "\n",
        "        if current in known_lengths:\n",
        "            length += known_lengths[current]\n",
        "            break\n",
        "\n",
        "    for k, v in seen.items():\n",
        "        known_lengths[k] = length - v\n",
        "\n",
        "    return length\n",
        "\n",
        "def compute():\n",
        "    limit = 1000000\n",
        "    count = 0\n",
        "    known_lengths = {}\n",
        "\n",
        "    for i in range(1, limit):\n",
        "        if chain_length(i, known_lengths) == 60:\n",
        "            count += 1\n",
        "\n",
        "    return count\n",
        "\n",
        "if __name__ == \"__main__\":\n",
        "    result = compute()\n",
        "    print(f\"The number of chains with exactly 60 non-repeating terms below one million is: {result}\")"
      ],
      "metadata": {
        "colab": {
          "base_uri": "https://localhost:8080/"
        },
        "id": "3XxCraFx2HNJ",
        "outputId": "aa0b9dfc-c237-4e62-8e2d-ac3ddc5e9f9a"
      },
      "execution_count": null,
      "outputs": [
        {
          "output_type": "stream",
          "name": "stdout",
          "text": [
            "The number of chains with exactly 60 non-repeating terms below one million is: 402\n"
          ]
        }
      ]
    },
    {
      "cell_type": "markdown",
      "source": [
        "# Problem 75 -"
      ],
      "metadata": {
        "id": "MnXOMcX52H7K"
      }
    },
    {
      "cell_type": "code",
      "source": [
        "import torch\n",
        "\n",
        "def generate_pythagorean_triples(limit):\n",
        "    counts = torch.zeros(limit + 1, dtype=torch.int32)\n",
        "\n",
        "    # Use the Euclid's formula to generate Pythagorean triples\n",
        "    for m in range(2, int((limit // 2) ** 0.5) + 1):\n",
        "        for n in range(1, m):\n",
        "            if (m - n) % 2 == 1 and torch.gcd(torch.tensor(m), torch.tensor(n)) == 1:\n",
        "                a = m * m - n * n\n",
        "                b = 2 * m * n\n",
        "                c = m * m + n * n\n",
        "                L = a + b + c\n",
        "                k = 1\n",
        "                while k * L <= limit:\n",
        "                    counts[k * L] += 1\n",
        "                    k += 1\n",
        "\n",
        "    return counts\n",
        "\n",
        "def count_unique_lengths(limit):\n",
        "    counts = generate_pythagorean_triples(limit)\n",
        "    # We count the number of perimeters with exactly one Pythagorean triple\n",
        "    return (counts == 1).sum().item()\n",
        "\n",
        "if __name__ == \"__main__\":\n",
        "    limit = 1500000\n",
        "    result = count_unique_lengths(limit)\n",
        "    print(f\"The number of values of L ≤ {limit} that can form exactly one integer-sided right-angle triangle is: {result}\")"
      ],
      "metadata": {
        "colab": {
          "base_uri": "https://localhost:8080/"
        },
        "id": "hOe0mrum2Ki_",
        "outputId": "1a8ada54-520b-4329-d806-073054dd0f77"
      },
      "execution_count": null,
      "outputs": [
        {
          "output_type": "stream",
          "name": "stdout",
          "text": [
            "The number of values of L ≤ 1500000 that can form exactly one integer-sided right-angle triangle is: 161667\n"
          ]
        }
      ]
    },
    {
      "cell_type": "markdown",
      "source": [
        "# Problem 76 -"
      ],
      "metadata": {
        "id": "Ey3Py-Oh5Zy_"
      }
    },
    {
      "cell_type": "code",
      "source": [
        "def partition_count(n):\n",
        "    # Create a list to store the number of ways to partition each integer from 0 to n\n",
        "    partitions = [0] * (n + 1)\n",
        "    partitions[0] = 1  # There is one way to partition 0 (the empty sum)\n",
        "\n",
        "    # Calculate the partitions for each number up to n\n",
        "    for i in range(1, n):\n",
        "        for j in range(i, n + 1):\n",
        "            partitions[j] += partitions[j - i]\n",
        "\n",
        "    return partitions[n]\n",
        "\n",
        "# Number of ways to partition 100 as a sum of at least two positive integers\n",
        "result = partition_count(100)\n",
        "print(result)"
      ],
      "metadata": {
        "id": "0AVJy2fe5Hwx",
        "colab": {
          "base_uri": "https://localhost:8080/"
        },
        "outputId": "23be73ee-453c-41d9-e5b1-cba7836611b4"
      },
      "execution_count": 1,
      "outputs": [
        {
          "output_type": "stream",
          "name": "stdout",
          "text": [
            "190569291\n"
          ]
        }
      ]
    },
    {
      "cell_type": "markdown",
      "source": [
        "# Problem 77 -"
      ],
      "metadata": {
        "id": "32dTFAfT5gvr"
      }
    },
    {
      "cell_type": "code",
      "source": [
        "def sieve_of_eratosthenes(limit):\n",
        "    primes = []\n",
        "    sieve = [True] * (limit + 1)\n",
        "    sieve[0] = sieve[1] = False\n",
        "\n",
        "    for start in range(2, limit + 1):\n",
        "        if sieve[start]:\n",
        "            primes.append(start)\n",
        "            for i in range(start * start, limit + 1, start):\n",
        "                sieve[i] = False\n",
        "\n",
        "    return primes\n",
        "\n",
        "def prime_sum_ways(limit):\n",
        "    primes = sieve_of_eratosthenes(limit)\n",
        "    ways = [0] * (limit + 1)\n",
        "    ways[0] = 1\n",
        "\n",
        "    for prime in primes:\n",
        "        for i in range(prime, limit + 1):\n",
        "            ways[i] += ways[i - prime]\n",
        "\n",
        "    return ways\n",
        "\n",
        "def find_value_with_over_k_ways(k, limit):\n",
        "    ways = prime_sum_ways(limit)\n",
        "    for i in range(2, limit + 1):\n",
        "        if ways[i] > k:\n",
        "            return i\n",
        "    return -1  # If not found within the limit\n",
        "\n",
        "# Find the first value that can be written as the sum of primes in over 5000 different ways\n",
        "result = find_value_with_over_k_ways(5000, 100)\n",
        "print(result)"
      ],
      "metadata": {
        "id": "4vaW1sXA5i2A",
        "colab": {
          "base_uri": "https://localhost:8080/"
        },
        "outputId": "9f849e0b-b57f-449e-fb56-df44c57381d3"
      },
      "execution_count": 2,
      "outputs": [
        {
          "output_type": "stream",
          "name": "stdout",
          "text": [
            "71\n"
          ]
        }
      ]
    },
    {
      "cell_type": "markdown",
      "source": [
        "# Problem 78 -"
      ],
      "metadata": {
        "id": "4DcwEF_45jfJ"
      }
    },
    {
      "cell_type": "code",
      "source": [
        "def partition_function_mod(m):\n",
        "    # Initialize the partition function array\n",
        "    partitions = [0] * 100000  # Assume n will not be more than 100000 for now\n",
        "    partitions[0] = 1  # Base case: p(0) = 1\n",
        "\n",
        "    for n in range(1, len(partitions)):\n",
        "        partitions[n] = 0\n",
        "        k = 1\n",
        "        while True:\n",
        "            pent1 = n - (k * (3 * k - 1)) // 2\n",
        "            pent2 = n - (k * (3 * k + 1)) // 2\n",
        "\n",
        "            if pent1 < 0 and pent2 < 0:\n",
        "                break\n",
        "\n",
        "            if pent1 >= 0:\n",
        "                partitions[n] += (-1) ** (k - 1) * partitions[pent1]\n",
        "            if pent2 >= 0:\n",
        "                partitions[n] += (-1) ** (k - 1) * partitions[pent2]\n",
        "\n",
        "            partitions[n] %= m  # Take modulo m\n",
        "\n",
        "            k += 1\n",
        "\n",
        "        if partitions[n] == 0:\n",
        "            return n  # Return the first n where p(n) is divisible by m\n",
        "\n",
        "    return -1  # In case no such n is found within the range\n",
        "\n",
        "# Find the least value of n for which p(n) is divisible by 1,000,000\n",
        "result = partition_function_mod(1000000)\n",
        "print(result)"
      ],
      "metadata": {
        "id": "p0JiJIs85lQ7",
        "colab": {
          "base_uri": "https://localhost:8080/"
        },
        "outputId": "64e94143-4e0b-49a2-d73d-31992be86714"
      },
      "execution_count": 3,
      "outputs": [
        {
          "output_type": "stream",
          "name": "stdout",
          "text": [
            "55374\n"
          ]
        }
      ]
    },
    {
      "cell_type": "markdown",
      "source": [
        "# Problem 79 -"
      ],
      "metadata": {
        "id": "kcohqwxL5l7u"
      }
    },
    {
      "cell_type": "code",
      "source": [
        "from collections import defaultdict, deque\n",
        "\n",
        "def determine_passcode(sequences):\n",
        "    # Create a graph to store dependencies\n",
        "    graph = defaultdict(set)\n",
        "    in_degree = defaultdict(int)\n",
        "    all_chars = set()\n",
        "\n",
        "    # Build the graph from the sequences\n",
        "    for seq in sequences:\n",
        "        first, second, third = seq\n",
        "        all_chars.update(seq)\n",
        "\n",
        "        if second not in graph[first]:\n",
        "            graph[first].add(second)\n",
        "            in_degree[second] += 1\n",
        "\n",
        "        if third not in graph[second]:\n",
        "            graph[second].add(third)\n",
        "            in_degree[third] += 1\n",
        "\n",
        "    # Initialize the in-degree of the first characters in the sequences\n",
        "    for char in all_chars:\n",
        "        if char not in in_degree:\n",
        "            in_degree[char] = 0\n",
        "\n",
        "    # Topological sort using Kahn's algorithm\n",
        "    queue = deque([char for char in all_chars if in_degree[char] == 0])\n",
        "    passcode = []\n",
        "\n",
        "    while queue:\n",
        "        char = queue.popleft()\n",
        "        passcode.append(char)\n",
        "\n",
        "        for neighbor in graph[char]:\n",
        "            in_degree[neighbor] -= 1\n",
        "            if in_degree[neighbor] == 0:\n",
        "                queue.append(neighbor)\n",
        "\n",
        "    return ''.join(passcode)\n",
        "\n",
        "# Read the sequences from the provided keylog file\n",
        "sequences = [\n",
        "    \"319\", \"680\", \"180\", \"690\", \"129\", \"620\", \"762\", \"689\", \"762\", \"318\",\n",
        "    \"368\", \"710\", \"720\", \"710\", \"629\", \"168\", \"160\", \"689\", \"716\", \"731\",\n",
        "    \"736\", \"729\", \"316\", \"729\", \"729\", \"710\", \"769\", \"290\", \"719\", \"680\",\n",
        "    \"318\", \"389\", \"162\", \"289\", \"162\", \"718\", \"729\", \"319\", \"790\", \"680\",\n",
        "    \"890\", \"362\", \"319\", \"760\", \"316\", \"729\", \"380\", \"319\", \"728\", \"716\"\n",
        "]\n",
        "\n",
        "# Determine the shortest possible passcode\n",
        "result = determine_passcode(sequences)\n",
        "print(result)"
      ],
      "metadata": {
        "id": "m5_Gu6zc5ny3",
        "colab": {
          "base_uri": "https://localhost:8080/"
        },
        "outputId": "6d7c7cd7-a9f1-419a-8741-ccd775ad9631"
      },
      "execution_count": 4,
      "outputs": [
        {
          "output_type": "stream",
          "name": "stdout",
          "text": [
            "73162890\n"
          ]
        }
      ]
    },
    {
      "cell_type": "markdown",
      "source": [
        "# Problem 80 -"
      ],
      "metadata": {
        "id": "Bi5b6sjX5ons"
      }
    },
    {
      "cell_type": "code",
      "source": [
        "from decimal import Decimal, getcontext\n",
        "import math\n",
        "\n",
        "def digital_sum_of_square_root(n, digits):\n",
        "    getcontext().prec = digits + 5  # Set precision higher than required to ensure accuracy\n",
        "    sqrt_n = Decimal(n).sqrt()\n",
        "    sqrt_str = str(sqrt_n).replace('.', '')[:digits]  # Get the first `digits` decimal digits\n",
        "    return sum(int(digit) for digit in sqrt_str)\n",
        "\n",
        "def total_digital_sum(limit, digits):\n",
        "    total_sum = 0\n",
        "    for i in range(1, limit + 1):\n",
        "        if math.isqrt(i) ** 2 != i:  # Check if the square root is irrational\n",
        "            total_sum += digital_sum_of_square_root(i, digits)\n",
        "    return total_sum\n",
        "\n",
        "# Calculate the total digital sum for the first 100 natural numbers\n",
        "result = total_digital_sum(100, 100)\n",
        "print(result)"
      ],
      "metadata": {
        "id": "j8bcnUUt5tI0",
        "colab": {
          "base_uri": "https://localhost:8080/"
        },
        "outputId": "e1345900-5690-41a3-9be6-261fb05904f1"
      },
      "execution_count": 5,
      "outputs": [
        {
          "output_type": "stream",
          "name": "stdout",
          "text": [
            "40886\n"
          ]
        }
      ]
    },
    {
      "cell_type": "markdown",
      "source": [
        "# Problem 81 -"
      ],
      "metadata": {
        "id": "tOn31MYt1Krq"
      }
    },
    {
      "cell_type": "code",
      "source": [
        "def compute():\n",
        "\t# Dynamic programming\n",
        "\tfor i in reversed(range(len(grid))):\n",
        "\t\tfor j in reversed(range(len(grid[i]))):\n",
        "\t\t\tif i + 1 < len(grid) and j + 1 < len(grid[i]):\n",
        "\t\t\t\ttemp = min(grid[i + 1][j], grid[i][j + 1])\n",
        "\t\t\telif i + 1 < len(grid):\n",
        "\t\t\t\ttemp = grid[i + 1][j]\n",
        "\t\t\telif j + 1 < len(grid[i]):\n",
        "\t\t\t\ttemp = grid[i][j + 1]\n",
        "\t\t\telse:\n",
        "\t\t\t\ttemp = 0\n",
        "\t\t\tgrid[i][j] += temp\n",
        "\treturn str(grid[0][0])\n",
        "\n",
        "\n",
        "grid = [  # Mutable\n",
        "\t[4445,2697,5115,718,2209,2212,654,4348,3079,6821,7668,3276,8874,4190,3785,2752,9473,7817,9137,496,7338,3434,7152,4355,4552,7917,7827,2460,2350,691,3514,5880,3145,7633,7199,3783,5066,7487,3285,1084,8985,760,872,8609,8051,1134,9536,5750,9716,9371,7619,5617,275,9721,2997,2698,1887,8825,6372,3014,2113,7122,7050,6775,5948,2758,1219,3539,348,7989,2735,9862,1263,8089,6401,9462,3168,2758,3748,5870],\n",
        "\t[1096,20,1318,7586,5167,2642,1443,5741,7621,7030,5526,4244,2348,4641,9827,2448,6918,5883,3737,300,7116,6531,567,5997,3971,6623,820,6148,3287,1874,7981,8424,7672,7575,6797,6717,1078,5008,4051,8795,5820,346,1851,6463,2117,6058,3407,8211,117,4822,1317,4377,4434,5925,8341,4800,1175,4173,690,8978,7470,1295,3799,8724,3509,9849,618,3320,7068,9633,2384,7175,544,6583,1908,9983,481,4187,9353,9377],\n",
        "\t[9607,7385,521,6084,1364,8983,7623,1585,6935,8551,2574,8267,4781,3834,2764,2084,2669,4656,9343,7709,2203,9328,8004,6192,5856,3555,2260,5118,6504,1839,9227,1259,9451,1388,7909,5733,6968,8519,9973,1663,5315,7571,3035,4325,4283,2304,6438,3815,9213,9806,9536,196,5542,6907,2475,1159,5820,9075,9470,2179,9248,1828,4592,9167,3713,4640,47,3637,309,7344,6955,346,378,9044,8635,7466,5036,9515,6385,9230],\n",
        "\t[7206,3114,7760,1094,6150,5182,7358,7387,4497,955,101,1478,7777,6966,7010,8417,6453,4955,3496,107,449,8271,131,2948,6185,784,5937,8001,6104,8282,4165,3642,710,2390,575,715,3089,6964,4217,192,5949,7006,715,3328,1152,66,8044,4319,1735,146,4818,5456,6451,4113,1063,4781,6799,602,1504,6245,6550,1417,1343,2363,3785,5448,4545,9371,5420,5068,4613,4882,4241,5043,7873,8042,8434,3939,9256,2187],\n",
        "\t[3620,8024,577,9997,7377,7682,1314,1158,6282,6310,1896,2509,5436,1732,9480,706,496,101,6232,7375,2207,2306,110,6772,3433,2878,8140,5933,8688,1399,2210,7332,6172,6403,7333,4044,2291,1790,2446,7390,8698,5723,3678,7104,1825,2040,140,3982,4905,4160,2200,5041,2512,1488,2268,1175,7588,8321,8078,7312,977,5257,8465,5068,3453,3096,1651,7906,253,9250,6021,8791,8109,6651,3412,345,4778,5152,4883,7505],\n",
        "\t[1074,5438,9008,2679,5397,5429,2652,3403,770,9188,4248,2493,4361,8327,9587,707,9525,5913,93,1899,328,2876,3604,673,8576,6908,7659,2544,3359,3883,5273,6587,3065,1749,3223,604,9925,6941,2823,8767,7039,3290,3214,1787,7904,3421,7137,9560,8451,2669,9219,6332,1576,5477,6755,8348,4164,4307,2984,4012,6629,1044,2874,6541,4942,903,1404,9125,5160,8836,4345,2581,460,8438,1538,5507,668,3352,2678,6942],\n",
        "\t[4295,1176,5596,1521,3061,9868,7037,7129,8933,6659,5947,5063,3653,9447,9245,2679,767,714,116,8558,163,3927,8779,158,5093,2447,5782,3967,1716,931,7772,8164,1117,9244,5783,7776,3846,8862,6014,2330,6947,1777,3112,6008,3491,1906,5952,314,4602,8994,5919,9214,3995,5026,7688,6809,5003,3128,2509,7477,110,8971,3982,8539,2980,4689,6343,5411,2992,5270,5247,9260,2269,7474,1042,7162,5206,1232,4556,4757],\n",
        "\t[510,3556,5377,1406,5721,4946,2635,7847,4251,8293,8281,6351,4912,287,2870,3380,3948,5322,3840,4738,9563,1906,6298,3234,8959,1562,6297,8835,7861,239,6618,1322,2553,2213,5053,5446,4402,6500,5182,8585,6900,5756,9661,903,5186,7687,5998,7997,8081,8955,4835,6069,2621,1581,732,9564,1082,1853,5442,1342,520,1737,3703,5321,4793,2776,1508,1647,9101,2499,6891,4336,7012,3329,3212,1442,9993,3988,4930,7706],\n",
        "\t[9444,3401,5891,9716,1228,7107,109,3563,2700,6161,5039,4992,2242,8541,7372,2067,1294,3058,1306,320,8881,5756,9326,411,8650,8824,5495,8282,8397,2000,1228,7817,2099,6473,3571,5994,4447,1299,5991,543,7874,2297,1651,101,2093,3463,9189,6872,6118,872,1008,1779,2805,9084,4048,2123,5877,55,3075,1737,9459,4535,6453,3644,108,5982,4437,5213,1340,6967,9943,5815,669,8074,1838,6979,9132,9315,715,5048],\n",
        "\t[3327,4030,7177,6336,9933,5296,2621,4785,2755,4832,2512,2118,2244,4407,2170,499,7532,9742,5051,7687,970,6924,3527,4694,5145,1306,2165,5940,2425,8910,3513,1909,6983,346,6377,4304,9330,7203,6605,3709,3346,970,369,9737,5811,4427,9939,3693,8436,5566,1977,3728,2399,3985,8303,2492,5366,9802,9193,7296,1033,5060,9144,2766,1151,7629,5169,5995,58,7619,7565,4208,1713,6279,3209,4908,9224,7409,1325,8540],\n",
        "\t[6882,1265,1775,3648,4690,959,5837,4520,5394,1378,9485,1360,4018,578,9174,2932,9890,3696,116,1723,1178,9355,7063,1594,1918,8574,7594,7942,1547,6166,7888,354,6932,4651,1010,7759,6905,661,7689,6092,9292,3845,9605,8443,443,8275,5163,7720,7265,6356,7779,1798,1754,5225,6661,1180,8024,5666,88,9153,1840,3508,1193,4445,2648,3538,6243,6375,8107,5902,5423,2520,1122,5015,6113,8859,9370,966,8673,2442],\n",
        "\t[7338,3423,4723,6533,848,8041,7921,8277,4094,5368,7252,8852,9166,2250,2801,6125,8093,5738,4038,9808,7359,9494,601,9116,4946,2702,5573,2921,9862,1462,1269,2410,4171,2709,7508,6241,7522,615,2407,8200,4189,5492,5649,7353,2590,5203,4274,710,7329,9063,956,8371,3722,4253,4785,1194,4828,4717,4548,940,983,2575,4511,2938,1827,2027,2700,1236,841,5760,1680,6260,2373,3851,1841,4968,1172,5179,7175,3509],\n",
        "\t[4420,1327,3560,2376,6260,2988,9537,4064,4829,8872,9598,3228,1792,7118,9962,9336,4368,9189,6857,1829,9863,6287,7303,7769,2707,8257,2391,2009,3975,4993,3068,9835,3427,341,8412,2134,4034,8511,6421,3041,9012,2983,7289,100,1355,7904,9186,6920,5856,2008,6545,8331,3655,5011,839,8041,9255,6524,3862,8788,62,7455,3513,5003,8413,3918,2076,7960,6108,3638,6999,3436,1441,4858,4181,1866,8731,7745,3744,1000],\n",
        "\t[356,8296,8325,1058,1277,4743,3850,2388,6079,6462,2815,5620,8495,5378,75,4324,3441,9870,1113,165,1544,1179,2834,562,6176,2313,6836,8839,2986,9454,5199,6888,1927,5866,8760,320,1792,8296,7898,6121,7241,5886,5814,2815,8336,1576,4314,3109,2572,6011,2086,9061,9403,3947,5487,9731,7281,3159,1819,1334,3181,5844,5114,9898,4634,2531,4412,6430,4262,8482,4546,4555,6804,2607,9421,686,8649,8860,7794,6672],\n",
        "\t[9870,152,1558,4963,8750,4754,6521,6256,8818,5208,5691,9659,8377,9725,5050,5343,2539,6101,1844,9700,7750,8114,5357,3001,8830,4438,199,9545,8496,43,2078,327,9397,106,6090,8181,8646,6414,7499,5450,4850,6273,5014,4131,7639,3913,6571,8534,9703,4391,7618,445,1320,5,1894,6771,7383,9191,4708,9706,6939,7937,8726,9382,5216,3685,2247,9029,8154,1738,9984,2626,9438,4167,6351,5060,29,1218,1239,4785],\n",
        "\t[192,5213,8297,8974,4032,6966,5717,1179,6523,4679,9513,1481,3041,5355,9303,9154,1389,8702,6589,7818,6336,3539,5538,3094,6646,6702,6266,2759,4608,4452,617,9406,8064,6379,444,5602,4950,1810,8391,1536,316,8714,1178,5182,5863,5110,5372,4954,1978,2971,5680,4863,2255,4630,5723,2168,538,1692,1319,7540,440,6430,6266,7712,7385,5702,620,641,3136,7350,1478,3155,2820,9109,6261,1122,4470,14,8493,2095],\n",
        "\t[1046,4301,6082,474,4974,7822,2102,5161,5172,6946,8074,9716,6586,9962,9749,5015,2217,995,5388,4402,7652,6399,6539,1349,8101,3677,1328,9612,7922,2879,231,5887,2655,508,4357,4964,3554,5930,6236,7384,4614,280,3093,9600,2110,7863,2631,6626,6620,68,1311,7198,7561,1768,5139,1431,221,230,2940,968,5283,6517,2146,1646,869,9402,7068,8645,7058,1765,9690,4152,2926,9504,2939,7504,6074,2944,6470,7859],\n",
        "\t[4659,736,4951,9344,1927,6271,8837,8711,3241,6579,7660,5499,5616,3743,5801,4682,9748,8796,779,1833,4549,8138,4026,775,4170,2432,4174,3741,7540,8017,2833,4027,396,811,2871,1150,9809,2719,9199,8504,1224,540,2051,3519,7982,7367,2761,308,3358,6505,2050,4836,5090,7864,805,2566,2409,6876,3361,8622,5572,5895,3280,441,7893,8105,1634,2929,274,3926,7786,6123,8233,9921,2674,5340,1445,203,4585,3837],\n",
        "\t[5759,338,7444,7968,7742,3755,1591,4839,1705,650,7061,2461,9230,9391,9373,2413,1213,431,7801,4994,2380,2703,6161,6878,8331,2538,6093,1275,5065,5062,2839,582,1014,8109,3525,1544,1569,8622,7944,2905,6120,1564,1839,5570,7579,1318,2677,5257,4418,5601,7935,7656,5192,1864,5886,6083,5580,6202,8869,1636,7907,4759,9082,5854,3185,7631,6854,5872,5632,5280,1431,2077,9717,7431,4256,8261,9680,4487,4752,4286],\n",
        "\t[1571,1428,8599,1230,7772,4221,8523,9049,4042,8726,7567,6736,9033,2104,4879,4967,6334,6716,3994,1269,8995,6539,3610,7667,6560,6065,874,848,4597,1711,7161,4811,6734,5723,6356,6026,9183,2586,5636,1092,7779,7923,8747,6887,7505,9909,1792,3233,4526,3176,1508,8043,720,5212,6046,4988,709,5277,8256,3642,1391,5803,1468,2145,3970,6301,7767,2359,8487,9771,8785,7520,856,1605,8972,2402,2386,991,1383,5963],\n",
        "\t[1822,4824,5957,6511,9868,4113,301,9353,6228,2881,2966,6956,9124,9574,9233,1601,7340,973,9396,540,4747,8590,9535,3650,7333,7583,4806,3593,2738,8157,5215,8472,2284,9473,3906,6982,5505,6053,7936,6074,7179,6688,1564,1103,6860,5839,2022,8490,910,7551,7805,881,7024,1855,9448,4790,1274,3672,2810,774,7623,4223,4850,6071,9975,4935,1915,9771,6690,3846,517,463,7624,4511,614,6394,3661,7409,1395,8127],\n",
        "\t[8738,3850,9555,3695,4383,2378,87,6256,6740,7682,9546,4255,6105,2000,1851,4073,8957,9022,6547,5189,2487,303,9602,7833,1628,4163,6678,3144,8589,7096,8913,5823,4890,7679,1212,9294,5884,2972,3012,3359,7794,7428,1579,4350,7246,4301,7779,7790,3294,9547,4367,3549,1958,8237,6758,3497,3250,3456,6318,1663,708,7714,6143,6890,3428,6853,9334,7992,591,6449,9786,1412,8500,722,5468,1371,108,3939,4199,2535],\n",
        "\t[7047,4323,1934,5163,4166,461,3544,2767,6554,203,6098,2265,9078,2075,4644,6641,8412,9183,487,101,7566,5622,1975,5726,2920,5374,7779,5631,3753,3725,2672,3621,4280,1162,5812,345,8173,9785,1525,955,5603,2215,2580,5261,2765,2990,5979,389,3907,2484,1232,5933,5871,3304,1138,1616,5114,9199,5072,7442,7245,6472,4760,6359,9053,7876,2564,9404,3043,9026,2261,3374,4460,7306,2326,966,828,3274,1712,3446],\n",
        "\t[3975,4565,8131,5800,4570,2306,8838,4392,9147,11,3911,7118,9645,4994,2028,6062,5431,2279,8752,2658,7836,994,7316,5336,7185,3289,1898,9689,2331,5737,3403,1124,2679,3241,7748,16,2724,5441,6640,9368,9081,5618,858,4969,17,2103,6035,8043,7475,2181,939,415,1617,8500,8253,2155,7843,7974,7859,1746,6336,3193,2617,8736,4079,6324,6645,8891,9396,5522,6103,1857,8979,3835,2475,1310,7422,610,8345,7615],\n",
        "\t[9248,5397,5686,2988,3446,4359,6634,9141,497,9176,6773,7448,1907,8454,916,1596,2241,1626,1384,2741,3649,5362,8791,7170,2903,2475,5325,6451,924,3328,522,90,4813,9737,9557,691,2388,1383,4021,1609,9206,4707,5200,7107,8104,4333,9860,5013,1224,6959,8527,1877,4545,7772,6268,621,4915,9349,5970,706,9583,3071,4127,780,8231,3017,9114,3836,7503,2383,1977,4870,8035,2379,9704,1037,3992,3642,1016,4303],\n",
        "\t[5093,138,4639,6609,1146,5565,95,7521,9077,2272,974,4388,2465,2650,722,4998,3567,3047,921,2736,7855,173,2065,4238,1048,5,6847,9548,8632,9194,5942,4777,7910,8971,6279,7253,2516,1555,1833,3184,9453,9053,6897,7808,8629,4877,1871,8055,4881,7639,1537,7701,2508,7564,5845,5023,2304,5396,3193,2955,1088,3801,6203,1748,3737,1276,13,4120,7715,8552,3047,2921,106,7508,304,1280,7140,2567,9135,5266],\n",
        "\t[6237,4607,7527,9047,522,7371,4883,2540,5867,6366,5301,1570,421,276,3361,527,6637,4861,2401,7522,5808,9371,5298,2045,5096,5447,7755,5115,7060,8529,4078,1943,1697,1764,5453,7085,960,2405,739,2100,5800,728,9737,5704,5693,1431,8979,6428,673,7540,6,7773,5857,6823,150,5869,8486,684,5816,9626,7451,5579,8260,3397,5322,6920,1879,2127,2884,5478,4977,9016,6165,6292,3062,5671,5968,78,4619,4763],\n",
        "\t[9905,7127,9390,5185,6923,3721,9164,9705,4341,1031,1046,5127,7376,6528,3248,4941,1178,7889,3364,4486,5358,9402,9158,8600,1025,874,1839,1783,309,9030,1843,845,8398,1433,7118,70,8071,2877,3904,8866,6722,4299,10,1929,5897,4188,600,1889,3325,2485,6473,4474,7444,6992,4846,6166,4441,2283,2629,4352,7775,1101,2214,9985,215,8270,9750,2740,8361,7103,5930,8664,9690,8302,9267,344,2077,1372,1880,9550],\n",
        "\t[5825,8517,7769,2405,8204,1060,3603,7025,478,8334,1997,3692,7433,9101,7294,7498,9415,5452,3850,3508,6857,9213,6807,4412,7310,854,5384,686,4978,892,8651,3241,2743,3801,3813,8588,6701,4416,6990,6490,3197,6838,6503,114,8343,5844,8646,8694,65,791,5979,2687,2621,2019,8097,1423,3644,9764,4921,3266,3662,5561,2476,8271,8138,6147,1168,3340,1998,9874,6572,9873,6659,5609,2711,3931,9567,4143,7833,8887],\n",
        "\t[6223,2099,2700,589,4716,8333,1362,5007,2753,2848,4441,8397,7192,8191,4916,9955,6076,3370,6396,6971,3156,248,3911,2488,4930,2458,7183,5455,170,6809,6417,3390,1956,7188,577,7526,2203,968,8164,479,8699,7915,507,6393,4632,1597,7534,3604,618,3280,6061,9793,9238,8347,568,9645,2070,5198,6482,5000,9212,6655,5961,7513,1323,3872,6170,3812,4146,2736,67,3151,5548,2781,9679,7564,5043,8587,1893,4531],\n",
        "\t[5826,3690,6724,2121,9308,6986,8106,6659,2142,1642,7170,2877,5757,6494,8026,6571,8387,9961,6043,9758,9607,6450,8631,8334,7359,5256,8523,2225,7487,1977,9555,8048,5763,2414,4948,4265,2427,8978,8088,8841,9208,9601,5810,9398,8866,9138,4176,5875,7212,3272,6759,5678,7649,4922,5422,1343,8197,3154,3600,687,1028,4579,2084,9467,4492,7262,7296,6538,7657,7134,2077,1505,7332,6890,8964,4879,7603,7400,5973,739],\n",
        "\t[1861,1613,4879,1884,7334,966,2000,7489,2123,4287,1472,3263,4726,9203,1040,4103,6075,6049,330,9253,4062,4268,1635,9960,577,1320,3195,9628,1030,4092,4979,6474,6393,2799,6967,8687,7724,7392,9927,2085,3200,6466,8702,265,7646,8665,7986,7266,4574,6587,612,2724,704,3191,8323,9523,3002,704,5064,3960,8209,2027,2758,8393,4875,4641,9584,6401,7883,7014,768,443,5490,7506,1852,2005,8850,5776,4487,4269],\n",
        "\t[4052,6687,4705,7260,6645,6715,3706,5504,8672,2853,1136,8187,8203,4016,871,1809,1366,4952,9294,5339,6872,2645,6083,7874,3056,5218,7485,8796,7401,3348,2103,426,8572,4163,9171,3176,948,7654,9344,3217,1650,5580,7971,2622,76,2874,880,2034,9929,1546,2659,5811,3754,7096,7436,9694,9960,7415,2164,953,2360,4194,2397,1047,2196,6827,575,784,2675,8821,6802,7972,5996,6699,2134,7577,2887,1412,4349,4380],\n",
        "\t[4629,2234,6240,8132,7592,3181,6389,1214,266,1910,2451,8784,2790,1127,6932,1447,8986,2492,5476,397,889,3027,7641,5083,5776,4022,185,3364,5701,2442,2840,4160,9525,4828,6602,2614,7447,3711,4505,7745,8034,6514,4907,2605,7753,6958,7270,6936,3006,8968,439,2326,4652,3085,3425,9863,5049,5361,8688,297,7580,8777,7916,6687,8683,7141,306,9569,2384,1500,3346,4601,7329,9040,6097,2727,6314,4501,4974,2829],\n",
        "\t[8316,4072,2025,6884,3027,1808,5714,7624,7880,8528,4205,8686,7587,3230,1139,7273,6163,6986,3914,9309,1464,9359,4474,7095,2212,7302,2583,9462,7532,6567,1606,4436,8981,5612,6796,4385,5076,2007,6072,3678,8331,1338,3299,8845,4783,8613,4071,1232,6028,2176,3990,2148,3748,103,9453,538,6745,9110,926,3125,473,5970,8728,7072,9062,1404,1317,5139,9862,6496,6062,3338,464,1600,2532,1088,8232,7739,8274,3873],\n",
        "\t[2341,523,7096,8397,8301,6541,9844,244,4993,2280,7689,4025,4196,5522,7904,6048,2623,9258,2149,9461,6448,8087,7245,1917,8340,7127,8466,5725,6996,3421,5313,512,9164,9837,9794,8369,4185,1488,7210,1524,1016,4620,9435,2478,7765,8035,697,6677,3724,6988,5853,7662,3895,9593,1185,4727,6025,5734,7665,3070,138,8469,6748,6459,561,7935,8646,2378,462,7755,3115,9690,8877,3946,2728,8793,244,6323,8666,4271],\n",
        "\t[6430,2406,8994,56,1267,3826,9443,7079,7579,5232,6691,3435,6718,5698,4144,7028,592,2627,217,734,6194,8156,9118,58,2640,8069,4127,3285,694,3197,3377,4143,4802,3324,8134,6953,7625,3598,3584,4289,7065,3434,2106,7132,5802,7920,9060,7531,3321,1725,1067,3751,444,5503,6785,7937,6365,4803,198,6266,8177,1470,6390,1606,2904,7555,9834,8667,2033,1723,5167,1666,8546,8152,473,4475,6451,7947,3062,3281],\n",
        "\t[2810,3042,7759,1741,2275,2609,7676,8640,4117,1958,7500,8048,1757,3954,9270,1971,4796,2912,660,5511,3553,1012,5757,4525,6084,7198,8352,5775,7726,8591,7710,9589,3122,4392,6856,5016,749,2285,3356,7482,9956,7348,2599,8944,495,3462,3578,551,4543,7207,7169,7796,1247,4278,6916,8176,3742,8385,2310,1345,8692,2667,4568,1770,8319,3585,4920,3890,4928,7343,5385,9772,7947,8786,2056,9266,3454,2807,877,2660],\n",
        "\t[6206,8252,5928,5837,4177,4333,207,7934,5581,9526,8906,1498,8411,2984,5198,5134,2464,8435,8514,8674,3876,599,5327,826,2152,4084,2433,9327,9697,4800,2728,3608,3849,3861,3498,9943,1407,3991,7191,9110,5666,8434,4704,6545,5944,2357,1163,4995,9619,6754,4200,9682,6654,4862,4744,5953,6632,1054,293,9439,8286,2255,696,8709,1533,1844,6441,430,1999,6063,9431,7018,8057,2920,6266,6799,356,3597,4024,6665],\n",
        "\t[3847,6356,8541,7225,2325,2946,5199,469,5450,7508,2197,9915,8284,7983,6341,3276,3321,16,1321,7608,5015,3362,8491,6968,6818,797,156,2575,706,9516,5344,5457,9210,5051,8099,1617,9951,7663,8253,9683,2670,1261,4710,1068,8753,4799,1228,2621,3275,6188,4699,1791,9518,8701,5932,4275,6011,9877,2933,4182,6059,2930,6687,6682,9771,654,9437,3169,8596,1827,5471,8909,2352,123,4394,3208,8756,5513,6917,2056],\n",
        "\t[5458,8173,3138,3290,4570,4892,3317,4251,9699,7973,1163,1935,5477,6648,9614,5655,9592,975,9118,2194,7322,8248,8413,3462,8560,1907,7810,6650,7355,2939,4973,6894,3933,3784,3200,2419,9234,4747,2208,2207,1945,2899,1407,6145,8023,3484,5688,7686,2737,3828,3704,9004,5190,9740,8643,8650,5358,4426,1522,1707,3613,9887,6956,2447,2762,833,1449,9489,2573,1080,4167,3456,6809,2466,227,7125,2759,6250,6472,8089],\n",
        "\t[3266,7025,9756,3914,1265,9116,7723,9788,6805,5493,2092,8688,6592,9173,4431,4028,6007,7131,4446,4815,3648,6701,759,3312,8355,4485,4187,5188,8746,7759,3528,2177,5243,8379,3838,7233,4607,9187,7216,2190,6967,2920,6082,7910,5354,3609,8958,6949,7731,494,8753,8707,1523,4426,3543,7085,647,6771,9847,646,5049,824,8417,5260,2730,5702,2513,9275,4279,2767,8684,1165,9903,4518,55,9682,8963,6005,2102,6523],\n",
        "\t[1998,8731,936,1479,5259,7064,4085,91,7745,7136,3773,3810,730,8255,2705,2653,9790,6807,2342,355,9344,2668,3690,2028,9679,8102,574,4318,6481,9175,5423,8062,2867,9657,7553,3442,3920,7430,3945,7639,3714,3392,2525,4995,4850,2867,7951,9667,486,9506,9888,781,8866,1702,3795,90,356,1483,4200,2131,6969,5931,486,6880,4404,1084,5169,4910,6567,8335,4686,5043,2614,3352,2667,4513,6472,7471,5720,1616],\n",
        "\t[8878,1613,1716,868,1906,2681,564,665,5995,2474,7496,3432,9491,9087,8850,8287,669,823,347,6194,2264,2592,7871,7616,8508,4827,760,2676,4660,4881,7572,3811,9032,939,4384,929,7525,8419,5556,9063,662,8887,7026,8534,3111,1454,2082,7598,5726,6687,9647,7608,73,3014,5063,670,5461,5631,3367,9796,8475,7908,5073,1565,5008,5295,4457,1274,4788,1728,338,600,8415,8535,9351,7750,6887,5845,1741,125],\n",
        "\t[3637,6489,9634,9464,9055,2413,7824,9517,7532,3577,7050,6186,6980,9365,9782,191,870,2497,8498,2218,2757,5420,6468,586,3320,9230,1034,1393,9886,5072,9391,1178,8464,8042,6869,2075,8275,3601,7715,9470,8786,6475,8373,2159,9237,2066,3264,5000,679,355,3069,4073,494,2308,5512,4334,9438,8786,8637,9774,1169,1949,6594,6072,4270,9158,7916,5752,6794,9391,6301,5842,3285,2141,3898,8027,4310,8821,7079,1307],\n",
        "\t[8497,6681,4732,7151,7060,5204,9030,7157,833,5014,8723,3207,9796,9286,4913,119,5118,7650,9335,809,3675,2597,5144,3945,5090,8384,187,4102,1260,2445,2792,4422,8389,9290,50,1765,1521,6921,8586,4368,1565,5727,7855,2003,4834,9897,5911,8630,5070,1330,7692,7557,7980,6028,5805,9090,8265,3019,3802,698,9149,5748,1965,9658,4417,5994,5584,8226,2937,272,5743,1278,5698,8736,2595,6475,5342,6596,1149,6920],\n",
        "\t[8188,8009,9546,6310,8772,2500,9846,6592,6872,3857,1307,8125,7042,1544,6159,2330,643,4604,7899,6848,371,8067,2062,3200,7295,1857,9505,6936,384,2193,2190,301,8535,5503,1462,7380,5114,4824,8833,1763,4974,8711,9262,6698,3999,2645,6937,7747,1128,2933,3556,7943,2885,3122,9105,5447,418,2899,5148,3699,9021,9501,597,4084,175,1621,1,1079,6067,5812,4326,9914,6633,5394,4233,6728,9084,1864,5863,1225],\n",
        "\t[9935,8793,9117,1825,9542,8246,8437,3331,9128,9675,6086,7075,319,1334,7932,3583,7167,4178,1726,7720,695,8277,7887,6359,5912,1719,2780,8529,1359,2013,4498,8072,1129,9998,1147,8804,9405,6255,1619,2165,7491,1,8882,7378,3337,503,5758,4109,3577,985,3200,7615,8058,5032,1080,6410,6873,5496,1466,2412,9885,5904,4406,3605,8770,4361,6205,9193,1537,9959,214,7260,9566,1685,100,4920,7138,9819,5637,976],\n",
        "\t[3466,9854,985,1078,7222,8888,5466,5379,3578,4540,6853,8690,3728,6351,7147,3134,6921,9692,857,3307,4998,2172,5783,3931,9417,2541,6299,13,787,2099,9131,9494,896,8600,1643,8419,7248,2660,2609,8579,91,6663,5506,7675,1947,6165,4286,1972,9645,3805,1663,1456,8853,5705,9889,7489,1107,383,4044,2969,3343,152,7805,4980,9929,5033,1737,9953,7197,9158,4071,1324,473,9676,3984,9680,3606,8160,7384,5432],\n",
        "\t[1005,4512,5186,3953,2164,3372,4097,3247,8697,3022,9896,4101,3871,6791,3219,2742,4630,6967,7829,5991,6134,1197,1414,8923,8787,1394,8852,5019,7768,5147,8004,8825,5062,9625,7988,1110,3992,7984,9966,6516,6251,8270,421,3723,1432,4830,6935,8095,9059,2214,6483,6846,3120,1587,6201,6691,9096,9627,6671,4002,3495,9939,7708,7465,5879,6959,6634,3241,3401,2355,9061,2611,7830,3941,2177,2146,5089,7079,519,6351],\n",
        "\t[7280,8586,4261,2831,7217,3141,9994,9940,5462,2189,4005,6942,9848,5350,8060,6665,7519,4324,7684,657,9453,9296,2944,6843,7499,7847,1728,9681,3906,6353,5529,2822,3355,3897,7724,4257,7489,8672,4356,3983,1948,6892,7415,4153,5893,4190,621,1736,4045,9532,7701,3671,1211,1622,3176,4524,9317,7800,5638,6644,6943,5463,3531,2821,1347,5958,3436,1438,2999,994,850,4131,2616,1549,3465,5946,690,9273,6954,7991],\n",
        "\t[9517,399,3249,2596,7736,2142,1322,968,7350,1614,468,3346,3265,7222,6086,1661,5317,2582,7959,4685,2807,2917,1037,5698,1529,3972,8716,2634,3301,3412,8621,743,8001,4734,888,7744,8092,3671,8941,1487,5658,7099,2781,99,1932,4443,4756,4652,9328,1581,7855,4312,5976,7255,6480,3996,2748,1973,9731,4530,2790,9417,7186,5303,3557,351,7182,9428,1342,9020,7599,1392,8304,2070,9138,7215,2008,9937,1106,7110],\n",
        "\t[7444,769,9688,632,1571,6820,8743,4338,337,3366,3073,1946,8219,104,4210,6986,249,5061,8693,7960,6546,1004,8857,5997,9352,4338,6105,5008,2556,6518,6694,4345,3727,7956,20,3954,8652,4424,9387,2035,8358,5962,5304,5194,8650,8282,1256,1103,2138,6679,1985,3653,2770,2433,4278,615,2863,1715,242,3790,2636,6998,3088,1671,2239,957,5411,4595,6282,2881,9974,2401,875,7574,2987,4587,3147,6766,9885,2965],\n",
        "\t[3287,3016,3619,6818,9073,6120,5423,557,2900,2015,8111,3873,1314,4189,1846,4399,7041,7583,2427,2864,3525,5002,2069,748,1948,6015,2684,438,770,8367,1663,7887,7759,1885,157,7770,4520,4878,3857,1137,3525,3050,6276,5569,7649,904,4533,7843,2199,5648,7628,9075,9441,3600,7231,2388,5640,9096,958,3058,584,5899,8150,1181,9616,1098,8162,6819,8171,1519,1140,7665,8801,2632,1299,9192,707,9955,2710,7314],\n",
        "\t[1772,2963,7578,3541,3095,1488,7026,2634,6015,4633,4370,2762,1650,2174,909,8158,2922,8467,4198,4280,9092,8856,8835,5457,2790,8574,9742,5054,9547,4156,7940,8126,9824,7340,8840,6574,3547,1477,3014,6798,7134,435,9484,9859,3031,4,1502,4133,1738,1807,4825,463,6343,9701,8506,9822,9555,8688,8168,3467,3234,6318,1787,5591,419,6593,7974,8486,9861,6381,6758,194,3061,4315,2863,4665,3789,2201,1492,4416],\n",
        "\t[126,8927,6608,5682,8986,6867,1715,6076,3159,788,3140,4744,830,9253,5812,5021,7616,8534,1546,9590,1101,9012,9821,8132,7857,4086,1069,7491,2988,1579,2442,4321,2149,7642,6108,250,6086,3167,24,9528,7663,2685,1220,9196,1397,5776,1577,1730,5481,977,6115,199,6326,2183,3767,5928,5586,7561,663,8649,9688,949,5913,9160,1870,5764,9887,4477,6703,1413,4995,5494,7131,2192,8969,7138,3997,8697,646,1028],\n",
        "\t[8074,1731,8245,624,4601,8706,155,8891,309,2552,8208,8452,2954,3124,3469,4246,3352,1105,4509,8677,9901,4416,8191,9283,5625,7120,2952,8881,7693,830,4580,8228,9459,8611,4499,1179,4988,1394,550,2336,6089,6872,269,7213,1848,917,6672,4890,656,1478,6536,3165,4743,4990,1176,6211,7207,5284,9730,4738,1549,4986,4942,8645,3698,9429,1439,2175,6549,3058,6513,1574,6988,8333,3406,5245,5431,7140,7085,6407],\n",
        "\t[7845,4694,2530,8249,290,5948,5509,1588,5940,4495,5866,5021,4626,3979,3296,7589,4854,1998,5627,3926,8346,6512,9608,1918,7070,4747,4182,2858,2766,4606,6269,4107,8982,8568,9053,4244,5604,102,2756,727,5887,2566,7922,44,5986,621,1202,374,6988,4130,3627,6744,9443,4568,1398,8679,397,3928,9159,367,2917,6127,5788,3304,8129,911,2669,1463,9749,264,4478,8940,1109,7309,2462,117,4692,7724,225,2312],\n",
        "\t[4164,3637,2000,941,8903,39,3443,7172,1031,3687,4901,8082,4945,4515,7204,9310,9349,9535,9940,218,1788,9245,2237,1541,5670,6538,6047,5553,9807,8101,1925,8714,445,8332,7309,6830,5786,5736,7306,2710,3034,1838,7969,6318,7912,2584,2080,7437,6705,2254,7428,820,782,9861,7596,3842,3631,8063,5240,6666,394,4565,7865,4895,9890,6028,6117,4724,9156,4473,4552,602,470,6191,4927,5387,884,3146,1978,3000],\n",
        "\t[4258,6880,1696,3582,5793,4923,2119,1155,9056,9698,6603,3768,5514,9927,9609,6166,6566,4536,4985,4934,8076,9062,6741,6163,7399,4562,2337,5600,2919,9012,8459,1308,6072,1225,9306,8818,5886,7243,7365,8792,6007,9256,6699,7171,4230,7002,8720,7839,4533,1671,478,7774,1607,2317,5437,4705,7886,4760,6760,7271,3081,2997,3088,7675,6208,3101,6821,6840,122,9633,4900,2067,8546,4549,2091,7188,5605,8599,6758,5229],\n",
        "\t[7854,5243,9155,3556,8812,7047,2202,1541,5993,4600,4760,713,434,7911,7426,7414,8729,322,803,7960,7563,4908,6285,6291,736,3389,9339,4132,8701,7534,5287,3646,592,3065,7582,2592,8755,6068,8597,1982,5782,1894,2900,6236,4039,6569,3037,5837,7698,700,7815,2491,7272,5878,3083,6778,6639,3589,5010,8313,2581,6617,5869,8402,6808,2951,2321,5195,497,2190,6187,1342,1316,4453,7740,4154,2959,1781,1482,8256],\n",
        "\t[7178,2046,4419,744,8312,5356,6855,8839,319,2962,5662,47,6307,8662,68,4813,567,2712,9931,1678,3101,8227,6533,4933,6656,92,5846,4780,6256,6361,4323,9985,1231,2175,7178,3034,9744,6155,9165,7787,5836,9318,7860,9644,8941,6480,9443,8188,5928,161,6979,2352,5628,6991,1198,8067,5867,6620,3778,8426,2994,3122,3124,6335,3918,8897,2655,9670,634,1088,1576,8935,7255,474,8166,7417,9547,2886,5560,3842],\n",
        "\t[6957,3111,26,7530,7143,1295,1744,6057,3009,1854,8098,5405,2234,4874,9447,2620,9303,27,7410,969,40,2966,5648,7596,8637,4238,3143,3679,7187,690,9980,7085,7714,9373,5632,7526,6707,3951,9734,4216,2146,3602,5371,6029,3039,4433,4855,4151,1449,3376,8009,7240,7027,4602,2947,9081,4045,8424,9352,8742,923,2705,4266,3232,2264,6761,363,2651,3383,7770,6730,7856,7340,9679,2158,610,4471,4608,910,6241],\n",
        "\t[4417,6756,1013,8797,658,8809,5032,8703,7541,846,3357,2920,9817,1745,9980,7593,4667,3087,779,3218,6233,5568,4296,2289,2654,7898,5021,9461,5593,8214,9173,4203,2271,7980,2983,5952,9992,8399,3468,1776,3188,9314,1720,6523,2933,621,8685,5483,8986,6163,3444,9539,4320,155,3992,2828,2150,6071,524,2895,5468,8063,1210,3348,9071,4862,483,9017,4097,6186,9815,3610,5048,1644,1003,9865,9332,2145,1944,2213],\n",
        "\t[9284,3803,4920,1927,6706,4344,7383,4786,9890,2010,5228,1224,3158,6967,8580,8990,8883,5213,76,8306,2031,4980,5639,9519,7184,5645,7769,3259,8077,9130,1317,3096,9624,3818,1770,695,2454,947,6029,3474,9938,3527,5696,4760,7724,7738,2848,6442,5767,6845,8323,4131,2859,7595,2500,4815,3660,9130,8580,7016,8231,4391,8369,3444,4069,4021,556,6154,627,2778,1496,4206,6356,8434,8491,3816,8231,3190,5575,1015],\n",
        "\t[3787,7572,1788,6803,5641,6844,1961,4811,8535,9914,9999,1450,8857,738,4662,8569,6679,2225,7839,8618,286,2648,5342,2294,3205,4546,176,8705,3741,6134,8324,8021,7004,5205,7032,6637,9442,5539,5584,4819,5874,5807,8589,6871,9016,983,1758,3786,1519,6241,185,8398,495,3370,9133,3051,4549,9674,7311,9738,3316,9383,2658,2776,9481,7558,619,3943,3324,6491,4933,153,9738,4623,912,3595,7771,7939,1219,4405],\n",
        "\t[2650,3883,4154,5809,315,7756,4430,1788,4451,1631,6461,7230,6017,5751,138,588,5282,2442,9110,9035,6349,2515,1570,6122,4192,4174,3530,1933,4186,4420,4609,5739,4135,2963,6308,1161,8809,8619,2796,3819,6971,8228,4188,1492,909,8048,2328,6772,8467,7671,9068,2226,7579,6422,7056,8042,3296,2272,3006,2196,7320,3238,3490,3102,37,1293,3212,4767,5041,8773,5794,4456,6174,7279,7054,2835,7053,9088,790,6640],\n",
        "\t[3101,1057,7057,3826,6077,1025,2955,1224,1114,6729,5902,4698,6239,7203,9423,1804,4417,6686,1426,6941,8071,1029,4985,9010,6122,6597,1622,1574,3513,1684,7086,5505,3244,411,9638,4150,907,9135,829,981,1707,5359,8781,9751,5,9131,3973,7159,1340,6955,7514,7993,6964,8198,1933,2797,877,3993,4453,8020,9349,8646,2779,8679,2961,3547,3374,3510,1129,3568,2241,2625,9138,5974,8206,7669,7678,1833,8700,4480],\n",
        "\t[4865,9912,8038,8238,782,3095,8199,1127,4501,7280,2112,2487,3626,2790,9432,1475,6312,8277,4827,2218,5806,7132,8752,1468,7471,6386,739,8762,8323,8120,5169,9078,9058,3370,9560,7987,8585,8531,5347,9312,1058,4271,1159,5286,5404,6925,8606,9204,7361,2415,560,586,4002,2644,1927,2824,768,4409,2942,3345,1002,808,4941,6267,7979,5140,8643,7553,9438,7320,4938,2666,4609,2778,8158,6730,3748,3867,1866,7181],\n",
        "\t[171,3771,7134,8927,4778,2913,3326,2004,3089,7853,1378,1729,4777,2706,9578,1360,5693,3036,1851,7248,2403,2273,8536,6501,9216,613,9671,7131,7719,6425,773,717,8803,160,1114,7554,7197,753,4513,4322,8499,4533,2609,4226,8710,6627,644,9666,6260,4870,5744,7385,6542,6203,7703,6130,8944,5589,2262,6803,6381,7414,6888,5123,7320,9392,9061,6780,322,8975,7050,5089,1061,2260,3199,1150,1865,5386,9699,6501],\n",
        "\t[3744,8454,6885,8277,919,1923,4001,6864,7854,5519,2491,6057,8794,9645,1776,5714,9786,9281,7538,6916,3215,395,2501,9618,4835,8846,9708,2813,3303,1794,8309,7176,2206,1602,1838,236,4593,2245,8993,4017,10,8215,6921,5206,4023,5932,6997,7801,262,7640,3107,8275,4938,7822,2425,3223,3886,2105,8700,9526,2088,8662,8034,7004,5710,2124,7164,3574,6630,9980,4242,2901,9471,1491,2117,4562,1130,9086,4117,6698],\n",
        "\t[2810,2280,2331,1170,4554,4071,8387,1215,2274,9848,6738,1604,7281,8805,439,1298,8318,7834,9426,8603,6092,7944,1309,8828,303,3157,4638,4439,9175,1921,4695,7716,1494,1015,1772,5913,1127,1952,1950,8905,4064,9890,385,9357,7945,5035,7082,5369,4093,6546,5187,5637,2041,8946,1758,7111,6566,1027,1049,5148,7224,7248,296,6169,375,1656,7993,2816,3717,4279,4675,1609,3317,42,6201,3100,3144,163,9530,4531],\n",
        "\t[7096,6070,1009,4988,3538,5801,7149,3063,2324,2912,7911,7002,4338,7880,2481,7368,3516,2016,7556,2193,1388,3865,8125,4637,4096,8114,750,3144,1938,7002,9343,4095,1392,4220,3455,6969,9647,1321,9048,1996,1640,6626,1788,314,9578,6630,2813,6626,4981,9908,7024,4355,3201,3521,3864,3303,464,1923,595,9801,3391,8366,8084,9374,1041,8807,9085,1892,9431,8317,9016,9221,8574,9981,9240,5395,2009,6310,2854,9255],\n",
        "\t[8830,3145,2960,9615,8220,6061,3452,2918,6481,9278,2297,3385,6565,7066,7316,5682,107,7646,4466,68,1952,9603,8615,54,7191,791,6833,2560,693,9733,4168,570,9127,9537,1925,8287,5508,4297,8452,8795,6213,7994,2420,4208,524,5915,8602,8330,2651,8547,6156,1812,6271,7991,9407,9804,1553,6866,1128,2119,4691,9711,8315,5879,9935,6900,482,682,4126,1041,428,6247,3720,5882,7526,2582,4327,7725,3503,2631],\n",
        "\t[2738,9323,721,7434,1453,6294,2957,3786,5722,6019,8685,4386,3066,9057,6860,499,5315,3045,5194,7111,3137,9104,941,586,3066,755,4177,8819,7040,5309,3583,3897,4428,7788,4721,7249,6559,7324,825,7311,3760,6064,6070,9672,4882,584,1365,9739,9331,5783,2624,7889,1604,1303,1555,7125,8312,425,8936,3233,7724,1480,403,7440,1784,1754,4721,1569,652,3893,4574,5692,9730,4813,9844,8291,9199,7101,3391,8914],\n",
        "\t[6044,2928,9332,3328,8588,447,3830,1176,3523,2705,8365,6136,5442,9049,5526,8575,8869,9031,7280,706,2794,8814,5767,4241,7696,78,6570,556,5083,1426,4502,3336,9518,2292,1885,3740,3153,9348,9331,8051,2759,5407,9028,7840,9255,831,515,2612,9747,7435,8964,4971,2048,4900,5967,8271,1719,9670,2810,6777,1594,6367,6259,8316,3815,1689,6840,9437,4361,822,9619,3065,83,6344,7486,8657,8228,9635,6932,4864],\n",
        "\t[8478,4777,6334,4678,7476,4963,6735,3096,5860,1405,5127,7269,7793,4738,227,9168,2996,8928,765,733,1276,7677,6258,1528,9558,3329,302,8901,1422,8277,6340,645,9125,8869,5952,141,8141,1816,9635,4025,4184,3093,83,2344,2747,9352,7966,1206,1126,1826,218,7939,2957,2729,810,8752,5247,4174,4038,8884,7899,9567,301,5265,5752,7524,4381,1669,3106,8270,6228,6373,754,2547,4240,2313,5514,3022,1040,9738],\n",
        "\t[2265,8192,1763,1369,8469,8789,4836,52,1212,6690,5257,8918,6723,6319,378,4039,2421,8555,8184,9577,1432,7139,8078,5452,9628,7579,4161,7490,5159,8559,1011,81,478,5840,1964,1334,6875,8670,9900,739,1514,8692,522,9316,6955,1345,8132,2277,3193,9773,3923,4177,2183,1236,6747,6575,4874,6003,6409,8187,745,8776,9440,7543,9825,2582,7381,8147,7236,5185,7564,6125,218,7991,6394,391,7659,7456,5128,5294],\n",
        "\t[2132,8992,8160,5782,4420,3371,3798,5054,552,5631,7546,4716,1332,6486,7892,7441,4370,6231,4579,2121,8615,1145,9391,1524,1385,2400,9437,2454,7896,7467,2928,8400,3299,4025,7458,4703,7206,6358,792,6200,725,4275,4136,7390,5984,4502,7929,5085,8176,4600,119,3568,76,9363,6943,2248,9077,9731,6213,5817,6729,4190,3092,6910,759,2682,8380,1254,9604,3011,9291,5329,9453,9746,2739,6522,3765,5634,1113,5789],\n",
        "\t[5304,5499,564,2801,679,2653,1783,3608,7359,7797,3284,796,3222,437,7185,6135,8571,2778,7488,5746,678,6140,861,7750,803,9859,9918,2425,3734,2698,9005,4864,9818,6743,2475,132,9486,3825,5472,919,292,4411,7213,7699,6435,9019,6769,1388,802,2124,1345,8493,9487,8558,7061,8777,8833,2427,2238,5409,4957,8503,3171,7622,5779,6145,2417,5873,5563,5693,9574,9491,1937,7384,4563,6842,5432,2751,3406,7981],\n",
        "]\n",
        "\n",
        "\n",
        "if __name__ == \"__main__\":\n",
        "\tprint(compute())"
      ],
      "metadata": {
        "colab": {
          "base_uri": "https://localhost:8080/"
        },
        "id": "sSURtWfZ2TjG",
        "outputId": "badf6dcb-52b4-4c72-ee5c-a00806dc9d60"
      },
      "execution_count": 7,
      "outputs": [
        {
          "output_type": "stream",
          "name": "stdout",
          "text": [
            "427337\n"
          ]
        }
      ]
    }
  ]
}